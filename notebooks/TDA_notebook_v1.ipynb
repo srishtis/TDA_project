{
  "nbformat": 4,
  "nbformat_minor": 0,
  "metadata": {
    "colab": {
      "name": "TDA notebook_v1",
      "provenance": [],
      "collapsed_sections": [],
      "toc_visible": true
    },
    "kernelspec": {
      "display_name": "Python 3",
      "name": "python3"
    }
  },
  "cells": [
    {
      "cell_type": "markdown",
      "metadata": {
        "id": "5fCEDCU_qrC0"
      },
      "source": [
        "<p><img alt=\"Colaboratory logo\" height=\"45px\" src=\"/img/colab_favicon.ico\" align=\"left\" hspace=\"10px\" vspace=\"0px\"></p>\n",
        "\n",
        "<h1>What is Colaboratory?</h1>\n",
        "\n",
        "Colaboratory, or \"Colab\" for short, allows you to write and execute Python in your browser, with \n",
        "- Zero configuration required\n",
        "- Free access to GPUs\n",
        "- Easy sharing\n",
        "\n",
        "Whether you're a **student**, a **data scientist** or an **AI researcher**, Colab can make your work easier. Watch [Introduction to Colab](https://www.youtube.com/watch?v=inN8seMm7UI) to learn more, or just get started below!"
      ]
    },
    {
      "cell_type": "markdown",
      "metadata": {
        "id": "GJBs_flRovLc"
      },
      "source": [
        "## **Getting started**\n",
        "\n",
        "The document you are reading is not a static web page, but an interactive environment called a **Colab notebook** that lets you write and execute code.\n",
        "\n",
        "For example, here is a **code cell** with a short Python script that computes a value, stores it in a variable, and prints the result:"
      ]
    },
    {
      "cell_type": "code",
      "metadata": {
        "id": "z0lPswhp1Z6f"
      },
      "source": [
        "!pip install -q kaggle"
      ],
      "execution_count": null,
      "outputs": []
    },
    {
      "cell_type": "code",
      "metadata": {
        "id": "ghXAOEIu1yfO"
      },
      "source": [
        "from google.colab import files"
      ],
      "execution_count": null,
      "outputs": []
    },
    {
      "cell_type": "code",
      "metadata": {
        "id": "oe3ucae912Y6",
        "colab": {
          "resources": {
            "http://localhost:8080/nbextensions/google.colab/files.js": {
              "data": "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",
              "ok": true,
              "headers": [
                [
                  "content-type",
                  "application/javascript"
                ]
              ],
              "status": 200,
              "status_text": ""
            }
          },
          "base_uri": "https://localhost:8080/",
          "height": 89
        },
        "outputId": "e177d3f1-7568-47bf-ce59-c70ab4aa6146"
      },
      "source": [
        "files.upload()"
      ],
      "execution_count": null,
      "outputs": [
        {
          "output_type": "display_data",
          "data": {
            "text/html": [
              "\n",
              "     <input type=\"file\" id=\"files-8b7ad670-a669-4d6a-95ef-8df2f801bed0\" name=\"files[]\" multiple disabled\n",
              "        style=\"border:none\" />\n",
              "     <output id=\"result-8b7ad670-a669-4d6a-95ef-8df2f801bed0\">\n",
              "      Upload widget is only available when the cell has been executed in the\n",
              "      current browser session. Please rerun this cell to enable.\n",
              "      </output>\n",
              "      <script src=\"/nbextensions/google.colab/files.js\"></script> "
            ],
            "text/plain": [
              "<IPython.core.display.HTML object>"
            ]
          },
          "metadata": {
            "tags": []
          }
        },
        {
          "output_type": "stream",
          "text": [
            "Saving kaggle.json to kaggle (1).json\n"
          ],
          "name": "stdout"
        },
        {
          "output_type": "execute_result",
          "data": {
            "text/plain": [
              "{'kaggle.json': b'{\"username\":\"srishti280992\",\"key\":\"59582ca54a4086a7dbf043ec8c497309\"}'}"
            ]
          },
          "metadata": {
            "tags": []
          },
          "execution_count": 3
        }
      ]
    },
    {
      "cell_type": "code",
      "metadata": {
        "id": "3YeVTKhf2TWO",
        "colab": {
          "base_uri": "https://localhost:8080/"
        },
        "outputId": "b556e1a6-eb08-41fa-cc4d-a678caf0b4fe"
      },
      "source": [
        "! mkdir ~/.kaggle"
      ],
      "execution_count": null,
      "outputs": [
        {
          "output_type": "stream",
          "text": [
            "mkdir: cannot create directory ‘/root/.kaggle’: File exists\n"
          ],
          "name": "stdout"
        }
      ]
    },
    {
      "cell_type": "code",
      "metadata": {
        "id": "hxG6xEwI2x6-"
      },
      "source": [
        "! cp kaggle.json ~/.kaggle/"
      ],
      "execution_count": null,
      "outputs": []
    },
    {
      "cell_type": "code",
      "metadata": {
        "id": "b2qwcq3m22-L"
      },
      "source": [
        " ! chmod 600 ~/.kaggle/kaggle.json"
      ],
      "execution_count": null,
      "outputs": []
    },
    {
      "cell_type": "code",
      "metadata": {
        "id": "y1qAssOK28kl",
        "colab": {
          "base_uri": "https://localhost:8080/"
        },
        "outputId": "8e86253a-dc7f-403b-e197-1e7849fe2dca"
      },
      "source": [
        "! kaggle datasets list"
      ],
      "execution_count": null,
      "outputs": [
        {
          "output_type": "stream",
          "text": [
            "Warning: Looks like you're using an outdated API Version, please consider updating (server 1.5.9 / client 1.5.4)\n",
            "ref                                                     title                                              size  lastUpdated          downloadCount  \n",
            "------------------------------------------------------  -----------------------------------------------  ------  -------------------  -------------  \n",
            "unanimad/us-election-2020                               US Election 2020                                  428KB  2020-11-20 10:47:51           6872  \n",
            "antgoldbloom/covid19-data-from-john-hopkins-university  COVID-19 data from John Hopkins University          3MB  2020-11-20 06:04:06           3149  \n",
            "manchunhui/us-election-2020-tweets                      US Election 2020 Tweets                           353MB  2020-11-09 18:51:59           3042  \n",
            "headsortails/us-election-2020-presidential-debates      US Election 2020 - Presidential Debates           199MB  2020-10-23 16:56:10            567  \n",
            "etsc9287/2020-general-election-polls                    Election, COVID, and Demographic Data by County  1020KB  2020-11-14 19:52:25           1118  \n",
            "radustoicescu/2020-united-states-presidential-election  2020 United States presidential election           11MB  2019-07-04 15:00:45            839  \n",
            "shivamb/netflix-shows                                   Netflix Movies and TV Shows                       971KB  2020-01-20 07:33:56          61759  \n",
            "terenceshin/covid19s-impact-on-airport-traffic          COVID-19's Impact on Airport Traffic              106KB  2020-10-19 12:40:17           4776  \n",
            "sootersaalu/amazon-top-50-bestselling-books-2009-2019   Amazon Top 50 Bestselling Books 2009 - 2019        15KB  2020-10-13 09:39:21           5153  \n",
            "nehaprabhavalkar/indian-food-101                        Indian Food 101                                     7KB  2020-09-30 06:23:43           7833  \n",
            "karangadiya/fifa19                                      FIFA 19 complete player dataset                     2MB  2018-12-21 03:52:59         104983  \n",
            "heeraldedhia/groceries-dataset                          Groceries dataset                                 257KB  2020-09-17 04:36:08           8279  \n",
            "andrewmvd/trip-advisor-hotel-reviews                    Trip Advisor Hotel Reviews                          5MB  2020-09-30 08:31:20           5465  \n",
            "docstein/brics-world-bank-indicators                    BRICS World Bank Indicators                         4MB  2020-10-22 12:18:40           1299  \n",
            "omarhanyy/500-greatest-songs-of-all-time                500 Greatest Songs of All Time                    114KB  2020-11-19 19:08:28           1691  \n",
            "google/tinyquickdraw                                    QuickDraw Sketches                                 11GB  2018-04-18 19:38:04           2490  \n",
            "datasnaek/youtube-new                                   Trending YouTube Video Statistics                 201MB  2019-06-03 00:56:47         116312  \n",
            "uciml/mushroom-classification                           Mushroom Classification                            34KB  2016-12-01 23:08:00          55182  \n",
            "anikannal/solar-power-generation-data                   Solar Power Generation Data                         2MB  2020-08-18 15:52:03          10452  \n",
            "zynicide/wine-reviews                                   Wine Reviews                                       51MB  2017-11-27 17:08:04         119744  \n"
          ],
          "name": "stdout"
        }
      ]
    },
    {
      "cell_type": "code",
      "metadata": {
        "id": "gJr_9dXGpJ05",
        "colab": {
          "base_uri": "https://localhost:8080/"
        },
        "outputId": "07420f59-3378-4c06-b8d8-32e5328c7644"
      },
      "source": [
        "!kaggle datasets download -d srishti280992/black-lego-parts"
      ],
      "execution_count": null,
      "outputs": [
        {
          "output_type": "stream",
          "text": [
            "black-lego-parts.zip: Skipping, found more recently modified local copy (use --force to force download)\n"
          ],
          "name": "stdout"
        }
      ]
    },
    {
      "cell_type": "code",
      "metadata": {
        "id": "CRfCTkVWHC4U"
      },
      "source": [
        "! rm -rf datasets"
      ],
      "execution_count": null,
      "outputs": []
    },
    {
      "cell_type": "code",
      "metadata": {
        "id": "wFm_uq5qD4o8"
      },
      "source": [
        "! mkdir datasets"
      ],
      "execution_count": null,
      "outputs": []
    },
    {
      "cell_type": "code",
      "metadata": {
        "id": "OpLBny1YD9PG",
        "colab": {
          "base_uri": "https://localhost:8080/"
        },
        "outputId": "1f2b8fbc-fd3d-4dc3-abde-da032dba1a56"
      },
      "source": [
        "! unzip black-lego-parts.zip -d datasets"
      ],
      "execution_count": null,
      "outputs": [
        {
          "output_type": "stream",
          "text": [
            "Archive:  black-lego-parts.zip\n",
            "  inflating: datasets/black/black/10039.png  \n",
            "  inflating: datasets/black/black/10052.png  \n",
            "  inflating: datasets/black/black/10113.png  \n",
            "  inflating: datasets/black/black/10124.png  \n",
            "  inflating: datasets/black/black/10126.png  \n",
            "  inflating: datasets/black/black/10127.png  \n",
            "  inflating: datasets/black/black/10154.png  \n",
            "  inflating: datasets/black/black/10169.png  \n",
            "  inflating: datasets/black/black/10190.png  \n",
            "  inflating: datasets/black/black/10197.png  \n",
            "  inflating: datasets/black/black/10201.png  \n",
            "  inflating: datasets/black/black/10202.png  \n",
            "  inflating: datasets/black/black/10247.png  \n",
            "  inflating: datasets/black/black/10258.png  \n",
            "  inflating: datasets/black/black/10288.png  \n",
            "  inflating: datasets/black/black/10314.png  \n",
            "  inflating: datasets/black/black/10904.png  \n",
            "  inflating: datasets/black/black/10907.png  \n",
            "  inflating: datasets/black/black/11002.png  \n",
            "  inflating: datasets/black/black/11055.png  \n",
            "  inflating: datasets/black/black/11062.png  \n",
            "  inflating: datasets/black/black/11089.png  \n",
            "  inflating: datasets/black/black/11090.png  \n",
            "  inflating: datasets/black/black/11091.png  \n",
            "  inflating: datasets/black/black/11094.png  \n",
            "  inflating: datasets/black/black/11100.png  \n",
            "  inflating: datasets/black/black/11103.png  \n",
            "  inflating: datasets/black/black/11145.png  \n",
            "  inflating: datasets/black/black/11153.png  \n",
            "  inflating: datasets/black/black/11203.png  \n",
            "  inflating: datasets/black/black/11208.png  \n",
            "  inflating: datasets/black/black/11209.png  \n",
            "  inflating: datasets/black/black/11211.png  \n",
            "  inflating: datasets/black/black/11212.png  \n",
            "  inflating: datasets/black/black/11213.png  \n",
            "  inflating: datasets/black/black/11215.png  \n",
            "  inflating: datasets/black/black/11253.png  \n",
            "  inflating: datasets/black/black/11256.png  \n",
            "  inflating: datasets/black/black/11289.png  \n",
            "  inflating: datasets/black/black/11290.png  \n",
            "  inflating: datasets/black/black/11291.png  \n",
            "  inflating: datasets/black/black/11293.png  \n",
            "  inflating: datasets/black/black/11334.png  \n",
            "  inflating: datasets/black/black/11399.png  \n",
            "  inflating: datasets/black/black/11437.png  \n",
            "  inflating: datasets/black/black/11438.png  \n",
            "  inflating: datasets/black/black/11455.png  \n",
            "  inflating: datasets/black/black/11458.png  \n",
            "  inflating: datasets/black/black/11476.png  \n",
            "  inflating: datasets/black/black/11477.png  \n",
            "  inflating: datasets/black/black/11478.png  \n",
            "  inflating: datasets/black/black/11605.png  \n",
            "  inflating: datasets/black/black/11610.png  \n",
            "  inflating: datasets/black/black/11691.png  \n",
            "  inflating: datasets/black/black/11833.png  \n",
            "  inflating: datasets/black/black/11908.png  \n",
            "  inflating: datasets/black/black/11946.png  \n",
            "  inflating: datasets/black/black/11947.png  \n",
            "  inflating: datasets/black/black/11953.png  \n",
            "  inflating: datasets/black/black/11954.png  \n",
            "  inflating: datasets/black/black/11957.png  \n",
            "  inflating: datasets/black/black/122c01.png  \n",
            "  inflating: datasets/black/black/122c02.png  \n",
            "  inflating: datasets/black/black/125c01.png  \n",
            "  inflating: datasets/black/black/12618.png  \n",
            "  inflating: datasets/black/black/12622.png  \n",
            "  inflating: datasets/black/black/12825.png  \n",
            "  inflating: datasets/black/black/12885.png  \n",
            "  inflating: datasets/black/black/12890.png  \n",
            "  inflating: datasets/black/black/12897.png  \n",
            "  inflating: datasets/black/black/12898.png  \n",
            "  inflating: datasets/black/black/13251.png  \n",
            "  inflating: datasets/black/black/13269.png  \n",
            "  inflating: datasets/black/black/132a.png  \n",
            "  inflating: datasets/black/black/13349.png  \n",
            "  inflating: datasets/black/black/13459.png  \n",
            "  inflating: datasets/black/black/13547.png  \n",
            "  inflating: datasets/black/black/13548.png  \n",
            "  inflating: datasets/black/black/13564.png  \n",
            "  inflating: datasets/black/black/13565.png  \n",
            "  inflating: datasets/black/black/13591.png  \n",
            "  inflating: datasets/black/black/13665.png  \n",
            "  inflating: datasets/black/black/13731.png  \n",
            "  inflating: datasets/black/black/13783.png  \n",
            "  inflating: datasets/black/black/13785.png  \n",
            "  inflating: datasets/black/black/13788.png  \n",
            "  inflating: datasets/black/black/13965.png  \n",
            "  inflating: datasets/black/black/13971.png  \n",
            "  inflating: datasets/black/black/14045.png  \n",
            "  inflating: datasets/black/black/14137.png  \n",
            "  inflating: datasets/black/black/14181.png  \n",
            "  inflating: datasets/black/black/14395.png  \n",
            "  inflating: datasets/black/black/14413.png  \n",
            "  inflating: datasets/black/black/14518.png  \n",
            "  inflating: datasets/black/black/14696.png  \n",
            "  inflating: datasets/black/black/14716.png  \n",
            "  inflating: datasets/black/black/14718.png  \n",
            "  inflating: datasets/black/black/14719.png  \n",
            "  inflating: datasets/black/black/14769.png  \n",
            "  inflating: datasets/black/black/15.png  \n",
            "  inflating: datasets/black/black/15038.png  \n",
            "  inflating: datasets/black/black/15064.png  \n",
            "  inflating: datasets/black/black/15068.png  \n",
            "  inflating: datasets/black/black/15070.png  \n",
            "  inflating: datasets/black/black/15071.png  \n",
            "  inflating: datasets/black/black/15082.png  \n",
            "  inflating: datasets/black/black/15086.png  \n",
            "  inflating: datasets/black/black/15090.png  \n",
            "  inflating: datasets/black/black/15100.png  \n",
            "  inflating: datasets/black/black/15207.png  \n",
            "  inflating: datasets/black/black/15208.png  \n",
            "  inflating: datasets/black/black/15209.png  \n",
            "  inflating: datasets/black/black/15210.png  \n",
            "  inflating: datasets/black/black/15254.png  \n",
            "  inflating: datasets/black/black/15265.png  \n",
            "  inflating: datasets/black/black/15279.png  \n",
            "  inflating: datasets/black/black/15303.png  \n",
            "  inflating: datasets/black/black/15332.png  \n",
            "  inflating: datasets/black/black/15355.png  \n",
            "  inflating: datasets/black/black/15362.png  \n",
            "  inflating: datasets/black/black/15367.png  \n",
            "  inflating: datasets/black/black/15379.png  \n",
            "  inflating: datasets/black/black/15391.png  \n",
            "  inflating: datasets/black/black/15395.png  \n",
            "  inflating: datasets/black/black/15397.png  \n",
            "  inflating: datasets/black/black/15403.png  \n",
            "  inflating: datasets/black/black/15406.png  \n",
            "  inflating: datasets/black/black/15411.png  \n",
            "  inflating: datasets/black/black/15413.png  \n",
            "  inflating: datasets/black/black/15427.png  \n",
            "  inflating: datasets/black/black/15429.png  \n",
            "  inflating: datasets/black/black/15439.png  \n",
            "  inflating: datasets/black/black/15443.png  \n",
            "  inflating: datasets/black/black/15445.png  \n",
            "  inflating: datasets/black/black/15446.png  \n",
            "  inflating: datasets/black/black/15456.png  \n",
            "  inflating: datasets/black/black/15458.png  \n",
            "  inflating: datasets/black/black/15461.png  \n",
            "  inflating: datasets/black/black/15498.png  \n",
            "  inflating: datasets/black/black/15500.png  \n",
            "  inflating: datasets/black/black/15503.png  \n",
            "  inflating: datasets/black/black/15504.png  \n",
            "  inflating: datasets/black/black/15530.png  \n",
            "  inflating: datasets/black/black/15532.png  \n",
            "  inflating: datasets/black/black/15535.png  \n",
            "  inflating: datasets/black/black/15571.png  \n",
            "  inflating: datasets/black/black/15573.png  \n",
            "  inflating: datasets/black/black/15619.png  \n",
            "  inflating: datasets/black/black/15672.png  \n",
            "  inflating: datasets/black/black/15706.png  \n",
            "  inflating: datasets/black/black/15712.png  \n",
            "  inflating: datasets/black/black/15790.png  \n",
            "  inflating: datasets/black/black/15976.png  \n",
            "  inflating: datasets/black/black/16091.png  \n",
            "  inflating: datasets/black/black/16478.png  \n",
            "  inflating: datasets/black/black/164c01.png  \n",
            "  inflating: datasets/black/black/16770.png  \n",
            "  inflating: datasets/black/black/16957.png  \n",
            "  inflating: datasets/black/black/16965.png  \n",
            "  inflating: datasets/black/black/16968.png  \n",
            "  inflating: datasets/black/black/17.png  \n",
            "  inflating: datasets/black/black/17114.png  \n",
            "  inflating: datasets/black/black/17346.png  \n",
            "  inflating: datasets/black/black/17454.png  \n",
            "  inflating: datasets/black/black/17485.png  \n",
            "  inflating: datasets/black/black/17630.png  \n",
            "  inflating: datasets/black/black/18041.png  \n",
            "  inflating: datasets/black/black/18166.png  \n",
            "  inflating: datasets/black/black/18395.png  \n",
            "  inflating: datasets/black/black/18450.png  \n",
            "  inflating: datasets/black/black/18575.png  \n",
            "  inflating: datasets/black/black/18585.png  \n",
            "  inflating: datasets/black/black/18588.png  \n",
            "  inflating: datasets/black/black/18590.png  \n",
            "  inflating: datasets/black/black/185c01.png  \n",
            "  inflating: datasets/black/black/18646.png  \n",
            "  inflating: datasets/black/black/18649.png  \n",
            "  inflating: datasets/black/black/18651.png  \n",
            "  inflating: datasets/black/black/18653.png  \n",
            "  inflating: datasets/black/black/18654.png  \n",
            "  inflating: datasets/black/black/18671.png  \n",
            "  inflating: datasets/black/black/18674.png  \n",
            "  inflating: datasets/black/black/18675.png  \n",
            "  inflating: datasets/black/black/18677.png  \n",
            "  inflating: datasets/black/black/18838.png  \n",
            "  inflating: datasets/black/black/18853.png  \n",
            "  inflating: datasets/black/black/18892.png  \n",
            "  inflating: datasets/black/black/18895.png  \n",
            "  inflating: datasets/black/black/18896.png  \n",
            "  inflating: datasets/black/black/18910.png  \n",
            "  inflating: datasets/black/black/18938.png  \n",
            "  inflating: datasets/black/black/18943.png  \n",
            "  inflating: datasets/black/black/18944.png  \n",
            "  inflating: datasets/black/black/18945.png  \n",
            "  inflating: datasets/black/black/18969.png  \n",
            "  inflating: datasets/black/black/18974.png  \n",
            "  inflating: datasets/black/black/18976.png  \n",
            "  inflating: datasets/black/black/18977.png  \n",
            "  inflating: datasets/black/black/18978a.png  \n",
            "  inflating: datasets/black/black/18978b.png  \n",
            "  inflating: datasets/black/black/18979a.png  \n",
            "  inflating: datasets/black/black/18979b.png  \n",
            "  inflating: datasets/black/black/18980.png  \n",
            "  inflating: datasets/black/black/18987.png  \n",
            "  inflating: datasets/black/black/19087.png  \n",
            "  inflating: datasets/black/black/19119.png  \n",
            "  inflating: datasets/black/black/19121.png  \n",
            "  inflating: datasets/black/black/19159.png  \n",
            "  inflating: datasets/black/black/19220.png  \n",
            "  inflating: datasets/black/black/19540.png  \n",
            "  inflating: datasets/black/black/19732.png  \n",
            "  inflating: datasets/black/black/19916.png  \n",
            "  inflating: datasets/black/black/19917.png  \n",
            "  inflating: datasets/black/black/200.png  \n",
            "  inflating: datasets/black/black/20105.png  \n",
            "  inflating: datasets/black/black/202.png  \n",
            "  inflating: datasets/black/black/20309.png  \n",
            "  inflating: datasets/black/black/2039.png  \n",
            "  inflating: datasets/black/black/20439.png  \n",
            "  inflating: datasets/black/black/20441.png  \n",
            "  inflating: datasets/black/black/2046.png  \n",
            "  inflating: datasets/black/black/20482.png  \n",
            "  inflating: datasets/black/black/20565.png  \n",
            "  inflating: datasets/black/black/20597.png  \n",
            "  inflating: datasets/black/black/20877.png  \n",
            "  inflating: datasets/black/black/20908.png  \n",
            "  inflating: datasets/black/black/21229.png  \n",
            "  inflating: datasets/black/black/21268.png  \n",
            "  inflating: datasets/black/black/21445.png  \n",
            "  inflating: datasets/black/black/21459.png  \n",
            "  inflating: datasets/black/black/21560.png  \n",
            "  inflating: datasets/black/black/21561.png  \n",
            "  inflating: datasets/black/black/21709.png  \n",
            "  inflating: datasets/black/black/21755.png  \n",
            "  inflating: datasets/black/black/21778.png  \n",
            "  inflating: datasets/black/black/22385.png  \n",
            "  inflating: datasets/black/black/22387.png  \n",
            "  inflating: datasets/black/black/22388.png  \n",
            "  inflating: datasets/black/black/22391.png  \n",
            "  inflating: datasets/black/black/22409.png  \n",
            "  inflating: datasets/black/black/22411.png  \n",
            "  inflating: datasets/black/black/22425.png  \n",
            "  inflating: datasets/black/black/22888.png  \n",
            "  inflating: datasets/black/black/22889.png  \n",
            "  inflating: datasets/black/black/22961.png  \n",
            "  inflating: datasets/black/black/2302.png  \n",
            "  inflating: datasets/black/black/23186.png  \n",
            "  inflating: datasets/black/black/23187.png  \n",
            "  inflating: datasets/black/black/23241.png  \n",
            "  inflating: datasets/black/black/2335.png  \n",
            "  inflating: datasets/black/black/2335p40.png  \n",
            "  inflating: datasets/black/black/2337.png  \n",
            "  inflating: datasets/black/black/2338.png  \n",
            "  inflating: datasets/black/black/2339.png  \n",
            "  inflating: datasets/black/black/2340.png  \n",
            "  inflating: datasets/black/black/23405.png  \n",
            "  inflating: datasets/black/black/2341.png  \n",
            "  inflating: datasets/black/black/2342.png  \n",
            "  inflating: datasets/black/black/2343.png  \n",
            "  inflating: datasets/black/black/23443.png  \n",
            "  inflating: datasets/black/black/23444.png  \n",
            "  inflating: datasets/black/black/2345.png  \n",
            "  inflating: datasets/black/black/2345p03.png  \n",
            "  inflating: datasets/black/black/2345p44.png  \n",
            "  inflating: datasets/black/black/2346.png  \n",
            "  inflating: datasets/black/black/2349a.png  \n",
            "  inflating: datasets/black/black/2349b.png  \n",
            "  inflating: datasets/black/black/2351.png  \n",
            "  inflating: datasets/black/black/2356.png  \n",
            "  inflating: datasets/black/black/2357.png  \n",
            "  inflating: datasets/black/black/2362a.png  \n",
            "  inflating: datasets/black/black/2362ap53.png  \n",
            "  inflating: datasets/black/black/2362ap54.png  \n",
            "  inflating: datasets/black/black/2362b.png  \n",
            "  inflating: datasets/black/black/2372c01.png  \n",
            "  inflating: datasets/black/black/2375.png  \n",
            "  inflating: datasets/black/black/2376.png  \n",
            "  inflating: datasets/black/black/23769.png  \n",
            "  inflating: datasets/black/black/2377.png  \n",
            "  inflating: datasets/black/black/23798.png  \n",
            "  inflating: datasets/black/black/23799.png  \n",
            "  inflating: datasets/black/black/23800.png  \n",
            "  inflating: datasets/black/black/23801.png  \n",
            "  inflating: datasets/black/black/23924.png  \n",
            "  inflating: datasets/black/black/23949.png  \n",
            "  inflating: datasets/black/black/23969.png  \n",
            "  inflating: datasets/black/black/2397.png  \n",
            "  inflating: datasets/black/black/2399.png  \n",
            "  inflating: datasets/black/black/2400.png  \n",
            "  inflating: datasets/black/black/2401.png  \n",
            "  inflating: datasets/black/black/24010.png  \n",
            "  inflating: datasets/black/black/24080.png  \n",
            "  inflating: datasets/black/black/2408p02.png  \n",
            "  inflating: datasets/black/black/24116.png  \n",
            "  inflating: datasets/black/black/24119.png  \n",
            "  inflating: datasets/black/black/24121.png  \n",
            "  inflating: datasets/black/black/24122.png  \n",
            "  inflating: datasets/black/black/24124.png  \n",
            "  inflating: datasets/black/black/2412a.png  \n",
            "  inflating: datasets/black/black/2412b.png  \n",
            "  inflating: datasets/black/black/2413.png  \n",
            "  inflating: datasets/black/black/24135.png  \n",
            "  inflating: datasets/black/black/24144.png  \n",
            "  inflating: datasets/black/black/24151.png  \n",
            "  inflating: datasets/black/black/2419.png  \n",
            "  inflating: datasets/black/black/2420.png  \n",
            "  inflating: datasets/black/black/24201.png  \n",
            "  inflating: datasets/black/black/2421.png  \n",
            "  inflating: datasets/black/black/2422.png  \n",
            "  inflating: datasets/black/black/2424.png  \n",
            "  inflating: datasets/black/black/24246.png  \n",
            "  inflating: datasets/black/black/2426c01.png  \n",
            "  inflating: datasets/black/black/2428.png  \n",
            "  inflating: datasets/black/black/24299.png  \n",
            "  inflating: datasets/black/black/24307.png  \n",
            "  inflating: datasets/black/black/24308a.png  \n",
            "  inflating: datasets/black/black/24309.png  \n",
            "  inflating: datasets/black/black/2431.png  \n",
            "  inflating: datasets/black/black/2431pw0.png  \n",
            "  inflating: datasets/black/black/2432.png  \n",
            "  inflating: datasets/black/black/24324.png  \n",
            "  inflating: datasets/black/black/2433.png  \n",
            "  inflating: datasets/black/black/2434.png  \n",
            "  inflating: datasets/black/black/2436.png  \n",
            "  inflating: datasets/black/black/2437.png  \n",
            "  inflating: datasets/black/black/24375.png  \n",
            "  inflating: datasets/black/black/2440.png  \n",
            "  inflating: datasets/black/black/2440p01.png  \n",
            "  inflating: datasets/black/black/2440p69.png  \n",
            "  inflating: datasets/black/black/2441.png  \n",
            "  inflating: datasets/black/black/2443.png  \n",
            "  inflating: datasets/black/black/2444.png  \n",
            "  inflating: datasets/black/black/24445.png  \n",
            "  inflating: datasets/black/black/2445.png  \n",
            "  inflating: datasets/black/black/2446.png  \n",
            "  inflating: datasets/black/black/2447.png  \n",
            "  inflating: datasets/black/black/2448.png  \n",
            "  inflating: datasets/black/black/24482.png  \n",
            "  inflating: datasets/black/black/2449.png  \n",
            "  inflating: datasets/black/black/2450.png  \n",
            "  inflating: datasets/black/black/24504.png  \n",
            "  inflating: datasets/black/black/2452.png  \n",
            "  inflating: datasets/black/black/2453a.png  \n",
            "  inflating: datasets/black/black/2453b.png  \n",
            "  inflating: datasets/black/black/2454ps5.png  \n",
            "  inflating: datasets/black/black/2456.png  \n",
            "  inflating: datasets/black/black/2458.png  \n",
            "  inflating: datasets/black/black/24593.png  \n",
            "  inflating: datasets/black/black/2460.png  \n",
            "  inflating: datasets/black/black/2462.png  \n",
            "  inflating: datasets/black/black/2463.png  \n",
            "  inflating: datasets/black/black/24636.png  \n",
            "  inflating: datasets/black/black/2464.png  \n",
            "  inflating: datasets/black/black/2465.png  \n",
            "  inflating: datasets/black/black/2466.png  \n",
            "  inflating: datasets/black/black/2467.png  \n",
            "  inflating: datasets/black/black/2468.png  \n",
            "  inflating: datasets/black/black/2470.png  \n",
            "  inflating: datasets/black/black/2475.png  \n",
            "  inflating: datasets/black/black/2476a.png  \n",
            "  inflating: datasets/black/black/2476b.png  \n",
            "  inflating: datasets/black/black/2479.png  \n",
            "  inflating: datasets/black/black/2486.png  \n",
            "  inflating: datasets/black/black/2488.png  \n",
            "  inflating: datasets/black/black/2489.png  \n",
            "  inflating: datasets/black/black/2493a.png  \n",
            "  inflating: datasets/black/black/2493b.png  \n",
            "  inflating: datasets/black/black/2496.png  \n",
            "  inflating: datasets/black/black/2508.png  \n",
            "  inflating: datasets/black/black/251.png  \n",
            "  inflating: datasets/black/black/2513.png  \n",
            "  inflating: datasets/black/black/2513p04.png  \n",
            "  inflating: datasets/black/black/2515.png  \n",
            "  inflating: datasets/black/black/2516.png  \n",
            "  inflating: datasets/black/black/25214.png  \n",
            "  inflating: datasets/black/black/2525.png  \n",
            "  inflating: datasets/black/black/2526.png  \n",
            "  inflating: datasets/black/black/25264.png  \n",
            "  inflating: datasets/black/black/25269.png  \n",
            "  inflating: datasets/black/black/2528.png  \n",
            "  inflating: datasets/black/black/2530.png  \n",
            "  inflating: datasets/black/black/25375.png  \n",
            "  inflating: datasets/black/black/25378.png  \n",
            "  inflating: datasets/black/black/2538.png  \n",
            "  inflating: datasets/black/black/2538a.png  \n",
            "  inflating: datasets/black/black/2538b.png  \n",
            "  inflating: datasets/black/black/2539.png  \n",
            "  inflating: datasets/black/black/2540.png  \n",
            "  inflating: datasets/black/black/25409.png  \n",
            "  inflating: datasets/black/black/2543.png  \n",
            "  inflating: datasets/black/black/2544.png  \n",
            "  inflating: datasets/black/black/2545.png  \n",
            "  inflating: datasets/black/black/2546.png  \n",
            "  inflating: datasets/black/black/2551.png  \n",
            "  inflating: datasets/black/black/2552p02.png  \n",
            "  inflating: datasets/black/black/2554.png  \n",
            "  inflating: datasets/black/black/2555.png  \n",
            "  inflating: datasets/black/black/2560.png  \n",
            "  inflating: datasets/black/black/2561.png  \n",
            "  inflating: datasets/black/black/2562.png  \n",
            "  inflating: datasets/black/black/2564.png  \n",
            "  inflating: datasets/black/black/2566.png  \n",
            "  inflating: datasets/black/black/2569.png  \n",
            "  inflating: datasets/black/black/2570.png  \n",
            "  inflating: datasets/black/black/2573.png  \n",
            "  inflating: datasets/black/black/2577.png  \n",
            "  inflating: datasets/black/black/2580c01.png  \n",
            "  inflating: datasets/black/black/2582.png  \n",
            "  inflating: datasets/black/black/2583.png  \n",
            "  inflating: datasets/black/black/2584.png  \n",
            "  inflating: datasets/black/black/2585.png  \n",
            "  inflating: datasets/black/black/2586ph2.png  \n",
            "  inflating: datasets/black/black/2587.png  \n",
            "  inflating: datasets/black/black/25893.png  \n",
            "  inflating: datasets/black/black/2593.png  \n",
            "  inflating: datasets/black/black/2594.png  \n",
            "  inflating: datasets/black/black/25972.png  \n",
            "  inflating: datasets/black/black/26007.png  \n",
            "  inflating: datasets/black/black/26021.png  \n",
            "  inflating: datasets/black/black/26047.png  \n",
            "  inflating: datasets/black/black/2605c01.png  \n",
            "  inflating: datasets/black/black/2607.png  \n",
            "  inflating: datasets/black/black/2609a.png  \n",
            "  inflating: datasets/black/black/2614.png  \n",
            "  inflating: datasets/black/black/2618.png  \n",
            "  inflating: datasets/black/black/2621.png  \n",
            "  inflating: datasets/black/black/2622.png  \n",
            "  inflating: datasets/black/black/2623.png  \n",
            "  inflating: datasets/black/black/2625.png  \n",
            "  inflating: datasets/black/black/2626.png  \n",
            "  inflating: datasets/black/black/26287.png  \n",
            "  inflating: datasets/black/black/263.png  \n",
            "  inflating: datasets/black/black/2639.png  \n",
            "  inflating: datasets/black/black/264.png  \n",
            "  inflating: datasets/black/black/2653.png  \n",
            "  inflating: datasets/black/black/2654.png  \n",
            "  inflating: datasets/black/black/26599.png  \n",
            "  inflating: datasets/black/black/26601.png  \n",
            "  inflating: datasets/black/black/26603.png  \n",
            "  inflating: datasets/black/black/26604.png  \n",
            "  inflating: datasets/black/black/266bc02.png  \n",
            "  inflating: datasets/black/black/2680.png  \n",
            "  inflating: datasets/black/black/2680b.png  \n",
            "  inflating: datasets/black/black/2681.png  \n",
            "  inflating: datasets/black/black/26831.png  \n",
            "  inflating: datasets/black/black/2686c01.png  \n",
            "  inflating: datasets/black/black/2687.png  \n",
            "  inflating: datasets/black/black/2695.png  \n",
            "  inflating: datasets/black/black/2696.png  \n",
            "  inflating: datasets/black/black/27066.png  \n",
            "  inflating: datasets/black/black/270c02.png  \n",
            "  inflating: datasets/black/black/2711.png  \n",
            "  inflating: datasets/black/black/2712.png  \n",
            "  inflating: datasets/black/black/27130.png  \n",
            "  inflating: datasets/black/black/27145.png  \n",
            "  inflating: datasets/black/black/27147.png  \n",
            "  inflating: datasets/black/black/27149.png  \n",
            "  inflating: datasets/black/black/2714a.png  \n",
            "  inflating: datasets/black/black/2714b.png  \n",
            "  inflating: datasets/black/black/2715.png  \n",
            "  inflating: datasets/black/black/27150.png  \n",
            "  inflating: datasets/black/black/27151.png  \n",
            "  inflating: datasets/black/black/2716.png  \n",
            "  inflating: datasets/black/black/27167.png  \n",
            "  inflating: datasets/black/black/27169.png  \n",
            "  inflating: datasets/black/black/2717.png  \n",
            "  inflating: datasets/black/black/27170.png  \n",
            "  inflating: datasets/black/black/2719.png  \n",
            "  inflating: datasets/black/black/2723.png  \n",
            "  inflating: datasets/black/black/27261.png  \n",
            "  inflating: datasets/black/black/27263.png  \n",
            "  inflating: datasets/black/black/273.png  \n",
            "  inflating: datasets/black/black/2730.png  \n",
            "  inflating: datasets/black/black/27328.png  \n",
            "  inflating: datasets/black/black/2737.png  \n",
            "  inflating: datasets/black/black/2738.png  \n",
            "  inflating: datasets/black/black/27385.png  \n",
            "  inflating: datasets/black/black/2741.png  \n",
            "  inflating: datasets/black/black/2743.png  \n",
            "  inflating: datasets/black/black/2744.png  \n",
            "  inflating: datasets/black/black/27507.png  \n",
            "  inflating: datasets/black/black/2780.png  \n",
            "  inflating: datasets/black/black/2790.png  \n",
            "  inflating: datasets/black/black/2791.png  \n",
            "  inflating: datasets/black/black/2792.png  \n",
            "  inflating: datasets/black/black/27925.png  \n",
            "  inflating: datasets/black/black/2797c02.png  \n",
            "  inflating: datasets/black/black/2815.png  \n",
            "  inflating: datasets/black/black/2817.png  \n",
            "  inflating: datasets/black/black/2819.png  \n",
            "  inflating: datasets/black/black/28192.png  \n",
            "  inflating: datasets/black/black/28216.png  \n",
            "  inflating: datasets/black/black/28220.png  \n",
            "  inflating: datasets/black/black/2823.png  \n",
            "  inflating: datasets/black/black/2825.png  \n",
            "  inflating: datasets/black/black/28321.png  \n",
            "  inflating: datasets/black/black/28324.png  \n",
            "  inflating: datasets/black/black/28326.png  \n",
            "  inflating: datasets/black/black/28327.png  \n",
            "  inflating: datasets/black/black/2840c01.png  \n",
            "  inflating: datasets/black/black/2840c02.png  \n",
            "  inflating: datasets/black/black/2847c02.png  \n",
            "  inflating: datasets/black/black/2854.png  \n",
            "  inflating: datasets/black/black/2856.png  \n",
            "  inflating: datasets/black/black/2857.png  \n",
            "  inflating: datasets/black/black/28679.png  \n",
            "  inflating: datasets/black/black/28705.png  \n",
            "  inflating: datasets/black/black/2871a.png  \n",
            "  inflating: datasets/black/black/2871b.png  \n",
            "  inflating: datasets/black/black/2873.png  \n",
            "  inflating: datasets/black/black/2874.png  \n",
            "  inflating: datasets/black/black/2875.png  \n",
            "  inflating: datasets/black/black/2876.png  \n",
            "  inflating: datasets/black/black/2877.png  \n",
            "  inflating: datasets/black/black/28779.png  \n",
            "  inflating: datasets/black/black/2878.png  \n",
            "  inflating: datasets/black/black/2878c01.png  \n",
            "  inflating: datasets/black/black/2878c02.png  \n",
            "  inflating: datasets/black/black/2880.png  \n",
            "  inflating: datasets/black/black/2881.png  \n",
            "  inflating: datasets/black/black/28870.png  \n",
            "  inflating: datasets/black/black/29.png  \n",
            "  inflating: datasets/black/black/2901.png  \n",
            "  inflating: datasets/black/black/2902.png  \n",
            "  inflating: datasets/black/black/2904.png  \n",
            "  inflating: datasets/black/black/2905.png  \n",
            "  inflating: datasets/black/black/2906.png  \n",
            "  inflating: datasets/black/black/29110.png  \n",
            "  inflating: datasets/black/black/29111.png  \n",
            "  inflating: datasets/black/black/29115.png  \n",
            "  inflating: datasets/black/black/29119.png  \n",
            "  inflating: datasets/black/black/29120.png  \n",
            "  inflating: datasets/black/black/2916.png  \n",
            "  inflating: datasets/black/black/2917.png  \n",
            "  inflating: datasets/black/black/2920.png  \n",
            "  inflating: datasets/black/black/2921.png  \n",
            "  inflating: datasets/black/black/2926.png  \n",
            "  inflating: datasets/black/black/2927.png  \n",
            "  inflating: datasets/black/black/2928.png  \n",
            "  inflating: datasets/black/black/2950.png  \n",
            "  inflating: datasets/black/black/2951.png  \n",
            "  inflating: datasets/black/black/2952.png  \n",
            "  inflating: datasets/black/black/2972.png  \n",
            "  inflating: datasets/black/black/2989.png  \n",
            "  inflating: datasets/black/black/298c01.png  \n",
            "  inflating: datasets/black/black/2991.png  \n",
            "  inflating: datasets/black/black/2994.png  \n",
            "  inflating: datasets/black/black/2995.png  \n",
            "  inflating: datasets/black/black/2997.png  \n",
            "  inflating: datasets/black/black/3001.png  \n",
            "  inflating: datasets/black/black/30014.png  \n",
            "  inflating: datasets/black/black/3001a.png  \n",
            "  inflating: datasets/black/black/3002.png  \n",
            "  inflating: datasets/black/black/30027b.png  \n",
            "  inflating: datasets/black/black/30028.png  \n",
            "  inflating: datasets/black/black/30029.png  \n",
            "  inflating: datasets/black/black/3003.png  \n",
            "  inflating: datasets/black/black/30031.png  \n",
            "  inflating: datasets/black/black/30033.png  \n",
            "  inflating: datasets/black/black/30034.png  \n",
            "  inflating: datasets/black/black/30035.png  \n",
            "  inflating: datasets/black/black/30036.png  \n",
            "  inflating: datasets/black/black/30038.png  \n",
            "  inflating: datasets/black/black/3003a.png  \n",
            "  inflating: datasets/black/black/3004.png  \n",
            "  inflating: datasets/black/black/30041.png  \n",
            "  inflating: datasets/black/black/30042.png  \n",
            "  inflating: datasets/black/black/30043.png  \n",
            "  inflating: datasets/black/black/30044.png  \n",
            "  inflating: datasets/black/black/30045.png  \n",
            "  inflating: datasets/black/black/30046.png  \n",
            "  inflating: datasets/black/black/30047.png  \n",
            "  inflating: datasets/black/black/30048.png  \n",
            "  inflating: datasets/black/black/3004p03.png  \n",
            "  inflating: datasets/black/black/3004p05.png  \n",
            "  inflating: datasets/black/black/3004p12.png  \n",
            "  inflating: datasets/black/black/3005.png  \n",
            "  inflating: datasets/black/black/30055.png  \n",
            "  inflating: datasets/black/black/30056.png  \n",
            "  inflating: datasets/black/black/3005p02.png  \n",
            "  inflating: datasets/black/black/3006.png  \n",
            "  inflating: datasets/black/black/30062.png  \n",
            "  inflating: datasets/black/black/3007.png  \n",
            "  inflating: datasets/black/black/30072.png  \n",
            "  inflating: datasets/black/black/30073.png  \n",
            "  inflating: datasets/black/black/30074.png  \n",
            "  inflating: datasets/black/black/30076.png  \n",
            "  inflating: datasets/black/black/3008.png  \n",
            "  inflating: datasets/black/black/30084.png  \n",
            "  inflating: datasets/black/black/30085.png  \n",
            "  inflating: datasets/black/black/30086.png  \n",
            "  inflating: datasets/black/black/30088.png  \n",
            "  inflating: datasets/black/black/30089a.png  \n",
            "  inflating: datasets/black/black/30089b.png  \n",
            "  inflating: datasets/black/black/3009.png  \n",
            "  inflating: datasets/black/black/30092.png  \n",
            "  inflating: datasets/black/black/30093.png  \n",
            "  inflating: datasets/black/black/30094.png  \n",
            "  inflating: datasets/black/black/30095.png  \n",
            "  inflating: datasets/black/black/30099.png  \n",
            "  inflating: datasets/black/black/3009p03.png  \n",
            "  inflating: datasets/black/black/3010.png  \n",
            "  inflating: datasets/black/black/30101.png  \n",
            "  inflating: datasets/black/black/30102.png  \n",
            "  inflating: datasets/black/black/30103.png  \n",
            "  inflating: datasets/black/black/30104.png  \n",
            "  inflating: datasets/black/black/30105.png  \n",
            "  inflating: datasets/black/black/3010p05.png  \n",
            "  inflating: datasets/black/black/3010p08.png  \n",
            "  inflating: datasets/black/black/3010p09.png  \n",
            "  inflating: datasets/black/black/3010p31.png  \n",
            "  inflating: datasets/black/black/3011.png  \n",
            "  inflating: datasets/black/black/30114.png  \n",
            "  inflating: datasets/black/black/30115.png  \n",
            "  inflating: datasets/black/black/30117.png  \n",
            "  inflating: datasets/black/black/30119.png  \n",
            "  inflating: datasets/black/black/30120.png  \n",
            "  inflating: datasets/black/black/30120p01.png  \n",
            "  inflating: datasets/black/black/30121.png  \n",
            "  inflating: datasets/black/black/30132.png  \n",
            "  inflating: datasets/black/black/30133.png  \n",
            "  inflating: datasets/black/black/30134.png  \n",
            "  inflating: datasets/black/black/30135.png  \n",
            "  inflating: datasets/black/black/30136.png  \n",
            "  inflating: datasets/black/black/30137.png  \n",
            "  inflating: datasets/black/black/30139.png  \n",
            "  inflating: datasets/black/black/30140.png  \n",
            "  inflating: datasets/black/black/30145.png  \n",
            "  inflating: datasets/black/black/30147.png  \n",
            "  inflating: datasets/black/black/30148.png  \n",
            "  inflating: datasets/black/black/30149.png  \n",
            "  inflating: datasets/black/black/30150.png  \n",
            "  inflating: datasets/black/black/30154.png  \n",
            "  inflating: datasets/black/black/30155.png  \n",
            "  inflating: datasets/black/black/30162.png  \n",
            "  inflating: datasets/black/black/30163.png  \n",
            "  inflating: datasets/black/black/30164.png  \n",
            "  inflating: datasets/black/black/30165.png  \n",
            "  inflating: datasets/black/black/30167.png  \n",
            "  inflating: datasets/black/black/30169.png  \n",
            "  inflating: datasets/black/black/30170.png  \n",
            "  inflating: datasets/black/black/30171.png  \n",
            "  inflating: datasets/black/black/30173a.png  \n",
            "  inflating: datasets/black/black/30173b.png  \n",
            "  inflating: datasets/black/black/30174.png  \n",
            "  inflating: datasets/black/black/30175.png  \n",
            "  inflating: datasets/black/black/30177.png  \n",
            "  inflating: datasets/black/black/30179.png  \n",
            "  inflating: datasets/black/black/30180.png  \n",
            "  inflating: datasets/black/black/30181.png  \n",
            "  inflating: datasets/black/black/30181p01.png  \n",
            "  inflating: datasets/black/black/30182.png  \n",
            "  inflating: datasets/black/black/30183.png  \n",
            "  inflating: datasets/black/black/30185c01.png  \n",
            "  inflating: datasets/black/black/30185c03.png  \n",
            "  inflating: datasets/black/black/30185c05.png  \n",
            "  inflating: datasets/black/black/30189.png  \n",
            "  inflating: datasets/black/black/30190.png  \n",
            "  inflating: datasets/black/black/30191.png  \n",
            "  inflating: datasets/black/black/3020.png  \n",
            "  inflating: datasets/black/black/30200.png  \n",
            "  inflating: datasets/black/black/30201.png  \n",
            "  inflating: datasets/black/black/3021.png  \n",
            "  inflating: datasets/black/black/30211.png  \n",
            "  inflating: datasets/black/black/30219.png  \n",
            "  inflating: datasets/black/black/3022.png  \n",
            "  inflating: datasets/black/black/30223.png  \n",
            "  inflating: datasets/black/black/30228.png  \n",
            "  inflating: datasets/black/black/3023.png  \n",
            "  inflating: datasets/black/black/30235.png  \n",
            "  inflating: datasets/black/black/30236.png  \n",
            "  inflating: datasets/black/black/30238.png  \n",
            "  inflating: datasets/black/black/3024.png  \n",
            "  inflating: datasets/black/black/30240.png  \n",
            "  inflating: datasets/black/black/30246.png  \n",
            "  inflating: datasets/black/black/30248.png  \n",
            "  inflating: datasets/black/black/30249.png  \n",
            "  inflating: datasets/black/black/30258.png  \n",
            "  inflating: datasets/black/black/3026.png  \n",
            "  inflating: datasets/black/black/30262.png  \n",
            "  inflating: datasets/black/black/30263.png  \n",
            "  inflating: datasets/black/black/3027.png  \n",
            "  inflating: datasets/black/black/30275.png  \n",
            "  inflating: datasets/black/black/30277.png  \n",
            "  inflating: datasets/black/black/30278c01.png  \n",
            "  inflating: datasets/black/black/3028.png  \n",
            "  inflating: datasets/black/black/30283.png  \n",
            "  inflating: datasets/black/black/30284.png  \n",
            "  inflating: datasets/black/black/30287p01.png  \n",
            "  inflating: datasets/black/black/3029.png  \n",
            "  inflating: datasets/black/black/30292.png  \n",
            "  inflating: datasets/black/black/30293.png  \n",
            "  inflating: datasets/black/black/30294.png  \n",
            "  inflating: datasets/black/black/303.png  \n",
            "  inflating: datasets/black/black/3030.png  \n",
            "  inflating: datasets/black/black/3031.png  \n",
            "  inflating: datasets/black/black/3032.png  \n",
            "  inflating: datasets/black/black/30324.png  \n",
            "  inflating: datasets/black/black/3033.png  \n",
            "  inflating: datasets/black/black/30332.png  \n",
            "  inflating: datasets/black/black/3034.png  \n",
            "  inflating: datasets/black/black/30340.png  \n",
            "  inflating: datasets/black/black/30343c01.png  \n",
            "  inflating: datasets/black/black/30343c02.png  \n",
            "  inflating: datasets/black/black/3035.png  \n",
            "  inflating: datasets/black/black/30350a.png  \n",
            "  inflating: datasets/black/black/30350b.png  \n",
            "  inflating: datasets/black/black/30350c.png  \n",
            "  inflating: datasets/black/black/30355.png  \n",
            "  inflating: datasets/black/black/30356.png  \n",
            "  inflating: datasets/black/black/30357.png  \n",
            "  inflating: datasets/black/black/30358.png  \n",
            "  inflating: datasets/black/black/30359a.png  \n",
            "  inflating: datasets/black/black/30359b.png  \n",
            "  inflating: datasets/black/black/3036.png  \n",
            "  inflating: datasets/black/black/30360.png  \n",
            "  inflating: datasets/black/black/30361dps5.png  \n",
            "  inflating: datasets/black/black/30362.png  \n",
            "  inflating: datasets/black/black/30363.png  \n",
            "  inflating: datasets/black/black/30364.png  \n",
            "  inflating: datasets/black/black/30365.png  \n",
            "  inflating: datasets/black/black/30367a.png  \n",
            "  inflating: datasets/black/black/30367b.png  \n",
            "  inflating: datasets/black/black/30367c.png  \n",
            "  inflating: datasets/black/black/30368.png  \n",
            "  inflating: datasets/black/black/3037.png  \n",
            "  inflating: datasets/black/black/30373.png  \n",
            "  inflating: datasets/black/black/30374.png  \n",
            "  inflating: datasets/black/black/30375.png  \n",
            "  inflating: datasets/black/black/30376.png  \n",
            "  inflating: datasets/black/black/30377.png  \n",
            "  inflating: datasets/black/black/3038.png  \n",
            "  inflating: datasets/black/black/30381.png  \n",
            "  inflating: datasets/black/black/30382.png  \n",
            "  inflating: datasets/black/black/30383.png  \n",
            "  inflating: datasets/black/black/30386.png  \n",
            "  inflating: datasets/black/black/30388.png  \n",
            "  inflating: datasets/black/black/30389a.png  \n",
            "  inflating: datasets/black/black/30389b.png  \n",
            "  inflating: datasets/black/black/3039.png  \n",
            "  inflating: datasets/black/black/30391.png  \n",
            "  inflating: datasets/black/black/30394.png  \n",
            "  inflating: datasets/black/black/30396.png  \n",
            "  inflating: datasets/black/black/30397.png  \n",
            "  inflating: datasets/black/black/3039p08.png  \n",
            "  inflating: datasets/black/black/3039p33.png  \n",
            "  inflating: datasets/black/black/3039p71.png  \n",
            "  inflating: datasets/black/black/3039pc1.png  \n",
            "  inflating: datasets/black/black/3039pc4.png  \n",
            "  inflating: datasets/black/black/3039pc7.png  \n",
            "  inflating: datasets/black/black/3039ps5.png  \n",
            "  inflating: datasets/black/black/30400.png  \n",
            "  inflating: datasets/black/black/30407.png  \n",
            "  inflating: datasets/black/black/3040a.png  \n",
            "  inflating: datasets/black/black/3040b.png  \n",
            "  inflating: datasets/black/black/3040p01.png  \n",
            "  inflating: datasets/black/black/3040p02.png  \n",
            "  inflating: datasets/black/black/3040p33.png  \n",
            "  inflating: datasets/black/black/3041.png  \n",
            "  inflating: datasets/black/black/30410.png  \n",
            "  inflating: datasets/black/black/30414.png  \n",
            "  inflating: datasets/black/black/3042.png  \n",
            "  inflating: datasets/black/black/3043.png  \n",
            "  inflating: datasets/black/black/3044a.png  \n",
            "  inflating: datasets/black/black/3044b.png  \n",
            "  inflating: datasets/black/black/3045.png  \n",
            "  inflating: datasets/black/black/30480.png  \n",
            "  inflating: datasets/black/black/30488.png  \n",
            "  inflating: datasets/black/black/3048a.png  \n",
            "  inflating: datasets/black/black/3048b.png  \n",
            "  inflating: datasets/black/black/3049c.png  \n",
            "  inflating: datasets/black/black/30503.png  \n",
            "  inflating: datasets/black/black/30504.png  \n",
            "  inflating: datasets/black/black/30505.png  \n",
            "  inflating: datasets/black/black/30517.png  \n",
            "  inflating: datasets/black/black/30518.png  \n",
            "  inflating: datasets/black/black/30526.png  \n",
            "  inflating: datasets/black/black/30528.png  \n",
            "  inflating: datasets/black/black/30530.png  \n",
            "  inflating: datasets/black/black/30536.png  \n",
            "  inflating: datasets/black/black/30540.png  \n",
            "  inflating: datasets/black/black/30541.png  \n",
            "  inflating: datasets/black/black/30552.png  \n",
            "  inflating: datasets/black/black/30553.png  \n",
            "  inflating: datasets/black/black/30554a.png  \n",
            "  inflating: datasets/black/black/30554b.png  \n",
            "  inflating: datasets/black/black/30561.png  \n",
            "  inflating: datasets/black/black/30562.png  \n",
            "  inflating: datasets/black/black/30565.png  \n",
            "  inflating: datasets/black/black/30586.png  \n",
            "  inflating: datasets/black/black/3058b.png  \n",
            "  inflating: datasets/black/black/30593.png  \n",
            "  inflating: datasets/black/black/30602.png  \n",
            "  inflating: datasets/black/black/30603.png  \n",
            "  inflating: datasets/black/black/30608.png  \n",
            "  inflating: datasets/black/black/30613.png  \n",
            "  inflating: datasets/black/black/30621.png  \n",
            "  inflating: datasets/black/black/30622.png  \n",
            "  inflating: datasets/black/black/30624.png  \n",
            "  inflating: datasets/black/black/30625.png  \n",
            "  inflating: datasets/black/black/30626.png  \n",
            "  inflating: datasets/black/black/3062a.png  \n",
            "  inflating: datasets/black/black/3062b.png  \n",
            "  inflating: datasets/black/black/30632.png  \n",
            "  inflating: datasets/black/black/30637.png  \n",
            "  inflating: datasets/black/black/3063b.png  \n",
            "  inflating: datasets/black/black/30640.png  \n",
            "  inflating: datasets/black/black/30642.png  \n",
            "  inflating: datasets/black/black/30643.png  \n",
            "  inflating: datasets/black/black/30644.png  \n",
            "  inflating: datasets/black/black/30645.png  \n",
            "  inflating: datasets/black/black/30647.png  \n",
            "  inflating: datasets/black/black/30648.png  \n",
            "  inflating: datasets/black/black/3065.png  \n",
            "  inflating: datasets/black/black/30658.png  \n",
            "  inflating: datasets/black/black/30663.png  \n",
            "  inflating: datasets/black/black/3068a.png  \n",
            "  inflating: datasets/black/black/3068b.png  \n",
            "  inflating: datasets/black/black/3068bp00.png  \n",
            "  inflating: datasets/black/black/3068bp04.png  \n",
            "  inflating: datasets/black/black/3068bp26.png  \n",
            "  inflating: datasets/black/black/3068bp51.png  \n",
            "  inflating: datasets/black/black/3068bp69.png  \n",
            "  inflating: datasets/black/black/3068bps3.png  \n",
            "  inflating: datasets/black/black/3068bpx1.png  \n",
            "  inflating: datasets/black/black/30699.png  \n",
            "  inflating: datasets/black/black/3069a.png  \n",
            "  inflating: datasets/black/black/3069b.png  \n",
            "  inflating: datasets/black/black/3069bp07.png  \n",
            "  inflating: datasets/black/black/3069bp0a.png  \n",
            "  inflating: datasets/black/black/3069bp11.png  \n",
            "  inflating: datasets/black/black/3069bp15.png  \n",
            "  inflating: datasets/black/black/3069bp21.png  \n",
            "  inflating: datasets/black/black/3069bp28.png  \n",
            "  inflating: datasets/black/black/3069bp51.png  \n",
            "  inflating: datasets/black/black/3069bp53.png  \n",
            "  inflating: datasets/black/black/3069bpa1.png  \n",
            "  inflating: datasets/black/black/3070a.png  \n",
            "  inflating: datasets/black/black/3070b.png  \n",
            "  inflating: datasets/black/black/3070bp60.png  \n",
            "  inflating: datasets/black/black/3081cc01.png  \n",
            "  inflating: datasets/black/black/30842.png  \n",
            "  inflating: datasets/black/black/30923.png  \n",
            "  inflating: datasets/black/black/30925.png  \n",
            "  inflating: datasets/black/black/31110.png  \n",
            "  inflating: datasets/black/black/3134.png  \n",
            "  inflating: datasets/black/black/3136.png  \n",
            "  inflating: datasets/black/black/3137c01.png  \n",
            "  inflating: datasets/black/black/3137c02.png  \n",
            "  inflating: datasets/black/black/3139.png  \n",
            "  inflating: datasets/black/black/3145.png  \n",
            "  inflating: datasets/black/black/3176.png  \n",
            "  inflating: datasets/black/black/3184.png  \n",
            "  inflating: datasets/black/black/3185.png  \n",
            "  inflating: datasets/black/black/3186.png  \n",
            "  inflating: datasets/black/black/3187.png  \n",
            "  inflating: datasets/black/black/3188.png  \n",
            "  inflating: datasets/black/black/3189.png  \n",
            "  inflating: datasets/black/black/3190.png  \n",
            "  inflating: datasets/black/black/31901.png  \n",
            "  inflating: datasets/black/black/32000.png  \n",
            "  inflating: datasets/black/black/32001.png  \n",
            "  inflating: datasets/black/black/32003.png  \n",
            "  inflating: datasets/black/black/32008.png  \n",
            "  inflating: datasets/black/black/32009.png  \n",
            "  inflating: datasets/black/black/32013.png  \n",
            "  inflating: datasets/black/black/32014.png  \n",
            "  inflating: datasets/black/black/32015.png  \n",
            "  inflating: datasets/black/black/32016.png  \n",
            "  inflating: datasets/black/black/32017.png  \n",
            "  inflating: datasets/black/black/32018.png  \n",
            "  inflating: datasets/black/black/32019.png  \n",
            "  inflating: datasets/black/black/32021.png  \n",
            "  inflating: datasets/black/black/32023.png  \n",
            "  inflating: datasets/black/black/32028.png  \n",
            "  inflating: datasets/black/black/32030.png  \n",
            "  inflating: datasets/black/black/32034.png  \n",
            "  inflating: datasets/black/black/32039.png  \n",
            "  inflating: datasets/black/black/32054.png  \n",
            "  inflating: datasets/black/black/32056.png  \n",
            "  inflating: datasets/black/black/32059.png  \n",
            "  inflating: datasets/black/black/32062.png  \n",
            "  inflating: datasets/black/black/32063.png  \n",
            "  inflating: datasets/black/black/32064a.png  \n",
            "  inflating: datasets/black/black/32064b.png  \n",
            "  inflating: datasets/black/black/32065.png  \n",
            "  inflating: datasets/black/black/32068.png  \n",
            "  inflating: datasets/black/black/32069.png  \n",
            "  inflating: datasets/black/black/32072.png  \n",
            "  inflating: datasets/black/black/32073.png  \n",
            "  inflating: datasets/black/black/32074c01.png  \n",
            "  inflating: datasets/black/black/32074c02.png  \n",
            "  inflating: datasets/black/black/32076.png  \n",
            "  inflating: datasets/black/black/32078.png  \n",
            "  inflating: datasets/black/black/32079.png  \n",
            "  inflating: datasets/black/black/32083.png  \n",
            "  inflating: datasets/black/black/32084.png  \n",
            "  inflating: datasets/black/black/32085.png  \n",
            "  inflating: datasets/black/black/32090.png  \n",
            "  inflating: datasets/black/black/32123a.png  \n",
            "  inflating: datasets/black/black/32124.png  \n",
            "  inflating: datasets/black/black/32126.png  \n",
            "  inflating: datasets/black/black/32132.png  \n",
            "  inflating: datasets/black/black/32138.png  \n",
            "  inflating: datasets/black/black/32140.png  \n",
            "  inflating: datasets/black/black/32146.png  \n",
            "  inflating: datasets/black/black/32165.png  \n",
            "  inflating: datasets/black/black/32166.png  \n",
            "  inflating: datasets/black/black/32167.png  \n",
            "  inflating: datasets/black/black/32170.png  \n",
            "  inflating: datasets/black/black/32172.png  \n",
            "  inflating: datasets/black/black/32173.png  \n",
            "  inflating: datasets/black/black/32174.png  \n",
            "  inflating: datasets/black/black/32175.png  \n",
            "  inflating: datasets/black/black/32177.png  \n",
            "  inflating: datasets/black/black/32180.png  \n",
            "  inflating: datasets/black/black/32184.png  \n",
            "  inflating: datasets/black/black/32187.png  \n",
            "  inflating: datasets/black/black/32188.png  \n",
            "  inflating: datasets/black/black/32189.png  \n",
            "  inflating: datasets/black/black/32190.png  \n",
            "  inflating: datasets/black/black/32191.png  \n",
            "  inflating: datasets/black/black/32192.png  \n",
            "  inflating: datasets/black/black/32193.png  \n",
            "  inflating: datasets/black/black/32195b.png  \n",
            "  inflating: datasets/black/black/32196.png  \n",
            "  inflating: datasets/black/black/32199.png  \n",
            "  inflating: datasets/black/black/32200.png  \n",
            "  inflating: datasets/black/black/32201.png  \n",
            "  inflating: datasets/black/black/32202.png  \n",
            "  inflating: datasets/black/black/32203.png  \n",
            "  inflating: datasets/black/black/32204.png  \n",
            "  inflating: datasets/black/black/32205.png  \n",
            "  inflating: datasets/black/black/32206.png  \n",
            "  inflating: datasets/black/black/32208.png  \n",
            "  inflating: datasets/black/black/32209.png  \n",
            "  inflating: datasets/black/black/32213.png  \n",
            "  inflating: datasets/black/black/32214.png  \n",
            "  inflating: datasets/black/black/32216.png  \n",
            "  inflating: datasets/black/black/32218.png  \n",
            "  inflating: datasets/black/black/32219.png  \n",
            "  inflating: datasets/black/black/32229.png  \n",
            "  inflating: datasets/black/black/32230.png  \n",
            "  inflating: datasets/black/black/32235.png  \n",
            "  inflating: datasets/black/black/32242.png  \n",
            "  inflating: datasets/black/black/32246.png  \n",
            "  inflating: datasets/black/black/32247.png  \n",
            "  inflating: datasets/black/black/32249.png  \n",
            "  inflating: datasets/black/black/32250.png  \n",
            "  inflating: datasets/black/black/32251.png  \n",
            "  inflating: datasets/black/black/32269.png  \n",
            "  inflating: datasets/black/black/32270.png  \n",
            "  inflating: datasets/black/black/32271.png  \n",
            "  inflating: datasets/black/black/32278.png  \n",
            "  inflating: datasets/black/black/32288c01.png  \n",
            "  inflating: datasets/black/black/32288c02.png  \n",
            "  inflating: datasets/black/black/32291.png  \n",
            "  inflating: datasets/black/black/32293.png  \n",
            "  inflating: datasets/black/black/32294.png  \n",
            "  inflating: datasets/black/black/32296.png  \n",
            "  inflating: datasets/black/black/32298.png  \n",
            "  inflating: datasets/black/black/32305.png  \n",
            "  inflating: datasets/black/black/32307.png  \n",
            "  inflating: datasets/black/black/32308.png  \n",
            "  inflating: datasets/black/black/32310.png  \n",
            "  inflating: datasets/black/black/32311.png  \n",
            "  inflating: datasets/black/black/32316.png  \n",
            "  inflating: datasets/black/black/32324.png  \n",
            "  inflating: datasets/black/black/32333.png  \n",
            "  inflating: datasets/black/black/32348.png  \n",
            "  inflating: datasets/black/black/32449.png  \n",
            "  inflating: datasets/black/black/3245b.png  \n",
            "  inflating: datasets/black/black/3245bp01.png  \n",
            "  inflating: datasets/black/black/3245bp02.png  \n",
            "  inflating: datasets/black/black/3245c.png  \n",
            "  inflating: datasets/black/black/32474.png  \n",
            "  inflating: datasets/black/black/32475.png  \n",
            "  inflating: datasets/black/black/32476.png  \n",
            "  inflating: datasets/black/black/32482.png  \n",
            "  inflating: datasets/black/black/32489.png  \n",
            "  inflating: datasets/black/black/32495c01.png  \n",
            "  inflating: datasets/black/black/32496.png  \n",
            "  inflating: datasets/black/black/32498.png  \n",
            "  inflating: datasets/black/black/32506.png  \n",
            "  inflating: datasets/black/black/32523.png  \n",
            "  inflating: datasets/black/black/32524.png  \n",
            "  inflating: datasets/black/black/32525.png  \n",
            "  inflating: datasets/black/black/32526.png  \n",
            "  inflating: datasets/black/black/32527.png  \n",
            "  inflating: datasets/black/black/32528.png  \n",
            "  inflating: datasets/black/black/32529.png  \n",
            "  inflating: datasets/black/black/32530.png  \n",
            "  inflating: datasets/black/black/32531.png  \n",
            "  inflating: datasets/black/black/32532.png  \n",
            "  inflating: datasets/black/black/32534.png  \n",
            "  inflating: datasets/black/black/32535.png  \n",
            "  inflating: datasets/black/black/32551.png  \n",
            "  inflating: datasets/black/black/32552.png  \n",
            "  inflating: datasets/black/black/32553.png  \n",
            "  inflating: datasets/black/black/32555.png  \n",
            "  inflating: datasets/black/black/32557.png  \n",
            "  inflating: datasets/black/black/32558.png  \n",
            "  inflating: datasets/black/black/32576.png  \n",
            "  inflating: datasets/black/black/32577.png  \n",
            "  inflating: datasets/black/black/32578.png  \n",
            "  inflating: datasets/black/black/32580.png  \n",
            "  inflating: datasets/black/black/32602.png  \n",
            "  inflating: datasets/black/black/32802.png  \n",
            "  inflating: datasets/black/black/32803.png  \n",
            "  inflating: datasets/black/black/32828.png  \n",
            "  inflating: datasets/black/black/32905.png  \n",
            "  inflating: datasets/black/black/32932.png  \n",
            "  inflating: datasets/black/black/32952.png  \n",
            "  inflating: datasets/black/black/32967.png  \n",
            "  inflating: datasets/black/black/32968.png  \n",
            "  inflating: datasets/black/black/3297.png  \n",
            "  inflating: datasets/black/black/3297p11.png  \n",
            "  inflating: datasets/black/black/3298.png  \n",
            "  inflating: datasets/black/black/3298p53.png  \n",
            "  inflating: datasets/black/black/3298p57.png  \n",
            "  inflating: datasets/black/black/3298p71.png  \n",
            "  inflating: datasets/black/black/3299.png  \n",
            "  inflating: datasets/black/black/3300.png  \n",
            "  inflating: datasets/black/black/33009.png  \n",
            "  inflating: datasets/black/black/3307.png  \n",
            "  inflating: datasets/black/black/33078.png  \n",
            "  inflating: datasets/black/black/3308.png  \n",
            "  inflating: datasets/black/black/33129.png  \n",
            "  inflating: datasets/black/black/3314.png  \n",
            "  inflating: datasets/black/black/3315.png  \n",
            "  inflating: datasets/black/black/3317.png  \n",
            "  inflating: datasets/black/black/33183.png  \n",
            "  inflating: datasets/black/black/33211.png  \n",
            "  inflating: datasets/black/black/33215.png  \n",
            "  inflating: datasets/black/black/33243.png  \n",
            "  inflating: datasets/black/black/33286.png  \n",
            "  inflating: datasets/black/black/33299a.png  \n",
            "  inflating: datasets/black/black/33299b.png  \n",
            "  inflating: datasets/black/black/33303.png  \n",
            "  inflating: datasets/black/black/33492.png  \n",
            "  inflating: datasets/black/black/3358.png  \n",
            "  inflating: datasets/black/black/3359.png  \n",
            "  inflating: datasets/black/black/33909.png  \n",
            "  inflating: datasets/black/black/3403.png  \n",
            "  inflating: datasets/black/black/3403c01.png  \n",
            "  inflating: datasets/black/black/3404.png  \n",
            "  inflating: datasets/black/black/34103.png  \n",
            "  inflating: datasets/black/black/3430c02.png  \n",
            "  inflating: datasets/black/black/34316.png  \n",
            "  inflating: datasets/black/black/3437.png  \n",
            "  inflating: datasets/black/black/3437pe1.png  \n",
            "  inflating: datasets/black/black/3443c02.png  \n",
            "  inflating: datasets/black/black/3455.png  \n",
            "  inflating: datasets/black/black/3456.png  \n",
            "  inflating: datasets/black/black/3460.png  \n",
            "  inflating: datasets/black/black/3461.png  \n",
            "  inflating: datasets/black/black/3462.png  \n",
            "  inflating: datasets/black/black/3474.png  \n",
            "  inflating: datasets/black/black/3475a.png  \n",
            "  inflating: datasets/black/black/3475b.png  \n",
            "  inflating: datasets/black/black/3479.png  \n",
            "  inflating: datasets/black/black/3480.png  \n",
            "  inflating: datasets/black/black/3481.png  \n",
            "  inflating: datasets/black/black/3482.png  \n",
            "  inflating: datasets/black/black/3483.png  \n",
            "  inflating: datasets/black/black/3488.png  \n",
            "  inflating: datasets/black/black/3491.png  \n",
            "  inflating: datasets/black/black/35044.png  \n",
            "  inflating: datasets/black/black/35365.png  \n",
            "  inflating: datasets/black/black/35366.png  \n",
            "  inflating: datasets/black/black/35463.png  \n",
            "  inflating: datasets/black/black/35480.png  \n",
            "  inflating: datasets/black/black/35654.png  \n",
            "  inflating: datasets/black/black/35787.png  \n",
            "  inflating: datasets/black/black/35789.png  \n",
            "  inflating: datasets/black/black/3581.png  \n",
            "  inflating: datasets/black/black/3582.png  \n",
            "  inflating: datasets/black/black/3585.png  \n",
            "  inflating: datasets/black/black/3586.png  \n",
            "  inflating: datasets/black/black/3587.png  \n",
            "  inflating: datasets/black/black/3597.png  \n",
            "  inflating: datasets/black/black/36.png  \n",
            "  inflating: datasets/black/black/36036.png  \n",
            "  inflating: datasets/black/black/3612.png  \n",
            "  inflating: datasets/black/black/3613.png  \n",
            "  inflating: datasets/black/black/3622.png  \n",
            "  inflating: datasets/black/black/3623.png  \n",
            "  inflating: datasets/black/black/3624.png  \n",
            "  inflating: datasets/black/black/3625.png  \n",
            "  inflating: datasets/black/black/3626a.png  \n",
            "  inflating: datasets/black/black/3626b.png  \n",
            "  inflating: datasets/black/black/3626bp63.png  \n",
            "  inflating: datasets/black/black/3626c.png  \n",
            "  inflating: datasets/black/black/3629.png  \n",
            "  inflating: datasets/black/black/3633.png  \n",
            "  inflating: datasets/black/black/3634.png  \n",
            "  inflating: datasets/black/black/3639.png  \n",
            "  inflating: datasets/black/black/3640.png  \n",
            "  inflating: datasets/black/black/3641.png  \n",
            "  inflating: datasets/black/black/3644.png  \n",
            "  inflating: datasets/black/black/3647.png  \n",
            "  inflating: datasets/black/black/3648b.png  \n",
            "  inflating: datasets/black/black/3649.png  \n",
            "  inflating: datasets/black/black/3650a.png  \n",
            "  inflating: datasets/black/black/3650c.png  \n",
            "  inflating: datasets/black/black/3659.png  \n",
            "  inflating: datasets/black/black/3660.png  \n",
            "  inflating: datasets/black/black/3665.png  \n",
            "  inflating: datasets/black/black/3666.png  \n",
            "  inflating: datasets/black/black/3675.png  \n",
            "  inflating: datasets/black/black/36752a.png  \n",
            "  inflating: datasets/black/black/3676.png  \n",
            "  inflating: datasets/black/black/3678a.png  \n",
            "  inflating: datasets/black/black/3678ap01.png  \n",
            "  inflating: datasets/black/black/3678b.png  \n",
            "  inflating: datasets/black/black/3680.png  \n",
            "  inflating: datasets/black/black/3684.png  \n",
            "  inflating: datasets/black/black/36840.png  \n",
            "  inflating: datasets/black/black/36841.png  \n",
            "  inflating: datasets/black/black/3685.png  \n",
            "  inflating: datasets/black/black/3688.png  \n",
            "  inflating: datasets/black/black/3700.png  \n",
            "  inflating: datasets/black/black/3701.png  \n",
            "  inflating: datasets/black/black/3702.png  \n",
            "  inflating: datasets/black/black/3703.png  \n",
            "  inflating: datasets/black/black/3704.png  \n",
            "  inflating: datasets/black/black/3705.png  \n",
            "  inflating: datasets/black/black/3706.png  \n",
            "  inflating: datasets/black/black/3707.png  \n",
            "  inflating: datasets/black/black/3708.png  \n",
            "  inflating: datasets/black/black/3709.png  \n",
            "  inflating: datasets/black/black/3710.png  \n",
            "  inflating: datasets/black/black/3713.png  \n",
            "  inflating: datasets/black/black/3730.png  \n",
            "  inflating: datasets/black/black/3731.png  \n",
            "  inflating: datasets/black/black/3736.png  \n",
            "  inflating: datasets/black/black/3737.png  \n",
            "  inflating: datasets/black/black/3738.png  \n",
            "  inflating: datasets/black/black/3740.png  \n",
            "  inflating: datasets/black/black/3743.png  \n",
            "  inflating: datasets/black/black/3747a.png  \n",
            "  inflating: datasets/black/black/3747b.png  \n",
            "  inflating: datasets/black/black/3749.png  \n",
            "  inflating: datasets/black/black/37494.png  \n",
            "  inflating: datasets/black/black/3754.png  \n",
            "  inflating: datasets/black/black/37695.png  \n",
            "  inflating: datasets/black/black/37776.png  \n",
            "  inflating: datasets/black/black/3787.png  \n",
            "  inflating: datasets/black/black/3788.png  \n",
            "  inflating: datasets/black/black/3794a.png  \n",
            "  inflating: datasets/black/black/3794b.png  \n",
            "  inflating: datasets/black/black/3795.png  \n",
            "  inflating: datasets/black/black/3821.png  \n",
            "  inflating: datasets/black/black/3821p03.png  \n",
            "  inflating: datasets/black/black/3822.png  \n",
            "  inflating: datasets/black/black/3822p03.png  \n",
            "  inflating: datasets/black/black/3829c01.png  \n",
            "  inflating: datasets/black/black/3830.png  \n",
            "  inflating: datasets/black/black/3831.png  \n",
            "  inflating: datasets/black/black/3832.png  \n",
            "  inflating: datasets/black/black/38320.png  \n",
            "  inflating: datasets/black/black/3833.png  \n",
            "  inflating: datasets/black/black/3834.png  \n",
            "  inflating: datasets/black/black/3835.png  \n",
            "  inflating: datasets/black/black/3837.png  \n",
            "  inflating: datasets/black/black/3838.png  \n",
            "  inflating: datasets/black/black/3839a.png  \n",
            "  inflating: datasets/black/black/3839b.png  \n",
            "  inflating: datasets/black/black/3841.png  \n",
            "  inflating: datasets/black/black/3842a.png  \n",
            "  inflating: datasets/black/black/3842b.png  \n",
            "  inflating: datasets/black/black/3843.png  \n",
            "  inflating: datasets/black/black/3844.png  \n",
            "  inflating: datasets/black/black/3846.png  \n",
            "  inflating: datasets/black/black/3848.png  \n",
            "  inflating: datasets/black/black/3849.png  \n",
            "  inflating: datasets/black/black/3853.png  \n",
            "  inflating: datasets/black/black/3854.png  \n",
            "  inflating: datasets/black/black/3856.png  \n",
            "  inflating: datasets/black/black/3857.png  \n",
            "  inflating: datasets/black/black/3873.png  \n",
            "  inflating: datasets/black/black/3878.png  \n",
            "  inflating: datasets/black/black/3888ac01.png  \n",
            "  inflating: datasets/black/black/3894.png  \n",
            "  inflating: datasets/black/black/3895.png  \n",
            "  inflating: datasets/black/black/3896.png  \n",
            "  inflating: datasets/black/black/3900.png  \n",
            "  inflating: datasets/black/black/3901.png  \n",
            "  inflating: datasets/black/black/3933.png  \n",
            "  inflating: datasets/black/black/3934.png  \n",
            "  inflating: datasets/black/black/3935.png  \n",
            "  inflating: datasets/black/black/3936.png  \n",
            "  inflating: datasets/black/black/3937.png  \n",
            "  inflating: datasets/black/black/3938.png  \n",
            "  inflating: datasets/black/black/3939.png  \n",
            "  inflating: datasets/black/black/3941.png  \n",
            "  inflating: datasets/black/black/3942a.png  \n",
            "  inflating: datasets/black/black/3942b.png  \n",
            "  inflating: datasets/black/black/3942c.png  \n",
            "  inflating: datasets/black/black/3943a.png  \n",
            "  inflating: datasets/black/black/3943b.png  \n",
            "  inflating: datasets/black/black/3956.png  \n",
            "  inflating: datasets/black/black/3957a.png  \n",
            "  inflating: datasets/black/black/3957b.png  \n",
            "  inflating: datasets/black/black/3958.png  \n",
            "  inflating: datasets/black/black/3959.png  \n",
            "  inflating: datasets/black/black/3960.png  \n",
            "  inflating: datasets/black/black/3961.png  \n",
            "  inflating: datasets/black/black/3962a.png  \n",
            "  inflating: datasets/black/black/3962b.png  \n",
            "  inflating: datasets/black/black/3963.png  \n",
            "  inflating: datasets/black/black/4006.png  \n",
            "  inflating: datasets/black/black/4022.png  \n",
            "  inflating: datasets/black/black/4023.png  \n",
            "  inflating: datasets/black/black/40232.png  \n",
            "  inflating: datasets/black/black/40233.png  \n",
            "  inflating: datasets/black/black/40235.png  \n",
            "  inflating: datasets/black/black/40238.png  \n",
            "  inflating: datasets/black/black/40239.png  \n",
            "  inflating: datasets/black/black/40240.png  \n",
            "  inflating: datasets/black/black/40241.png  \n",
            "  inflating: datasets/black/black/40242.png  \n",
            "  inflating: datasets/black/black/40244.png  \n",
            "  inflating: datasets/black/black/40249.png  \n",
            "  inflating: datasets/black/black/4025.png  \n",
            "  inflating: datasets/black/black/40251.png  \n",
            "  inflating: datasets/black/black/40253.png  \n",
            "  inflating: datasets/black/black/4032a.png  \n",
            "  inflating: datasets/black/black/4032b.png  \n",
            "  inflating: datasets/black/black/4033.png  \n",
            "  inflating: datasets/black/black/40339.png  \n",
            "  inflating: datasets/black/black/40340.png  \n",
            "  inflating: datasets/black/black/4035.png  \n",
            "  inflating: datasets/black/black/40373.png  \n",
            "  inflating: datasets/black/black/40374.png  \n",
            "  inflating: datasets/black/black/40375.png  \n",
            "  inflating: datasets/black/black/40378.png  \n",
            "  inflating: datasets/black/black/40379.png  \n",
            "  inflating: datasets/black/black/40386.png  \n",
            "  inflating: datasets/black/black/40387.png  \n",
            "  inflating: datasets/black/black/40388.png  \n",
            "  inflating: datasets/black/black/40395.png  \n",
            "  inflating: datasets/black/black/40490.png  \n",
            "  inflating: datasets/black/black/40666.png  \n",
            "  inflating: datasets/black/black/4070.png  \n",
            "  inflating: datasets/black/black/4071.png  \n",
            "  inflating: datasets/black/black/4079.png  \n",
            "  inflating: datasets/black/black/4081a.png  \n",
            "  inflating: datasets/black/black/4081b.png  \n",
            "  inflating: datasets/black/black/4083.png  \n",
            "  inflating: datasets/black/black/4084.png  \n",
            "  inflating: datasets/black/black/4085a.png  \n",
            "  inflating: datasets/black/black/4085b.png  \n",
            "  inflating: datasets/black/black/4085c.png  \n",
            "  inflating: datasets/black/black/4088.png  \n",
            "  inflating: datasets/black/black/4089.png  \n",
            "  inflating: datasets/black/black/40902.png  \n",
            "  inflating: datasets/black/black/4092.png  \n",
            "  inflating: datasets/black/black/4093a.png  \n",
            "  inflating: datasets/black/black/4093b.png  \n",
            "  inflating: datasets/black/black/4095.png  \n",
            "  inflating: datasets/black/black/41239.png  \n",
            "  inflating: datasets/black/black/4131.png  \n",
            "  inflating: datasets/black/black/4132.png  \n",
            "  inflating: datasets/black/black/41334.png  \n",
            "  inflating: datasets/black/black/4150.png  \n",
            "  inflating: datasets/black/black/4150ps3.png  \n",
            "  inflating: datasets/black/black/4150ps8.png  \n",
            "  inflating: datasets/black/black/4151.png  \n",
            "  inflating: datasets/black/black/4151a.png  \n",
            "  inflating: datasets/black/black/4151b.png  \n",
            "  inflating: datasets/black/black/41529.png  \n",
            "  inflating: datasets/black/black/41531.png  \n",
            "  inflating: datasets/black/black/41532.png  \n",
            "  inflating: datasets/black/black/41533.png  \n",
            "  inflating: datasets/black/black/41535.png  \n",
            "  inflating: datasets/black/black/41539.png  \n",
            "  inflating: datasets/black/black/4161.png  \n",
            "  inflating: datasets/black/black/4162.png  \n",
            "  inflating: datasets/black/black/41663.png  \n",
            "  inflating: datasets/black/black/41665.png  \n",
            "  inflating: datasets/black/black/41668.png  \n",
            "  inflating: datasets/black/black/41669.png  \n",
            "  inflating: datasets/black/black/41670.png  \n",
            "  inflating: datasets/black/black/41671.png  \n",
            "  inflating: datasets/black/black/41672.png  \n",
            "  inflating: datasets/black/black/41677.png  \n",
            "  inflating: datasets/black/black/41678.png  \n",
            "  inflating: datasets/black/black/41680.png  \n",
            "  inflating: datasets/black/black/41682.png  \n",
            "  inflating: datasets/black/black/4170.png  \n",
            "  inflating: datasets/black/black/41740.png  \n",
            "  inflating: datasets/black/black/41747.png  \n",
            "  inflating: datasets/black/black/41748.png  \n",
            "  inflating: datasets/black/black/41749.png  \n",
            "  inflating: datasets/black/black/4175.png  \n",
            "  inflating: datasets/black/black/41750.png  \n",
            "  inflating: datasets/black/black/41751.png  \n",
            "  inflating: datasets/black/black/41764.png  \n",
            "  inflating: datasets/black/black/41765.png  \n",
            "  inflating: datasets/black/black/41766.png  \n",
            "  inflating: datasets/black/black/41767.png  \n",
            "  inflating: datasets/black/black/41768.png  \n",
            "  inflating: datasets/black/black/41769.png  \n",
            "  inflating: datasets/black/black/41770.png  \n",
            "  inflating: datasets/black/black/4178.png  \n",
            "  inflating: datasets/black/black/4180c01.png  \n",
            "  inflating: datasets/black/black/4180c02.png  \n",
            "  inflating: datasets/black/black/4181.png  \n",
            "  inflating: datasets/black/black/4181p07.png  \n",
            "  inflating: datasets/black/black/4182.png  \n",
            "  inflating: datasets/black/black/4182p07.png  \n",
            "  inflating: datasets/black/black/4185.png  \n",
            "  inflating: datasets/black/black/41854.png  \n",
            "  inflating: datasets/black/black/41855.png  \n",
            "  inflating: datasets/black/black/41862.png  \n",
            "  inflating: datasets/black/black/41879a.png  \n",
            "  inflating: datasets/black/black/41879b.png  \n",
            "  inflating: datasets/black/black/41893.png  \n",
            "  inflating: datasets/black/black/41894.png  \n",
            "  inflating: datasets/black/black/41896.png  \n",
            "  inflating: datasets/black/black/41897.png  \n",
            "  inflating: datasets/black/black/4199.png  \n",
            "  inflating: datasets/black/black/42003.png  \n",
            "  inflating: datasets/black/black/4201.png  \n",
            "  inflating: datasets/black/black/4202.png  \n",
            "  inflating: datasets/black/black/42021.png  \n",
            "  inflating: datasets/black/black/42022.png  \n",
            "  inflating: datasets/black/black/42023.png  \n",
            "  inflating: datasets/black/black/4204.png  \n",
            "  inflating: datasets/black/black/42060.png  \n",
            "  inflating: datasets/black/black/42061.png  \n",
            "  inflating: datasets/black/black/42074.png  \n",
            "  inflating: datasets/black/black/4208.png  \n",
            "  inflating: datasets/black/black/4209.png  \n",
            "  inflating: datasets/black/black/42090.png  \n",
            "  inflating: datasets/black/black/4211.png  \n",
            "  inflating: datasets/black/black/4212a.png  \n",
            "  inflating: datasets/black/black/4212b.png  \n",
            "  inflating: datasets/black/black/4213.png  \n",
            "  inflating: datasets/black/black/4214.png  \n",
            "  inflating: datasets/black/black/4215a.png  \n",
            "  inflating: datasets/black/black/4215b.png  \n",
            "  inflating: datasets/black/black/4216.png  \n",
            "  inflating: datasets/black/black/4217.png  \n",
            "  inflating: datasets/black/black/4218.png  \n",
            "  inflating: datasets/black/black/4219.png  \n",
            "  inflating: datasets/black/black/422.png  \n",
            "  inflating: datasets/black/black/4220.png  \n",
            "  inflating: datasets/black/black/4221.png  \n",
            "  inflating: datasets/black/black/42234.png  \n",
            "  inflating: datasets/black/black/42289.png  \n",
            "  inflating: datasets/black/black/4229.png  \n",
            "  inflating: datasets/black/black/424.png  \n",
            "  inflating: datasets/black/black/42444.png  \n",
            "  inflating: datasets/black/black/42445.png  \n",
            "  inflating: datasets/black/black/42446.png  \n",
            "  inflating: datasets/black/black/42448.png  \n",
            "  inflating: datasets/black/black/42450.png  \n",
            "  inflating: datasets/black/black/42511.png  \n",
            "  inflating: datasets/black/black/42608.png  \n",
            "  inflating: datasets/black/black/42610.png  \n",
            "  inflating: datasets/black/black/4262.png  \n",
            "  inflating: datasets/black/black/4263.png  \n",
            "  inflating: datasets/black/black/4266.png  \n",
            "  inflating: datasets/black/black/4267.png  \n",
            "  inflating: datasets/black/black/42687.png  \n",
            "  inflating: datasets/black/black/4275a.png  \n",
            "  inflating: datasets/black/black/4275b.png  \n",
            "  inflating: datasets/black/black/4276a.png  \n",
            "  inflating: datasets/black/black/4276b.png  \n",
            "  inflating: datasets/black/black/4282.png  \n",
            "  inflating: datasets/black/black/4285a.png  \n",
            "  inflating: datasets/black/black/4285b.png  \n",
            "  inflating: datasets/black/black/4286.png  \n",
            "  inflating: datasets/black/black/4287a.png  \n",
            "  inflating: datasets/black/black/4288.png  \n",
            "  inflating: datasets/black/black/4289.png  \n",
            "  inflating: datasets/black/black/42908.png  \n",
            "  inflating: datasets/black/black/429c01.png  \n",
            "  inflating: datasets/black/black/429c02.png  \n",
            "  inflating: datasets/black/black/43093.png  \n",
            "  inflating: datasets/black/black/43121.png  \n",
            "  inflating: datasets/black/black/4315.png  \n",
            "  inflating: datasets/black/black/4318.png  \n",
            "  inflating: datasets/black/black/4319.png  \n",
            "  inflating: datasets/black/black/4332.png  \n",
            "  inflating: datasets/black/black/43337.png  \n",
            "  inflating: datasets/black/black/43363.png  \n",
            "  inflating: datasets/black/black/433c01.png  \n",
            "  inflating: datasets/black/black/4341.png  \n",
            "  inflating: datasets/black/black/4345a.png  \n",
            "  inflating: datasets/black/black/4345b.png  \n",
            "  inflating: datasets/black/black/4346.png  \n",
            "  inflating: datasets/black/black/4346p60.png  \n",
            "  inflating: datasets/black/black/4347.png  \n",
            "  inflating: datasets/black/black/4349.png  \n",
            "  inflating: datasets/black/black/4360.png  \n",
            "  inflating: datasets/black/black/43708.png  \n",
            "  inflating: datasets/black/black/43710.png  \n",
            "  inflating: datasets/black/black/43711.png  \n",
            "  inflating: datasets/black/black/43712.png  \n",
            "  inflating: datasets/black/black/43713.png  \n",
            "  inflating: datasets/black/black/43719.png  \n",
            "  inflating: datasets/black/black/43720.png  \n",
            "  inflating: datasets/black/black/43721.png  \n",
            "  inflating: datasets/black/black/43722.png  \n",
            "  inflating: datasets/black/black/43723.png  \n",
            "  inflating: datasets/black/black/43751.png  \n",
            "  inflating: datasets/black/black/43857.png  \n",
            "  inflating: datasets/black/black/43887.png  \n",
            "  inflating: datasets/black/black/43892.png  \n",
            "  inflating: datasets/black/black/43894.png  \n",
            "  inflating: datasets/black/black/43898.png  \n",
            "  inflating: datasets/black/black/43903.png  \n",
            "  inflating: datasets/black/black/43936.png  \n",
            "  inflating: datasets/black/black/44126.png  \n",
            "  inflating: datasets/black/black/44136.png  \n",
            "  inflating: datasets/black/black/44224.png  \n",
            "  inflating: datasets/black/black/44225.png  \n",
            "  inflating: datasets/black/black/44294.png  \n",
            "  inflating: datasets/black/black/44300.png  \n",
            "  inflating: datasets/black/black/44308.png  \n",
            "  inflating: datasets/black/black/44309.png  \n",
            "  inflating: datasets/black/black/44350.png  \n",
            "  inflating: datasets/black/black/44351.png  \n",
            "  inflating: datasets/black/black/44352.png  \n",
            "  inflating: datasets/black/black/44353.png  \n",
            "  inflating: datasets/black/black/44375a.png  \n",
            "  inflating: datasets/black/black/44375b.png  \n",
            "  inflating: datasets/black/black/4438.png  \n",
            "  inflating: datasets/black/black/4442.png  \n",
            "  inflating: datasets/black/black/4444.png  \n",
            "  inflating: datasets/black/black/4444p04.png  \n",
            "  inflating: datasets/black/black/4444p05.png  \n",
            "  inflating: datasets/black/black/4444p08.png  \n",
            "  inflating: datasets/black/black/4445.png  \n",
            "  inflating: datasets/black/black/4447.png  \n",
            "  inflating: datasets/black/black/4448.png  \n",
            "  inflating: datasets/black/black/4449.png  \n",
            "  inflating: datasets/black/black/44570.png  \n",
            "  inflating: datasets/black/black/44572.png  \n",
            "  inflating: datasets/black/black/4459.png  \n",
            "  inflating: datasets/black/black/4460a.png  \n",
            "  inflating: datasets/black/black/4460b.png  \n",
            "  inflating: datasets/black/black/4461.png  \n",
            "  inflating: datasets/black/black/44661.png  \n",
            "  inflating: datasets/black/black/44674.png  \n",
            "  inflating: datasets/black/black/44675.png  \n",
            "  inflating: datasets/black/black/44676.png  \n",
            "  inflating: datasets/black/black/44728.png  \n",
            "  inflating: datasets/black/black/4474.png  \n",
            "  inflating: datasets/black/black/4475.png  \n",
            "  inflating: datasets/black/black/4477.png  \n",
            "  inflating: datasets/black/black/44771.png  \n",
            "  inflating: datasets/black/black/44772.png  \n",
            "  inflating: datasets/black/black/4479.png  \n",
            "  inflating: datasets/black/black/44790.png  \n",
            "  inflating: datasets/black/black/44799.png  \n",
            "  inflating: datasets/black/black/44809.png  \n",
            "  inflating: datasets/black/black/4480c01.png  \n",
            "  inflating: datasets/black/black/44810.png  \n",
            "  inflating: datasets/black/black/44822.png  \n",
            "  inflating: datasets/black/black/44848.png  \n",
            "  inflating: datasets/black/black/4485.png  \n",
            "  inflating: datasets/black/black/44852.png  \n",
            "  inflating: datasets/black/black/4488.png  \n",
            "  inflating: datasets/black/black/4489a.png  \n",
            "  inflating: datasets/black/black/4489b.png  \n",
            "  inflating: datasets/black/black/4490.png  \n",
            "  inflating: datasets/black/black/4491a.png  \n",
            "  inflating: datasets/black/black/4491b.png  \n",
            "  inflating: datasets/black/black/4495a.png  \n",
            "  inflating: datasets/black/black/4495b.png  \n",
            "  inflating: datasets/black/black/4497.png  \n",
            "  inflating: datasets/black/black/4498.png  \n",
            "  inflating: datasets/black/black/4499.png  \n",
            "  inflating: datasets/black/black/4503.png  \n",
            "  inflating: datasets/black/black/4504.png  \n",
            "  inflating: datasets/black/black/4505.png  \n",
            "  inflating: datasets/black/black/4507.png  \n",
            "  inflating: datasets/black/black/4509.png  \n",
            "  inflating: datasets/black/black/4510.png  \n",
            "  inflating: datasets/black/black/45106p01.png  \n",
            "  inflating: datasets/black/black/4511.png  \n",
            "  inflating: datasets/black/black/4515.png  \n",
            "  inflating: datasets/black/black/4518ac01.png  \n",
            "  inflating: datasets/black/black/4518b.png  \n",
            "  inflating: datasets/black/black/4519.png  \n",
            "  inflating: datasets/black/black/4522.png  \n",
            "  inflating: datasets/black/black/4523.png  \n",
            "  inflating: datasets/black/black/4524.png  \n",
            "  inflating: datasets/black/black/4528.png  \n",
            "  inflating: datasets/black/black/4529.png  \n",
            "  inflating: datasets/black/black/4530.png  \n",
            "  inflating: datasets/black/black/45301.png  \n",
            "  inflating: datasets/black/black/4531.png  \n",
            "  inflating: datasets/black/black/4532.png  \n",
            "  inflating: datasets/black/black/4533.png  \n",
            "  inflating: datasets/black/black/45406.png  \n",
            "  inflating: datasets/black/black/45590.png  \n",
            "  inflating: datasets/black/black/45677.png  \n",
            "  inflating: datasets/black/black/457.png  \n",
            "  inflating: datasets/black/black/45705.png  \n",
            "  inflating: datasets/black/black/45708.png  \n",
            "  inflating: datasets/black/black/45749.png  \n",
            "  inflating: datasets/black/black/458.png  \n",
            "  inflating: datasets/black/black/45803.png  \n",
            "  inflating: datasets/black/black/4587.png  \n",
            "  inflating: datasets/black/black/4588.png  \n",
            "  inflating: datasets/black/black/4589.png  \n",
            "  inflating: datasets/black/black/4590.png  \n",
            "  inflating: datasets/black/black/4591.png  \n",
            "  inflating: datasets/black/black/45918.png  \n",
            "  inflating: datasets/black/black/4593.png  \n",
            "  inflating: datasets/black/black/4595.png  \n",
            "  inflating: datasets/black/black/4596.png  \n",
            "  inflating: datasets/black/black/4597.png  \n",
            "  inflating: datasets/black/black/4598.png  \n",
            "  inflating: datasets/black/black/45982.png  \n",
            "  inflating: datasets/black/black/4599a.png  \n",
            "  inflating: datasets/black/black/4599b.png  \n",
            "  inflating: datasets/black/black/4600.png  \n",
            "  inflating: datasets/black/black/4608.png  \n",
            "  inflating: datasets/black/black/4611.png  \n",
            "  inflating: datasets/black/black/4617b.png  \n",
            "  inflating: datasets/black/black/46212.png  \n",
            "  inflating: datasets/black/black/4623.png  \n",
            "  inflating: datasets/black/black/4625.png  \n",
            "  inflating: datasets/black/black/4626.png  \n",
            "  inflating: datasets/black/black/46303.png  \n",
            "  inflating: datasets/black/black/46413.png  \n",
            "  inflating: datasets/black/black/46667.png  \n",
            "  inflating: datasets/black/black/4672.png  \n",
            "  inflating: datasets/black/black/4697b.png  \n",
            "  inflating: datasets/black/black/4716.png  \n",
            "  inflating: datasets/black/black/4719.png  \n",
            "  inflating: datasets/black/black/4729.png  \n",
            "  inflating: datasets/black/black/47297.png  \n",
            "  inflating: datasets/black/black/47298.png  \n",
            "  inflating: datasets/black/black/47299.png  \n",
            "  inflating: datasets/black/black/4730.png  \n",
            "  inflating: datasets/black/black/47306.png  \n",
            "  inflating: datasets/black/black/4732.png  \n",
            "  inflating: datasets/black/black/47328.png  \n",
            "  inflating: datasets/black/black/4733.png  \n",
            "  inflating: datasets/black/black/47330.png  \n",
            "  inflating: datasets/black/black/4735.png  \n",
            "  inflating: datasets/black/black/4736.png  \n",
            "  inflating: datasets/black/black/4737.png  \n",
            "  inflating: datasets/black/black/4738a.png  \n",
            "  inflating: datasets/black/black/47397.png  \n",
            "  inflating: datasets/black/black/47398.png  \n",
            "  inflating: datasets/black/black/4740.png  \n",
            "  inflating: datasets/black/black/47404.png  \n",
            "  inflating: datasets/black/black/47405.png  \n",
            "  inflating: datasets/black/black/47406.png  \n",
            "  inflating: datasets/black/black/47407.png  \n",
            "  inflating: datasets/black/black/4742.png  \n",
            "  inflating: datasets/black/black/47431.png  \n",
            "  inflating: datasets/black/black/47432.png  \n",
            "  inflating: datasets/black/black/4744.png  \n",
            "  inflating: datasets/black/black/4744p03.png  \n",
            "  inflating: datasets/black/black/4744p04.png  \n",
            "  inflating: datasets/black/black/47452.png  \n",
            "  inflating: datasets/black/black/47455.png  \n",
            "  inflating: datasets/black/black/47456.png  \n",
            "  inflating: datasets/black/black/47457.png  \n",
            "  inflating: datasets/black/black/47458.png  \n",
            "  inflating: datasets/black/black/4746.png  \n",
            "  inflating: datasets/black/black/47501.png  \n",
            "  inflating: datasets/black/black/47507.png  \n",
            "  inflating: datasets/black/black/47508.png  \n",
            "  inflating: datasets/black/black/4755.png  \n",
            "  inflating: datasets/black/black/4757.png  \n",
            "  inflating: datasets/black/black/47576.png  \n",
            "  inflating: datasets/black/black/4760c01.png  \n",
            "  inflating: datasets/black/black/47675.png  \n",
            "  inflating: datasets/black/black/47676.png  \n",
            "  inflating: datasets/black/black/4771.png  \n",
            "  inflating: datasets/black/black/47715.png  \n",
            "  inflating: datasets/black/black/47720.png  \n",
            "  inflating: datasets/black/black/4774c01.png  \n",
            "  inflating: datasets/black/black/47753.png  \n",
            "  inflating: datasets/black/black/47755.png  \n",
            "  inflating: datasets/black/black/47757.png  \n",
            "  inflating: datasets/black/black/47758.png  \n",
            "  inflating: datasets/black/black/47759.png  \n",
            "  inflating: datasets/black/black/4784.png  \n",
            "  inflating: datasets/black/black/47843.png  \n",
            "  inflating: datasets/black/black/47846.png  \n",
            "  inflating: datasets/black/black/47847.png  \n",
            "  inflating: datasets/black/black/47905.png  \n",
            "  inflating: datasets/black/black/4794b.png  \n",
            "  inflating: datasets/black/black/4796c01.png  \n",
            "  inflating: datasets/black/black/47973.png  \n",
            "  inflating: datasets/black/black/47975.png  \n",
            "  inflating: datasets/black/black/47994.png  \n",
            "  inflating: datasets/black/black/47996.png  \n",
            "  inflating: datasets/black/black/48002a.png  \n",
            "  inflating: datasets/black/black/48002b.png  \n",
            "  inflating: datasets/black/black/48005.png  \n",
            "  inflating: datasets/black/black/48092.png  \n",
            "  inflating: datasets/black/black/48171.png  \n",
            "  inflating: datasets/black/black/48172.png  \n",
            "  inflating: datasets/black/black/48183.png  \n",
            "  inflating: datasets/black/black/48205.png  \n",
            "  inflating: datasets/black/black/48208.png  \n",
            "  inflating: datasets/black/black/48284.png  \n",
            "  inflating: datasets/black/black/48288.png  \n",
            "  inflating: datasets/black/black/48336.png  \n",
            "  inflating: datasets/black/black/4844.png  \n",
            "  inflating: datasets/black/black/48489.png  \n",
            "  inflating: datasets/black/black/48490.png  \n",
            "  inflating: datasets/black/black/48493.png  \n",
            "  inflating: datasets/black/black/48495.png  \n",
            "  inflating: datasets/black/black/48496.png  \n",
            "  inflating: datasets/black/black/4854.png  \n",
            "  inflating: datasets/black/black/4855.png  \n",
            "  inflating: datasets/black/black/4857.png  \n",
            "  inflating: datasets/black/black/4858.png  \n",
            "  inflating: datasets/black/black/4858p01.png  \n",
            "  inflating: datasets/black/black/4859.png  \n",
            "  inflating: datasets/black/black/4861.png  \n",
            "  inflating: datasets/black/black/4864a.png  \n",
            "  inflating: datasets/black/black/4864b.png  \n",
            "  inflating: datasets/black/black/4865a.png  \n",
            "  inflating: datasets/black/black/4865b.png  \n",
            "  inflating: datasets/black/black/4867.png  \n",
            "  inflating: datasets/black/black/4868a.png  \n",
            "  inflating: datasets/black/black/4868b.png  \n",
            "  inflating: datasets/black/black/4869.png  \n",
            "  inflating: datasets/black/black/4871.png  \n",
            "  inflating: datasets/black/black/48724.png  \n",
            "  inflating: datasets/black/black/48729a.png  \n",
            "  inflating: datasets/black/black/48729b.png  \n",
            "  inflating: datasets/black/black/4873.png  \n",
            "  inflating: datasets/black/black/4876.png  \n",
            "  inflating: datasets/black/black/48933.png  \n",
            "  inflating: datasets/black/black/49097.png  \n",
            "  inflating: datasets/black/black/49668.png  \n",
            "  inflating: datasets/black/black/498.png  \n",
            "  inflating: datasets/black/black/501a.png  \n",
            "  inflating: datasets/black/black/501b.png  \n",
            "  inflating: datasets/black/black/501c.png  \n",
            "  inflating: datasets/black/black/50231.png  \n",
            "  inflating: datasets/black/black/50254.png  \n",
            "  inflating: datasets/black/black/50303.png  \n",
            "  inflating: datasets/black/black/50304.png  \n",
            "  inflating: datasets/black/black/50305.png  \n",
            "  inflating: datasets/black/black/50373.png  \n",
            "  inflating: datasets/black/black/50450.png  \n",
            "  inflating: datasets/black/black/50451.png  \n",
            "  inflating: datasets/black/black/50745.png  \n",
            "  inflating: datasets/black/black/50747.png  \n",
            "  inflating: datasets/black/black/50858.png  \n",
            "  inflating: datasets/black/black/50859a.png  \n",
            "  inflating: datasets/black/black/50859b.png  \n",
            "  inflating: datasets/black/black/50860.png  \n",
            "  inflating: datasets/black/black/50861.png  \n",
            "  inflating: datasets/black/black/50898.png  \n",
            "  inflating: datasets/black/black/50900.png  \n",
            "  inflating: datasets/black/black/50901.png  \n",
            "  inflating: datasets/black/black/50921.png  \n",
            "  inflating: datasets/black/black/50922.png  \n",
            "  inflating: datasets/black/black/50925.png  \n",
            "  inflating: datasets/black/black/50943.png  \n",
            "  inflating: datasets/black/black/50944.png  \n",
            "  inflating: datasets/black/black/50946.png  \n",
            "  inflating: datasets/black/black/50946p01.png  \n",
            "  inflating: datasets/black/black/50947.png  \n",
            "  inflating: datasets/black/black/50948.png  \n",
            "  inflating: datasets/black/black/50949.png  \n",
            "  inflating: datasets/black/black/50950.png  \n",
            "  inflating: datasets/black/black/50951.png  \n",
            "  inflating: datasets/black/black/50955.png  \n",
            "  inflating: datasets/black/black/50956.png  \n",
            "  inflating: datasets/black/black/50967.png  \n",
            "  inflating: datasets/black/black/51011.png  \n",
            "  inflating: datasets/black/black/51262.png  \n",
            "  inflating: datasets/black/black/512p01.png  \n",
            "  inflating: datasets/black/black/51342.png  \n",
            "  inflating: datasets/black/black/51739.png  \n",
            "  inflating: datasets/black/black/52031.png  \n",
            "  inflating: datasets/black/black/52041.png  \n",
            "  inflating: datasets/black/black/52107.png  \n",
            "  inflating: datasets/black/black/52345.png  \n",
            "  inflating: datasets/black/black/52501.png  \n",
            "  inflating: datasets/black/black/52668.png  \n",
            "  inflating: datasets/black/black/53451.png  \n",
            "  inflating: datasets/black/black/53452.png  \n",
            "  inflating: datasets/black/black/53454.png  \n",
            "  inflating: datasets/black/black/53457.png  \n",
            "  inflating: datasets/black/black/53533.png  \n",
            "  inflating: datasets/black/black/53542.png  \n",
            "  inflating: datasets/black/black/53543.png  \n",
            "  inflating: datasets/black/black/53545.png  \n",
            "  inflating: datasets/black/black/53550.png  \n",
            "  inflating: datasets/black/black/53562.png  \n",
            "  inflating: datasets/black/black/53568.png  \n",
            "  inflating: datasets/black/black/53585.png  \n",
            "  inflating: datasets/black/black/53586.png  \n",
            "  inflating: datasets/black/black/53788.png  \n",
            "  inflating: datasets/black/black/539.png  \n",
            "  inflating: datasets/black/black/53981.png  \n",
            "  inflating: datasets/black/black/53989.png  \n",
            "  inflating: datasets/black/black/53992.png  \n",
            "  inflating: datasets/black/black/54087.png  \n",
            "  inflating: datasets/black/black/54091.png  \n",
            "  inflating: datasets/black/black/54100.png  \n",
            "  inflating: datasets/black/black/54120.png  \n",
            "  inflating: datasets/black/black/54177.png  \n",
            "  inflating: datasets/black/black/54200.png  \n",
            "  inflating: datasets/black/black/54271.png  \n",
            "  inflating: datasets/black/black/54272.png  \n",
            "  inflating: datasets/black/black/54275.png  \n",
            "  inflating: datasets/black/black/54276.png  \n",
            "  inflating: datasets/black/black/54383.png  \n",
            "  inflating: datasets/black/black/54384.png  \n",
            "  inflating: datasets/black/black/54802.png  \n",
            "  inflating: datasets/black/black/54821.png  \n",
            "  inflating: datasets/black/black/55013.png  \n",
            "  inflating: datasets/black/black/55236.png  \n",
            "  inflating: datasets/black/black/55295.png  \n",
            "  inflating: datasets/black/black/55296.png  \n",
            "  inflating: datasets/black/black/55297.png  \n",
            "  inflating: datasets/black/black/55298.png  \n",
            "  inflating: datasets/black/black/55299.png  \n",
            "  inflating: datasets/black/black/55300.png  \n",
            "  inflating: datasets/black/black/55704.png  \n",
            "  inflating: datasets/black/black/55705.png  \n",
            "  inflating: datasets/black/black/55706.png  \n",
            "  inflating: datasets/black/black/55707a.png  \n",
            "  inflating: datasets/black/black/55707e.png  \n",
            "  inflating: datasets/black/black/55804.png  \n",
            "  inflating: datasets/black/black/55805.png  \n",
            "  inflating: datasets/black/black/55806.png  \n",
            "  inflating: datasets/black/black/55976.png  \n",
            "  inflating: datasets/black/black/55978.png  \n",
            "  inflating: datasets/black/black/55981.png  \n",
            "  inflating: datasets/black/black/55982.png  \n",
            "  inflating: datasets/black/black/56145.png  \n",
            "  inflating: datasets/black/black/564c01.png  \n",
            "  inflating: datasets/black/black/56619.png  \n",
            "  inflating: datasets/black/black/56630.png  \n",
            "  inflating: datasets/black/black/56890.png  \n",
            "  inflating: datasets/black/black/56891.png  \n",
            "  inflating: datasets/black/black/56897.png  \n",
            "  inflating: datasets/black/black/56898.png  \n",
            "  inflating: datasets/black/black/56904.png  \n",
            "  inflating: datasets/black/black/56907.png  \n",
            "  inflating: datasets/black/black/56908.png  \n",
            "  inflating: datasets/black/black/57028c02.png  \n",
            "  inflating: datasets/black/black/57515.png  \n",
            "  inflating: datasets/black/black/57518.png  \n",
            "  inflating: datasets/black/black/57519.png  \n",
            "  inflating: datasets/black/black/57520.png  \n",
            "  inflating: datasets/black/black/57528.png  \n",
            "  inflating: datasets/black/black/57539.png  \n",
            "  inflating: datasets/black/black/57564.png  \n",
            "  inflating: datasets/black/black/57565.png  \n",
            "  inflating: datasets/black/black/57575.png  \n",
            "  inflating: datasets/black/black/57587.png  \n",
            "  inflating: datasets/black/black/57588.png  \n",
            "  inflating: datasets/black/black/57779.png  \n",
            "  inflating: datasets/black/black/57792.png  \n",
            "  inflating: datasets/black/black/57878.png  \n",
            "  inflating: datasets/black/black/57893.png  \n",
            "  inflating: datasets/black/black/57894.png  \n",
            "  inflating: datasets/black/black/57895.png  \n",
            "  inflating: datasets/black/black/57899.png  \n",
            "  inflating: datasets/black/black/57900.png  \n",
            "  inflating: datasets/black/black/57906.png  \n",
            "  inflating: datasets/black/black/57908.png  \n",
            "  inflating: datasets/black/black/57915.png  \n",
            "  inflating: datasets/black/black/57999.png  \n",
            "  inflating: datasets/black/black/58090.png  \n",
            "  inflating: datasets/black/black/58176.png  \n",
            "  inflating: datasets/black/black/58177.png  \n",
            "  inflating: datasets/black/black/58247.png  \n",
            "  inflating: datasets/black/black/586c01.png  \n",
            "  inflating: datasets/black/black/58827.png  \n",
            "  inflating: datasets/black/black/58846.png  \n",
            "  inflating: datasets/black/black/59228.png  \n",
            "  inflating: datasets/black/black/59230.png  \n",
            "  inflating: datasets/black/black/59275.png  \n",
            "  inflating: datasets/black/black/59349.png  \n",
            "  inflating: datasets/black/black/59363.png  \n",
            "  inflating: datasets/black/black/59443.png  \n",
            "  inflating: datasets/black/black/59521.png  \n",
            "  inflating: datasets/black/black/59895.png  \n",
            "  inflating: datasets/black/black/59900.png  \n",
            "  inflating: datasets/black/black/6003.png  \n",
            "  inflating: datasets/black/black/60032.png  \n",
            "  inflating: datasets/black/black/6005.png  \n",
            "  inflating: datasets/black/black/60115.png  \n",
            "  inflating: datasets/black/black/6014b.png  \n",
            "  inflating: datasets/black/black/6015.png  \n",
            "  inflating: datasets/black/black/6016.png  \n",
            "  inflating: datasets/black/black/60176.png  \n",
            "  inflating: datasets/black/black/6019.png  \n",
            "  inflating: datasets/black/black/6020.png  \n",
            "  inflating: datasets/black/black/60208.png  \n",
            "  inflating: datasets/black/black/60212.png  \n",
            "  inflating: datasets/black/black/60219.png  \n",
            "  inflating: datasets/black/black/6025.png  \n",
            "  inflating: datasets/black/black/6027.png  \n",
            "  inflating: datasets/black/black/6028.png  \n",
            "  inflating: datasets/black/black/6032.png  \n",
            "  inflating: datasets/black/black/6037.png  \n",
            "  inflating: datasets/black/black/6039.png  \n",
            "  inflating: datasets/black/black/6040.png  \n",
            "  inflating: datasets/black/black/6041.png  \n",
            "  inflating: datasets/black/black/6042.png  \n",
            "  inflating: datasets/black/black/6044.png  \n",
            "  inflating: datasets/black/black/604547.png  \n",
            "  inflating: datasets/black/black/604548.png  \n",
            "  inflating: datasets/black/black/604549.png  \n",
            "  inflating: datasets/black/black/604550.png  \n",
            "  inflating: datasets/black/black/604551.png  \n",
            "  inflating: datasets/black/black/604552.png  \n",
            "  inflating: datasets/black/black/604553.png  \n",
            "  inflating: datasets/black/black/6046.png  \n",
            "  inflating: datasets/black/black/604614.png  \n",
            "  inflating: datasets/black/black/604615.png  \n",
            "  inflating: datasets/black/black/60470a.png  \n",
            "  inflating: datasets/black/black/60470b.png  \n",
            "  inflating: datasets/black/black/60471.png  \n",
            "  inflating: datasets/black/black/60474.png  \n",
            "  inflating: datasets/black/black/60475a.png  \n",
            "  inflating: datasets/black/black/60475b.png  \n",
            "  inflating: datasets/black/black/60476.png  \n",
            "  inflating: datasets/black/black/60477.png  \n",
            "  inflating: datasets/black/black/60478.png  \n",
            "  inflating: datasets/black/black/60479.png  \n",
            "  inflating: datasets/black/black/60481.png  \n",
            "  inflating: datasets/black/black/60483.png  \n",
            "  inflating: datasets/black/black/60484.png  \n",
            "  inflating: datasets/black/black/6051c04.png  \n",
            "  inflating: datasets/black/black/6053c04.png  \n",
            "  inflating: datasets/black/black/6055.png  \n",
            "  inflating: datasets/black/black/6056.png  \n",
            "  inflating: datasets/black/black/6057.png  \n",
            "  inflating: datasets/black/black/6058.png  \n",
            "  inflating: datasets/black/black/60581.png  \n",
            "  inflating: datasets/black/black/60592.png  \n",
            "  inflating: datasets/black/black/60593.png  \n",
            "  inflating: datasets/black/black/60594.png  \n",
            "  inflating: datasets/black/black/60596.png  \n",
            "  inflating: datasets/black/black/60598.png  \n",
            "  inflating: datasets/black/black/60599.png  \n",
            "  inflating: datasets/black/black/6060.png  \n",
            "  inflating: datasets/black/black/60607.png  \n",
            "  inflating: datasets/black/black/60608.png  \n",
            "  inflating: datasets/black/black/6061.png  \n",
            "  inflating: datasets/black/black/60621.png  \n",
            "  inflating: datasets/black/black/60623.png  \n",
            "  inflating: datasets/black/black/6063.png  \n",
            "  inflating: datasets/black/black/6066.png  \n",
            "  inflating: datasets/black/black/6067.png  \n",
            "  inflating: datasets/black/black/6069.png  \n",
            "  inflating: datasets/black/black/6070.png  \n",
            "  inflating: datasets/black/black/60700.png  \n",
            "  inflating: datasets/black/black/6072.png  \n",
            "  inflating: datasets/black/black/60750.png  \n",
            "  inflating: datasets/black/black/6076.png  \n",
            "  inflating: datasets/black/black/6078.png  \n",
            "  inflating: datasets/black/black/6079.png  \n",
            "  inflating: datasets/black/black/60797c02.png  \n",
            "  inflating: datasets/black/black/60806.png  \n",
            "  inflating: datasets/black/black/60808.png  \n",
            "  inflating: datasets/black/black/6081.png  \n",
            "  inflating: datasets/black/black/60849.png  \n",
            "  inflating: datasets/black/black/6085.png  \n",
            "  inflating: datasets/black/black/6086.png  \n",
            "  inflating: datasets/black/black/6087.png  \n",
            "  inflating: datasets/black/black/6089.png  \n",
            "  inflating: datasets/black/black/60896.png  \n",
            "  inflating: datasets/black/black/60897.png  \n",
            "  inflating: datasets/black/black/608p02.png  \n",
            "  inflating: datasets/black/black/6090.png  \n",
            "  inflating: datasets/black/black/60900.png  \n",
            "  inflating: datasets/black/black/60902.png  \n",
            "  inflating: datasets/black/black/6091.png  \n",
            "  inflating: datasets/black/black/60918.png  \n",
            "  inflating: datasets/black/black/6093.png  \n",
            "  inflating: datasets/black/black/6099p02.png  \n",
            "  inflating: datasets/black/black/6104.png  \n",
            "  inflating: datasets/black/black/61053.png  \n",
            "  inflating: datasets/black/black/61054.png  \n",
            "  inflating: datasets/black/black/6106.png  \n",
            "  inflating: datasets/black/black/61068.png  \n",
            "  inflating: datasets/black/black/6107.png  \n",
            "  inflating: datasets/black/black/61070.png  \n",
            "  inflating: datasets/black/black/61071.png  \n",
            "  inflating: datasets/black/black/61072.png  \n",
            "  inflating: datasets/black/black/61073.png  \n",
            "  inflating: datasets/black/black/6108.png  \n",
            "  inflating: datasets/black/black/6111.png  \n",
            "  inflating: datasets/black/black/6112.png  \n",
            "  inflating: datasets/black/black/6118.png  \n",
            "  inflating: datasets/black/black/61183.png  \n",
            "  inflating: datasets/black/black/61190a.png  \n",
            "  inflating: datasets/black/black/61190b.png  \n",
            "  inflating: datasets/black/black/61190c.png  \n",
            "  inflating: datasets/black/black/61190f.png  \n",
            "  inflating: datasets/black/black/6122.png  \n",
            "  inflating: datasets/black/black/6123.png  \n",
            "  inflating: datasets/black/black/61252.png  \n",
            "  inflating: datasets/black/black/61254.png  \n",
            "  inflating: datasets/black/black/6127.png  \n",
            "  inflating: datasets/black/black/6128.png  \n",
            "  inflating: datasets/black/black/6131.png  \n",
            "  inflating: datasets/black/black/6132.png  \n",
            "  inflating: datasets/black/black/6133.png  \n",
            "  inflating: datasets/black/black/6134.png  \n",
            "  inflating: datasets/black/black/61345.png  \n",
            "  inflating: datasets/black/black/6135.png  \n",
            "  inflating: datasets/black/black/6140.png  \n",
            "  inflating: datasets/black/black/61409.png  \n",
            "  inflating: datasets/black/black/6141.png  \n",
            "  inflating: datasets/black/black/6148.png  \n",
            "  inflating: datasets/black/black/61480.png  \n",
            "  inflating: datasets/black/black/61481.png  \n",
            "  inflating: datasets/black/black/61482.png  \n",
            "  inflating: datasets/black/black/61485.png  \n",
            "  inflating: datasets/black/black/61487.png  \n",
            "  inflating: datasets/black/black/61506.png  \n",
            "  inflating: datasets/black/black/6152.png  \n",
            "  inflating: datasets/black/black/6153a.png  \n",
            "  inflating: datasets/black/black/6153b.png  \n",
            "  inflating: datasets/black/black/6154.png  \n",
            "  inflating: datasets/black/black/6157.png  \n",
            "  inflating: datasets/black/black/6158.png  \n",
            "  inflating: datasets/black/black/6159.png  \n",
            "  inflating: datasets/black/black/6160c01.png  \n",
            "  inflating: datasets/black/black/6160c02.png  \n",
            "  inflating: datasets/black/black/6160c03.png  \n",
            "  inflating: datasets/black/black/6160c04.png  \n",
            "  inflating: datasets/black/black/61678.png  \n",
            "  inflating: datasets/black/black/6177.png  \n",
            "  inflating: datasets/black/black/6178.png  \n",
            "  inflating: datasets/black/black/6179.png  \n",
            "  inflating: datasets/black/black/6180.png  \n",
            "  inflating: datasets/black/black/61800.png  \n",
            "  inflating: datasets/black/black/6182.png  \n",
            "  inflating: datasets/black/black/6183.png  \n",
            "  inflating: datasets/black/black/6187.png  \n",
            "  inflating: datasets/black/black/6190.png  \n",
            "  inflating: datasets/black/black/6191.png  \n",
            "  inflating: datasets/black/black/6192.png  \n",
            "  inflating: datasets/black/black/61975.png  \n",
            "  inflating: datasets/black/black/6205.png  \n",
            "  inflating: datasets/black/black/62113.png  \n",
            "  inflating: datasets/black/black/6212.png  \n",
            "  inflating: datasets/black/black/6215.png  \n",
            "  inflating: datasets/black/black/6217.png  \n",
            "  inflating: datasets/black/black/6219.png  \n",
            "  inflating: datasets/black/black/6222.png  \n",
            "  inflating: datasets/black/black/6231.png  \n",
            "  inflating: datasets/black/black/6233.png  \n",
            "  inflating: datasets/black/black/62360.png  \n",
            "  inflating: datasets/black/black/62361.png  \n",
            "  inflating: datasets/black/black/6238.png  \n",
            "  inflating: datasets/black/black/62386.png  \n",
            "  inflating: datasets/black/black/6239.png  \n",
            "  inflating: datasets/black/black/62462.png  \n",
            "  inflating: datasets/black/black/6247.png  \n",
            "  inflating: datasets/black/black/6251.png  \n",
            "  inflating: datasets/black/black/62531.png  \n",
            "  inflating: datasets/black/black/6256.png  \n",
            "  inflating: datasets/black/black/62576.png  \n",
            "  inflating: datasets/black/black/6259.png  \n",
            "  inflating: datasets/black/black/6260.png  \n",
            "  inflating: datasets/black/black/6265.png  \n",
            "  inflating: datasets/black/black/6266.png  \n",
            "  inflating: datasets/black/black/62696.png  \n",
            "  inflating: datasets/black/black/62701.png  \n",
            "  inflating: datasets/black/black/62711.png  \n",
            "  inflating: datasets/black/black/62743.png  \n",
            "  inflating: datasets/black/black/62808.png  \n",
            "  inflating: datasets/black/black/62810.png  \n",
            "  inflating: datasets/black/black/62812.png  \n",
            "  inflating: datasets/black/black/62885.png  \n",
            "  inflating: datasets/black/black/6292.png  \n",
            "  inflating: datasets/black/black/63082.png  \n",
            "  inflating: datasets/black/black/63585.png  \n",
            "  inflating: datasets/black/black/63586.png  \n",
            "  inflating: datasets/black/black/63864.png  \n",
            "  inflating: datasets/black/black/63868.png  \n",
            "  inflating: datasets/black/black/63869.png  \n",
            "  inflating: datasets/black/black/63871.png  \n",
            "  inflating: datasets/black/black/6394.png  \n",
            "  inflating: datasets/black/black/63965.png  \n",
            "  inflating: datasets/black/black/6405.png  \n",
            "  inflating: datasets/black/black/64179.png  \n",
            "  inflating: datasets/black/black/64225.png  \n",
            "  inflating: datasets/black/black/64251.png  \n",
            "  inflating: datasets/black/black/64272.png  \n",
            "  inflating: datasets/black/black/64275.png  \n",
            "  inflating: datasets/black/black/64276.png  \n",
            "  inflating: datasets/black/black/64296.png  \n",
            "  inflating: datasets/black/black/64305.png  \n",
            "  inflating: datasets/black/black/64311.png  \n",
            "  inflating: datasets/black/black/64391.png  \n",
            "  inflating: datasets/black/black/64392.png  \n",
            "  inflating: datasets/black/black/64393.png  \n",
            "  inflating: datasets/black/black/64394.png  \n",
            "  inflating: datasets/black/black/64448.png  \n",
            "  inflating: datasets/black/black/64449.png  \n",
            "  inflating: datasets/black/black/64450.png  \n",
            "  inflating: datasets/black/black/64451.png  \n",
            "  inflating: datasets/black/black/64566.png  \n",
            "  inflating: datasets/black/black/64567.png  \n",
            "  inflating: datasets/black/black/64644.png  \n",
            "  inflating: datasets/black/black/64645.png  \n",
            "  inflating: datasets/black/black/64647.png  \n",
            "  inflating: datasets/black/black/64648.png  \n",
            "  inflating: datasets/black/black/64651.png  \n",
            "  inflating: datasets/black/black/64680.png  \n",
            "  inflating: datasets/black/black/64681.png  \n",
            "  inflating: datasets/black/black/64682.png  \n",
            "  inflating: datasets/black/black/64683.png  \n",
            "  inflating: datasets/black/black/64711.png  \n",
            "  inflating: datasets/black/black/64712.png  \n",
            "  inflating: datasets/black/black/64727.png  \n",
            "  inflating: datasets/black/black/6474.png  \n",
            "  inflating: datasets/black/black/64781.png  \n",
            "  inflating: datasets/black/black/64782.png  \n",
            "  inflating: datasets/black/black/64798.png  \n",
            "  inflating: datasets/black/black/64799.png  \n",
            "  inflating: datasets/black/black/64807.png  \n",
            "  inflating: datasets/black/black/6490.png  \n",
            "  inflating: datasets/black/black/64991.png  \n",
            "  inflating: datasets/black/black/6536.png  \n",
            "  inflating: datasets/black/black/6538b.png  \n",
            "  inflating: datasets/black/black/6541.png  \n",
            "  inflating: datasets/black/black/6542a.png  \n",
            "  inflating: datasets/black/black/6546.png  \n",
            "  inflating: datasets/black/black/6549.png  \n",
            "  inflating: datasets/black/black/6553.png  \n",
            "  inflating: datasets/black/black/6556.png  \n",
            "  inflating: datasets/black/black/6558.png  \n",
            "  inflating: datasets/black/black/6564.png  \n",
            "  inflating: datasets/black/black/6565.png  \n",
            "  inflating: datasets/black/black/6567c01.png  \n",
            "  inflating: datasets/black/black/6571.png  \n",
            "  inflating: datasets/black/black/6572.png  \n",
            "  inflating: datasets/black/black/6574.png  \n",
            "  inflating: datasets/black/black/6575.png  \n",
            "  inflating: datasets/black/black/6576.png  \n",
            "  inflating: datasets/black/black/6578.png  \n",
            "  inflating: datasets/black/black/6579.png  \n",
            "  inflating: datasets/black/black/6581.png  \n",
            "  inflating: datasets/black/black/6583.png  \n",
            "  inflating: datasets/black/black/6584.png  \n",
            "  inflating: datasets/black/black/6585.png  \n",
            "  inflating: datasets/black/black/6588.png  \n",
            "  inflating: datasets/black/black/6589.png  \n",
            "  inflating: datasets/black/black/6592.png  \n",
            "  inflating: datasets/black/black/6594.png  \n",
            "  inflating: datasets/black/black/6596.png  \n",
            "  inflating: datasets/black/black/6628.png  \n",
            "  inflating: datasets/black/black/6629.png  \n",
            "  inflating: datasets/black/black/6630.png  \n",
            "  inflating: datasets/black/black/6631.png  \n",
            "  inflating: datasets/black/black/6632.png  \n",
            "  inflating: datasets/black/black/6636.png  \n",
            "  inflating: datasets/black/black/6636p03.png  \n",
            "  inflating: datasets/black/black/6636p04.png  \n",
            "  inflating: datasets/black/black/6636p05.png  \n",
            "  inflating: datasets/black/black/6644.png  \n",
            "  inflating: datasets/black/black/680c01.png  \n",
            "  inflating: datasets/black/black/699.png  \n",
            "  inflating: datasets/black/black/70022.png  \n",
            "  inflating: datasets/black/black/70163.png  \n",
            "  inflating: datasets/black/black/702.png  \n",
            "  inflating: datasets/black/black/70278.png  \n",
            "  inflating: datasets/black/black/70358.png  \n",
            "  inflating: datasets/black/black/70496.png  \n",
            "  inflating: datasets/black/black/7049b.png  \n",
            "  inflating: datasets/black/black/709.png  \n",
            "  inflating: datasets/black/black/70961.png  \n",
            "  inflating: datasets/black/black/711.png  \n",
            "  inflating: datasets/black/black/71155.png  \n",
            "  inflating: datasets/black/black/71965.png  \n",
            "  inflating: datasets/black/black/72326.png  \n",
            "  inflating: datasets/black/black/72454.png  \n",
            "  inflating: datasets/black/black/73037.png  \n",
            "  inflating: datasets/black/black/73090a.png  \n",
            "  inflating: datasets/black/black/73090b.png  \n",
            "  inflating: datasets/black/black/73092.png  \n",
            "  inflating: datasets/black/black/733.png  \n",
            "  inflating: datasets/black/black/73312.png  \n",
            "  inflating: datasets/black/black/736c02.png  \n",
            "  inflating: datasets/black/black/74698.png  \n",
            "  inflating: datasets/black/black/749.png  \n",
            "  inflating: datasets/black/black/74967.png  \n",
            "  inflating: datasets/black/black/75347.png  \n",
            "  inflating: datasets/black/black/75535.png  \n",
            "  inflating: datasets/black/black/75902.png  \n",
            "  inflating: datasets/black/black/75937.png  \n",
            "  inflating: datasets/black/black/76385.png  \n",
            "  inflating: datasets/black/black/76766.png  \n",
            "  inflating: datasets/black/black/76768.png  \n",
            "  inflating: datasets/black/black/784.png  \n",
            "  inflating: datasets/black/black/792c03.png  \n",
            "  inflating: datasets/black/black/800.png  \n",
            "  inflating: datasets/black/black/803.png  \n",
            "  inflating: datasets/black/black/804.png  \n",
            "  inflating: datasets/black/black/805.png  \n",
            "  inflating: datasets/black/black/85080.png  \n",
            "  inflating: datasets/black/black/85544.png  \n",
            "  inflating: datasets/black/black/85545.png  \n",
            "  inflating: datasets/black/black/85546.png  \n",
            "  inflating: datasets/black/black/85557.png  \n",
            "  inflating: datasets/black/black/85558.png  \n",
            "  inflating: datasets/black/black/85651.png  \n",
            "  inflating: datasets/black/black/85861.png  \n",
            "  inflating: datasets/black/black/85940.png  \n",
            "  inflating: datasets/black/black/85941.png  \n",
            "  inflating: datasets/black/black/85969.png  \n",
            "  inflating: datasets/black/black/85970.png  \n",
            "  inflating: datasets/black/black/85973.png  \n",
            "  inflating: datasets/black/black/85974.png  \n",
            "  inflating: datasets/black/black/85975.png  \n",
            "  inflating: datasets/black/black/85976.png  \n",
            "  inflating: datasets/black/black/85977.png  \n",
            "  inflating: datasets/black/black/85983.png  \n",
            "  inflating: datasets/black/black/85984.png  \n",
            "  inflating: datasets/black/black/86035.png  \n",
            "  inflating: datasets/black/black/86038.png  \n",
            "  inflating: datasets/black/black/86500.png  \n",
            "  inflating: datasets/black/black/867.png  \n",
            "  inflating: datasets/black/black/87079.png  \n",
            "  inflating: datasets/black/black/87080.png  \n",
            "  inflating: datasets/black/black/87081.png  \n",
            "  inflating: datasets/black/black/87082.png  \n",
            "  inflating: datasets/black/black/87086.png  \n",
            "  inflating: datasets/black/black/87087.png  \n",
            "  inflating: datasets/black/black/871.png  \n",
            "  inflating: datasets/black/black/87408.png  \n",
            "  inflating: datasets/black/black/87414.png  \n",
            "  inflating: datasets/black/black/87421.png  \n",
            "  inflating: datasets/black/black/87544.png  \n",
            "  inflating: datasets/black/black/87552.png  \n",
            "  inflating: datasets/black/black/87559.png  \n",
            "  inflating: datasets/black/black/87574.png  \n",
            "  inflating: datasets/black/black/87580.png  \n",
            "  inflating: datasets/black/black/87609.png  \n",
            "  inflating: datasets/black/black/87611.png  \n",
            "  inflating: datasets/black/black/87614.png  \n",
            "  inflating: datasets/black/black/87615.png  \n",
            "  inflating: datasets/black/black/87616.png  \n",
            "  inflating: datasets/black/black/87617.png  \n",
            "  inflating: datasets/black/black/87618.png  \n",
            "  inflating: datasets/black/black/87620.png  \n",
            "  inflating: datasets/black/black/87692.png  \n",
            "  inflating: datasets/black/black/87693.png  \n",
            "  inflating: datasets/black/black/87694.png  \n",
            "  inflating: datasets/black/black/87697.png  \n",
            "  inflating: datasets/black/black/87745.png  \n",
            "  inflating: datasets/black/black/87747.png  \n",
            "  inflating: datasets/black/black/87754.png  \n",
            "  inflating: datasets/black/black/87761.png  \n",
            "  inflating: datasets/black/black/87781.png  \n",
            "  inflating: datasets/black/black/87791.png  \n",
            "  inflating: datasets/black/black/87794.png  \n",
            "  inflating: datasets/black/black/87796.png  \n",
            "  inflating: datasets/black/black/87797.png  \n",
            "  inflating: datasets/black/black/87798.png  \n",
            "  inflating: datasets/black/black/87815.png  \n",
            "  inflating: datasets/black/black/87817.png  \n",
            "  inflating: datasets/black/black/87820.png  \n",
            "  inflating: datasets/black/black/87837.png  \n",
            "  inflating: datasets/black/black/87841.png  \n",
            "  inflating: datasets/black/black/87846.png  \n",
            "  inflating: datasets/black/black/87990.png  \n",
            "  inflating: datasets/black/black/87991.png  \n",
            "  inflating: datasets/black/black/87994.png  \n",
            "  inflating: datasets/black/black/87995.png  \n",
            "  inflating: datasets/black/black/87998.png  \n",
            "  inflating: datasets/black/black/87999.png  \n",
            "  inflating: datasets/black/black/88072.png  \n",
            "  inflating: datasets/black/black/88283.png  \n",
            "  inflating: datasets/black/black/88287.png  \n",
            "  inflating: datasets/black/black/88289.png  \n",
            "  inflating: datasets/black/black/88292.png  \n",
            "  inflating: datasets/black/black/88293.png  \n",
            "  inflating: datasets/black/black/88323.png  \n",
            "  inflating: datasets/black/black/88516.png  \n",
            "  inflating: datasets/black/black/88517.png  \n",
            "  inflating: datasets/black/black/88646.png  \n",
            "  inflating: datasets/black/black/88704.png  \n",
            "  inflating: datasets/black/black/88930.png  \n",
            "  inflating: datasets/black/black/890.png  \n",
            "  inflating: datasets/black/black/89201.png  \n",
            "  inflating: datasets/black/black/89519.png  \n",
            "  inflating: datasets/black/black/89520.png  \n",
            "  inflating: datasets/black/black/89536.png  \n",
            "  inflating: datasets/black/black/89651.png  \n",
            "  inflating: datasets/black/black/90194.png  \n",
            "  inflating: datasets/black/black/90195.png  \n",
            "  inflating: datasets/black/black/90201.png  \n",
            "  inflating: datasets/black/black/90202.png  \n",
            "  inflating: datasets/black/black/90258.png  \n",
            "  inflating: datasets/black/black/90370.png  \n",
            "  inflating: datasets/black/black/90386.png  \n",
            "  inflating: datasets/black/black/90396.png  \n",
            "  inflating: datasets/black/black/90398.png  \n",
            "  inflating: datasets/black/black/90460.png  \n",
            "  inflating: datasets/black/black/90462.png  \n",
            "  inflating: datasets/black/black/90498.png  \n",
            "  inflating: datasets/black/black/90605.png  \n",
            "  inflating: datasets/black/black/90607.png  \n",
            "  inflating: datasets/black/black/90608.png  \n",
            "  inflating: datasets/black/black/90609.png  \n",
            "  inflating: datasets/black/black/90611.png  \n",
            "  inflating: datasets/black/black/90612.png  \n",
            "  inflating: datasets/black/black/90613.png  \n",
            "  inflating: datasets/black/black/90615.png  \n",
            "  inflating: datasets/black/black/90616.png  \n",
            "  inflating: datasets/black/black/90617.png  \n",
            "  inflating: datasets/black/black/90622.png  \n",
            "  inflating: datasets/black/black/90623.png  \n",
            "  inflating: datasets/black/black/90625.png  \n",
            "  inflating: datasets/black/black/90626.png  \n",
            "  inflating: datasets/black/black/90630.png  \n",
            "  inflating: datasets/black/black/90634.png  \n",
            "  inflating: datasets/black/black/90638.png  \n",
            "  inflating: datasets/black/black/90639.png  \n",
            "  inflating: datasets/black/black/90640.png  \n",
            "  inflating: datasets/black/black/90641.png  \n",
            "  inflating: datasets/black/black/90649.png  \n",
            "  inflating: datasets/black/black/90650.png  \n",
            "  inflating: datasets/black/black/90652.png  \n",
            "  inflating: datasets/black/black/90661.png  \n",
            "  inflating: datasets/black/black/91049.png  \n",
            "  inflating: datasets/black/black/91347.png  \n",
            "  inflating: datasets/black/black/91405.png  \n",
            "  inflating: datasets/black/black/91988.png  \n",
            "  inflating: datasets/black/black/92013.png  \n",
            "  inflating: datasets/black/black/92081.png  \n",
            "  inflating: datasets/black/black/92082.png  \n",
            "  inflating: datasets/black/black/92088.png  \n",
            "  inflating: datasets/black/black/92099.png  \n",
            "  inflating: datasets/black/black/92107.png  \n",
            "  inflating: datasets/black/black/92201.png  \n",
            "  inflating: datasets/black/black/92202.png  \n",
            "  inflating: datasets/black/black/92221.png  \n",
            "  inflating: datasets/black/black/92222.png  \n",
            "  inflating: datasets/black/black/92223.png  \n",
            "  inflating: datasets/black/black/92229.png  \n",
            "  inflating: datasets/black/black/92233.png  \n",
            "  inflating: datasets/black/black/92234.png  \n",
            "  inflating: datasets/black/black/92254.png  \n",
            "  inflating: datasets/black/black/92255.png  \n",
            "  inflating: datasets/black/black/92256.png  \n",
            "  inflating: datasets/black/black/92257.png  \n",
            "  inflating: datasets/black/black/92258.png  \n",
            "  inflating: datasets/black/black/92259.png  \n",
            "  inflating: datasets/black/black/92262.png  \n",
            "  inflating: datasets/black/black/92280.png  \n",
            "  inflating: datasets/black/black/92290.png  \n",
            "  inflating: datasets/black/black/92338.png  \n",
            "  inflating: datasets/black/black/92339.png  \n",
            "  inflating: datasets/black/black/92340.png  \n",
            "  inflating: datasets/black/black/92402.png  \n",
            "  inflating: datasets/black/black/92409.png  \n",
            "  inflating: datasets/black/black/92410.png  \n",
            "  inflating: datasets/black/black/92438.png  \n",
            "  inflating: datasets/black/black/92582.png  \n",
            "  inflating: datasets/black/black/92584.png  \n",
            "  inflating: datasets/black/black/92585.png  \n",
            "  inflating: datasets/black/black/92589.png  \n",
            "  inflating: datasets/black/black/92593.png  \n",
            "  inflating: datasets/black/black/92692.png  \n",
            "  inflating: datasets/black/black/92738.png  \n",
            "  inflating: datasets/black/black/92814.png  \n",
            "  inflating: datasets/black/black/92842.png  \n",
            "  inflating: datasets/black/black/92907.png  \n",
            "  inflating: datasets/black/black/92912.png  \n",
            "  inflating: datasets/black/black/92946.png  \n",
            "  inflating: datasets/black/black/92947.png  \n",
            "  inflating: datasets/black/black/92950.png  \n",
            "  inflating: datasets/black/black/93060.png  \n",
            "  inflating: datasets/black/black/93061.png  \n",
            "  inflating: datasets/black/black/93069.png  \n",
            "  inflating: datasets/black/black/93094.png  \n",
            "  inflating: datasets/black/black/93095.png  \n",
            "  inflating: datasets/black/black/93106.png  \n",
            "  inflating: datasets/black/black/93160.png  \n",
            "  inflating: datasets/black/black/93168.png  \n",
            "  inflating: datasets/black/black/93217.png  \n",
            "  inflating: datasets/black/black/93222.png  \n",
            "  inflating: datasets/black/black/93225.png  \n",
            "  inflating: datasets/black/black/93273.png  \n",
            "  inflating: datasets/black/black/93274.png  \n",
            "  inflating: datasets/black/black/93550.png  \n",
            "  inflating: datasets/black/black/93553.png  \n",
            "  inflating: datasets/black/black/93554.png  \n",
            "  inflating: datasets/black/black/93555.png  \n",
            "  inflating: datasets/black/black/93560.png  \n",
            "  inflating: datasets/black/black/93562.png  \n",
            "  inflating: datasets/black/black/93563.png  \n",
            "  inflating: datasets/black/black/93571.png  \n",
            "  inflating: datasets/black/black/93575.png  \n",
            "  inflating: datasets/black/black/93587.png  \n",
            "  inflating: datasets/black/black/93589.png  \n",
            "  inflating: datasets/black/black/93595.png  \n",
            "  inflating: datasets/black/black/93606.png  \n",
            "  inflating: datasets/black/black/93609.png  \n",
            "  inflating: datasets/black/black/93789.png  \n",
            "  inflating: datasets/black/black/95120.png  \n",
            "  inflating: datasets/black/black/95188.png  \n",
            "  inflating: datasets/black/black/95199.png  \n",
            "  inflating: datasets/black/black/95225.png  \n",
            "  inflating: datasets/black/black/95227.png  \n",
            "  inflating: datasets/black/black/95229.png  \n",
            "  inflating: datasets/black/black/95324.png  \n",
            "  inflating: datasets/black/black/95344.png  \n",
            "  inflating: datasets/black/black/95347.png  \n",
            "  inflating: datasets/black/black/95348.png  \n",
            "  inflating: datasets/black/black/95354.png  \n",
            "  inflating: datasets/black/black/95674.png  \n",
            "  inflating: datasets/black/black/96207.png  \n",
            "  inflating: datasets/black/black/96714.png  \n",
            "  inflating: datasets/black/black/970c00.png  \n",
            "  inflating: datasets/black/black/973c01.png  \n",
            "  inflating: datasets/black/black/98100.png  \n",
            "  inflating: datasets/black/black/98108.png  \n",
            "  inflating: datasets/black/black/98128.png  \n",
            "  inflating: datasets/black/black/98130.png  \n",
            "  inflating: datasets/black/black/98132.png  \n",
            "  inflating: datasets/black/black/98133.png  \n",
            "  inflating: datasets/black/black/98138.png  \n",
            "  inflating: datasets/black/black/98141.png  \n",
            "  inflating: datasets/black/black/98223.png  \n",
            "  inflating: datasets/black/black/98224.png  \n",
            "  inflating: datasets/black/black/98281.png  \n",
            "  inflating: datasets/black/black/98282.png  \n",
            "  inflating: datasets/black/black/98284.png  \n",
            "  inflating: datasets/black/black/98285.png  \n",
            "  inflating: datasets/black/black/98286.png  \n",
            "  inflating: datasets/black/black/98302.png  \n",
            "  inflating: datasets/black/black/98313.png  \n",
            "  inflating: datasets/black/black/98369.png  \n",
            "  inflating: datasets/black/black/98371.png  \n",
            "  inflating: datasets/black/black/98385.png  \n",
            "  inflating: datasets/black/black/98397.png  \n",
            "  inflating: datasets/black/black/98567.png  \n",
            "  inflating: datasets/black/black/98568p01.png  \n",
            "  inflating: datasets/black/black/98568p02.png  \n",
            "  inflating: datasets/black/black/98569.png  \n",
            "  inflating: datasets/black/black/98571.png  \n",
            "  inflating: datasets/black/black/98575.png  \n",
            "  inflating: datasets/black/black/98578.png  \n",
            "  inflating: datasets/black/black/98581.png  \n",
            "  inflating: datasets/black/black/98585.png  \n",
            "  inflating: datasets/black/black/98590.png  \n",
            "  inflating: datasets/black/black/98592.png  \n",
            "  inflating: datasets/black/black/98596.png  \n",
            "  inflating: datasets/black/black/98603.png  \n",
            "  inflating: datasets/black/black/98604.png  \n",
            "  inflating: datasets/black/black/98721.png  \n",
            "  inflating: datasets/black/black/98722.png  \n",
            "  inflating: datasets/black/black/98726.png  \n",
            "  inflating: datasets/black/black/98729.png  \n",
            "  inflating: datasets/black/black/98834.png  \n",
            "  inflating: datasets/black/black/99010.png  \n",
            "  inflating: datasets/black/black/99061.png  \n",
            "  inflating: datasets/black/black/99206.png  \n",
            "  inflating: datasets/black/black/99207.png  \n",
            "  inflating: datasets/black/black/99240.png  \n",
            "  inflating: datasets/black/black/99241.png  \n",
            "  inflating: datasets/black/black/99242.png  \n",
            "  inflating: datasets/black/black/99251.png  \n",
            "  inflating: datasets/black/black/99301.png  \n",
            "  inflating: datasets/black/black/99464.png  \n",
            "  inflating: datasets/black/black/99563.png  \n",
            "  inflating: datasets/black/black/99773.png  \n",
            "  inflating: datasets/black/black/99780.png  \n",
            "  inflating: datasets/black/black/99781.png  \n",
            "  inflating: datasets/black/black/997c01.png  \n",
            "  inflating: datasets/black/black/99930.png  \n",
            "  inflating: datasets/black/black/u9154.png  \n",
            "  inflating: datasets/black/black/x579c02.png  \n",
            "  inflating: datasets/black/black/x946.png  \n",
            "  inflating: datasets/black_final.csv  \n"
          ],
          "name": "stdout"
        }
      ]
    },
    {
      "cell_type": "markdown",
      "metadata": {
        "id": "2fhs6GZ4qFMx"
      },
      "source": [
        "To execute the code in the above cell, select it with a click and then either press the play button to the left of the code, or use the keyboard shortcut \"Command/Ctrl+Enter\". To edit the code, just click the cell and start editing.\n",
        "\n",
        "Variables that you define in one cell can later be used in other cells:"
      ]
    },
    {
      "cell_type": "markdown",
      "metadata": {
        "id": "lSrWNr3MuFUS"
      },
      "source": [
        "Colab notebooks allow you to combine **executable code** and **rich text** in a single document, along with **images**, **HTML**, **LaTeX** and more. When you create your own Colab notebooks, they are stored in your Google Drive account. You can easily share your Colab notebooks with co-workers or friends, allowing them to comment on your notebooks or even edit them. To learn more, see [Overview of Colab](/notebooks/basic_features_overview.ipynb). To create a new Colab notebook you can use the File menu above, or use the following link: [create a new Colab notebook](http://colab.research.google.com#create=true).\n",
        "\n",
        "Colab notebooks are Jupyter notebooks that are hosted by Colab. To learn more about the Jupyter project, see [jupyter.org](https://www.jupyter.org)."
      ]
    },
    {
      "cell_type": "markdown",
      "metadata": {
        "id": "66NugVD0FMPW"
      },
      "source": [
        "## Load Libraries\n",
        "\n",
        "Here we will load all libraries needed for the analysis"
      ]
    },
    {
      "cell_type": "code",
      "metadata": {
        "id": "HNYmi0t6Fbcz",
        "colab": {
          "base_uri": "https://localhost:8080/"
        },
        "outputId": "75370dc2-b90b-4d77-f643-cff229fdfb45"
      },
      "source": [
        "!pip install ripser==0.5.4"
      ],
      "execution_count": null,
      "outputs": [
        {
          "output_type": "stream",
          "text": [
            "Requirement already satisfied: ripser==0.5.4 in /usr/local/lib/python3.6/dist-packages (0.5.4)\n",
            "Requirement already satisfied: scikit-learn in /usr/local/lib/python3.6/dist-packages (from ripser==0.5.4) (0.23.2)\n",
            "Requirement already satisfied: scipy in /usr/local/lib/python3.6/dist-packages (from ripser==0.5.4) (1.5.4)\n",
            "Requirement already satisfied: numpy in /usr/local/lib/python3.6/dist-packages (from ripser==0.5.4) (1.19.4)\n",
            "Requirement already satisfied: Cython in /usr/local/lib/python3.6/dist-packages (from ripser==0.5.4) (0.29.21)\n",
            "Requirement already satisfied: persim in /usr/local/lib/python3.6/dist-packages (from ripser==0.5.4) (0.1.3)\n",
            "Requirement already satisfied: joblib>=0.11 in /usr/local/lib/python3.6/dist-packages (from scikit-learn->ripser==0.5.4) (0.17.0)\n",
            "Requirement already satisfied: threadpoolctl>=2.0.0 in /usr/local/lib/python3.6/dist-packages (from scikit-learn->ripser==0.5.4) (2.1.0)\n",
            "Requirement already satisfied: hopcroftkarp in /usr/local/lib/python3.6/dist-packages (from persim->ripser==0.5.4) (1.2.5)\n",
            "Requirement already satisfied: matplotlib in /usr/local/lib/python3.6/dist-packages (from persim->ripser==0.5.4) (3.2.2)\n",
            "Requirement already satisfied: cycler>=0.10 in /usr/local/lib/python3.6/dist-packages (from matplotlib->persim->ripser==0.5.4) (0.10.0)\n",
            "Requirement already satisfied: python-dateutil>=2.1 in /usr/local/lib/python3.6/dist-packages (from matplotlib->persim->ripser==0.5.4) (2.8.1)\n",
            "Requirement already satisfied: pyparsing!=2.0.4,!=2.1.2,!=2.1.6,>=2.0.1 in /usr/local/lib/python3.6/dist-packages (from matplotlib->persim->ripser==0.5.4) (2.4.7)\n",
            "Requirement already satisfied: kiwisolver>=1.0.1 in /usr/local/lib/python3.6/dist-packages (from matplotlib->persim->ripser==0.5.4) (1.3.1)\n",
            "Requirement already satisfied: six in /usr/local/lib/python3.6/dist-packages (from cycler>=0.10->matplotlib->persim->ripser==0.5.4) (1.15.0)\n"
          ],
          "name": "stdout"
        }
      ]
    },
    {
      "cell_type": "code",
      "metadata": {
        "id": "O0bce-gsFU73"
      },
      "source": [
        "import numpy as np\n",
        "import pandas as pd\n",
        "import os\n",
        "import matplotlib.pyplot as plt\n",
        "import matplotlib as mpl\n",
        "import seaborn as sns\n",
        "import cv2\n",
        "from skimage.filters import prewitt_h,prewitt_v\n",
        "from skimage.filters import sato\n",
        "from skimage.filters import sobel\n",
        "from skimage import feature\n",
        "from skimage import measure\n",
        "from skimage.feature import hog\n",
        "from skimage.filters.rank import entropy\n",
        "from skimage.morphology import disk\n",
        "from skimage.measure.entropy import shannon_entropy\n",
        "from skimage.feature import corner_shi_tomasi, corner_peaks\n",
        "from skimage import data, segmentation, color, filters, io\n",
        "from skimage.future import graph\n",
        "from skimage.filters.edges import prewitt\n",
        "\n",
        "from skimage import color\n",
        "\n",
        "from sklearn import svm\n",
        "import lightgbm as lgb\n",
        "from sklearn.naive_bayes import GaussianNB\n",
        "from sklearn.model_selection import cross_val_score\n",
        "\n",
        "\n",
        "from sklearn.model_selection import StratifiedKFold\n",
        "from sklearn.metrics import classification_report,accuracy_score\n",
        "import sklearn.metrics as metrics\n",
        "\n",
        "from tensorflow.python.keras import models, layers, losses, optimizers, utils\n",
        "from tensorflow.python.keras import backend as K\n",
        "\n",
        "\n",
        "from ripser import ripser as rpser\n",
        "from persim import plot_diagrams\n",
        "from ripser import Rips\n",
        "\n",
        "\n",
        "from sklearn.model_selection import train_test_split"
      ],
      "execution_count": null,
      "outputs": []
    },
    {
      "cell_type": "markdown",
      "metadata": {
        "id": "UdRyKR44dcNI"
      },
      "source": [
        "## Load Data\n",
        "In this section, we will load the dataset-images and csv!\n"
      ]
    },
    {
      "cell_type": "code",
      "metadata": {
        "id": "C4HZx7Gndbrh"
      },
      "source": [
        "def load_data(dir_data,part_df):\n",
        "    ''' Load each of the image files into memory \n",
        "\n",
        "    While this is feasible with a smaller dataset, for larger datasets,\n",
        "    not all the images would be able to be loaded into memory\n",
        "    '''\n",
        "    parts_df  = part_df\n",
        "    labels    = parts_df.part_cat_group_id.values\n",
        "    ids       = parts_df.part_num.values\n",
        "    data      = []\n",
        "    for identifier in ids:\n",
        "        fname     = dir_data + identifier + '.png'\n",
        "        image     = mpl.image.imread(fname)\n",
        "        data.append(image)\n",
        "    data = np.array(data) # Convert to Numpy array\n",
        "    return ids,data, labels"
      ],
      "execution_count": null,
      "outputs": []
    },
    {
      "cell_type": "code",
      "metadata": {
        "id": "Jloq1zJyFmzB",
        "colab": {
          "base_uri": "https://localhost:8080/",
          "height": 202
        },
        "outputId": "32dfbd43-21b7-43de-f923-e254a47862f8"
      },
      "source": [
        "parts_black=pd.read_csv(\"datasets/black_final.csv\")\n",
        "parts_black['file_name_poss']= parts_black['part_num']+\".png\"\n",
        "\n",
        "parts_black.head()"
      ],
      "execution_count": null,
      "outputs": [
        {
          "output_type": "execute_result",
          "data": {
            "text/html": [
              "<div>\n",
              "<style scoped>\n",
              "    .dataframe tbody tr th:only-of-type {\n",
              "        vertical-align: middle;\n",
              "    }\n",
              "\n",
              "    .dataframe tbody tr th {\n",
              "        vertical-align: top;\n",
              "    }\n",
              "\n",
              "    .dataframe thead th {\n",
              "        text-align: right;\n",
              "    }\n",
              "</style>\n",
              "<table border=\"1\" class=\"dataframe\">\n",
              "  <thead>\n",
              "    <tr style=\"text-align: right;\">\n",
              "      <th></th>\n",
              "      <th>part_num</th>\n",
              "      <th>color_id</th>\n",
              "      <th>part_name</th>\n",
              "      <th>part_cat_id</th>\n",
              "      <th>part_material</th>\n",
              "      <th>part_cat_name</th>\n",
              "      <th>color_name</th>\n",
              "      <th>rgb</th>\n",
              "      <th>is_trans</th>\n",
              "      <th>quantity</th>\n",
              "      <th>have_image</th>\n",
              "      <th>part_cat_group</th>\n",
              "      <th>part_cat_group_id</th>\n",
              "      <th>split</th>\n",
              "      <th>file_name_poss</th>\n",
              "    </tr>\n",
              "  </thead>\n",
              "  <tbody>\n",
              "    <tr>\n",
              "      <th>0</th>\n",
              "      <td>2343</td>\n",
              "      <td>0</td>\n",
              "      <td>Equipment Goblet</td>\n",
              "      <td>27</td>\n",
              "      <td>Plastic</td>\n",
              "      <td>Minifig Accessories</td>\n",
              "      <td>Black</td>\n",
              "      <td>05131D</td>\n",
              "      <td>f</td>\n",
              "      <td>63</td>\n",
              "      <td>t</td>\n",
              "      <td>Figures</td>\n",
              "      <td>0</td>\n",
              "      <td>train</td>\n",
              "      <td>2343.png</td>\n",
              "    </tr>\n",
              "    <tr>\n",
              "      <th>1</th>\n",
              "      <td>30089a</td>\n",
              "      <td>0</td>\n",
              "      <td>Equipment Camera Handheld with Right-Aligned V...</td>\n",
              "      <td>27</td>\n",
              "      <td>Plastic</td>\n",
              "      <td>Minifig Accessories</td>\n",
              "      <td>Black</td>\n",
              "      <td>05131D</td>\n",
              "      <td>f</td>\n",
              "      <td>42</td>\n",
              "      <td>t</td>\n",
              "      <td>Figures</td>\n",
              "      <td>0</td>\n",
              "      <td>train</td>\n",
              "      <td>30089a.png</td>\n",
              "    </tr>\n",
              "    <tr>\n",
              "      <th>2</th>\n",
              "      <td>30162</td>\n",
              "      <td>0</td>\n",
              "      <td>Equipment Binoculars</td>\n",
              "      <td>27</td>\n",
              "      <td>Plastic</td>\n",
              "      <td>Minifig Accessories</td>\n",
              "      <td>Black</td>\n",
              "      <td>05131D</td>\n",
              "      <td>f</td>\n",
              "      <td>42</td>\n",
              "      <td>t</td>\n",
              "      <td>Figures</td>\n",
              "      <td>0</td>\n",
              "      <td>train</td>\n",
              "      <td>30162.png</td>\n",
              "    </tr>\n",
              "    <tr>\n",
              "      <th>3</th>\n",
              "      <td>30191</td>\n",
              "      <td>0</td>\n",
              "      <td>Equipment Stretcher Holder</td>\n",
              "      <td>27</td>\n",
              "      <td>Rubber</td>\n",
              "      <td>Minifig Accessories</td>\n",
              "      <td>Black</td>\n",
              "      <td>05131D</td>\n",
              "      <td>f</td>\n",
              "      <td>5</td>\n",
              "      <td>t</td>\n",
              "      <td>Figures</td>\n",
              "      <td>0</td>\n",
              "      <td>val</td>\n",
              "      <td>30191.png</td>\n",
              "    </tr>\n",
              "    <tr>\n",
              "      <th>4</th>\n",
              "      <td>30340</td>\n",
              "      <td>0</td>\n",
              "      <td>Equipment Flotation Ring [Life Preserver]</td>\n",
              "      <td>27</td>\n",
              "      <td>Plastic</td>\n",
              "      <td>Minifig Accessories</td>\n",
              "      <td>Black</td>\n",
              "      <td>05131D</td>\n",
              "      <td>f</td>\n",
              "      <td>22</td>\n",
              "      <td>t</td>\n",
              "      <td>Figures</td>\n",
              "      <td>0</td>\n",
              "      <td>train</td>\n",
              "      <td>30340.png</td>\n",
              "    </tr>\n",
              "  </tbody>\n",
              "</table>\n",
              "</div>"
            ],
            "text/plain": [
              "  part_num  color_id  ...  split  file_name_poss\n",
              "0     2343         0  ...  train        2343.png\n",
              "1   30089a         0  ...  train      30089a.png\n",
              "2    30162         0  ...  train       30162.png\n",
              "3    30191         0  ...    val       30191.png\n",
              "4    30340         0  ...  train       30340.png\n",
              "\n",
              "[5 rows x 15 columns]"
            ]
          },
          "metadata": {
            "tags": []
          },
          "execution_count": 15
        }
      ]
    },
    {
      "cell_type": "code",
      "metadata": {
        "id": "VxDamRxrHX0C",
        "colab": {
          "base_uri": "https://localhost:8080/"
        },
        "outputId": "32668667-8969-4f2c-d26a-651f5c195d06"
      },
      "source": [
        "parts_black.loc[parts_black['split'] == \"val\", 'split'] = \"test\"\n",
        "parts_black['split'].value_counts()"
      ],
      "execution_count": null,
      "outputs": [
        {
          "output_type": "execute_result",
          "data": {
            "text/plain": [
              "train    1910\n",
              "test      478\n",
              "Name: split, dtype: int64"
            ]
          },
          "metadata": {
            "tags": []
          },
          "execution_count": 16
        }
      ]
    },
    {
      "cell_type": "code",
      "metadata": {
        "id": "wxldqdYoHeAj",
        "colab": {
          "base_uri": "https://localhost:8080/"
        },
        "outputId": "2c276b63-9c3a-429a-d604-bc89e801bfe2"
      },
      "source": [
        "train_parts = parts_black[parts_black['split']==\"train\"]\n",
        "train_parts.shape"
      ],
      "execution_count": null,
      "outputs": [
        {
          "output_type": "execute_result",
          "data": {
            "text/plain": [
              "(1910, 15)"
            ]
          },
          "metadata": {
            "tags": []
          },
          "execution_count": 17
        }
      ]
    },
    {
      "cell_type": "code",
      "metadata": {
        "id": "oQVQ2ymtHg3v",
        "colab": {
          "base_uri": "https://localhost:8080/"
        },
        "outputId": "1f99a0b3-9c3a-4cd6-b1d8-f9486da3d0f6"
      },
      "source": [
        "trainset, testset = train_test_split(train_parts, test_size=0.3, random_state=0, \n",
        "                                     stratify=train_parts.part_cat_group_id)\n",
        "\n",
        "train_parts['split_tv'] = np.where(train_parts.part_num.isin(trainset.part_num), \"train\", \"val\")"
      ],
      "execution_count": null,
      "outputs": [
        {
          "output_type": "stream",
          "text": [
            "/usr/local/lib/python3.6/dist-packages/ipykernel_launcher.py:4: SettingWithCopyWarning: \n",
            "A value is trying to be set on a copy of a slice from a DataFrame.\n",
            "Try using .loc[row_indexer,col_indexer] = value instead\n",
            "\n",
            "See the caveats in the documentation: https://pandas.pydata.org/pandas-docs/stable/user_guide/indexing.html#returning-a-view-versus-a-copy\n",
            "  after removing the cwd from sys.path.\n"
          ],
          "name": "stderr"
        }
      ]
    },
    {
      "cell_type": "code",
      "metadata": {
        "id": "zRGBW8s6HkG-",
        "colab": {
          "base_uri": "https://localhost:8080/"
        },
        "outputId": "36858274-4004-48a9-ee63-6dd92bec5c45"
      },
      "source": [
        "parts_black=pd.merge(parts_black, train_parts[[\"part_num\",\"split_tv\"]], how='left', on=[\"part_num\"])\n",
        "parts_black['split_tv'] = parts_black['split_tv'].fillna(\"test\")\n",
        "parts_black['split_tv'].value_counts()"
      ],
      "execution_count": null,
      "outputs": [
        {
          "output_type": "execute_result",
          "data": {
            "text/plain": [
              "train    1337\n",
              "val       573\n",
              "test      478\n",
              "Name: split_tv, dtype: int64"
            ]
          },
          "metadata": {
            "tags": []
          },
          "execution_count": 19
        }
      ]
    },
    {
      "cell_type": "code",
      "metadata": {
        "id": "eub1P5ZgHnpb"
      },
      "source": [
        "parts_black=parts_black.drop(columns=['split'])"
      ],
      "execution_count": null,
      "outputs": []
    },
    {
      "cell_type": "code",
      "metadata": {
        "id": "6Egm3v-rHuBy"
      },
      "source": [
        "del train_parts"
      ],
      "execution_count": null,
      "outputs": []
    },
    {
      "cell_type": "code",
      "metadata": {
        "id": "cfS466vwHvB0"
      },
      "source": [
        "# separate df with train\n",
        "train=parts_black[parts_black['split_tv']!='test']"
      ],
      "execution_count": null,
      "outputs": []
    },
    {
      "cell_type": "code",
      "metadata": {
        "id": "_43_zNB9H1Zs",
        "colab": {
          "base_uri": "https://localhost:8080/"
        },
        "outputId": "897b7160-dbde-4621-ba09-e1487a7bbbde"
      },
      "source": [
        "################### All images ######################\n",
        "#selecting parts with both entries in csv and part drawings\n",
        "figures_parts_files_path= \"datasets/black/black\"\n",
        "possibilities=train['file_name_poss'].tolist()\n",
        "diagrams=os.listdir(figures_parts_files_path)\n",
        "complete_parts=list(set(possibilities) & set(diagrams))\n",
        "print(len(complete_parts))\n",
        "\n",
        "# selecting by group figures\n",
        "parts_select_fig=train[train['file_name_poss'].isin(complete_parts)]\n",
        "\n",
        "# Load data\n",
        "figures_dir=\"datasets/black/black/\"\n",
        "train_part_ids,figures,labels = load_data(figures_dir,parts_select_fig)"
      ],
      "execution_count": null,
      "outputs": [
        {
          "output_type": "stream",
          "text": [
            "1910\n"
          ],
          "name": "stdout"
        },
        {
          "output_type": "stream",
          "text": [
            "/usr/local/lib/python3.6/dist-packages/ipykernel_launcher.py:15: VisibleDeprecationWarning: Creating an ndarray from ragged nested sequences (which is a list-or-tuple of lists-or-tuples-or ndarrays with different lengths or shapes) is deprecated. If you meant to do this, you must specify 'dtype=object' when creating the ndarray\n",
            "  from ipykernel import kernelapp as app\n"
          ],
          "name": "stderr"
        }
      ]
    },
    {
      "cell_type": "code",
      "metadata": {
        "id": "m_OnW4_aTduZ",
        "colab": {
          "base_uri": "https://localhost:8080/"
        },
        "outputId": "a2419ff5-d860-4710-b359-a59063f2c346"
      },
      "source": [
        "labels"
      ],
      "execution_count": null,
      "outputs": [
        {
          "output_type": "execute_result",
          "data": {
            "text/plain": [
              "array([0, 0, 0, ..., 5, 5, 5])"
            ]
          },
          "metadata": {
            "tags": []
          },
          "execution_count": 24
        }
      ]
    },
    {
      "cell_type": "markdown",
      "metadata": {
        "id": "4_kCnsPUqS6o"
      },
      "source": [
        "We have loaded 1910 part images for training"
      ]
    },
    {
      "cell_type": "markdown",
      "metadata": {
        "id": "OwuxHmxllTwN"
      },
      "source": [
        "## Image Transformation\n",
        "\n",
        "The following steps are executed:\n",
        "* Grayscale Transformation"
      ]
    },
    {
      "cell_type": "code",
      "metadata": {
        "id": "yPjguf-xKk6t"
      },
      "source": [
        "# using Luminance to obtain grayscale images\n",
        "# luminance is the weighted average of RGB values\n",
        "data_gray_fig = [color.rgb2gray(i) for i in figures]"
      ],
      "execution_count": null,
      "outputs": []
    },
    {
      "cell_type": "code",
      "metadata": {
        "id": "kX3qnBYLKqL7"
      },
      "source": [
        "del figures"
      ],
      "execution_count": null,
      "outputs": []
    },
    {
      "cell_type": "code",
      "metadata": {
        "id": "iDGAwQBwKxVV",
        "colab": {
          "base_uri": "https://localhost:8080/",
          "height": 281
        },
        "outputId": "c53a8422-e18c-47a3-a81d-87f00b378d8d"
      },
      "source": [
        "# plot image after applying vertical edge filter to grayscale image\n",
        "plt.imshow(data_gray_fig[0], cmap='gray')\n",
        "plt.axis('off')\n",
        "plt.title('Image after applying grayscale filter')"
      ],
      "execution_count": null,
      "outputs": [
        {
          "output_type": "execute_result",
          "data": {
            "text/plain": [
              "Text(0.5, 1.0, 'Image after applying grayscale filter')"
            ]
          },
          "metadata": {
            "tags": []
          },
          "execution_count": 27
        },
        {
          "output_type": "display_data",
          "data": {
            "image/png": "[encoded data removed]",
            "text/plain": [
              "<Figure size 432x288 with 1 Axes>"
            ]
          },
          "metadata": {
            "tags": [],
            "needs_background": "light"
          }
        }
      ]
    },
    {
      "cell_type": "markdown",
      "metadata": {
        "id": "V_fqZWypLE9v"
      },
      "source": [
        "## Feature Engineering"
      ]
    },
    {
      "cell_type": "markdown",
      "metadata": {
        "id": "HR5pf19OnC0C"
      },
      "source": [
        "### Edge Detection"
      ]
    },
    {
      "cell_type": "markdown",
      "metadata": {
        "id": "xVHKO2L99niJ"
      },
      "source": [
        "#### Prewitt"
      ]
    },
    {
      "cell_type": "code",
      "metadata": {
        "id": "uaw44HQtLB4w"
      },
      "source": [
        "hor_edges = []\n",
        "ver_edges = []\n",
        "for image in data_gray_fig[0:10]:\n",
        "    #calculating horizontal edges using prewitt kernel\n",
        "    edges_prewitt_horizontal = prewitt_h(image)\n",
        "    #calculating vertical edges using prewitt kernel\n",
        "    edges_prewitt_vertical = prewitt_v(image)\n",
        "    hor_edges.append(edges_prewitt_horizontal)\n",
        "    ver_edges.append(edges_prewitt_vertical)"
      ],
      "execution_count": null,
      "outputs": []
    },
    {
      "cell_type": "code",
      "metadata": {
        "id": "SKKQqdyQLNLt",
        "colab": {
          "base_uri": "https://localhost:8080/",
          "height": 281
        },
        "outputId": "3ee0b0a6-816c-48d8-f221-9a62ccf58035"
      },
      "source": [
        "# plot image after applying vertical edge filter to grayscale image\n",
        "plt.imshow(ver_edges[0])\n",
        "plt.axis('off')\n",
        "plt.title('Image after applying vertical edge detector')"
      ],
      "execution_count": null,
      "outputs": [
        {
          "output_type": "execute_result",
          "data": {
            "text/plain": [
              "Text(0.5, 1.0, 'Image after applying vertical edge detector')"
            ]
          },
          "metadata": {
            "tags": []
          },
          "execution_count": 29
        },
        {
          "output_type": "display_data",
          "data": {
            "image/png": "[encoded data removed]",
            "text/plain": [
              "<Figure size 432x288 with 1 Axes>"
            ]
          },
          "metadata": {
            "tags": [],
            "needs_background": "light"
          }
        }
      ]
    },
    {
      "cell_type": "code",
      "metadata": {
        "id": "XosLcYZFLSl3",
        "colab": {
          "base_uri": "https://localhost:8080/",
          "height": 281
        },
        "outputId": "ecd5bb15-bdc1-4f8d-e2a2-97a81dac1e1a"
      },
      "source": [
        "# plot image after applying horizontal edge filter to grayscale image\n",
        "plt.imshow(hor_edges[0])\n",
        "plt.axis('off')\n",
        "plt.title('Image after applying horizontal edge detector')"
      ],
      "execution_count": null,
      "outputs": [
        {
          "output_type": "execute_result",
          "data": {
            "text/plain": [
              "Text(0.5, 1.0, 'Image after applying horizontal edge detector')"
            ]
          },
          "metadata": {
            "tags": []
          },
          "execution_count": 30
        },
        {
          "output_type": "display_data",
          "data": {
            "image/png": "[encoded data removed]",
            "text/plain": [
              "<Figure size 432x288 with 1 Axes>"
            ]
          },
          "metadata": {
            "tags": [],
            "needs_background": "light"
          }
        }
      ]
    },
    {
      "cell_type": "code",
      "metadata": {
        "id": "iQQM2tZ29wXX"
      },
      "source": [
        "del hor_edges\n",
        "del ver_edges"
      ],
      "execution_count": null,
      "outputs": []
    },
    {
      "cell_type": "markdown",
      "metadata": {
        "id": "wvX9jLds9tpw"
      },
      "source": [
        "#### Canny"
      ]
    },
    {
      "cell_type": "code",
      "metadata": {
        "id": "XDFMPNimLU7W",
        "colab": {
          "base_uri": "https://localhost:8080/"
        },
        "outputId": "fa354373-0f80-4529-b1ff-eeae83f473de"
      },
      "source": [
        "canny_edges_for_image = []\n",
        "for image in data_gray_fig[0:10]:\n",
        "    # running this bit to get the images after canny edge detector is applied- to visualize\n",
        "    edges_sigma1 = feature.canny(image, sigma=3)\n",
        "    canny_edges_for_image.append(edges_sigma1)\n",
        "    \n",
        "len(canny_edges_for_image)"
      ],
      "execution_count": null,
      "outputs": [
        {
          "output_type": "execute_result",
          "data": {
            "text/plain": [
              "10"
            ]
          },
          "metadata": {
            "tags": []
          },
          "execution_count": 32
        }
      ]
    },
    {
      "cell_type": "code",
      "metadata": {
        "id": "cVlnK62ELXPw",
        "colab": {
          "base_uri": "https://localhost:8080/",
          "height": 281
        },
        "outputId": "fb189c73-50ba-43c6-e060-fefb804a890d"
      },
      "source": [
        "# plot image after applying canny edge detector to grayscale image\n",
        "plt.imshow(canny_edges_for_image[0])\n",
        "plt.axis('off')\n",
        "plt.title('Image after applying Canny Edge Detector')"
      ],
      "execution_count": null,
      "outputs": [
        {
          "output_type": "execute_result",
          "data": {
            "text/plain": [
              "Text(0.5, 1.0, 'Image after applying Canny Edge Detector')"
            ]
          },
          "metadata": {
            "tags": []
          },
          "execution_count": 33
        },
        {
          "output_type": "display_data",
          "data": {
            "image/png": "[encoded data removed]",
            "text/plain": [
              "<Figure size 432x288 with 1 Axes>"
            ]
          },
          "metadata": {
            "tags": [],
            "needs_background": "light"
          }
        }
      ]
    },
    {
      "cell_type": "code",
      "metadata": {
        "id": "_aakQI6hqRBB"
      },
      "source": [
        "del canny_edges_for_image"
      ],
      "execution_count": null,
      "outputs": []
    },
    {
      "cell_type": "code",
      "metadata": {
        "id": "52IG_Z6OqRSc",
        "colab": {
          "base_uri": "https://localhost:8080/"
        },
        "outputId": "a679aecd-ea92-4af3-c318-68f718d15d5c"
      },
      "source": [
        "canny_edges = []\n",
        "for image in data_gray_fig:\n",
        "    # obtain canny detector applied images\n",
        "    edges_sigma1 = feature.canny(image, sigma=3)\n",
        "    # averaging the canny edge applied image by its size to obtain a feature\n",
        "    apw = (float(np.sum(edges_sigma1)) / (image.size))\n",
        "    canny_edges.append(apw)\n",
        "    \n",
        "len(canny_edges)"
      ],
      "execution_count": null,
      "outputs": [
        {
          "output_type": "execute_result",
          "data": {
            "text/plain": [
              "1910"
            ]
          },
          "metadata": {
            "tags": []
          },
          "execution_count": 35
        }
      ]
    },
    {
      "cell_type": "markdown",
      "metadata": {
        "id": "hWmmzxW59bj0"
      },
      "source": [
        "### Entropy filter and Shannon Entropy"
      ]
    },
    {
      "cell_type": "markdown",
      "metadata": {
        "id": "N_zE5cXKcFxo"
      },
      "source": [
        "Computing entropies is an expensive task-consumes a lot of RAm, so we will demonstrate the application of an entropy filter on 10 images. We will use the Shannon entropy which is the measure of information content of the image as the feature."
      ]
    },
    {
      "cell_type": "code",
      "metadata": {
        "id": "1U0webVVLaZP",
        "colab": {
          "base_uri": "https://localhost:8080/"
        },
        "outputId": "d811b45a-2bbc-4261-ee59-b42010584d8f"
      },
      "source": [
        "#compute entropies- apply entropies filter\n",
        "entropies = []\n",
        "for image in data_gray_fig[0:10]:\n",
        "    #getting images with entropy filter applied to the images\n",
        "    e1 =entropy(image, disk(10))\n",
        "    entropies.append(e1)\n",
        "    \n",
        "len(entropies)"
      ],
      "execution_count": null,
      "outputs": [
        {
          "output_type": "stream",
          "text": [
            "/usr/local/lib/python3.6/dist-packages/skimage/filters/rank/generic.py:119: UserWarning: Possible precision loss converting image of type float32 to uint8 as required by rank filters. Convert manually using skimage.util.img_as_ubyte to silence this warning.\n",
            "  out_dtype)\n"
          ],
          "name": "stderr"
        },
        {
          "output_type": "execute_result",
          "data": {
            "text/plain": [
              "10"
            ]
          },
          "metadata": {
            "tags": []
          },
          "execution_count": 36
        }
      ]
    },
    {
      "cell_type": "code",
      "metadata": {
        "id": "wSDke4ViLajb",
        "colab": {
          "base_uri": "https://localhost:8080/",
          "height": 281
        },
        "outputId": "20bdafd9-1edf-4435-8a21-a6c14ccc2adf"
      },
      "source": [
        "# plot image after applying entropy filter to grayscale image\n",
        "plt.imshow(entropies[0])\n",
        "plt.axis('off')\n",
        "plt.title('Image after applying entropy filter')"
      ],
      "execution_count": null,
      "outputs": [
        {
          "output_type": "execute_result",
          "data": {
            "text/plain": [
              "Text(0.5, 1.0, 'Image after applying entropy filter')"
            ]
          },
          "metadata": {
            "tags": []
          },
          "execution_count": 37
        },
        {
          "output_type": "display_data",
          "data": {
            "image/png": "[encoded data removed]",
            "text/plain": [
              "<Figure size 432x288 with 1 Axes>"
            ]
          },
          "metadata": {
            "tags": [],
            "needs_background": "light"
          }
        }
      ]
    },
    {
      "cell_type": "code",
      "metadata": {
        "id": "LZPRU3YdXdma"
      },
      "source": [
        "del entropies\n",
        "#because it consumes memory"
      ],
      "execution_count": null,
      "outputs": []
    },
    {
      "cell_type": "code",
      "metadata": {
        "id": "9gcFK3LuXh8s",
        "colab": {
          "base_uri": "https://localhost:8080/"
        },
        "outputId": "4bca4320-147c-4d07-84ad-1c0e1f1cfe7b"
      },
      "source": [
        "shannon_entr = []\n",
        "for image in data_gray_fig:\n",
        "    #calculating shannon entropy (proprtional to -log(pk) where pk= probability of a pixel with intensity k)\n",
        "    shannon_e1 = shannon_entropy(image)\n",
        "    shannon_entr.append(shannon_e1)\n",
        "    \n",
        "len(shannon_entr)"
      ],
      "execution_count": null,
      "outputs": [
        {
          "output_type": "execute_result",
          "data": {
            "text/plain": [
              "1910"
            ]
          },
          "metadata": {
            "tags": []
          },
          "execution_count": 39
        }
      ]
    },
    {
      "cell_type": "code",
      "metadata": {
        "id": "73ZV3Uu8LatF"
      },
      "source": [
        "#corner detection algos\n",
        "shitomasi_corners_for_image = []\n",
        "\n",
        "for image in data_gray_fig[0:10]:\n",
        "    coords=corner_shi_tomasi(image)\n",
        "    coords_peaks = corner_peaks(corner_shi_tomasi(image), min_distance=1)\n",
        "    #coords_subpix = corner_subpix(image, coords_peaks, window_size=7)\n",
        "    shitomasi_corners_for_image.append(coords)   \n"
      ],
      "execution_count": null,
      "outputs": []
    },
    {
      "cell_type": "code",
      "metadata": {
        "id": "RgGdaNtyOkzR",
        "colab": {
          "base_uri": "https://localhost:8080/",
          "height": 281
        },
        "outputId": "c798f67c-07c7-4061-f41c-0219f54f6248"
      },
      "source": [
        "# plot image after applying corner detection algos\n",
        "plt.imshow(shitomasi_corners_for_image[0])\n",
        "plt.axis('off')\n",
        "plt.title('Image after applying Harris Corner Detector')"
      ],
      "execution_count": null,
      "outputs": [
        {
          "output_type": "execute_result",
          "data": {
            "text/plain": [
              "Text(0.5, 1.0, 'Image after applying Harris Corner Detector')"
            ]
          },
          "metadata": {
            "tags": []
          },
          "execution_count": 41
        },
        {
          "output_type": "display_data",
          "data": {
            "image/png": "[encoded data removed]",
            "text/plain": [
              "<Figure size 432x288 with 1 Axes>"
            ]
          },
          "metadata": {
            "tags": [],
            "needs_background": "light"
          }
        }
      ]
    },
    {
      "cell_type": "code",
      "metadata": {
        "id": "5oDymHHPywPg"
      },
      "source": [
        "del shitomasi_corners_for_image"
      ],
      "execution_count": null,
      "outputs": []
    },
    {
      "cell_type": "code",
      "metadata": {
        "id": "mCnXYf9FzTPR",
        "colab": {
          "base_uri": "https://localhost:8080/"
        },
        "outputId": "92022871-2822-4348-d233-177ac55bcac0"
      },
      "source": [
        "#corner detection algos\n",
        "corners_count = []\n",
        "\n",
        "for image in data_gray_fig:\n",
        "    coords=corner_shi_tomasi(image)\n",
        "    coords_peaks = corner_peaks(corner_shi_tomasi(image), min_distance=1)\n",
        "    #coords_subpix = corner_subpix(image, coords_peaks, window_size=7)\n",
        "    corners_count.append(len(coords_peaks))\n",
        "    #print(\"Number of corners detected:\",len(coords_peaks))\n",
        "    #print(coords_peaks)\n",
        "\n",
        "len(corners_count)"
      ],
      "execution_count": null,
      "outputs": [
        {
          "output_type": "execute_result",
          "data": {
            "text/plain": [
              "1910"
            ]
          },
          "metadata": {
            "tags": []
          },
          "execution_count": 43
        }
      ]
    },
    {
      "cell_type": "markdown",
      "metadata": {
        "id": "Av2w_hL79OHe"
      },
      "source": [
        "### Tubeness extraction"
      ]
    },
    {
      "cell_type": "code",
      "metadata": {
        "id": "zCcEWkf9Ok9z",
        "colab": {
          "base_uri": "https://localhost:8080/"
        },
        "outputId": "9f7d7caa-060f-411a-aca4-174eb4d47dcb"
      },
      "source": [
        "sato_res = []\n",
        "for image in data_gray_fig[0:10]:\n",
        "    #getting images with SATO tubeness filter applied to the images\n",
        "    st1 =sato(image)\n",
        "    sato_res.append(st1)\n",
        "    \n",
        "len(sato_res)"
      ],
      "execution_count": null,
      "outputs": [
        {
          "output_type": "execute_result",
          "data": {
            "text/plain": [
              "10"
            ]
          },
          "metadata": {
            "tags": []
          },
          "execution_count": 44
        }
      ]
    },
    {
      "cell_type": "code",
      "metadata": {
        "id": "3qJVPeoTeGXJ",
        "colab": {
          "base_uri": "https://localhost:8080/",
          "height": 281
        },
        "outputId": "48aa2256-8453-4030-d252-5e0270f35c03"
      },
      "source": [
        "# plot image after applying sato tube filter\n",
        "plt.imshow(sato_res[0])\n",
        "plt.axis('off')\n",
        "plt.title('Image after applying Sato Tube filter')"
      ],
      "execution_count": null,
      "outputs": [
        {
          "output_type": "execute_result",
          "data": {
            "text/plain": [
              "Text(0.5, 1.0, 'Image after applying Sato Tube filter')"
            ]
          },
          "metadata": {
            "tags": []
          },
          "execution_count": 45
        },
        {
          "output_type": "display_data",
          "data": {
            "image/png": "[encoded data removed]",
            "text/plain": [
              "<Figure size 432x288 with 1 Axes>"
            ]
          },
          "metadata": {
            "tags": [],
            "needs_background": "light"
          }
        }
      ]
    },
    {
      "cell_type": "code",
      "metadata": {
        "id": "8dj3mAR7e6r_"
      },
      "source": [
        "del sato_res"
      ],
      "execution_count": null,
      "outputs": []
    },
    {
      "cell_type": "code",
      "metadata": {
        "id": "96mABbS-qdwa",
        "colab": {
          "base_uri": "https://localhost:8080/"
        },
        "outputId": "14de7bf5-6efe-4733-f7e2-1ade95977b7c"
      },
      "source": [
        "sato_res_avg = []\n",
        "for image in data_gray_fig:\n",
        "    #getting images with SATO tubeness filter applied to the images\n",
        "    st1 =sato(image)\n",
        "    # averaging the tubeness by its size to obtain a feature\n",
        "    at = (float(np.sum(st1)) / (image.size))\n",
        "    sato_res_avg.append(at)\n",
        "    \n",
        "len(sato_res_avg)"
      ],
      "execution_count": null,
      "outputs": [
        {
          "output_type": "execute_result",
          "data": {
            "text/plain": [
              "1910"
            ]
          },
          "metadata": {
            "tags": []
          },
          "execution_count": 51
        }
      ]
    },
    {
      "cell_type": "markdown",
      "metadata": {
        "id": "FhZl_cjM9WVE"
      },
      "source": [
        "### Means and Standard Deviations"
      ]
    },
    {
      "cell_type": "code",
      "metadata": {
        "id": "51tc1Qat-wfD",
        "colab": {
          "base_uri": "https://localhost:8080/"
        },
        "outputId": "b6c0c7e6-d1e6-4e0c-bf35-cec867efdc7d"
      },
      "source": [
        "means_image = []\n",
        "for image in data_gray_fig:\n",
        "    #image means\n",
        "    avg1 = image.mean()\n",
        "    means_image.append(avg1)\n",
        "    \n",
        "len(means_image)"
      ],
      "execution_count": null,
      "outputs": [
        {
          "output_type": "execute_result",
          "data": {
            "text/plain": [
              "1910"
            ]
          },
          "metadata": {
            "tags": []
          },
          "execution_count": 49
        }
      ]
    },
    {
      "cell_type": "code",
      "metadata": {
        "id": "R4c__Kfx_Dx7",
        "colab": {
          "base_uri": "https://localhost:8080/"
        },
        "outputId": "7730e84c-0c3e-4c01-e4ec-7fd3cfa5151e"
      },
      "source": [
        "stdevs_image = []\n",
        "for image in data_gray_fig:\n",
        "    #image st deviations\n",
        "    std1 = image.std()\n",
        "    stdevs_image.append(std1)\n",
        "    \n",
        "len(stdevs_image)"
      ],
      "execution_count": null,
      "outputs": [
        {
          "output_type": "execute_result",
          "data": {
            "text/plain": [
              "1910"
            ]
          },
          "metadata": {
            "tags": []
          },
          "execution_count": 50
        }
      ]
    },
    {
      "cell_type": "markdown",
      "metadata": {
        "id": "UsDZEczm9Jou"
      },
      "source": [
        "### HOG transformation"
      ]
    },
    {
      "cell_type": "code",
      "metadata": {
        "id": "QPcFp4mhI6fV"
      },
      "source": [
        "# apply HOG (Histogram of Oriented Gradient) transformation\n",
        "ppc = 8\n",
        "#hog_images = []\n",
        "hog_features = []\n",
        "for image in data_gray_fig:\n",
        "    # extracting hog transformed feature arrays\n",
        "    fd = hog(image, orientations=10, pixels_per_cell=(ppc,ppc),cells_per_block=(2, 2),block_norm= 'L2-Hys',visualize=False)\n",
        "    #fd,hog_image = hog(image, orientations=10, pixels_per_cell=(ppc,ppc),cells_per_block=(2, 2),block_norm= 'L2-Hys',visualize=True)\n",
        "    #print(fd)\n",
        "    #hog_images.append(hog_image)\n",
        "    hog_features.append(fd)"
      ],
      "execution_count": null,
      "outputs": []
    },
    {
      "cell_type": "code",
      "metadata": {
        "id": "fGWBp821LMqW"
      },
      "source": [
        "# to view this uncomment the hog images line in the above snippet, change to (visualize=True) and then use the hog_images array to view a sample output\n",
        "# Please run this for a few images only by indexing: data_gray_fig[0:5] in the above snippet as it is a resource and time intensive process\n",
        "# plot image after applying HOG filter to grayscale image\n",
        "# plt.imshow(hog_images[0])\n",
        "# plt.axis('off')\n",
        "# plt.title('Image after applying HOG filter')"
      ],
      "execution_count": null,
      "outputs": []
    },
    {
      "cell_type": "code",
      "metadata": {
        "id": "_BtxPtaGPogr",
        "colab": {
          "base_uri": "https://localhost:8080/"
        },
        "outputId": "f539aeca-2371-46e3-87b0-02f83e6dd710"
      },
      "source": [
        "hog_features_length_transformed=[]\n",
        "count=1\n",
        "for i in range(len(np.array(hog_features))):\n",
        "  max_length=148840\n",
        "  if len(hog_features[i]) != max_length:\n",
        "    append_width= int((max_length-len(hog_features[i]))/2)\n",
        "    print(hog_features[i])\n",
        "    print(\"transforming image at position:\",i)\n",
        "    print(\"No. of images transformed:\",count)\n",
        "    count=count+1\n",
        "    transformed_hf_i= np.pad(hog_features[i], (append_width, append_width), 'constant', constant_values=(0, 0))\n",
        "    print(\"Converted from length:\",len(hog_features[i]),\"to length:\",len(transformed_hf_i))\n",
        "    print(transformed_hf_i)\n",
        "    hog_features_length_transformed.append(transformed_hf_i)\n",
        "  else:\n",
        "    #print(\"original Length:\",len(hog_features[i]))\n",
        "    #print(\"No need of padding\")\n",
        "    hog_features_length_transformed.append(hog_features[i])"
      ],
      "execution_count": null,
      "outputs": [
        {
          "output_type": "stream",
          "text": [
            "[0. 0. 0. ... 0. 0. 0.]\n",
            "transforming image at position: 175\n",
            "No. of images transformed: 1\n",
            "Converted from length: 36000 to length: 148840\n",
            "[0. 0. 0. ... 0. 0. 0.]\n",
            "[0. 0. 0. ... 0. 0. 0.]\n",
            "transforming image at position: 176\n",
            "No. of images transformed: 2\n",
            "Converted from length: 36000 to length: 148840\n",
            "[0. 0. 0. ... 0. 0. 0.]\n",
            "[0. 0. 0. ... 0. 0. 0.]\n",
            "transforming image at position: 686\n",
            "No. of images transformed: 3\n",
            "Converted from length: 36000 to length: 148840\n",
            "[0. 0. 0. ... 0. 0. 0.]\n",
            "[0. 0. 0. ... 0. 0. 0.]\n",
            "transforming image at position: 701\n",
            "No. of images transformed: 4\n",
            "Converted from length: 36000 to length: 148840\n",
            "[0. 0. 0. ... 0. 0. 0.]\n",
            "[0. 0. 0. ... 0. 0. 0.]\n",
            "transforming image at position: 1483\n",
            "No. of images transformed: 5\n",
            "Converted from length: 36000 to length: 148840\n",
            "[0. 0. 0. ... 0. 0. 0.]\n",
            "[0. 0. 0. ... 0. 0. 0.]\n",
            "transforming image at position: 1490\n",
            "No. of images transformed: 6\n",
            "Converted from length: 36000 to length: 148840\n",
            "[0. 0. 0. ... 0. 0. 0.]\n"
          ],
          "name": "stdout"
        },
        {
          "output_type": "stream",
          "text": [
            "/usr/local/lib/python3.6/dist-packages/ipykernel_launcher.py:3: VisibleDeprecationWarning: Creating an ndarray from ragged nested sequences (which is a list-or-tuple of lists-or-tuples-or ndarrays with different lengths or shapes) is deprecated. If you meant to do this, you must specify 'dtype=object' when creating the ndarray\n",
            "  This is separate from the ipykernel package so we can avoid doing imports until\n"
          ],
          "name": "stderr"
        }
      ]
    },
    {
      "cell_type": "code",
      "metadata": {
        "id": "a_SQRA9unCwR"
      },
      "source": [
        "del hog_features"
      ],
      "execution_count": null,
      "outputs": []
    },
    {
      "cell_type": "markdown",
      "metadata": {
        "id": "S3AaS9eW92TS"
      },
      "source": [
        "#### PCA to reduce dimensionality"
      ]
    },
    {
      "cell_type": "code",
      "metadata": {
        "id": "1HvaGD0fU63k"
      },
      "source": [
        "from sklearn.decomposition import IncrementalPCA\n",
        "\n",
        "n_batches = 100\n",
        "n_components=10\n",
        "m,n=np.array(hog_features_length_transformed).shape\n",
        "\n",
        "ipca = IncrementalPCA(copy=False,\n",
        "    n_components=n_components,\n",
        "    batch_size=10)"
      ],
      "execution_count": null,
      "outputs": []
    },
    {
      "cell_type": "code",
      "metadata": {
        "id": "ywPH9ZiwKk-J"
      },
      "source": [
        "#ipca.fit(np.array(hog_features_length_transformed))\n",
        "#PCA_hog_components = ipca.components_\n",
        "#print(PCA_hog_components) # 10 components ## shape= (10,148840)\n",
        "\n",
        "# takes a lot of memory--let us try with partial_fit"
      ],
      "execution_count": null,
      "outputs": []
    },
    {
      "cell_type": "code",
      "metadata": {
        "id": "soY184HmKWfc",
        "colab": {
          "base_uri": "https://localhost:8080/"
        },
        "outputId": "2d715555-bf1c-442c-e1eb-0754dd626fd1"
      },
      "source": [
        "hog_data=np.array(hog_features_length_transformed)\n",
        "num_rows = hog_data.shape[0]     # total number of rows in data\n",
        "chunk_size = 191             # how many rows at a time to feed ipca (divisor of num_rows)\n",
        "\n",
        "for i in range(0, num_rows//chunk_size):\n",
        "  print(i)\n",
        "  ipca.partial_fit(hog_data[i*chunk_size : (i+1)*chunk_size])"
      ],
      "execution_count": null,
      "outputs": [
        {
          "output_type": "stream",
          "text": [
            "0\n",
            "1\n",
            "2\n",
            "3\n",
            "4\n",
            "5\n",
            "6\n",
            "7\n",
            "8\n",
            "9\n"
          ],
          "name": "stdout"
        }
      ]
    },
    {
      "cell_type": "code",
      "metadata": {
        "id": "7pPabZxy7BHW",
        "colab": {
          "base_uri": "https://localhost:8080/"
        },
        "outputId": "2f32d062-8b65-45e4-b164-4a59dbafd56d"
      },
      "source": [
        "# hog_pca = pca.fit_transform(np.array(hog_features_length_transformed)) #do this if it fits your memory\n",
        "# doing this as it is less memory intensive\n",
        "out = [] # shape N x 2\n",
        "for i in range(0, num_rows//chunk_size):\n",
        "  print(i)\n",
        "  out[i*chunk_size:(i+1) * chunk_size] = ipca.transform(hog_data[i*chunk_size : (i+1)*chunk_size])"
      ],
      "execution_count": null,
      "outputs": [
        {
          "output_type": "stream",
          "text": [
            "0\n",
            "1\n",
            "2\n",
            "3\n",
            "4\n",
            "5\n",
            "6\n",
            "7\n",
            "8\n",
            "9\n"
          ],
          "name": "stdout"
        }
      ]
    },
    {
      "cell_type": "code",
      "metadata": {
        "id": "gv3xrRlFfyh1",
        "colab": {
          "base_uri": "https://localhost:8080/",
          "height": 638
        },
        "outputId": "eda19eaa-95cc-4b49-8a31-db9b1d55938b"
      },
      "source": [
        "fig=plt.figure(figsize=(10,10))\n",
        "plt.plot(np.cumsum(ipca.explained_variance_ratio_))\n",
        "plt.xlabel('number of components')\n",
        "plt.ylabel('cumulative explained variance ratio')\n",
        "plt.title(\"Explained Variance ratio by 10 principal components from HOG descriptors\")"
      ],
      "execution_count": null,
      "outputs": [
        {
          "output_type": "execute_result",
          "data": {
            "text/plain": [
              "Text(0.5, 1.0, 'Explained Variance ratio by 10 principal components from HOG descriptors')"
            ]
          },
          "metadata": {
            "tags": []
          },
          "execution_count": 58
        },
        {
          "output_type": "display_data",
          "data": {
            "image/png": "[encoded data removed]",
            "text/plain": [
              "<Figure size 720x720 with 1 Axes>"
            ]
          },
          "metadata": {
            "tags": [],
            "needs_background": "light"
          }
        }
      ]
    },
    {
      "cell_type": "code",
      "metadata": {
        "id": "RotLAntwOft5"
      },
      "source": [
        "del hog_features_length_transformed"
      ],
      "execution_count": null,
      "outputs": []
    },
    {
      "cell_type": "code",
      "metadata": {
        "id": "3ngOJ_hJ9A6b",
        "colab": {
          "base_uri": "https://localhost:8080/"
        },
        "outputId": "d82f7760-d975-424a-9479-2ba95dd5e2e2"
      },
      "source": [
        "np.array(out)"
      ],
      "execution_count": null,
      "outputs": [
        {
          "output_type": "execute_result",
          "data": {
            "text/plain": [
              "array([[-10.42912086,  -8.12855225, -11.24710132, ...,   1.37574807,\n",
              "          0.40726626,  -0.60185678],\n",
              "       [  3.12410328,  -4.37031118,  -2.7787185 , ...,  -1.89114175,\n",
              "          1.99175655,   0.36574973],\n",
              "       [ -8.71571487,  -3.49761328,   7.0458604 , ...,   3.00325295,\n",
              "          4.80283204,  -3.75090459],\n",
              "       ...,\n",
              "       [  0.24194752, -17.58809701,  -6.54003408, ...,   2.93597003,\n",
              "          2.72279282,   2.14519183],\n",
              "       [ -1.01463225, -12.4377407 ,  -3.91710952, ...,   4.44519313,\n",
              "          2.38080132,   1.42344014],\n",
              "       [ -8.21235098, -14.29156182,  -9.77305056, ...,  -0.64229186,\n",
              "          2.75367312,   0.62403504]])"
            ]
          },
          "metadata": {
            "tags": []
          },
          "execution_count": 60
        }
      ]
    },
    {
      "cell_type": "markdown",
      "metadata": {
        "id": "RVfRcJ4e98fg"
      },
      "source": [
        "### Feature Space\n",
        "\n",
        "Here we stack features and prepare the dataset for the classification algorithms."
      ]
    },
    {
      "cell_type": "code",
      "metadata": {
        "id": "SAUkWxxsezqW"
      },
      "source": [
        "#changing data type and structure to meet dimension requirements for the model\n",
        "shannon_entr=np.array(shannon_entr).reshape(len(shannon_entr),1)\n",
        "canny_edges=np.array(canny_edges).reshape(len(canny_edges),1)\n",
        "sato_res_avg=np.array(sato_res_avg).reshape(len(sato_res_avg),1)\n",
        "corners_count=np.array(corners_count).reshape(len(corners_count),1)\n",
        "means_image=np.array(means_image).reshape(len(means_image),1)\n",
        "stdevs_image=np.array(stdevs_image).reshape(len(stdevs_image),1)\n",
        "hog_pcs=np.array(out)"
      ],
      "execution_count": null,
      "outputs": []
    },
    {
      "cell_type": "code",
      "metadata": {
        "id": "Bc7dCMqeq9Au",
        "colab": {
          "base_uri": "https://localhost:8080/"
        },
        "outputId": "c76b90d5-8c98-43b1-b2d7-d8622189314d"
      },
      "source": [
        "# reshaping labels to meet dimension requirements\n",
        "labels=labels.reshape(len(labels),1)\n",
        "labels"
      ],
      "execution_count": null,
      "outputs": [
        {
          "output_type": "execute_result",
          "data": {
            "text/plain": [
              "array([[0],\n",
              "       [0],\n",
              "       [0],\n",
              "       ...,\n",
              "       [5],\n",
              "       [5],\n",
              "       [5]])"
            ]
          },
          "metadata": {
            "tags": []
          },
          "execution_count": 62
        }
      ]
    },
    {
      "cell_type": "code",
      "metadata": {
        "id": "YsELLa_8joHT",
        "colab": {
          "base_uri": "https://localhost:8080/"
        },
        "outputId": "06099bd7-4afa-446f-943b-515b891c83e3"
      },
      "source": [
        "# reshaping part_ids to meet dimension requirements\n",
        "train_part_ids=train_part_ids.reshape(len(train_part_ids),1)\n",
        "train_part_ids"
      ],
      "execution_count": null,
      "outputs": [
        {
          "output_type": "execute_result",
          "data": {
            "text/plain": [
              "array([['2343'],\n",
              "       ['30089a'],\n",
              "       ['30162'],\n",
              "       ...,\n",
              "       ['32206'],\n",
              "       ['32218'],\n",
              "       ['32230']], dtype=object)"
            ]
          },
          "metadata": {
            "tags": []
          },
          "execution_count": 63
        }
      ]
    },
    {
      "cell_type": "code",
      "metadata": {
        "id": "6bp0PGdarSk1",
        "colab": {
          "base_uri": "https://localhost:8080/"
        },
        "outputId": "7950e2ea-668b-44e8-a6e4-96f84647ac5d"
      },
      "source": [
        "# stacking feature sets\n",
        "\n",
        "features= np.hstack((shannon_entr,canny_edges,sato_res_avg,corners_count,means_image,stdevs_image,hog_pcs))\n",
        "features.shape"
      ],
      "execution_count": null,
      "outputs": [
        {
          "output_type": "execute_result",
          "data": {
            "text/plain": [
              "(1910, 16)"
            ]
          },
          "metadata": {
            "tags": []
          },
          "execution_count": 64
        }
      ]
    },
    {
      "cell_type": "code",
      "metadata": {
        "id": "c4dJztPbrh64",
        "colab": {
          "base_uri": "https://localhost:8080/"
        },
        "outputId": "94450787-36e1-41a8-a278-e3c0cdfab302"
      },
      "source": [
        "# creating a data structure with both features and lables\n",
        "data_frame = np.hstack((features,labels,train_part_ids))\n",
        "data_frame"
      ],
      "execution_count": null,
      "outputs": [
        {
          "output_type": "execute_result",
          "data": {
            "text/plain": [
              "array([[2.892348216782081, 0.006444, 0.02011559771846629, ...,\n",
              "        -0.6018567798296284, 0, '2343'],\n",
              "       [4.2142486057007655, 0.007512, 0.023451516363921527, ...,\n",
              "        0.3657497266406885, 0, '30089a'],\n",
              "       [3.6315198083955993, 0.0073, 0.022321677826889243, ...,\n",
              "        -3.750904589184502, 0, '30162'],\n",
              "       ...,\n",
              "       [1.7732348491426664, 0.0073, 0.019773979188455224, ...,\n",
              "        2.1451918286469036, 5, '32206'],\n",
              "       [2.75286035053871, 0.009408, 0.026938831752844037, ...,\n",
              "        1.4234401418114049, 5, '32218'],\n",
              "       [1.527288199992429, 0.006768, 0.017612865299353513, ...,\n",
              "        0.6240350364774246, 5, '32230']], dtype=object)"
            ]
          },
          "metadata": {
            "tags": []
          },
          "execution_count": 65
        }
      ]
    },
    {
      "cell_type": "code",
      "metadata": {
        "id": "nmqE30pKrh-h"
      },
      "source": [
        "Xs=data_frame[:,:-2]\n",
        "Ys=data_frame[:,-2:-1].ravel().astype(int)\n",
        "IDs=data_frame[:,-1:].ravel()\n",
        "Ys"
      ],
      "execution_count": null,
      "outputs": []
    },
    {
      "cell_type": "markdown",
      "metadata": {
        "id": "UZyZ812i-JEm"
      },
      "source": [
        "## Classification"
      ]
    },
    {
      "cell_type": "markdown",
      "metadata": {
        "id": "4uejuZj8-Lhj"
      },
      "source": [
        "### Baseline SVM"
      ]
    },
    {
      "cell_type": "code",
      "metadata": {
        "id": "kN2SouEIBD5Y"
      },
      "source": [
        "from sklearn.preprocessing import label_binarize\n",
        "Y = label_binarize(Ys, classes=[0, 1, 2,3,4,5])\n",
        "n_classes = Y.shape[1]\n",
        "\n",
        "from sklearn.preprocessing import StandardScaler\n",
        "# We use OneVsRestClassifier for multi-label prediction\n",
        "from sklearn.multiclass import OneVsRestClassifier\n",
        "from sklearn.pipeline import make_pipeline\n",
        "\n",
        "clf = make_pipeline(StandardScaler(),\n",
        "                    OneVsRestClassifier(svm.LinearSVC(random_state=0, tol=1e-6,max_iter=8000,class_weight=\"balanced\",dual=False)))\n",
        "\n",
        "clf.fit(Xs,Ys)\n",
        "y_score = clf.decision_function(Xs)"
      ],
      "execution_count": null,
      "outputs": []
    },
    {
      "cell_type": "code",
      "metadata": {
        "id": "jr0o1TNrIAs7"
      },
      "source": [
        "y_preds=clf.predict(Xs)\n",
        "y_preds"
      ],
      "execution_count": null,
      "outputs": []
    },
    {
      "cell_type": "code",
      "metadata": {
        "id": "kYn77URYriEV"
      },
      "source": [
        "from sklearn.metrics import average_precision_score\n",
        "from sklearn.metrics import precision_recall_curve\n",
        "\n",
        "# For each class\n",
        "precision = dict()\n",
        "recall = dict()\n",
        "average_precision = dict()\n",
        "for i in range(n_classes):\n",
        "    precision[i], recall[i], _ = precision_recall_curve(Y[:, i],\n",
        "                                                        y_score[:, i])\n",
        "    average_precision[i] = average_precision_score(Y[:, i], y_score[:, i])\n",
        "\n",
        "# A \"micro-average\": quantifying score on all classes jointly\n",
        "precision[\"micro\"], recall[\"micro\"], _ = precision_recall_curve(Y.ravel(),\n",
        "    y_score.ravel())\n",
        "average_precision[\"micro\"] = average_precision_score(Y, y_score,\n",
        "                                                     average=\"micro\")\n",
        "print('Average precision score, micro-averaged over all classes: {0:0.2f}'\n",
        "      .format(average_precision[\"micro\"]))"
      ],
      "execution_count": null,
      "outputs": []
    },
    {
      "cell_type": "code",
      "metadata": {
        "id": "voUirbFcEwzY"
      },
      "source": [
        "plt.step(recall['micro'], precision['micro'], where='post')\n",
        "\n",
        "plt.xlabel('Recall')\n",
        "plt.ylabel('Precision')\n",
        "plt.ylim([0.0, 1.05])\n",
        "plt.xlim([0.0, 1.0])\n",
        "plt.title(\n",
        "    'Average precision score, micro-averaged over all classes: AP={0:0.2f}'\n",
        "    .format(average_precision[\"micro\"]))"
      ],
      "execution_count": null,
      "outputs": []
    },
    {
      "cell_type": "code",
      "metadata": {
        "id": "JmhTSurXFB8M"
      },
      "source": [
        "from itertools import cycle\n",
        "# setup plot details\n",
        "colors = cycle(['navy', 'black', 'darkorange', 'red', 'teal','green'])\n",
        "\n",
        "plt.figure(figsize=(7, 8))\n",
        "f_scores = np.linspace(0.2, 0.8, num=4)\n",
        "lines = []\n",
        "labels = []\n",
        "for f_score in f_scores:\n",
        "    x = np.linspace(0.01, 1)\n",
        "    y = f_score * x / (2 * x - f_score)\n",
        "    l, = plt.plot(x[y >= 0], y[y >= 0], color='gray', alpha=0.2)\n",
        "    plt.annotate('f1={0:0.1f}'.format(f_score), xy=(0.9, y[45] + 0.02))\n",
        "\n",
        "lines.append(l)\n",
        "labels.append('iso-f1 curves')\n",
        "l, = plt.plot(recall[\"micro\"], precision[\"micro\"], color='gold', lw=2)\n",
        "lines.append(l)\n",
        "labels.append('micro-average Precision-recall (area = {0:0.2f})'\n",
        "              ''.format(average_precision[\"micro\"]))\n",
        "\n",
        "for i, color in zip(range(n_classes), colors):\n",
        "    l, = plt.plot(recall[i], precision[i], color=color, lw=2)\n",
        "    lines.append(l)\n",
        "    labels.append('Precision-recall for class {0} (area = {1:0.2f})'\n",
        "                  ''.format(i, average_precision[i]))\n",
        "\n",
        "fig = plt.gcf()\n",
        "fig.subplots_adjust(bottom=0.25)\n",
        "plt.xlim([0.0, 1.0])\n",
        "plt.ylim([0.0, 1.05])\n",
        "plt.xlabel('Recall')\n",
        "plt.ylabel('Precision')\n",
        "plt.title('Extension of Precision-Recall curve to multi-class')\n",
        "plt.legend(lines, labels, loc=(0, -.58), prop=dict(size=14))\n",
        "\n",
        "\n",
        "plt.show()"
      ],
      "execution_count": null,
      "outputs": []
    },
    {
      "cell_type": "code",
      "metadata": {
        "id": "skvZnprbG41O"
      },
      "source": [
        "accuracy_score(Ys, y_preds)"
      ],
      "execution_count": null,
      "outputs": []
    },
    {
      "cell_type": "markdown",
      "metadata": {
        "id": "kXbVCZJw-Ujm"
      },
      "source": [
        "### LGBM"
      ]
    },
    {
      "cell_type": "code",
      "metadata": {
        "id": "1XkN6a--OqjU"
      },
      "source": [
        "#shuffling data\n",
        "np.random.seed(1000)  \n",
        "np.random.shuffle(data_frame)"
      ],
      "execution_count": null,
      "outputs": []
    },
    {
      "cell_type": "code",
      "metadata": {
        "id": "gR7dkhwULsHR",
        "colab": {
          "base_uri": "https://localhost:8080/",
          "height": 416
        },
        "outputId": "0275ea6f-1d12-4052-801b-1fbe4747e76e"
      },
      "source": [
        "# create a dataframe\n",
        "df= pd.DataFrame(data_frame)\n",
        "df=df.rename(columns={0: \"SE\", 1: \"CE\", 2: \"Sato\",3:\"Corners\",4:\"Means\",5:\"SD\",\n",
        "                    6:\"HOG_PC1\",7:\"HOG_PC2\",8:\"HOG_PC3\",9:\"HOG_PC4\",10:\"HOG_PC5\",11:\"HOG_PC6\",12:\"HOG_PC7\",13:\"HOG_PC8\",14:\"HOG_PC9\",15:\"HOG_PC10\",\n",
        "                    16:\"Cat\",17:\"Part_num\"}, errors=\"raise\")\n",
        "# #To modify the float to int do this:\n",
        "df.Cat = df.Cat.astype(int)\n",
        "df"
      ],
      "execution_count": null,
      "outputs": [
        {
          "output_type": "execute_result",
          "data": {
            "text/html": [
              "<div>\n",
              "<style scoped>\n",
              "    .dataframe tbody tr th:only-of-type {\n",
              "        vertical-align: middle;\n",
              "    }\n",
              "\n",
              "    .dataframe tbody tr th {\n",
              "        vertical-align: top;\n",
              "    }\n",
              "\n",
              "    .dataframe thead th {\n",
              "        text-align: right;\n",
              "    }\n",
              "</style>\n",
              "<table border=\"1\" class=\"dataframe\">\n",
              "  <thead>\n",
              "    <tr style=\"text-align: right;\">\n",
              "      <th></th>\n",
              "      <th>SE</th>\n",
              "      <th>CE</th>\n",
              "      <th>Sato</th>\n",
              "      <th>Corners</th>\n",
              "      <th>Means</th>\n",
              "      <th>SD</th>\n",
              "      <th>HOG_PC1</th>\n",
              "      <th>HOG_PC2</th>\n",
              "      <th>HOG_PC3</th>\n",
              "      <th>HOG_PC4</th>\n",
              "      <th>HOG_PC5</th>\n",
              "      <th>HOG_PC6</th>\n",
              "      <th>HOG_PC7</th>\n",
              "      <th>HOG_PC8</th>\n",
              "      <th>HOG_PC9</th>\n",
              "      <th>HOG_PC10</th>\n",
              "      <th>Cat</th>\n",
              "      <th>Part_num</th>\n",
              "    </tr>\n",
              "  </thead>\n",
              "  <tbody>\n",
              "    <tr>\n",
              "      <th>0</th>\n",
              "      <td>3.73083</td>\n",
              "      <td>0.007608</td>\n",
              "      <td>0.0212412</td>\n",
              "      <td>42</td>\n",
              "      <td>0.616249</td>\n",
              "      <td>0.434553</td>\n",
              "      <td>-11.3124</td>\n",
              "      <td>-7.55193</td>\n",
              "      <td>0.400497</td>\n",
              "      <td>0.89131</td>\n",
              "      <td>3.26025</td>\n",
              "      <td>-1.75736</td>\n",
              "      <td>5.61226</td>\n",
              "      <td>-0.617447</td>\n",
              "      <td>0.617013</td>\n",
              "      <td>3.08984</td>\n",
              "      <td>5</td>\n",
              "      <td>87574</td>\n",
              "    </tr>\n",
              "    <tr>\n",
              "      <th>1</th>\n",
              "      <td>3.69056</td>\n",
              "      <td>0.006456</td>\n",
              "      <td>0.0212878</td>\n",
              "      <td>10</td>\n",
              "      <td>0.60655</td>\n",
              "      <td>0.441289</td>\n",
              "      <td>-12.4212</td>\n",
              "      <td>-8.00456</td>\n",
              "      <td>0.781029</td>\n",
              "      <td>-4.98909</td>\n",
              "      <td>4.12235</td>\n",
              "      <td>-1.70232</td>\n",
              "      <td>5.98245</td>\n",
              "      <td>1.07421</td>\n",
              "      <td>1.22733</td>\n",
              "      <td>2.00931</td>\n",
              "      <td>1</td>\n",
              "      <td>2341</td>\n",
              "    </tr>\n",
              "    <tr>\n",
              "      <th>2</th>\n",
              "      <td>4.30674</td>\n",
              "      <td>0.006408</td>\n",
              "      <td>0.0229142</td>\n",
              "      <td>14</td>\n",
              "      <td>0.534291</td>\n",
              "      <td>0.452698</td>\n",
              "      <td>1.71341</td>\n",
              "      <td>-0.976002</td>\n",
              "      <td>-9.23265</td>\n",
              "      <td>-3.04385</td>\n",
              "      <td>-1.62646</td>\n",
              "      <td>-2.43195</td>\n",
              "      <td>6.56708</td>\n",
              "      <td>-2.7994</td>\n",
              "      <td>3.05266</td>\n",
              "      <td>-0.512204</td>\n",
              "      <td>5</td>\n",
              "      <td>57519</td>\n",
              "    </tr>\n",
              "    <tr>\n",
              "      <th>3</th>\n",
              "      <td>2.42216</td>\n",
              "      <td>0.007208</td>\n",
              "      <td>0.020335</td>\n",
              "      <td>42</td>\n",
              "      <td>0.780075</td>\n",
              "      <td>0.384513</td>\n",
              "      <td>-11.0067</td>\n",
              "      <td>-11.6329</td>\n",
              "      <td>-1.59876</td>\n",
              "      <td>-1.01529</td>\n",
              "      <td>3.14774</td>\n",
              "      <td>-2.20887</td>\n",
              "      <td>4.17535</td>\n",
              "      <td>1.83186</td>\n",
              "      <td>0.223578</td>\n",
              "      <td>1.60435</td>\n",
              "      <td>0</td>\n",
              "      <td>50858</td>\n",
              "    </tr>\n",
              "    <tr>\n",
              "      <th>4</th>\n",
              "      <td>3.31559</td>\n",
              "      <td>0.017108</td>\n",
              "      <td>0.0325029</td>\n",
              "      <td>25</td>\n",
              "      <td>0.688927</td>\n",
              "      <td>0.383468</td>\n",
              "      <td>-1.54133</td>\n",
              "      <td>-9.25881</td>\n",
              "      <td>-2.57287</td>\n",
              "      <td>1.23733</td>\n",
              "      <td>4.74647</td>\n",
              "      <td>0.758134</td>\n",
              "      <td>5.68451</td>\n",
              "      <td>4.56966</td>\n",
              "      <td>7.31306</td>\n",
              "      <td>-0.0792502</td>\n",
              "      <td>2</td>\n",
              "      <td>3070bp60</td>\n",
              "    </tr>\n",
              "    <tr>\n",
              "      <th>...</th>\n",
              "      <td>...</td>\n",
              "      <td>...</td>\n",
              "      <td>...</td>\n",
              "      <td>...</td>\n",
              "      <td>...</td>\n",
              "      <td>...</td>\n",
              "      <td>...</td>\n",
              "      <td>...</td>\n",
              "      <td>...</td>\n",
              "      <td>...</td>\n",
              "      <td>...</td>\n",
              "      <td>...</td>\n",
              "      <td>...</td>\n",
              "      <td>...</td>\n",
              "      <td>...</td>\n",
              "      <td>...</td>\n",
              "      <td>...</td>\n",
              "      <td>...</td>\n",
              "    </tr>\n",
              "    <tr>\n",
              "      <th>1905</th>\n",
              "      <td>3.37691</td>\n",
              "      <td>0.008824</td>\n",
              "      <td>0.0245071</td>\n",
              "      <td>10</td>\n",
              "      <td>0.651019</td>\n",
              "      <td>0.427713</td>\n",
              "      <td>-7.2323</td>\n",
              "      <td>-8.6152</td>\n",
              "      <td>-8.76188</td>\n",
              "      <td>3.52829</td>\n",
              "      <td>-1.45019</td>\n",
              "      <td>-0.451143</td>\n",
              "      <td>6.55533</td>\n",
              "      <td>2.32609</td>\n",
              "      <td>0.072211</td>\n",
              "      <td>-1.27333</td>\n",
              "      <td>0</td>\n",
              "      <td>3896</td>\n",
              "    </tr>\n",
              "    <tr>\n",
              "      <th>1906</th>\n",
              "      <td>2.7964</td>\n",
              "      <td>0.009268</td>\n",
              "      <td>0.0291141</td>\n",
              "      <td>43</td>\n",
              "      <td>0.687572</td>\n",
              "      <td>0.423839</td>\n",
              "      <td>-6.03082</td>\n",
              "      <td>-9.23383</td>\n",
              "      <td>-9.46177</td>\n",
              "      <td>0.762313</td>\n",
              "      <td>0.0334389</td>\n",
              "      <td>1.04003</td>\n",
              "      <td>5.38718</td>\n",
              "      <td>-1.36026</td>\n",
              "      <td>0.34707</td>\n",
              "      <td>1.58839</td>\n",
              "      <td>0</td>\n",
              "      <td>64272</td>\n",
              "    </tr>\n",
              "    <tr>\n",
              "      <th>1907</th>\n",
              "      <td>1.84829</td>\n",
              "      <td>0.005588</td>\n",
              "      <td>0.0176242</td>\n",
              "      <td>29</td>\n",
              "      <td>0.830921</td>\n",
              "      <td>0.35048</td>\n",
              "      <td>-11.4563</td>\n",
              "      <td>-13.3027</td>\n",
              "      <td>-8.74444</td>\n",
              "      <td>2.6733</td>\n",
              "      <td>0.0179385</td>\n",
              "      <td>1.73077</td>\n",
              "      <td>6.17408</td>\n",
              "      <td>-3.97995</td>\n",
              "      <td>1.0689</td>\n",
              "      <td>2.10401</td>\n",
              "      <td>0</td>\n",
              "      <td>19220</td>\n",
              "    </tr>\n",
              "    <tr>\n",
              "      <th>1908</th>\n",
              "      <td>3.9043</td>\n",
              "      <td>0.00798</td>\n",
              "      <td>0.023526</td>\n",
              "      <td>16</td>\n",
              "      <td>0.611491</td>\n",
              "      <td>0.433773</td>\n",
              "      <td>-13.3737</td>\n",
              "      <td>-10.6899</td>\n",
              "      <td>0.705179</td>\n",
              "      <td>2.56917</td>\n",
              "      <td>4.79464</td>\n",
              "      <td>2.58175</td>\n",
              "      <td>-0.793997</td>\n",
              "      <td>-0.410707</td>\n",
              "      <td>0.163518</td>\n",
              "      <td>2.16932</td>\n",
              "      <td>1</td>\n",
              "      <td>4085c</td>\n",
              "    </tr>\n",
              "    <tr>\n",
              "      <th>1909</th>\n",
              "      <td>4.04963</td>\n",
              "      <td>0.00808</td>\n",
              "      <td>0.023742</td>\n",
              "      <td>313</td>\n",
              "      <td>0.56562</td>\n",
              "      <td>0.427496</td>\n",
              "      <td>1.10552</td>\n",
              "      <td>-6.49353</td>\n",
              "      <td>-4.98611</td>\n",
              "      <td>2.41106</td>\n",
              "      <td>6.44768</td>\n",
              "      <td>-3.67348</td>\n",
              "      <td>-2.11031</td>\n",
              "      <td>3.75281</td>\n",
              "      <td>4.26177</td>\n",
              "      <td>1.2029</td>\n",
              "      <td>5</td>\n",
              "      <td>2582</td>\n",
              "    </tr>\n",
              "  </tbody>\n",
              "</table>\n",
              "<p>1910 rows × 18 columns</p>\n",
              "</div>"
            ],
            "text/plain": [
              "           SE        CE       Sato Corners  ...   HOG_PC9   HOG_PC10 Cat  Part_num\n",
              "0     3.73083  0.007608  0.0212412      42  ...  0.617013    3.08984   5     87574\n",
              "1     3.69056  0.006456  0.0212878      10  ...   1.22733    2.00931   1      2341\n",
              "2     4.30674  0.006408  0.0229142      14  ...   3.05266  -0.512204   5     57519\n",
              "3     2.42216  0.007208   0.020335      42  ...  0.223578    1.60435   0     50858\n",
              "4     3.31559  0.017108  0.0325029      25  ...   7.31306 -0.0792502   2  3070bp60\n",
              "...       ...       ...        ...     ...  ...       ...        ...  ..       ...\n",
              "1905  3.37691  0.008824  0.0245071      10  ...  0.072211   -1.27333   0      3896\n",
              "1906   2.7964  0.009268  0.0291141      43  ...   0.34707    1.58839   0     64272\n",
              "1907  1.84829  0.005588  0.0176242      29  ...    1.0689    2.10401   0     19220\n",
              "1908   3.9043   0.00798   0.023526      16  ...  0.163518    2.16932   1     4085c\n",
              "1909  4.04963   0.00808   0.023742     313  ...   4.26177     1.2029   5      2582\n",
              "\n",
              "[1910 rows x 18 columns]"
            ]
          },
          "metadata": {
            "tags": []
          },
          "execution_count": 67
        }
      ]
    },
    {
      "cell_type": "code",
      "metadata": {
        "id": "BGJ_EzALMCra",
        "colab": {
          "base_uri": "https://localhost:8080/"
        },
        "outputId": "1669fdbf-b3c0-4ff0-d16c-959534d9b626"
      },
      "source": [
        "rearranged_IDs_train=df[\"Part_num\"]\n",
        "target_var=\"Cat\"\n",
        "y = df[target_var]\n",
        "df.drop([target_var,\"Part_num\"],axis=1, inplace=True)\n",
        "df.shape"
      ],
      "execution_count": null,
      "outputs": [
        {
          "output_type": "execute_result",
          "data": {
            "text/plain": [
              "(1910, 16)"
            ]
          },
          "metadata": {
            "tags": []
          },
          "execution_count": 68
        }
      ]
    },
    {
      "cell_type": "code",
      "metadata": {
        "id": "1zdI52o76ecf"
      },
      "source": [
        "df = df.apply(pd.to_numeric)"
      ],
      "execution_count": null,
      "outputs": []
    },
    {
      "cell_type": "code",
      "metadata": {
        "id": "K__S7pzSPdRW"
      },
      "source": [
        "features_space = df.columns\n",
        "lgtrain = lgb.Dataset(df.loc[:,features_space],y, categorical_feature= \"auto\")"
      ],
      "execution_count": null,
      "outputs": []
    },
    {
      "cell_type": "code",
      "metadata": {
        "id": "aPUreqDu7zZb",
        "colab": {
          "base_uri": "https://localhost:8080/"
        },
        "outputId": "8dc1af06-523a-490e-db28-14edfe8bfba0"
      },
      "source": [
        "print(\"Setting Paramters for Light Gradient Boosting Classifier...\")\n",
        "lgbm_params =  {\n",
        "    'task': 'train',\n",
        "    'boosting_type': 'gbdt',\n",
        "    'objective': 'multiclass',\n",
        "    'num_class': 7,\n",
        "    'metric': ['multi_error'],\n",
        "    \"learning_rate\": 0.1,\n",
        "     \"num_leaves\": 60,\n",
        "     \"max_depth\": 9,\n",
        "     \"feature_fraction\": 0.45,\n",
        "     \"bagging_fraction\": 0.3,\n",
        "     \"reg_alpha\": 0.15,\n",
        "     \"reg_lambda\": 0.15,\n",
        "      \"min_child_weight\": 0\n",
        "                }"
      ],
      "execution_count": null,
      "outputs": [
        {
          "output_type": "stream",
          "text": [
            "Setting Paramters for Light Gradient Boosting Classifier...\n"
          ],
          "name": "stdout"
        }
      ]
    },
    {
      "cell_type": "code",
      "metadata": {
        "id": "JuRmge138d1O",
        "colab": {
          "base_uri": "https://localhost:8080/"
        },
        "outputId": "40d75784-71dd-4007-82de-3d013136cbdd"
      },
      "source": [
        "import time\n",
        "modelstart= time.time()\n",
        "\n",
        "results = pd.DataFrame(columns = [\"Rounds\",\"Score\",\"STDV\", \"LB\", \"Parameters\"])\n",
        "# Find Optimal Parameters / Boosting Rounds\n",
        "lgb_cv = lgb.cv(\n",
        "    params = lgbm_params,\n",
        "    train_set = lgtrain,\n",
        "    num_boost_round=2000,\n",
        "    stratified=True,\n",
        "    nfold = 10,\n",
        "    verbose_eval=50,\n",
        "    seed = 123,\n",
        "    early_stopping_rounds=75)\n",
        "\n",
        "loss = lgbm_params[\"metric\"][0]\n",
        "optimal_rounds = np.argmin(lgb_cv[str(loss) + '-mean'])\n",
        "best_cv_score = min(lgb_cv[str(loss) + '-mean'])\n",
        "\n",
        "print(\"\\nOptimal Round: {}\\nOptimal Score: {} + {}\".format(\n",
        "    optimal_rounds,best_cv_score,lgb_cv[str(loss) + '-stdv'][optimal_rounds]))\n",
        "\n",
        "results = results.append({\"Rounds\": optimal_rounds,\n",
        "                          \"Score\": best_cv_score,\n",
        "                          \"STDV\": lgb_cv[str(loss) + '-stdv'][optimal_rounds],\n",
        "                          \"LB\": None,\n",
        "                          \"Parameters\": lgbm_params}, ignore_index=True)\n",
        "results.to_csv(\"lgb_10fold.csv\", header=False)"
      ],
      "execution_count": null,
      "outputs": [
        {
          "output_type": "stream",
          "text": [
            "[50]\tcv_agg's multi_error: 0.384817 + 0.0169248\n",
            "[100]\tcv_agg's multi_error: 0.368586 + 0.0189063\n",
            "[150]\tcv_agg's multi_error: 0.367539 + 0.0192795\n",
            "\n",
            "Optimal Round: 117\n",
            "Optimal Score: 0.3617801047120419 + 0.01850324298122754\n"
          ],
          "name": "stdout"
        }
      ]
    },
    {
      "cell_type": "code",
      "metadata": {
        "id": "KB5w_CQIrh4K",
        "colab": {
          "base_uri": "https://localhost:8080/",
          "height": 80
        },
        "outputId": "a4dd7cb5-c224-4f7c-fc6f-087ee330150c"
      },
      "source": [
        "display(results.sort_values(by=\"Score\",ascending = True))"
      ],
      "execution_count": null,
      "outputs": [
        {
          "output_type": "display_data",
          "data": {
            "text/html": [
              "<div>\n",
              "<style scoped>\n",
              "    .dataframe tbody tr th:only-of-type {\n",
              "        vertical-align: middle;\n",
              "    }\n",
              "\n",
              "    .dataframe tbody tr th {\n",
              "        vertical-align: top;\n",
              "    }\n",
              "\n",
              "    .dataframe thead th {\n",
              "        text-align: right;\n",
              "    }\n",
              "</style>\n",
              "<table border=\"1\" class=\"dataframe\">\n",
              "  <thead>\n",
              "    <tr style=\"text-align: right;\">\n",
              "      <th></th>\n",
              "      <th>Rounds</th>\n",
              "      <th>Score</th>\n",
              "      <th>STDV</th>\n",
              "      <th>LB</th>\n",
              "      <th>Parameters</th>\n",
              "    </tr>\n",
              "  </thead>\n",
              "  <tbody>\n",
              "    <tr>\n",
              "      <th>0</th>\n",
              "      <td>117</td>\n",
              "      <td>0.36178</td>\n",
              "      <td>0.018503</td>\n",
              "      <td>None</td>\n",
              "      <td>{'task': 'train', 'boosting_type': 'gbdt', 'ob...</td>\n",
              "    </tr>\n",
              "  </tbody>\n",
              "</table>\n",
              "</div>"
            ],
            "text/plain": [
              "  Rounds    Score  ...    LB                                         Parameters\n",
              "0    117  0.36178  ...  None  {'task': 'train', 'boosting_type': 'gbdt', 'ob...\n",
              "\n",
              "[1 rows x 5 columns]"
            ]
          },
          "metadata": {
            "tags": []
          }
        }
      ]
    },
    {
      "cell_type": "code",
      "metadata": {
        "id": "Yo_MA7rezI-P",
        "colab": {
          "base_uri": "https://localhost:8080/"
        },
        "outputId": "267a4e2f-6c3b-4d6c-c2d1-6dc254b64c45"
      },
      "source": [
        "tune_parameter = [0.05,0.08,0.2,0.5]\n",
        "tune = 'learning_rate'\n",
        "for param in tune_parameter:\n",
        "    print(\"{} Parameter: {}\".format(tune, param))\n",
        "    modelstart= time.time()\n",
        "    lgbm_params[tune] = param\n",
        "    # Find Optimal Parameters / Boosting Rounds\n",
        "    lgb_cv = lgb.cv(\n",
        "        params = lgbm_params,\n",
        "        train_set = lgtrain,\n",
        "        num_boost_round=10000,\n",
        "        stratified=True,\n",
        "        nfold = 10,\n",
        "        verbose_eval=50,\n",
        "        seed = 123,\n",
        "        early_stopping_rounds=75)\n",
        "\n",
        "    optimal_rounds = np.argmin(lgb_cv[str(loss) + '-mean'])\n",
        "    best_cv_score = min(lgb_cv[str(loss) + '-mean'])\n",
        "\n",
        "    print(\"Optimal Round: {}\\nOptimal Score: {} + {}\".format(\n",
        "        optimal_rounds,best_cv_score,lgb_cv[str(loss) + '-stdv'][optimal_rounds]))\n",
        "    print(\"###########################################################################################\")\n",
        "\n",
        "    results = results.append({\"Rounds\": optimal_rounds,\n",
        "                              \"Score\": best_cv_score,\n",
        "                              \"STDV\": lgb_cv[str(loss) + '-stdv'][optimal_rounds],\n",
        "                              \"LB\": None,\n",
        "                              \"Parameters\": lgbm_params}, ignore_index=True)"
      ],
      "execution_count": null,
      "outputs": [
        {
          "output_type": "stream",
          "text": [
            "learning_rate Parameter: 0.05\n",
            "[50]\tcv_agg's multi_error: 0.398429 + 0.0242708\n",
            "[100]\tcv_agg's multi_error: 0.37801 + 0.0101522\n",
            "[150]\tcv_agg's multi_error: 0.367016 + 0.0129204\n",
            "[200]\tcv_agg's multi_error: 0.360733 + 0.0186508\n",
            "[250]\tcv_agg's multi_error: 0.363874 + 0.0199022\n",
            "Optimal Round: 201\n",
            "Optimal Score: 0.35968586387434553 + 0.018738775045207625\n",
            "###########################################################################################\n",
            "learning_rate Parameter: 0.08\n",
            "[50]\tcv_agg's multi_error: 0.389005 + 0.022342\n",
            "[100]\tcv_agg's multi_error: 0.367016 + 0.0228754\n",
            "[150]\tcv_agg's multi_error: 0.360733 + 0.0228754\n",
            "[200]\tcv_agg's multi_error: 0.355497 + 0.022995\n",
            "[250]\tcv_agg's multi_error: 0.35288 + 0.0230842\n",
            "[300]\tcv_agg's multi_error: 0.35288 + 0.0230842\n",
            "[350]\tcv_agg's multi_error: 0.349738 + 0.0197015\n",
            "[400]\tcv_agg's multi_error: 0.349215 + 0.0190291\n",
            "[450]\tcv_agg's multi_error: 0.351309 + 0.0185032\n",
            "Optimal Round: 383\n",
            "Optimal Score: 0.3471204188481675 + 0.01917260044356079\n",
            "###########################################################################################\n",
            "learning_rate Parameter: 0.2\n",
            "[50]\tcv_agg's multi_error: 0.381675 + 0.0179009\n",
            "[100]\tcv_agg's multi_error: 0.36911 + 0.024807\n",
            "[150]\tcv_agg's multi_error: 0.362827 + 0.0230664\n",
            "[200]\tcv_agg's multi_error: 0.363874 + 0.0241349\n",
            "Optimal Round: 143\n",
            "Optimal Score: 0.36020942408376955 + 0.021814310634554617\n",
            "###########################################################################################\n",
            "learning_rate Parameter: 0.5\n",
            "[50]\tcv_agg's multi_error: 0.368586 + 0.026717\n",
            "[100]\tcv_agg's multi_error: 0.363351 + 0.0248015\n",
            "[150]\tcv_agg's multi_error: 0.364398 + 0.0268194\n",
            "Optimal Round: 84\n",
            "Optimal Score: 0.3602094240837696 + 0.025840759537702762\n",
            "###########################################################################################\n"
          ],
          "name": "stdout"
        }
      ]
    },
    {
      "cell_type": "code",
      "metadata": {
        "id": "enyYKQL4zTs2",
        "colab": {
          "base_uri": "https://localhost:8080/",
          "height": 202
        },
        "outputId": "1da4ccbd-8e8a-4638-9f93-bdbe58d8dc26"
      },
      "source": [
        "display(results.sort_values(by=\"Score\",ascending = True))"
      ],
      "execution_count": null,
      "outputs": [
        {
          "output_type": "display_data",
          "data": {
            "text/html": [
              "<div>\n",
              "<style scoped>\n",
              "    .dataframe tbody tr th:only-of-type {\n",
              "        vertical-align: middle;\n",
              "    }\n",
              "\n",
              "    .dataframe tbody tr th {\n",
              "        vertical-align: top;\n",
              "    }\n",
              "\n",
              "    .dataframe thead th {\n",
              "        text-align: right;\n",
              "    }\n",
              "</style>\n",
              "<table border=\"1\" class=\"dataframe\">\n",
              "  <thead>\n",
              "    <tr style=\"text-align: right;\">\n",
              "      <th></th>\n",
              "      <th>Rounds</th>\n",
              "      <th>Score</th>\n",
              "      <th>STDV</th>\n",
              "      <th>LB</th>\n",
              "      <th>Parameters</th>\n",
              "    </tr>\n",
              "  </thead>\n",
              "  <tbody>\n",
              "    <tr>\n",
              "      <th>2</th>\n",
              "      <td>383</td>\n",
              "      <td>0.347120</td>\n",
              "      <td>0.019173</td>\n",
              "      <td>None</td>\n",
              "      <td>{'task': 'train', 'boosting_type': 'gbdt', 'ob...</td>\n",
              "    </tr>\n",
              "    <tr>\n",
              "      <th>1</th>\n",
              "      <td>201</td>\n",
              "      <td>0.359686</td>\n",
              "      <td>0.018739</td>\n",
              "      <td>None</td>\n",
              "      <td>{'task': 'train', 'boosting_type': 'gbdt', 'ob...</td>\n",
              "    </tr>\n",
              "    <tr>\n",
              "      <th>3</th>\n",
              "      <td>143</td>\n",
              "      <td>0.360209</td>\n",
              "      <td>0.021814</td>\n",
              "      <td>None</td>\n",
              "      <td>{'task': 'train', 'boosting_type': 'gbdt', 'ob...</td>\n",
              "    </tr>\n",
              "    <tr>\n",
              "      <th>4</th>\n",
              "      <td>84</td>\n",
              "      <td>0.360209</td>\n",
              "      <td>0.025841</td>\n",
              "      <td>None</td>\n",
              "      <td>{'task': 'train', 'boosting_type': 'gbdt', 'ob...</td>\n",
              "    </tr>\n",
              "    <tr>\n",
              "      <th>0</th>\n",
              "      <td>117</td>\n",
              "      <td>0.361780</td>\n",
              "      <td>0.018503</td>\n",
              "      <td>None</td>\n",
              "      <td>{'task': 'train', 'boosting_type': 'gbdt', 'ob...</td>\n",
              "    </tr>\n",
              "  </tbody>\n",
              "</table>\n",
              "</div>"
            ],
            "text/plain": [
              "  Rounds     Score  ...    LB                                         Parameters\n",
              "2    383  0.347120  ...  None  {'task': 'train', 'boosting_type': 'gbdt', 'ob...\n",
              "1    201  0.359686  ...  None  {'task': 'train', 'boosting_type': 'gbdt', 'ob...\n",
              "3    143  0.360209  ...  None  {'task': 'train', 'boosting_type': 'gbdt', 'ob...\n",
              "4     84  0.360209  ...  None  {'task': 'train', 'boosting_type': 'gbdt', 'ob...\n",
              "0    117  0.361780  ...  None  {'task': 'train', 'boosting_type': 'gbdt', 'ob...\n",
              "\n",
              "[5 rows x 5 columns]"
            ]
          },
          "metadata": {
            "tags": []
          }
        }
      ]
    },
    {
      "cell_type": "code",
      "metadata": {
        "id": "BEZN7eyuT528"
      },
      "source": [
        "results.to_csv(\"lgb_tune.csv\", header=False)"
      ],
      "execution_count": null,
      "outputs": []
    },
    {
      "cell_type": "code",
      "metadata": {
        "id": "LVNos3t2TXCv",
        "colab": {
          "base_uri": "https://localhost:8080/"
        },
        "outputId": "37853d20-c5bc-47af-e2de-dffce238bc8a"
      },
      "source": [
        "# Best Parameters\n",
        "final_model_params = results.iloc[results[\"Score\"].idxmin(),:][\"Parameters\"]\n",
        "optimal_rounds = results.iloc[results[\"Score\"].idxmin(),:][\"Rounds\"]\n",
        "print(\"Parameters for Final Models:\\n\",final_model_params)\n",
        "print(\"Score: {} +/- {}\".format(results.iloc[results[\"Score\"].idxmin(),:][\"Score\"],results.iloc[results[\"Score\"].idxmin(),:][\"STDV\"]))\n",
        "print(\"Rounds: \", optimal_rounds)"
      ],
      "execution_count": null,
      "outputs": [
        {
          "output_type": "stream",
          "text": [
            "Parameters for Final Models:\n",
            " {'task': 'train', 'boosting_type': 'gbdt', 'objective': 'multiclass', 'num_class': 7, 'metric': ['multi_error'], 'learning_rate': 0.5, 'num_leaves': 60, 'max_depth': 9, 'feature_fraction': 0.45, 'bagging_fraction': 0.3, 'reg_alpha': 0.15, 'reg_lambda': 0.15, 'min_child_weight': 0}\n",
            "Score: 0.3471204188481675 +/- 0.01917260044356079\n",
            "Rounds:  383\n"
          ],
          "name": "stdout"
        }
      ]
    },
    {
      "cell_type": "code",
      "metadata": {
        "id": "OlsvrIq4Yak_"
      },
      "source": [
        "pred_index = df.index"
      ],
      "execution_count": null,
      "outputs": []
    },
    {
      "cell_type": "code",
      "metadata": {
        "id": "e8AWzVZBTb31",
        "colab": {
          "base_uri": "https://localhost:8080/",
          "height": 798
        },
        "outputId": "223680a9-8276-400c-dd4e-71dbc3635de7"
      },
      "source": [
        "allmodelstart= time.time()\n",
        "# Run Model with different Seeds\n",
        "all_feature_importance_df  = pd.DataFrame()\n",
        "\n",
        "# To get predictions\n",
        "def seed_pred(model,seed):\n",
        "    # Output position with highest probability\n",
        "    class_prediction = (pd.DataFrame(model.predict(df)).idxmax(axis=1)).rename(target_var)\n",
        "    class_prediction.index = pred_index\n",
        "    class_prediction.to_csv('mean_preds.csv',index = True, header=True)\n",
        "    return class_prediction\n",
        "\n",
        "all_seeds = [500]\n",
        "for seeds_x in all_seeds:\n",
        "    modelstart= time.time()\n",
        "    print(\"Seed: \", seeds_x,)\n",
        "    # Go Go Go\n",
        "    final_model_params[\"seed\"] = seeds_x\n",
        "    lgb_final = lgb.train(\n",
        "        final_model_params,\n",
        "        lgtrain,\n",
        "        num_boost_round = optimal_rounds + 1,\n",
        "        verbose_eval=200)\n",
        "\n",
        "    # Feature Importance\n",
        "    fold_importance_df = pd.DataFrame()\n",
        "    fold_importance_df[\"feature\"] = features_space\n",
        "    fold_importance_df[\"importance\"] = lgb_final.feature_importance()\n",
        "    all_feature_importance_df = pd.concat([all_feature_importance_df, fold_importance_df], axis=0)\n",
        "    \n",
        "\n",
        "    preds_all=pd.DataFrame(lgb_final.predict(df))\n",
        "    train_predict_class=seed_pred(model= lgb_final, seed= seeds_x)\n",
        "    print(\"Model Runtime: %0.2f Minutes\"%((time.time() - modelstart)/60))\n",
        "    print(\"###########################################################################################\")\n",
        "    #del lgb_final\n",
        "\n",
        "cols = all_feature_importance_df[[\"feature\", \"importance\"]].groupby(\"feature\").mean().sort_values(\n",
        "    by=\"importance\", ascending=False)[:50].index\n",
        "best_features = all_feature_importance_df.loc[all_feature_importance_df.feature.isin(cols)]\n",
        "plt.figure(figsize=(8,10))\n",
        "sns.barplot(x=\"importance\", y=\"feature\", \n",
        "            data=best_features.sort_values(by=\"importance\", ascending=False))\n",
        "plt.title('LightGBM Features (avg over folds)')\n",
        "plt.tight_layout()\n",
        "plt.savefig('lgb_finalm_importances.png')\n",
        "print(\"All Model Runtime: %0.2f Minutes\"%((time.time() - allmodelstart)/60))"
      ],
      "execution_count": null,
      "outputs": [
        {
          "output_type": "stream",
          "text": [
            "Seed:  500\n",
            "Model Runtime: 0.03 Minutes\n",
            "###########################################################################################\n",
            "All Model Runtime: 0.03 Minutes\n"
          ],
          "name": "stdout"
        },
        {
          "output_type": "display_data",
          "data": {
            "image/png": "[encoded data removed]",
            "text/plain": [
              "<Figure size 576x720 with 1 Axes>"
            ]
          },
          "metadata": {
            "tags": [],
            "needs_background": "light"
          }
        }
      ]
    },
    {
      "cell_type": "code",
      "metadata": {
        "id": "tlOaFMF7XL96"
      },
      "source": [
        "preds_all"
      ],
      "execution_count": null,
      "outputs": []
    },
    {
      "cell_type": "code",
      "metadata": {
        "id": "_KTxGyjwd-uF",
        "colab": {
          "base_uri": "https://localhost:8080/"
        },
        "outputId": "2148bf5f-32c0-4155-d7db-99b6604f9bb4"
      },
      "source": [
        "# separate df with test\n",
        "test=parts_black[parts_black['split_tv']=='test']\n",
        "\n",
        "\n",
        "################### All test images ######################\n",
        "#selecting parts with both entries in csv and part drawings\n",
        "figures_parts_files_path= \"datasets/black/black\"\n",
        "possibilities=test['file_name_poss'].tolist()\n",
        "diagrams=os.listdir(figures_parts_files_path)\n",
        "complete_parts=list(set(possibilities) & set(diagrams))\n",
        "print(len(complete_parts))\n",
        "\n",
        "# selecting by group figures\n",
        "parts_select_fig=test[test['file_name_poss'].isin(complete_parts)]\n",
        "\n",
        "# Load data\n",
        "figures_dir=\"datasets/black/black/\"\n",
        "test_part_ids,figures_test,labels_test = load_data(figures_dir,parts_select_fig)"
      ],
      "execution_count": null,
      "outputs": [
        {
          "output_type": "stream",
          "text": [
            "478\n"
          ],
          "name": "stdout"
        }
      ]
    },
    {
      "cell_type": "code",
      "metadata": {
        "id": "zCEIsCr-idDr"
      },
      "source": [
        "from skimage import color\n",
        "# using Luminance to obtain grayscale images\n",
        "# luminance is the weighted average of RGB values\n",
        "data_gray_fig_test = [color.rgb2gray(i) for i in figures_test]"
      ],
      "execution_count": null,
      "outputs": []
    },
    {
      "cell_type": "code",
      "metadata": {
        "id": "P-QURG9Ai3mr"
      },
      "source": [
        "del figures_test"
      ],
      "execution_count": null,
      "outputs": []
    },
    {
      "cell_type": "code",
      "metadata": {
        "id": "dSXfSMy_ic9N",
        "colab": {
          "base_uri": "https://localhost:8080/"
        },
        "outputId": "f78b6c58-499b-4968-c496-f8c728f78343"
      },
      "source": [
        "canny_edges_test = []\n",
        "for image in data_gray_fig_test:\n",
        "    # obtain canny detector applied images\n",
        "    edges_sigma1 = feature.canny(image, sigma=3)\n",
        "    # averaging the canny edge applied image by its size to obtain a feature\n",
        "    apw = (float(np.sum(edges_sigma1)) / (image.size))\n",
        "    canny_edges_test.append(apw)\n",
        "    \n",
        "len(canny_edges_test)"
      ],
      "execution_count": null,
      "outputs": [
        {
          "output_type": "execute_result",
          "data": {
            "text/plain": [
              "478"
            ]
          },
          "metadata": {
            "tags": []
          },
          "execution_count": 109
        }
      ]
    },
    {
      "cell_type": "code",
      "metadata": {
        "id": "TwRSgGeric4B",
        "colab": {
          "base_uri": "https://localhost:8080/"
        },
        "outputId": "7f681bd2-4403-4d90-b087-eba0b723b400"
      },
      "source": [
        "shannon_entr_test = []\n",
        "for image in data_gray_fig_test:\n",
        "    #calculating shannon entropy (proprtional to -log(pk) where pk= probability of a pixel with intensity k)\n",
        "    shannon_e1 = shannon_entropy(image)\n",
        "    shannon_entr_test.append(shannon_e1)\n",
        "    \n",
        "len(shannon_entr_test)"
      ],
      "execution_count": null,
      "outputs": [
        {
          "output_type": "execute_result",
          "data": {
            "text/plain": [
              "478"
            ]
          },
          "metadata": {
            "tags": []
          },
          "execution_count": 110
        }
      ]
    },
    {
      "cell_type": "code",
      "metadata": {
        "id": "4x4ZFH5ElBjA",
        "colab": {
          "base_uri": "https://localhost:8080/"
        },
        "outputId": "90e3369b-a431-48d3-bc30-aea27ea90963"
      },
      "source": [
        "#corner detection algos\n",
        "corners_count_test = []\n",
        "\n",
        "for image in data_gray_fig_test:\n",
        "    coords=corner_shi_tomasi(image)\n",
        "    coords_peaks = corner_peaks(corner_shi_tomasi(image), min_distance=1)\n",
        "    #coords_subpix = corner_subpix(image, coords_peaks, window_size=7)\n",
        "    corners_count_test.append(len(coords_peaks))\n",
        "    #print(\"Number of corners detected:\",len(coords_peaks))\n",
        "    #print(coords_peaks)\n",
        "\n",
        "len(corners_count_test)"
      ],
      "execution_count": null,
      "outputs": [
        {
          "output_type": "execute_result",
          "data": {
            "text/plain": [
              "478"
            ]
          },
          "metadata": {
            "tags": []
          },
          "execution_count": 111
        }
      ]
    },
    {
      "cell_type": "code",
      "metadata": {
        "id": "eXnlkXkRlqrw",
        "colab": {
          "base_uri": "https://localhost:8080/"
        },
        "outputId": "c2306780-203a-4705-cbab-dd805d2ee6ba"
      },
      "source": [
        "sato_res_avg_test = []\n",
        "for image in data_gray_fig_test:\n",
        "    #getting images with SATO tubeness filter applied to the images\n",
        "    st1 =sato(image)\n",
        "    # averaging the tubeness by its size to obtain a feature\n",
        "    at = (float(np.sum(st1)) / (image.size))\n",
        "    sato_res_avg_test.append(at)\n",
        "    \n",
        "len(sato_res_avg_test)"
      ],
      "execution_count": null,
      "outputs": [
        {
          "output_type": "execute_result",
          "data": {
            "text/plain": [
              "478"
            ]
          },
          "metadata": {
            "tags": []
          },
          "execution_count": 112
        }
      ]
    },
    {
      "cell_type": "code",
      "metadata": {
        "id": "yv0tIaqNlqov",
        "colab": {
          "base_uri": "https://localhost:8080/"
        },
        "outputId": "a71e5e41-bbcd-43e3-ee55-a1fccabd351c"
      },
      "source": [
        "means_image_test = []\n",
        "for image in data_gray_fig_test:\n",
        "    #image means\n",
        "    avg1 = image.mean()\n",
        "    means_image_test.append(avg1)\n",
        "    \n",
        "print(len(means_image_test))\n",
        "\n",
        "stdevs_image_test = []\n",
        "for image in data_gray_fig_test:\n",
        "    #image st deviations\n",
        "    std1 = image.std()\n",
        "    stdevs_image_test.append(std1)\n",
        "    \n",
        "print(len(stdevs_image_test))"
      ],
      "execution_count": null,
      "outputs": [
        {
          "output_type": "stream",
          "text": [
            "478\n",
            "478\n"
          ],
          "name": "stdout"
        }
      ]
    },
    {
      "cell_type": "code",
      "metadata": {
        "id": "sZd7otrzlqjr"
      },
      "source": [
        "# apply HOG (Histogram of Oriented Gradient) transformation\n",
        "ppc = 8\n",
        "#hog_images = []\n",
        "hog_features_test = []\n",
        "for image in data_gray_fig_test:\n",
        "    # extracting hog transformed feature arrays\n",
        "    fd = hog(image, orientations=10, pixels_per_cell=(ppc,ppc),cells_per_block=(2, 2),block_norm= 'L2-Hys',visualize=False)\n",
        "    #fd,hog_image = hog(image, orientations=10, pixels_per_cell=(ppc,ppc),cells_per_block=(2, 2),block_norm= 'L2-Hys',visualize=True)\n",
        "    #print(fd)\n",
        "    #hog_images.append(hog_image)\n",
        "    hog_features_test.append(fd)"
      ],
      "execution_count": null,
      "outputs": []
    },
    {
      "cell_type": "code",
      "metadata": {
        "id": "EUkcppAtoSjS",
        "colab": {
          "base_uri": "https://localhost:8080/"
        },
        "outputId": "4845264a-38a0-4d7f-93de-948aee83676c"
      },
      "source": [
        "hog_features_length_transformed_test=[]\n",
        "count=1\n",
        "for i in range(len(np.array(hog_features_test))):\n",
        "  max_length=148840\n",
        "  if len(hog_features_test[i]) != max_length:\n",
        "    append_width= int((max_length-len(hog_features_test[i]))/2)\n",
        "    print(hog_features_test[i])\n",
        "    print(\"transforming image at position:\",i)\n",
        "    print(\"No. of images transformed:\",count)\n",
        "    count=count+1\n",
        "    transformed_hf_i= np.pad(hog_features_test[i], (append_width, append_width), 'constant', constant_values=(0, 0))\n",
        "    print(\"Converted from length:\",len(hog_features_test[i]),\"to length:\",len(transformed_hf_i))\n",
        "    print(transformed_hf_i)\n",
        "    hog_features_length_transformed_test.append(transformed_hf_i)\n",
        "  else:\n",
        "    #print(\"original Length:\",len(hog_features_test[i]))\n",
        "    #print(\"No need of padding\")\n",
        "    hog_features_length_transformed_test.append(hog_features_test[i])"
      ],
      "execution_count": null,
      "outputs": [
        {
          "output_type": "stream",
          "text": [
            "[0. 0. 0. ... 0. 0. 0.]\n",
            "transforming image at position: 188\n",
            "No. of images transformed: 1\n",
            "Converted from length: 36000 to length: 148840\n",
            "[0. 0. 0. ... 0. 0. 0.]\n",
            "[0. 0. 0. ... 0. 0. 0.]\n",
            "transforming image at position: 198\n",
            "No. of images transformed: 2\n",
            "Converted from length: 36000 to length: 148840\n",
            "[0. 0. 0. ... 0. 0. 0.]\n",
            "[0. 0. 0. ... 0. 0. 0.]\n",
            "transforming image at position: 408\n",
            "No. of images transformed: 3\n",
            "Converted from length: 36000 to length: 148840\n",
            "[0. 0. 0. ... 0. 0. 0.]\n"
          ],
          "name": "stdout"
        }
      ]
    },
    {
      "cell_type": "code",
      "metadata": {
        "id": "_snOuttcox2G"
      },
      "source": [
        "del hog_features_test"
      ],
      "execution_count": null,
      "outputs": []
    },
    {
      "cell_type": "code",
      "metadata": {
        "id": "RA53ZcbUox-h",
        "colab": {
          "base_uri": "https://localhost:8080/"
        },
        "outputId": "453b4f79-deb3-4d8b-df7b-36659be30b01"
      },
      "source": [
        "n_batches = 100\n",
        "n_components=10\n",
        "m,n=np.array(hog_features_length_transformed_test).shape\n",
        "\n",
        "\n",
        "hog_data_test=np.array(hog_features_length_transformed_test)\n",
        "num_rows_test = hog_data_test.shape[0]     # total number of rows in data\n",
        "chunk_size_test = 239             # how many rows at a time to feed ipca (divisor of num_rows)\n",
        "\n",
        "for i in range(0, num_rows_test//chunk_size_test):\n",
        "  print(i)\n",
        "  ipca.partial_fit(hog_data_test[i*chunk_size_test : (i+1)*chunk_size_test])\n",
        "\n",
        "out_test = [] # shape N x 2\n",
        "for i in range(0, num_rows_test//chunk_size_test):\n",
        "  print(i)\n",
        "  out_test[i*chunk_size_test:(i+1) * chunk_size_test] = ipca.transform(hog_data_test[i*chunk_size_test : (i+1)*chunk_size_test])"
      ],
      "execution_count": null,
      "outputs": [
        {
          "output_type": "stream",
          "text": [
            "0\n",
            "1\n",
            "0\n",
            "1\n"
          ],
          "name": "stdout"
        }
      ]
    },
    {
      "cell_type": "code",
      "metadata": {
        "id": "aeY4eLrCoxys"
      },
      "source": [
        "del hog_features_length_transformed_test"
      ],
      "execution_count": null,
      "outputs": []
    },
    {
      "cell_type": "code",
      "metadata": {
        "id": "hYVDe_KXp-PP"
      },
      "source": [
        "#changing data type and structure to meet dimension requirements for the model\n",
        "shannon_entr_test=np.array(shannon_entr_test).reshape(len(shannon_entr_test),1)\n",
        "canny_edges_test=np.array(canny_edges_test).reshape(len(canny_edges_test),1)\n",
        "sato_res_avg_test=np.array(sato_res_avg_test).reshape(len(sato_res_avg_test),1)\n",
        "corners_count_test=np.array(corners_count_test).reshape(len(corners_count_test),1)\n",
        "means_image_test=np.array(means_image_test).reshape(len(means_image_test),1)\n",
        "stdevs_image_test=np.array(stdevs_image_test).reshape(len(stdevs_image_test),1)\n",
        "hog_pcs_test=np.array(out_test)"
      ],
      "execution_count": null,
      "outputs": []
    },
    {
      "cell_type": "code",
      "metadata": {
        "id": "8ETBhZobp-Z6"
      },
      "source": [
        "labels_test=labels_test.reshape(len(labels_test),1)\n",
        "test_part_ids=test_part_ids.reshape(len(test_part_ids),1)"
      ],
      "execution_count": null,
      "outputs": []
    },
    {
      "cell_type": "code",
      "metadata": {
        "id": "vUEV_OU1ySkd",
        "colab": {
          "base_uri": "https://localhost:8080/"
        },
        "outputId": "c8e4c16f-0a2b-4b30-f159-5216b671b699"
      },
      "source": [
        "# stacking feature sets\n",
        "features_test= np.hstack((shannon_entr_test,canny_edges_test,sato_res_avg_test,corners_count_test,means_image_test,stdevs_image_test,hog_pcs_test))\n",
        "features_test.shape"
      ],
      "execution_count": null,
      "outputs": [
        {
          "output_type": "execute_result",
          "data": {
            "text/plain": [
              "(478, 16)"
            ]
          },
          "metadata": {
            "tags": []
          },
          "execution_count": 106
        }
      ]
    },
    {
      "cell_type": "code",
      "metadata": {
        "id": "p7HJTL_OywG_",
        "colab": {
          "base_uri": "https://localhost:8080/"
        },
        "outputId": "9dc1698c-33a5-44a7-c916-5760dc0e1c72"
      },
      "source": [
        "# creating a data structure with both features and lables\n",
        "data_frame_test = np.hstack((features_test,labels_test,test_part_ids))\n",
        "data_frame_test"
      ],
      "execution_count": null,
      "outputs": [
        {
          "output_type": "execute_result",
          "data": {
            "text/plain": [
              "array([[0.8994984367318009, 0.009648, 0.020675437699866107, ...,\n",
              "        -1.1142698020968307, 0, '30191'],\n",
              "       [1.8482259676714596, 0.007184, 0.016928135574959677, ...,\n",
              "        0.5515957587960026, 0, '3900'],\n",
              "       [1.348564516264548, 0.00516, 0.01728246190472609, ...,\n",
              "        1.6705631496993862, 0, '3837'],\n",
              "       ...,\n",
              "       [2.4403621262232646, 0.005992, 0.017664155612584522, ...,\n",
              "        -0.3568952809452513, 5, '18945'],\n",
              "       [2.4135237865590007, 0.008448, 0.022569918019289287, ...,\n",
              "        -1.0633847239006688, 5, '32205'],\n",
              "       [3.8594236976585425, 0.008828, 0.028249939534533954, ...,\n",
              "        1.8083291042614664, 5, '32246']], dtype=object)"
            ]
          },
          "metadata": {
            "tags": []
          },
          "execution_count": 107
        }
      ]
    },
    {
      "cell_type": "code",
      "metadata": {
        "id": "Z-J1AVf4ywNY",
        "colab": {
          "base_uri": "https://localhost:8080/",
          "height": 416
        },
        "outputId": "22b3dd2c-f180-424f-9225-a6fe04d9d0d2"
      },
      "source": [
        "# create a dataframe\n",
        "df_test= pd.DataFrame(data_frame_test)\n",
        "df_test=df_test.rename(columns={0: \"SE\", 1: \"CE\", 2: \"Sato\",3:\"Corners\",4:\"Means\",5:\"SD\",\n",
        "                    6:\"HOG_PC1\",7:\"HOG_PC2\",8:\"HOG_PC3\",9:\"HOG_PC4\",10:\"HOG_PC5\",11:\"HOG_PC6\",12:\"HOG_PC7\",13:\"HOG_PC8\",14:\"HOG_PC9\",15:\"HOG_PC10\",\n",
        "                    16:\"Cat\",17:\"Part_num\"}, errors=\"raise\")\n",
        "# #To modify the float to int do this:\n",
        "df_test.Cat = df_test.Cat.astype(int)\n",
        "df_test"
      ],
      "execution_count": null,
      "outputs": [
        {
          "output_type": "execute_result",
          "data": {
            "text/html": [
              "<div>\n",
              "<style scoped>\n",
              "    .dataframe tbody tr th:only-of-type {\n",
              "        vertical-align: middle;\n",
              "    }\n",
              "\n",
              "    .dataframe tbody tr th {\n",
              "        vertical-align: top;\n",
              "    }\n",
              "\n",
              "    .dataframe thead th {\n",
              "        text-align: right;\n",
              "    }\n",
              "</style>\n",
              "<table border=\"1\" class=\"dataframe\">\n",
              "  <thead>\n",
              "    <tr style=\"text-align: right;\">\n",
              "      <th></th>\n",
              "      <th>SE</th>\n",
              "      <th>CE</th>\n",
              "      <th>Sato</th>\n",
              "      <th>Corners</th>\n",
              "      <th>Means</th>\n",
              "      <th>SD</th>\n",
              "      <th>HOG_PC1</th>\n",
              "      <th>HOG_PC2</th>\n",
              "      <th>HOG_PC3</th>\n",
              "      <th>HOG_PC4</th>\n",
              "      <th>HOG_PC5</th>\n",
              "      <th>HOG_PC6</th>\n",
              "      <th>HOG_PC7</th>\n",
              "      <th>HOG_PC8</th>\n",
              "      <th>HOG_PC9</th>\n",
              "      <th>HOG_PC10</th>\n",
              "      <th>Cat</th>\n",
              "      <th>Part_num</th>\n",
              "    </tr>\n",
              "  </thead>\n",
              "  <tbody>\n",
              "    <tr>\n",
              "      <th>0</th>\n",
              "      <td>0.899498</td>\n",
              "      <td>0.009648</td>\n",
              "      <td>0.0206754</td>\n",
              "      <td>69</td>\n",
              "      <td>0.944241</td>\n",
              "      <td>0.209018</td>\n",
              "      <td>-11.1894</td>\n",
              "      <td>-21.0698</td>\n",
              "      <td>-5.5438</td>\n",
              "      <td>-5.28462</td>\n",
              "      <td>2.48591</td>\n",
              "      <td>-5.28422</td>\n",
              "      <td>4.63661</td>\n",
              "      <td>-0.400004</td>\n",
              "      <td>1.509</td>\n",
              "      <td>-1.11427</td>\n",
              "      <td>0</td>\n",
              "      <td>30191</td>\n",
              "    </tr>\n",
              "    <tr>\n",
              "      <th>1</th>\n",
              "      <td>1.84823</td>\n",
              "      <td>0.007184</td>\n",
              "      <td>0.0169281</td>\n",
              "      <td>6</td>\n",
              "      <td>0.85406</td>\n",
              "      <td>0.322451</td>\n",
              "      <td>-19.0419</td>\n",
              "      <td>-9.74445</td>\n",
              "      <td>-0.453676</td>\n",
              "      <td>-3.7903</td>\n",
              "      <td>7.71843</td>\n",
              "      <td>-2.22041</td>\n",
              "      <td>4.68862</td>\n",
              "      <td>1.48826</td>\n",
              "      <td>2.4114</td>\n",
              "      <td>0.551596</td>\n",
              "      <td>0</td>\n",
              "      <td>3900</td>\n",
              "    </tr>\n",
              "    <tr>\n",
              "      <th>2</th>\n",
              "      <td>1.34856</td>\n",
              "      <td>0.00516</td>\n",
              "      <td>0.0172825</td>\n",
              "      <td>9</td>\n",
              "      <td>0.856342</td>\n",
              "      <td>0.326693</td>\n",
              "      <td>-16.6664</td>\n",
              "      <td>-13.0015</td>\n",
              "      <td>-10.2343</td>\n",
              "      <td>3.18851</td>\n",
              "      <td>4.03319</td>\n",
              "      <td>-0.382773</td>\n",
              "      <td>2.79883</td>\n",
              "      <td>0.253924</td>\n",
              "      <td>1.08757</td>\n",
              "      <td>1.67056</td>\n",
              "      <td>0</td>\n",
              "      <td>3837</td>\n",
              "    </tr>\n",
              "    <tr>\n",
              "      <th>3</th>\n",
              "      <td>3.7967</td>\n",
              "      <td>0.01058</td>\n",
              "      <td>0.0226579</td>\n",
              "      <td>7</td>\n",
              "      <td>0.612513</td>\n",
              "      <td>0.436105</td>\n",
              "      <td>-16.0395</td>\n",
              "      <td>-2.07349</td>\n",
              "      <td>3.55864</td>\n",
              "      <td>-3.87211</td>\n",
              "      <td>1.5118</td>\n",
              "      <td>-0.731539</td>\n",
              "      <td>5.47106</td>\n",
              "      <td>-0.21609</td>\n",
              "      <td>2.0832</td>\n",
              "      <td>0.280434</td>\n",
              "      <td>0</td>\n",
              "      <td>4349</td>\n",
              "    </tr>\n",
              "    <tr>\n",
              "      <th>4</th>\n",
              "      <td>2.38261</td>\n",
              "      <td>0.005848</td>\n",
              "      <td>0.0181078</td>\n",
              "      <td>10</td>\n",
              "      <td>0.668696</td>\n",
              "      <td>0.425321</td>\n",
              "      <td>-15.8018</td>\n",
              "      <td>-9.60877</td>\n",
              "      <td>-8.80586</td>\n",
              "      <td>1.57679</td>\n",
              "      <td>1.16344</td>\n",
              "      <td>-1.11621</td>\n",
              "      <td>4.06966</td>\n",
              "      <td>1.96866</td>\n",
              "      <td>-1.06114</td>\n",
              "      <td>-1.12583</td>\n",
              "      <td>0</td>\n",
              "      <td>33009</td>\n",
              "    </tr>\n",
              "    <tr>\n",
              "      <th>...</th>\n",
              "      <td>...</td>\n",
              "      <td>...</td>\n",
              "      <td>...</td>\n",
              "      <td>...</td>\n",
              "      <td>...</td>\n",
              "      <td>...</td>\n",
              "      <td>...</td>\n",
              "      <td>...</td>\n",
              "      <td>...</td>\n",
              "      <td>...</td>\n",
              "      <td>...</td>\n",
              "      <td>...</td>\n",
              "      <td>...</td>\n",
              "      <td>...</td>\n",
              "      <td>...</td>\n",
              "      <td>...</td>\n",
              "      <td>...</td>\n",
              "      <td>...</td>\n",
              "    </tr>\n",
              "    <tr>\n",
              "      <th>473</th>\n",
              "      <td>2.37053</td>\n",
              "      <td>0.007208</td>\n",
              "      <td>0.0209901</td>\n",
              "      <td>14</td>\n",
              "      <td>0.76763</td>\n",
              "      <td>0.394896</td>\n",
              "      <td>-19.1367</td>\n",
              "      <td>-8.62874</td>\n",
              "      <td>-0.814691</td>\n",
              "      <td>-3.91127</td>\n",
              "      <td>0.445602</td>\n",
              "      <td>-0.412652</td>\n",
              "      <td>4.66453</td>\n",
              "      <td>-0.593663</td>\n",
              "      <td>0.745579</td>\n",
              "      <td>1.30622</td>\n",
              "      <td>5</td>\n",
              "      <td>64681</td>\n",
              "    </tr>\n",
              "    <tr>\n",
              "      <th>474</th>\n",
              "      <td>3.01304</td>\n",
              "      <td>0.010488</td>\n",
              "      <td>0.0282549</td>\n",
              "      <td>33</td>\n",
              "      <td>0.708666</td>\n",
              "      <td>0.417882</td>\n",
              "      <td>-18.8445</td>\n",
              "      <td>-3.42796</td>\n",
              "      <td>3.91861</td>\n",
              "      <td>-6.24804</td>\n",
              "      <td>1.32756</td>\n",
              "      <td>0.521016</td>\n",
              "      <td>5.60324</td>\n",
              "      <td>1.01262</td>\n",
              "      <td>1.73381</td>\n",
              "      <td>-0.326838</td>\n",
              "      <td>5</td>\n",
              "      <td>32189</td>\n",
              "    </tr>\n",
              "    <tr>\n",
              "      <th>475</th>\n",
              "      <td>2.44036</td>\n",
              "      <td>0.005992</td>\n",
              "      <td>0.0176642</td>\n",
              "      <td>14</td>\n",
              "      <td>0.798907</td>\n",
              "      <td>0.365832</td>\n",
              "      <td>-4.18798</td>\n",
              "      <td>-19.4569</td>\n",
              "      <td>-2.09988</td>\n",
              "      <td>-0.48792</td>\n",
              "      <td>0.746327</td>\n",
              "      <td>-0.864352</td>\n",
              "      <td>5.62729</td>\n",
              "      <td>1.62471</td>\n",
              "      <td>2.53624</td>\n",
              "      <td>-0.356895</td>\n",
              "      <td>5</td>\n",
              "      <td>18945</td>\n",
              "    </tr>\n",
              "    <tr>\n",
              "      <th>476</th>\n",
              "      <td>2.41352</td>\n",
              "      <td>0.008448</td>\n",
              "      <td>0.0225699</td>\n",
              "      <td>25</td>\n",
              "      <td>0.776861</td>\n",
              "      <td>0.384807</td>\n",
              "      <td>-5.53718</td>\n",
              "      <td>-12.1422</td>\n",
              "      <td>-4.02406</td>\n",
              "      <td>1.44608</td>\n",
              "      <td>2.75849</td>\n",
              "      <td>-2.49977</td>\n",
              "      <td>7.93635</td>\n",
              "      <td>2.15355</td>\n",
              "      <td>3.18432</td>\n",
              "      <td>-1.06338</td>\n",
              "      <td>5</td>\n",
              "      <td>32205</td>\n",
              "    </tr>\n",
              "    <tr>\n",
              "      <th>477</th>\n",
              "      <td>3.85942</td>\n",
              "      <td>0.008828</td>\n",
              "      <td>0.0282499</td>\n",
              "      <td>34</td>\n",
              "      <td>0.612964</td>\n",
              "      <td>0.444952</td>\n",
              "      <td>0.638519</td>\n",
              "      <td>-13.5539</td>\n",
              "      <td>-7.03037</td>\n",
              "      <td>-2.56195</td>\n",
              "      <td>4.14623</td>\n",
              "      <td>-1.84271</td>\n",
              "      <td>5.49182</td>\n",
              "      <td>0.0206585</td>\n",
              "      <td>0.214231</td>\n",
              "      <td>1.80833</td>\n",
              "      <td>5</td>\n",
              "      <td>32246</td>\n",
              "    </tr>\n",
              "  </tbody>\n",
              "</table>\n",
              "<p>478 rows × 18 columns</p>\n",
              "</div>"
            ],
            "text/plain": [
              "           SE        CE       Sato Corners  ...   HOG_PC9  HOG_PC10 Cat Part_num\n",
              "0    0.899498  0.009648  0.0206754      69  ...     1.509  -1.11427   0    30191\n",
              "1     1.84823  0.007184  0.0169281       6  ...    2.4114  0.551596   0     3900\n",
              "2     1.34856   0.00516  0.0172825       9  ...   1.08757   1.67056   0     3837\n",
              "3      3.7967   0.01058  0.0226579       7  ...    2.0832  0.280434   0     4349\n",
              "4     2.38261  0.005848  0.0181078      10  ...  -1.06114  -1.12583   0    33009\n",
              "..        ...       ...        ...     ...  ...       ...       ...  ..      ...\n",
              "473   2.37053  0.007208  0.0209901      14  ...  0.745579   1.30622   5    64681\n",
              "474   3.01304  0.010488  0.0282549      33  ...   1.73381 -0.326838   5    32189\n",
              "475   2.44036  0.005992  0.0176642      14  ...   2.53624 -0.356895   5    18945\n",
              "476   2.41352  0.008448  0.0225699      25  ...   3.18432  -1.06338   5    32205\n",
              "477   3.85942  0.008828  0.0282499      34  ...  0.214231   1.80833   5    32246\n",
              "\n",
              "[478 rows x 18 columns]"
            ]
          },
          "metadata": {
            "tags": []
          },
          "execution_count": 108
        }
      ]
    },
    {
      "cell_type": "code",
      "metadata": {
        "id": "hct9dLTPywUV",
        "colab": {
          "base_uri": "https://localhost:8080/"
        },
        "outputId": "71064567-7e79-4c3b-a729-4f5b96e649ef"
      },
      "source": [
        "rearranged_IDs_test=df_test[\"Part_num\"]\n",
        "target_var=\"Cat\"\n",
        "y_test = df_test[target_var]\n",
        "df_test.drop([target_var,\"Part_num\"],axis=1, inplace=True)\n",
        "df_test = df_test.apply(pd.to_numeric)\n",
        "df_test.shape"
      ],
      "execution_count": null,
      "outputs": [
        {
          "output_type": "execute_result",
          "data": {
            "text/plain": [
              "(478, 16)"
            ]
          },
          "metadata": {
            "tags": []
          },
          "execution_count": 109
        }
      ]
    },
    {
      "cell_type": "code",
      "metadata": {
        "id": "Nsi1YJE82XKk",
        "colab": {
          "base_uri": "https://localhost:8080/",
          "height": 141
        },
        "outputId": "d81269c4-369a-49ac-d7d8-3ecd50adc125"
      },
      "source": [
        "df_test.head(3)"
      ],
      "execution_count": null,
      "outputs": [
        {
          "output_type": "execute_result",
          "data": {
            "text/html": [
              "<div>\n",
              "<style scoped>\n",
              "    .dataframe tbody tr th:only-of-type {\n",
              "        vertical-align: middle;\n",
              "    }\n",
              "\n",
              "    .dataframe tbody tr th {\n",
              "        vertical-align: top;\n",
              "    }\n",
              "\n",
              "    .dataframe thead th {\n",
              "        text-align: right;\n",
              "    }\n",
              "</style>\n",
              "<table border=\"1\" class=\"dataframe\">\n",
              "  <thead>\n",
              "    <tr style=\"text-align: right;\">\n",
              "      <th></th>\n",
              "      <th>SE</th>\n",
              "      <th>CE</th>\n",
              "      <th>Sato</th>\n",
              "      <th>Corners</th>\n",
              "      <th>Means</th>\n",
              "      <th>SD</th>\n",
              "      <th>HOG_PC1</th>\n",
              "      <th>HOG_PC2</th>\n",
              "      <th>HOG_PC3</th>\n",
              "      <th>HOG_PC4</th>\n",
              "      <th>HOG_PC5</th>\n",
              "      <th>HOG_PC6</th>\n",
              "      <th>HOG_PC7</th>\n",
              "      <th>HOG_PC8</th>\n",
              "      <th>HOG_PC9</th>\n",
              "      <th>HOG_PC10</th>\n",
              "    </tr>\n",
              "  </thead>\n",
              "  <tbody>\n",
              "    <tr>\n",
              "      <th>0</th>\n",
              "      <td>0.899498</td>\n",
              "      <td>0.009648</td>\n",
              "      <td>0.020675</td>\n",
              "      <td>69.0</td>\n",
              "      <td>0.944241</td>\n",
              "      <td>0.209018</td>\n",
              "      <td>-11.189383</td>\n",
              "      <td>-21.069794</td>\n",
              "      <td>-5.543804</td>\n",
              "      <td>-5.284616</td>\n",
              "      <td>2.485908</td>\n",
              "      <td>-5.284221</td>\n",
              "      <td>4.636607</td>\n",
              "      <td>-0.400004</td>\n",
              "      <td>1.509004</td>\n",
              "      <td>-1.114270</td>\n",
              "    </tr>\n",
              "    <tr>\n",
              "      <th>1</th>\n",
              "      <td>1.848226</td>\n",
              "      <td>0.007184</td>\n",
              "      <td>0.016928</td>\n",
              "      <td>6.0</td>\n",
              "      <td>0.854060</td>\n",
              "      <td>0.322451</td>\n",
              "      <td>-19.041907</td>\n",
              "      <td>-9.744452</td>\n",
              "      <td>-0.453676</td>\n",
              "      <td>-3.790300</td>\n",
              "      <td>7.718426</td>\n",
              "      <td>-2.220413</td>\n",
              "      <td>4.688625</td>\n",
              "      <td>1.488261</td>\n",
              "      <td>2.411397</td>\n",
              "      <td>0.551596</td>\n",
              "    </tr>\n",
              "    <tr>\n",
              "      <th>2</th>\n",
              "      <td>1.348565</td>\n",
              "      <td>0.005160</td>\n",
              "      <td>0.017282</td>\n",
              "      <td>9.0</td>\n",
              "      <td>0.856342</td>\n",
              "      <td>0.326693</td>\n",
              "      <td>-16.666373</td>\n",
              "      <td>-13.001505</td>\n",
              "      <td>-10.234295</td>\n",
              "      <td>3.188511</td>\n",
              "      <td>4.033188</td>\n",
              "      <td>-0.382773</td>\n",
              "      <td>2.798829</td>\n",
              "      <td>0.253924</td>\n",
              "      <td>1.087573</td>\n",
              "      <td>1.670563</td>\n",
              "    </tr>\n",
              "  </tbody>\n",
              "</table>\n",
              "</div>"
            ],
            "text/plain": [
              "         SE        CE      Sato  ...   HOG_PC8   HOG_PC9  HOG_PC10\n",
              "0  0.899498  0.009648  0.020675  ... -0.400004  1.509004 -1.114270\n",
              "1  1.848226  0.007184  0.016928  ...  1.488261  2.411397  0.551596\n",
              "2  1.348565  0.005160  0.017282  ...  0.253924  1.087573  1.670563\n",
              "\n",
              "[3 rows x 16 columns]"
            ]
          },
          "metadata": {
            "tags": []
          },
          "execution_count": 110
        }
      ]
    },
    {
      "cell_type": "code",
      "metadata": {
        "id": "RBvgu6gU2XHI"
      },
      "source": [
        "preds_all_test=pd.DataFrame(lgb_final.predict(df_test))"
      ],
      "execution_count": null,
      "outputs": []
    },
    {
      "cell_type": "code",
      "metadata": {
        "id": "jrOZCnVK2XDw",
        "colab": {
          "base_uri": "https://localhost:8080/",
          "height": 416
        },
        "outputId": "61b6d6eb-b489-49d9-9247-a702aa6073de"
      },
      "source": [
        "preds_all_test"
      ],
      "execution_count": null,
      "outputs": [
        {
          "output_type": "execute_result",
          "data": {
            "text/html": [
              "<div>\n",
              "<style scoped>\n",
              "    .dataframe tbody tr th:only-of-type {\n",
              "        vertical-align: middle;\n",
              "    }\n",
              "\n",
              "    .dataframe tbody tr th {\n",
              "        vertical-align: top;\n",
              "    }\n",
              "\n",
              "    .dataframe thead th {\n",
              "        text-align: right;\n",
              "    }\n",
              "</style>\n",
              "<table border=\"1\" class=\"dataframe\">\n",
              "  <thead>\n",
              "    <tr style=\"text-align: right;\">\n",
              "      <th></th>\n",
              "      <th>0</th>\n",
              "      <th>1</th>\n",
              "      <th>2</th>\n",
              "      <th>3</th>\n",
              "      <th>4</th>\n",
              "      <th>5</th>\n",
              "      <th>6</th>\n",
              "    </tr>\n",
              "  </thead>\n",
              "  <tbody>\n",
              "    <tr>\n",
              "      <th>0</th>\n",
              "      <td>0.037131</td>\n",
              "      <td>0.002470</td>\n",
              "      <td>0.006976</td>\n",
              "      <td>0.581844</td>\n",
              "      <td>0.174960</td>\n",
              "      <td>0.196618</td>\n",
              "      <td>1.170437e-15</td>\n",
              "    </tr>\n",
              "    <tr>\n",
              "      <th>1</th>\n",
              "      <td>0.233742</td>\n",
              "      <td>0.282512</td>\n",
              "      <td>0.015596</td>\n",
              "      <td>0.066187</td>\n",
              "      <td>0.006408</td>\n",
              "      <td>0.395554</td>\n",
              "      <td>2.430436e-15</td>\n",
              "    </tr>\n",
              "    <tr>\n",
              "      <th>2</th>\n",
              "      <td>0.361123</td>\n",
              "      <td>0.436906</td>\n",
              "      <td>0.086731</td>\n",
              "      <td>0.021515</td>\n",
              "      <td>0.035455</td>\n",
              "      <td>0.058271</td>\n",
              "      <td>4.177900e-15</td>\n",
              "    </tr>\n",
              "    <tr>\n",
              "      <th>3</th>\n",
              "      <td>0.081134</td>\n",
              "      <td>0.032265</td>\n",
              "      <td>0.002181</td>\n",
              "      <td>0.005949</td>\n",
              "      <td>0.102927</td>\n",
              "      <td>0.775544</td>\n",
              "      <td>1.036893e-15</td>\n",
              "    </tr>\n",
              "    <tr>\n",
              "      <th>4</th>\n",
              "      <td>0.080846</td>\n",
              "      <td>0.885034</td>\n",
              "      <td>0.004121</td>\n",
              "      <td>0.004145</td>\n",
              "      <td>0.007600</td>\n",
              "      <td>0.018255</td>\n",
              "      <td>1.183153e-15</td>\n",
              "    </tr>\n",
              "    <tr>\n",
              "      <th>...</th>\n",
              "      <td>...</td>\n",
              "      <td>...</td>\n",
              "      <td>...</td>\n",
              "      <td>...</td>\n",
              "      <td>...</td>\n",
              "      <td>...</td>\n",
              "      <td>...</td>\n",
              "    </tr>\n",
              "    <tr>\n",
              "      <th>473</th>\n",
              "      <td>0.900487</td>\n",
              "      <td>0.002304</td>\n",
              "      <td>0.000169</td>\n",
              "      <td>0.003656</td>\n",
              "      <td>0.013304</td>\n",
              "      <td>0.080081</td>\n",
              "      <td>1.799252e-16</td>\n",
              "    </tr>\n",
              "    <tr>\n",
              "      <th>474</th>\n",
              "      <td>0.206745</td>\n",
              "      <td>0.029497</td>\n",
              "      <td>0.000612</td>\n",
              "      <td>0.001356</td>\n",
              "      <td>0.693536</td>\n",
              "      <td>0.068255</td>\n",
              "      <td>1.175886e-15</td>\n",
              "    </tr>\n",
              "    <tr>\n",
              "      <th>475</th>\n",
              "      <td>0.092565</td>\n",
              "      <td>0.527239</td>\n",
              "      <td>0.024256</td>\n",
              "      <td>0.164153</td>\n",
              "      <td>0.115705</td>\n",
              "      <td>0.076082</td>\n",
              "      <td>1.964134e-15</td>\n",
              "    </tr>\n",
              "    <tr>\n",
              "      <th>476</th>\n",
              "      <td>0.167399</td>\n",
              "      <td>0.008006</td>\n",
              "      <td>0.050908</td>\n",
              "      <td>0.023675</td>\n",
              "      <td>0.648215</td>\n",
              "      <td>0.101797</td>\n",
              "      <td>2.186190e-15</td>\n",
              "    </tr>\n",
              "    <tr>\n",
              "      <th>477</th>\n",
              "      <td>0.102894</td>\n",
              "      <td>0.005714</td>\n",
              "      <td>0.018031</td>\n",
              "      <td>0.527008</td>\n",
              "      <td>0.205782</td>\n",
              "      <td>0.140572</td>\n",
              "      <td>1.969222e-15</td>\n",
              "    </tr>\n",
              "  </tbody>\n",
              "</table>\n",
              "<p>478 rows × 7 columns</p>\n",
              "</div>"
            ],
            "text/plain": [
              "            0         1         2         3         4         5             6\n",
              "0    0.037131  0.002470  0.006976  0.581844  0.174960  0.196618  1.170437e-15\n",
              "1    0.233742  0.282512  0.015596  0.066187  0.006408  0.395554  2.430436e-15\n",
              "2    0.361123  0.436906  0.086731  0.021515  0.035455  0.058271  4.177900e-15\n",
              "3    0.081134  0.032265  0.002181  0.005949  0.102927  0.775544  1.036893e-15\n",
              "4    0.080846  0.885034  0.004121  0.004145  0.007600  0.018255  1.183153e-15\n",
              "..        ...       ...       ...       ...       ...       ...           ...\n",
              "473  0.900487  0.002304  0.000169  0.003656  0.013304  0.080081  1.799252e-16\n",
              "474  0.206745  0.029497  0.000612  0.001356  0.693536  0.068255  1.175886e-15\n",
              "475  0.092565  0.527239  0.024256  0.164153  0.115705  0.076082  1.964134e-15\n",
              "476  0.167399  0.008006  0.050908  0.023675  0.648215  0.101797  2.186190e-15\n",
              "477  0.102894  0.005714  0.018031  0.527008  0.205782  0.140572  1.969222e-15\n",
              "\n",
              "[478 rows x 7 columns]"
            ]
          },
          "metadata": {
            "tags": []
          },
          "execution_count": 112
        }
      ]
    },
    {
      "cell_type": "code",
      "metadata": {
        "id": "CDtKpgdR2XBF",
        "colab": {
          "base_uri": "https://localhost:8080/"
        },
        "outputId": "6beced1d-0025-4fdc-9400-7d968fb8a43a"
      },
      "source": [
        "test_predict_class=(pd.DataFrame(lgb_final.predict(df_test)).idxmax(axis=1))\n",
        "metrics.accuracy_score(np.array(y_test), np.array(test_predict_class))"
      ],
      "execution_count": null,
      "outputs": [
        {
          "output_type": "execute_result",
          "data": {
            "text/plain": [
              "0.5418410041841004"
            ]
          },
          "metadata": {
            "tags": []
          },
          "execution_count": 113
        }
      ]
    },
    {
      "cell_type": "code",
      "metadata": {
        "id": "HrNVsGlMlf8H",
        "colab": {
          "base_uri": "https://localhost:8080/",
          "height": 416
        },
        "outputId": "35bb8bc3-e823-4517-986b-b84ebb3fd3a3"
      },
      "source": [
        "# test results df\n",
        "test_results=pd.DataFrame(test_part_ids)\n",
        "test_results['predicted_class']=test_predict_class\n",
        "test_results['actuals']=y_test\n",
        "\n",
        "test_results=test_results.rename(columns={0: \"Part_num\", \"predicted_class\": \"predicted_class\", \"actuals\": \"actuals\"}, errors=\"raise\")\n",
        "test_results"
      ],
      "execution_count": null,
      "outputs": [
        {
          "output_type": "execute_result",
          "data": {
            "text/html": [
              "<div>\n",
              "<style scoped>\n",
              "    .dataframe tbody tr th:only-of-type {\n",
              "        vertical-align: middle;\n",
              "    }\n",
              "\n",
              "    .dataframe tbody tr th {\n",
              "        vertical-align: top;\n",
              "    }\n",
              "\n",
              "    .dataframe thead th {\n",
              "        text-align: right;\n",
              "    }\n",
              "</style>\n",
              "<table border=\"1\" class=\"dataframe\">\n",
              "  <thead>\n",
              "    <tr style=\"text-align: right;\">\n",
              "      <th></th>\n",
              "      <th>Part_num</th>\n",
              "      <th>predicted_class</th>\n",
              "      <th>actuals</th>\n",
              "    </tr>\n",
              "  </thead>\n",
              "  <tbody>\n",
              "    <tr>\n",
              "      <th>0</th>\n",
              "      <td>30191</td>\n",
              "      <td>3</td>\n",
              "      <td>0</td>\n",
              "    </tr>\n",
              "    <tr>\n",
              "      <th>1</th>\n",
              "      <td>3900</td>\n",
              "      <td>5</td>\n",
              "      <td>0</td>\n",
              "    </tr>\n",
              "    <tr>\n",
              "      <th>2</th>\n",
              "      <td>3837</td>\n",
              "      <td>1</td>\n",
              "      <td>0</td>\n",
              "    </tr>\n",
              "    <tr>\n",
              "      <th>3</th>\n",
              "      <td>4349</td>\n",
              "      <td>5</td>\n",
              "      <td>0</td>\n",
              "    </tr>\n",
              "    <tr>\n",
              "      <th>4</th>\n",
              "      <td>33009</td>\n",
              "      <td>1</td>\n",
              "      <td>0</td>\n",
              "    </tr>\n",
              "    <tr>\n",
              "      <th>...</th>\n",
              "      <td>...</td>\n",
              "      <td>...</td>\n",
              "      <td>...</td>\n",
              "    </tr>\n",
              "    <tr>\n",
              "      <th>473</th>\n",
              "      <td>64681</td>\n",
              "      <td>0</td>\n",
              "      <td>5</td>\n",
              "    </tr>\n",
              "    <tr>\n",
              "      <th>474</th>\n",
              "      <td>32189</td>\n",
              "      <td>4</td>\n",
              "      <td>5</td>\n",
              "    </tr>\n",
              "    <tr>\n",
              "      <th>475</th>\n",
              "      <td>18945</td>\n",
              "      <td>1</td>\n",
              "      <td>5</td>\n",
              "    </tr>\n",
              "    <tr>\n",
              "      <th>476</th>\n",
              "      <td>32205</td>\n",
              "      <td>4</td>\n",
              "      <td>5</td>\n",
              "    </tr>\n",
              "    <tr>\n",
              "      <th>477</th>\n",
              "      <td>32246</td>\n",
              "      <td>3</td>\n",
              "      <td>5</td>\n",
              "    </tr>\n",
              "  </tbody>\n",
              "</table>\n",
              "<p>478 rows × 3 columns</p>\n",
              "</div>"
            ],
            "text/plain": [
              "    Part_num  predicted_class  actuals\n",
              "0      30191                3        0\n",
              "1       3900                5        0\n",
              "2       3837                1        0\n",
              "3       4349                5        0\n",
              "4      33009                1        0\n",
              "..       ...              ...      ...\n",
              "473    64681                0        5\n",
              "474    32189                4        5\n",
              "475    18945                1        5\n",
              "476    32205                4        5\n",
              "477    32246                3        5\n",
              "\n",
              "[478 rows x 3 columns]"
            ]
          },
          "metadata": {
            "tags": []
          },
          "execution_count": 114
        }
      ]
    },
    {
      "cell_type": "code",
      "metadata": {
        "id": "BCyFqe5GsdDB",
        "colab": {
          "base_uri": "https://localhost:8080/",
          "height": 969
        },
        "outputId": "2bac2302-c16b-4907-e843-c985c0ab1086"
      },
      "source": [
        "test_results[test_results[\"predicted_class\"]==test_results[\"actuals\"]].tail(30)"
      ],
      "execution_count": null,
      "outputs": [
        {
          "output_type": "execute_result",
          "data": {
            "text/html": [
              "<div>\n",
              "<style scoped>\n",
              "    .dataframe tbody tr th:only-of-type {\n",
              "        vertical-align: middle;\n",
              "    }\n",
              "\n",
              "    .dataframe tbody tr th {\n",
              "        vertical-align: top;\n",
              "    }\n",
              "\n",
              "    .dataframe thead th {\n",
              "        text-align: right;\n",
              "    }\n",
              "</style>\n",
              "<table border=\"1\" class=\"dataframe\">\n",
              "  <thead>\n",
              "    <tr style=\"text-align: right;\">\n",
              "      <th></th>\n",
              "      <th>Part_num</th>\n",
              "      <th>predicted_class</th>\n",
              "      <th>actuals</th>\n",
              "    </tr>\n",
              "  </thead>\n",
              "  <tbody>\n",
              "    <tr>\n",
              "      <th>423</th>\n",
              "      <td>44810</td>\n",
              "      <td>0</td>\n",
              "      <td>0</td>\n",
              "    </tr>\n",
              "    <tr>\n",
              "      <th>424</th>\n",
              "      <td>93575</td>\n",
              "      <td>0</td>\n",
              "      <td>0</td>\n",
              "    </tr>\n",
              "    <tr>\n",
              "      <th>425</th>\n",
              "      <td>87798</td>\n",
              "      <td>0</td>\n",
              "      <td>0</td>\n",
              "    </tr>\n",
              "    <tr>\n",
              "      <th>426</th>\n",
              "      <td>40339</td>\n",
              "      <td>0</td>\n",
              "      <td>0</td>\n",
              "    </tr>\n",
              "    <tr>\n",
              "      <th>428</th>\n",
              "      <td>92233</td>\n",
              "      <td>0</td>\n",
              "      <td>0</td>\n",
              "    </tr>\n",
              "    <tr>\n",
              "      <th>429</th>\n",
              "      <td>15355</td>\n",
              "      <td>0</td>\n",
              "      <td>0</td>\n",
              "    </tr>\n",
              "    <tr>\n",
              "      <th>432</th>\n",
              "      <td>62386</td>\n",
              "      <td>0</td>\n",
              "      <td>0</td>\n",
              "    </tr>\n",
              "    <tr>\n",
              "      <th>434</th>\n",
              "      <td>53542</td>\n",
              "      <td>0</td>\n",
              "      <td>0</td>\n",
              "    </tr>\n",
              "    <tr>\n",
              "      <th>435</th>\n",
              "      <td>92234</td>\n",
              "      <td>0</td>\n",
              "      <td>0</td>\n",
              "    </tr>\n",
              "    <tr>\n",
              "      <th>436</th>\n",
              "      <td>41663</td>\n",
              "      <td>0</td>\n",
              "      <td>0</td>\n",
              "    </tr>\n",
              "    <tr>\n",
              "      <th>437</th>\n",
              "      <td>98568p02</td>\n",
              "      <td>0</td>\n",
              "      <td>0</td>\n",
              "    </tr>\n",
              "    <tr>\n",
              "      <th>438</th>\n",
              "      <td>98575</td>\n",
              "      <td>0</td>\n",
              "      <td>0</td>\n",
              "    </tr>\n",
              "    <tr>\n",
              "      <th>440</th>\n",
              "      <td>57575</td>\n",
              "      <td>0</td>\n",
              "      <td>0</td>\n",
              "    </tr>\n",
              "    <tr>\n",
              "      <th>441</th>\n",
              "      <td>90649</td>\n",
              "      <td>0</td>\n",
              "      <td>0</td>\n",
              "    </tr>\n",
              "    <tr>\n",
              "      <th>442</th>\n",
              "      <td>98568p01</td>\n",
              "      <td>0</td>\n",
              "      <td>0</td>\n",
              "    </tr>\n",
              "    <tr>\n",
              "      <th>444</th>\n",
              "      <td>30376</td>\n",
              "      <td>0</td>\n",
              "      <td>0</td>\n",
              "    </tr>\n",
              "    <tr>\n",
              "      <th>445</th>\n",
              "      <td>42687</td>\n",
              "      <td>0</td>\n",
              "      <td>0</td>\n",
              "    </tr>\n",
              "    <tr>\n",
              "      <th>447</th>\n",
              "      <td>973c01</td>\n",
              "      <td>0</td>\n",
              "      <td>0</td>\n",
              "    </tr>\n",
              "    <tr>\n",
              "      <th>450</th>\n",
              "      <td>32324</td>\n",
              "      <td>5</td>\n",
              "      <td>5</td>\n",
              "    </tr>\n",
              "    <tr>\n",
              "      <th>458</th>\n",
              "      <td>32167</td>\n",
              "      <td>5</td>\n",
              "      <td>5</td>\n",
              "    </tr>\n",
              "    <tr>\n",
              "      <th>461</th>\n",
              "      <td>32905</td>\n",
              "      <td>5</td>\n",
              "      <td>5</td>\n",
              "    </tr>\n",
              "    <tr>\n",
              "      <th>463</th>\n",
              "      <td>32294</td>\n",
              "      <td>5</td>\n",
              "      <td>5</td>\n",
              "    </tr>\n",
              "    <tr>\n",
              "      <th>464</th>\n",
              "      <td>32195b</td>\n",
              "      <td>5</td>\n",
              "      <td>5</td>\n",
              "    </tr>\n",
              "    <tr>\n",
              "      <th>466</th>\n",
              "      <td>44225</td>\n",
              "      <td>5</td>\n",
              "      <td>5</td>\n",
              "    </tr>\n",
              "    <tr>\n",
              "      <th>467</th>\n",
              "      <td>45803</td>\n",
              "      <td>5</td>\n",
              "      <td>5</td>\n",
              "    </tr>\n",
              "    <tr>\n",
              "      <th>468</th>\n",
              "      <td>53533</td>\n",
              "      <td>5</td>\n",
              "      <td>5</td>\n",
              "    </tr>\n",
              "    <tr>\n",
              "      <th>469</th>\n",
              "      <td>10039</td>\n",
              "      <td>5</td>\n",
              "      <td>5</td>\n",
              "    </tr>\n",
              "    <tr>\n",
              "      <th>470</th>\n",
              "      <td>3437pe1</td>\n",
              "      <td>1</td>\n",
              "      <td>1</td>\n",
              "    </tr>\n",
              "    <tr>\n",
              "      <th>471</th>\n",
              "      <td>51262</td>\n",
              "      <td>1</td>\n",
              "      <td>1</td>\n",
              "    </tr>\n",
              "    <tr>\n",
              "      <th>472</th>\n",
              "      <td>63871</td>\n",
              "      <td>1</td>\n",
              "      <td>1</td>\n",
              "    </tr>\n",
              "  </tbody>\n",
              "</table>\n",
              "</div>"
            ],
            "text/plain": [
              "     Part_num  predicted_class  actuals\n",
              "423     44810                0        0\n",
              "424     93575                0        0\n",
              "425     87798                0        0\n",
              "426     40339                0        0\n",
              "428     92233                0        0\n",
              "429     15355                0        0\n",
              "432     62386                0        0\n",
              "434     53542                0        0\n",
              "435     92234                0        0\n",
              "436     41663                0        0\n",
              "437  98568p02                0        0\n",
              "438     98575                0        0\n",
              "440     57575                0        0\n",
              "441     90649                0        0\n",
              "442  98568p01                0        0\n",
              "444     30376                0        0\n",
              "445     42687                0        0\n",
              "447    973c01                0        0\n",
              "450     32324                5        5\n",
              "458     32167                5        5\n",
              "461     32905                5        5\n",
              "463     32294                5        5\n",
              "464    32195b                5        5\n",
              "466     44225                5        5\n",
              "467     45803                5        5\n",
              "468     53533                5        5\n",
              "469     10039                5        5\n",
              "470   3437pe1                1        1\n",
              "471     51262                1        1\n",
              "472     63871                1        1"
            ]
          },
          "metadata": {
            "tags": []
          },
          "execution_count": 115
        }
      ]
    },
    {
      "cell_type": "code",
      "metadata": {
        "id": "JvkSCdplSuLg",
        "colab": {
          "base_uri": "https://localhost:8080/",
          "height": 80
        },
        "outputId": "d3a3e8ee-8968-47fb-fc71-f16f2fb1ec7b"
      },
      "source": [
        "test_results[test_results[\"Part_num\"]==\"3437pe1\"]\n",
        "test_results[test_results[\"Part_num\"]==\"32802\"]"
      ],
      "execution_count": null,
      "outputs": [
        {
          "output_type": "execute_result",
          "data": {
            "text/html": [
              "<div>\n",
              "<style scoped>\n",
              "    .dataframe tbody tr th:only-of-type {\n",
              "        vertical-align: middle;\n",
              "    }\n",
              "\n",
              "    .dataframe tbody tr th {\n",
              "        vertical-align: top;\n",
              "    }\n",
              "\n",
              "    .dataframe thead th {\n",
              "        text-align: right;\n",
              "    }\n",
              "</style>\n",
              "<table border=\"1\" class=\"dataframe\">\n",
              "  <thead>\n",
              "    <tr style=\"text-align: right;\">\n",
              "      <th></th>\n",
              "      <th>Part_num</th>\n",
              "      <th>predicted_class</th>\n",
              "      <th>actuals</th>\n",
              "    </tr>\n",
              "  </thead>\n",
              "  <tbody>\n",
              "    <tr>\n",
              "      <th>104</th>\n",
              "      <td>32802</td>\n",
              "      <td>5</td>\n",
              "      <td>1</td>\n",
              "    </tr>\n",
              "  </tbody>\n",
              "</table>\n",
              "</div>"
            ],
            "text/plain": [
              "    Part_num  predicted_class  actuals\n",
              "104    32802                5        1"
            ]
          },
          "metadata": {
            "tags": []
          },
          "execution_count": 116
        }
      ]
    },
    {
      "cell_type": "code",
      "metadata": {
        "id": "yK2io6m8so-y",
        "colab": {
          "base_uri": "https://localhost:8080/",
          "height": 281
        },
        "outputId": "61aac651-5176-4805-8700-e958509009f7"
      },
      "source": [
        "# plot image after applying vertical edge filter to grayscale image\n",
        "plt.imshow(data_gray_fig_test[470], cmap='gray')\n",
        "plt.axis('off')\n",
        "plt.title('Image after applying grayscale filter')"
      ],
      "execution_count": null,
      "outputs": [
        {
          "output_type": "execute_result",
          "data": {
            "text/plain": [
              "Text(0.5, 1.0, 'Image after applying grayscale filter')"
            ]
          },
          "metadata": {
            "tags": []
          },
          "execution_count": 117
        },
        {
          "output_type": "display_data",
          "data": {
            "image/png": "[encoded data removed]",
            "text/plain": [
              "<Figure size 432x288 with 1 Axes>"
            ]
          },
          "metadata": {
            "tags": [],
            "needs_background": "light"
          }
        }
      ]
    },
    {
      "cell_type": "code",
      "metadata": {
        "id": "5jceBL-KT8vn",
        "colab": {
          "base_uri": "https://localhost:8080/",
          "height": 281
        },
        "outputId": "4646bb38-cf53-47ff-e4b8-236f4bfc988b"
      },
      "source": [
        "# plot image after applying vertical edge filter to grayscale image\n",
        "plt.imshow(data_gray_fig_test[104], cmap='gray')\n",
        "plt.axis('off')\n",
        "plt.title('Image after applying grayscale filter')"
      ],
      "execution_count": null,
      "outputs": [
        {
          "output_type": "execute_result",
          "data": {
            "text/plain": [
              "Text(0.5, 1.0, 'Image after applying grayscale filter')"
            ]
          },
          "metadata": {
            "tags": []
          },
          "execution_count": 118
        },
        {
          "output_type": "display_data",
          "data": {
            "image/png": "[encoded data removed]",
            "text/plain": [
              "<Figure size 432x288 with 1 Axes>"
            ]
          },
          "metadata": {
            "tags": [],
            "needs_background": "light"
          }
        }
      ]
    },
    {
      "cell_type": "code",
      "metadata": {
        "id": "NXlD11Lqv4DK"
      },
      "source": [
        "def plot_confusion_matrix(cm, classes,\n",
        "                          normalize=False,\n",
        "                          title='Confusion matrix',\n",
        "                          cmap=plt.cm.Blues):\n",
        "    \"\"\"\n",
        "    This function prints and plots the confusion matrix.\n",
        "    Normalization can be applied by setting `normalize=True`.\n",
        "    \"\"\"\n",
        "    import itertools\n",
        "    if normalize:\n",
        "        cm = cm.astype('float') / cm.sum(axis=1)[:, np.newaxis]*100\n",
        "        print(\"Normalized confusion matrix\")\n",
        "    else:\n",
        "        print('Confusion matrix, without normalization')\n",
        "\n",
        "    print(cm)\n",
        "\n",
        "    plt.imshow(cm, interpolation='nearest', cmap=cmap)\n",
        "    plt.title(title)\n",
        "    plt.colorbar()\n",
        "    tick_marks = np.arange(len(classes))\n",
        "    plt.xticks(tick_marks, classes, rotation=45)\n",
        "    plt.yticks(tick_marks, classes)\n",
        "\n",
        "    fmt = '.2f' if normalize else 'd'\n",
        "    thresh = cm.max() / 2.\n",
        "    for i, j in itertools.product(range(cm.shape[0]), range(cm.shape[1])):\n",
        "        plt.text(j, i, format(cm[i, j], fmt),\n",
        "                 horizontalalignment=\"center\",\n",
        "                 color=\"white\" if cm[i, j] > thresh else \"black\")\n",
        "\n",
        "    plt.ylabel('True label')\n",
        "    plt.xlabel('Predicted label')\n",
        "    plt.tight_layout()"
      ],
      "execution_count": null,
      "outputs": []
    },
    {
      "cell_type": "code",
      "metadata": {
        "id": "6erncWBzxHmR",
        "colab": {
          "base_uri": "https://localhost:8080/",
          "height": 672
        },
        "outputId": "3c7c43e7-66ce-49c3-8916-1d4223418f1c"
      },
      "source": [
        "cf_matrix=metrics.confusion_matrix(test_results['actuals'], test_results['predicted_class'],labels=[0,1,2,3,4,5])\n",
        "np.set_printoptions(precision=2)\n",
        "\n",
        "# Plot non-normalized confusion matrix\n",
        "fig=plt.figure(figsize=(8,8))\n",
        "\n",
        "plot_confusion_matrix(cf_matrix, classes=['Figures', 'Bricks', 'Panels','Others','Transportation','Mechanical'],\n",
        "                      title='Confusion matrix (annotated in %age)',normalize=True)"
      ],
      "execution_count": null,
      "outputs": [
        {
          "output_type": "stream",
          "text": [
            "Normalized confusion matrix\n",
            "[[67.21  9.84  0.82  3.28  7.38 11.48]\n",
            " [15.13 70.59  1.68  1.68  0.   10.92]\n",
            " [13.95 25.58 51.16  2.33  2.33  4.65]\n",
            " [42.31 11.54 19.23 11.54 11.54  3.85]\n",
            " [20.55 13.7   9.59  2.74 39.73 13.7 ]\n",
            " [21.05 22.11  4.21  2.11  9.47 41.05]]\n"
          ],
          "name": "stdout"
        },
        {
          "output_type": "display_data",
          "data": {
            "image/png": "[encoded data removed]",
            "text/plain": [
              "<Figure size 576x576 with 2 Axes>"
            ]
          },
          "metadata": {
            "tags": [],
            "needs_background": "light"
          }
        }
      ]
    },
    {
      "cell_type": "code",
      "metadata": {
        "id": "ufkem4prXR5j",
        "colab": {
          "base_uri": "https://localhost:8080/"
        },
        "outputId": "b453d36e-9e7a-4d69-cdec-a7a8011eeb60"
      },
      "source": [
        "metrics.accuracy_score(np.array(y), np.array(train_predict_class)) #definitely overfitting"
      ],
      "execution_count": null,
      "outputs": [
        {
          "output_type": "execute_result",
          "data": {
            "text/plain": [
              "1.0"
            ]
          },
          "metadata": {
            "tags": []
          },
          "execution_count": 121
        }
      ]
    },
    {
      "cell_type": "markdown",
      "metadata": {
        "id": "Yi3JJMQVAAFV"
      },
      "source": [
        "## Topological Feature Engineering"
      ]
    },
    {
      "cell_type": "code",
      "metadata": {
        "id": "9PE5TkdJ4E7H",
        "colab": {
          "base_uri": "https://localhost:8080/",
          "height": 1000
        },
        "outputId": "288db6ea-2594-44b4-e915-a29c339e6eaa"
      },
      "source": [
        "!pip install -U giotto-tda"
      ],
      "execution_count": null,
      "outputs": [
        {
          "output_type": "stream",
          "text": [
            "Collecting giotto-tda\n",
            "\u001b[?25l  Downloading https://files.pythonhosted.org/packages/ae/2f/769b974e7906c9bef6af9c1c1ec94dd518e31a471032c52c29888e26c50c/giotto_tda-0.3.1-cp36-cp36m-manylinux2010_x86_64.whl (1.5MB)\n",
            "\u001b[K     |████████████████████████████████| 1.5MB 4.0MB/s \n",
            "\u001b[?25hRequirement already satisfied, skipping upgrade: joblib>=0.16.0 in /usr/local/lib/python3.6/dist-packages (from giotto-tda) (0.17.0)\n",
            "Collecting scikit-learn>=0.23.1\n",
            "\u001b[?25l  Downloading https://files.pythonhosted.org/packages/5c/a1/273def87037a7fb010512bbc5901c31cfddfca8080bc63b42b26e3cc55b3/scikit_learn-0.23.2-cp36-cp36m-manylinux1_x86_64.whl (6.8MB)\n",
            "\u001b[K     |████████████████████████████████| 6.8MB 5.5MB/s \n",
            "\u001b[?25hRequirement already satisfied, skipping upgrade: ipywidgets>=7.5.1 in /usr/local/lib/python3.6/dist-packages (from giotto-tda) (7.5.1)\n",
            "Collecting scipy>=1.5.0\n",
            "\u001b[?25l  Downloading https://files.pythonhosted.org/packages/c8/89/63171228d5ced148f5ced50305c89e8576ffc695a90b58fe5bb602b910c2/scipy-1.5.4-cp36-cp36m-manylinux1_x86_64.whl (25.9MB)\n",
            "\u001b[K     |████████████████████████████████| 25.9MB 40.3MB/s \n",
            "\u001b[?25hCollecting numpy>=1.19.1\n",
            "\u001b[?25l  Downloading https://files.pythonhosted.org/packages/87/86/753182c9085ba4936c0076269a571613387cdb77ae2bf537448bfd63472c/numpy-1.19.4-cp36-cp36m-manylinux2010_x86_64.whl (14.5MB)\n",
            "\u001b[K     |████████████████████████████████| 14.5MB 14.0MB/s \n",
            "\u001b[?25hCollecting pyflagser>=0.4.1\n",
            "\u001b[?25l  Downloading https://files.pythonhosted.org/packages/67/c8/0d3e3713e763b29d45702326cc2a7c0432ce0162194fcf3da29bec82228f/pyflagser-0.4.1-cp36-cp36m-manylinux2010_x86_64.whl (389kB)\n",
            "\u001b[K     |████████████████████████████████| 399kB 15.8MB/s \n",
            "\u001b[?25hCollecting python-igraph>=0.8.2\n",
            "\u001b[?25l  Downloading https://files.pythonhosted.org/packages/20/6e/3ac2fc339051f652d4a01570d133e4d15321aaec929ffb5f49a67852f8d9/python_igraph-0.8.3-cp36-cp36m-manylinux2010_x86_64.whl (3.2MB)\n",
            "\u001b[K     |████████████████████████████████| 3.2MB 12.9MB/s \n",
            "\u001b[?25hCollecting plotly>=4.8.2\n",
            "\u001b[?25l  Downloading https://files.pythonhosted.org/packages/a6/66/af86e9d9bf1a3e4f2dabebeabd02a32e8ddf671a5d072b3af2b011efea99/plotly-4.12.0-py2.py3-none-any.whl (13.1MB)\n",
            "\u001b[K     |████████████████████████████████| 13.1MB 15.2MB/s \n",
            "\u001b[?25hCollecting threadpoolctl>=2.0.0\n",
            "  Downloading https://files.pythonhosted.org/packages/f7/12/ec3f2e203afa394a149911729357aa48affc59c20e2c1c8297a60f33f133/threadpoolctl-2.1.0-py3-none-any.whl\n",
            "Requirement already satisfied, skipping upgrade: nbformat>=4.2.0 in /usr/local/lib/python3.6/dist-packages (from ipywidgets>=7.5.1->giotto-tda) (5.0.8)\n",
            "Requirement already satisfied, skipping upgrade: traitlets>=4.3.1 in /usr/local/lib/python3.6/dist-packages (from ipywidgets>=7.5.1->giotto-tda) (4.3.3)\n",
            "Requirement already satisfied, skipping upgrade: widgetsnbextension~=3.5.0 in /usr/local/lib/python3.6/dist-packages (from ipywidgets>=7.5.1->giotto-tda) (3.5.1)\n",
            "Requirement already satisfied, skipping upgrade: ipykernel>=4.5.1 in /usr/local/lib/python3.6/dist-packages (from ipywidgets>=7.5.1->giotto-tda) (4.10.1)\n",
            "Requirement already satisfied, skipping upgrade: ipython>=4.0.0; python_version >= \"3.3\" in /usr/local/lib/python3.6/dist-packages (from ipywidgets>=7.5.1->giotto-tda) (5.5.0)\n",
            "Collecting texttable>=1.6.2\n",
            "  Downloading https://files.pythonhosted.org/packages/06/f5/46201c428aebe0eecfa83df66bf3e6caa29659dbac5a56ddfd83cae0d4a4/texttable-1.6.3-py2.py3-none-any.whl\n",
            "Requirement already satisfied, skipping upgrade: retrying>=1.3.3 in /usr/local/lib/python3.6/dist-packages (from plotly>=4.8.2->giotto-tda) (1.3.3)\n",
            "Requirement already satisfied, skipping upgrade: six in /usr/local/lib/python3.6/dist-packages (from plotly>=4.8.2->giotto-tda) (1.15.0)\n",
            "Requirement already satisfied, skipping upgrade: jsonschema!=2.5.0,>=2.4 in /usr/local/lib/python3.6/dist-packages (from nbformat>=4.2.0->ipywidgets>=7.5.1->giotto-tda) (2.6.0)\n",
            "Requirement already satisfied, skipping upgrade: jupyter-core in /usr/local/lib/python3.6/dist-packages (from nbformat>=4.2.0->ipywidgets>=7.5.1->giotto-tda) (4.6.3)\n",
            "Requirement already satisfied, skipping upgrade: ipython-genutils in /usr/local/lib/python3.6/dist-packages (from nbformat>=4.2.0->ipywidgets>=7.5.1->giotto-tda) (0.2.0)\n",
            "Requirement already satisfied, skipping upgrade: decorator in /usr/local/lib/python3.6/dist-packages (from traitlets>=4.3.1->ipywidgets>=7.5.1->giotto-tda) (4.4.2)\n",
            "Requirement already satisfied, skipping upgrade: notebook>=4.4.1 in /usr/local/lib/python3.6/dist-packages (from widgetsnbextension~=3.5.0->ipywidgets>=7.5.1->giotto-tda) (5.3.1)\n",
            "Requirement already satisfied, skipping upgrade: tornado>=4.0 in /usr/local/lib/python3.6/dist-packages (from ipykernel>=4.5.1->ipywidgets>=7.5.1->giotto-tda) (5.1.1)\n",
            "Requirement already satisfied, skipping upgrade: jupyter-client in /usr/local/lib/python3.6/dist-packages (from ipykernel>=4.5.1->ipywidgets>=7.5.1->giotto-tda) (5.3.5)\n",
            "Requirement already satisfied, skipping upgrade: prompt-toolkit<2.0.0,>=1.0.4 in /usr/local/lib/python3.6/dist-packages (from ipython>=4.0.0; python_version >= \"3.3\"->ipywidgets>=7.5.1->giotto-tda) (1.0.18)\n",
            "Requirement already satisfied, skipping upgrade: simplegeneric>0.8 in /usr/local/lib/python3.6/dist-packages (from ipython>=4.0.0; python_version >= \"3.3\"->ipywidgets>=7.5.1->giotto-tda) (0.8.1)\n",
            "Requirement already satisfied, skipping upgrade: setuptools>=18.5 in /usr/local/lib/python3.6/dist-packages (from ipython>=4.0.0; python_version >= \"3.3\"->ipywidgets>=7.5.1->giotto-tda) (50.3.2)\n",
            "Requirement already satisfied, skipping upgrade: pickleshare in /usr/local/lib/python3.6/dist-packages (from ipython>=4.0.0; python_version >= \"3.3\"->ipywidgets>=7.5.1->giotto-tda) (0.7.5)\n",
            "Requirement already satisfied, skipping upgrade: pexpect; sys_platform != \"win32\" in /usr/local/lib/python3.6/dist-packages (from ipython>=4.0.0; python_version >= \"3.3\"->ipywidgets>=7.5.1->giotto-tda) (4.8.0)\n",
            "Requirement already satisfied, skipping upgrade: pygments in /usr/local/lib/python3.6/dist-packages (from ipython>=4.0.0; python_version >= \"3.3\"->ipywidgets>=7.5.1->giotto-tda) (2.6.1)\n",
            "Requirement already satisfied, skipping upgrade: jinja2 in /usr/local/lib/python3.6/dist-packages (from notebook>=4.4.1->widgetsnbextension~=3.5.0->ipywidgets>=7.5.1->giotto-tda) (2.11.2)\n",
            "Requirement already satisfied, skipping upgrade: terminado>=0.8.1 in /usr/local/lib/python3.6/dist-packages (from notebook>=4.4.1->widgetsnbextension~=3.5.0->ipywidgets>=7.5.1->giotto-tda) (0.9.1)\n",
            "Requirement already satisfied, skipping upgrade: Send2Trash in /usr/local/lib/python3.6/dist-packages (from notebook>=4.4.1->widgetsnbextension~=3.5.0->ipywidgets>=7.5.1->giotto-tda) (1.5.0)\n",
            "Requirement already satisfied, skipping upgrade: nbconvert in /usr/local/lib/python3.6/dist-packages (from notebook>=4.4.1->widgetsnbextension~=3.5.0->ipywidgets>=7.5.1->giotto-tda) (5.6.1)\n",
            "Requirement already satisfied, skipping upgrade: python-dateutil>=2.1 in /usr/local/lib/python3.6/dist-packages (from jupyter-client->ipykernel>=4.5.1->ipywidgets>=7.5.1->giotto-tda) (2.8.1)\n",
            "Requirement already satisfied, skipping upgrade: pyzmq>=13 in /usr/local/lib/python3.6/dist-packages (from jupyter-client->ipykernel>=4.5.1->ipywidgets>=7.5.1->giotto-tda) (19.0.2)\n",
            "Requirement already satisfied, skipping upgrade: wcwidth in /usr/local/lib/python3.6/dist-packages (from prompt-toolkit<2.0.0,>=1.0.4->ipython>=4.0.0; python_version >= \"3.3\"->ipywidgets>=7.5.1->giotto-tda) (0.2.5)\n",
            "Requirement already satisfied, skipping upgrade: ptyprocess>=0.5 in /usr/local/lib/python3.6/dist-packages (from pexpect; sys_platform != \"win32\"->ipython>=4.0.0; python_version >= \"3.3\"->ipywidgets>=7.5.1->giotto-tda) (0.6.0)\n",
            "Requirement already satisfied, skipping upgrade: MarkupSafe>=0.23 in /usr/local/lib/python3.6/dist-packages (from jinja2->notebook>=4.4.1->widgetsnbextension~=3.5.0->ipywidgets>=7.5.1->giotto-tda) (1.1.1)\n",
            "Requirement already satisfied, skipping upgrade: bleach in /usr/local/lib/python3.6/dist-packages (from nbconvert->notebook>=4.4.1->widgetsnbextension~=3.5.0->ipywidgets>=7.5.1->giotto-tda) (3.2.1)\n",
            "Requirement already satisfied, skipping upgrade: entrypoints>=0.2.2 in /usr/local/lib/python3.6/dist-packages (from nbconvert->notebook>=4.4.1->widgetsnbextension~=3.5.0->ipywidgets>=7.5.1->giotto-tda) (0.3)\n",
            "Requirement already satisfied, skipping upgrade: mistune<2,>=0.8.1 in /usr/local/lib/python3.6/dist-packages (from nbconvert->notebook>=4.4.1->widgetsnbextension~=3.5.0->ipywidgets>=7.5.1->giotto-tda) (0.8.4)\n",
            "Requirement already satisfied, skipping upgrade: testpath in /usr/local/lib/python3.6/dist-packages (from nbconvert->notebook>=4.4.1->widgetsnbextension~=3.5.0->ipywidgets>=7.5.1->giotto-tda) (0.4.4)\n",
            "Requirement already satisfied, skipping upgrade: pandocfilters>=1.4.1 in /usr/local/lib/python3.6/dist-packages (from nbconvert->notebook>=4.4.1->widgetsnbextension~=3.5.0->ipywidgets>=7.5.1->giotto-tda) (1.4.3)\n",
            "Requirement already satisfied, skipping upgrade: defusedxml in /usr/local/lib/python3.6/dist-packages (from nbconvert->notebook>=4.4.1->widgetsnbextension~=3.5.0->ipywidgets>=7.5.1->giotto-tda) (0.6.0)\n",
            "Requirement already satisfied, skipping upgrade: packaging in /usr/local/lib/python3.6/dist-packages (from bleach->nbconvert->notebook>=4.4.1->widgetsnbextension~=3.5.0->ipywidgets>=7.5.1->giotto-tda) (20.4)\n",
            "Requirement already satisfied, skipping upgrade: webencodings in /usr/local/lib/python3.6/dist-packages (from bleach->nbconvert->notebook>=4.4.1->widgetsnbextension~=3.5.0->ipywidgets>=7.5.1->giotto-tda) (0.5.1)\n",
            "Requirement already satisfied, skipping upgrade: pyparsing>=2.0.2 in /usr/local/lib/python3.6/dist-packages (from packaging->bleach->nbconvert->notebook>=4.4.1->widgetsnbextension~=3.5.0->ipywidgets>=7.5.1->giotto-tda) (2.4.7)\n",
            "\u001b[31mERROR: tensorflow 2.3.0 has requirement numpy<1.19.0,>=1.16.0, but you'll have numpy 1.19.4 which is incompatible.\u001b[0m\n",
            "\u001b[31mERROR: tensorflow 2.3.0 has requirement scipy==1.4.1, but you'll have scipy 1.5.4 which is incompatible.\u001b[0m\n",
            "\u001b[31mERROR: datascience 0.10.6 has requirement folium==0.2.1, but you'll have folium 0.8.3 which is incompatible.\u001b[0m\n",
            "\u001b[31mERROR: albumentations 0.1.12 has requirement imgaug<0.2.7,>=0.2.5, but you'll have imgaug 0.2.9 which is incompatible.\u001b[0m\n",
            "Installing collected packages: numpy, scipy, threadpoolctl, scikit-learn, pyflagser, texttable, python-igraph, plotly, giotto-tda\n",
            "  Found existing installation: numpy 1.18.5\n",
            "    Uninstalling numpy-1.18.5:\n",
            "      Successfully uninstalled numpy-1.18.5\n",
            "  Found existing installation: scipy 1.4.1\n",
            "    Uninstalling scipy-1.4.1:\n",
            "      Successfully uninstalled scipy-1.4.1\n",
            "  Found existing installation: scikit-learn 0.22.2.post1\n",
            "    Uninstalling scikit-learn-0.22.2.post1:\n",
            "      Successfully uninstalled scikit-learn-0.22.2.post1\n",
            "  Found existing installation: plotly 4.4.1\n",
            "    Uninstalling plotly-4.4.1:\n",
            "      Successfully uninstalled plotly-4.4.1\n",
            "Successfully installed giotto-tda-0.3.1 numpy-1.19.4 plotly-4.12.0 pyflagser-0.4.1 python-igraph-0.8.3 scikit-learn-0.23.2 scipy-1.5.4 texttable-1.6.3 threadpoolctl-2.1.0\n"
          ],
          "name": "stdout"
        },
        {
          "output_type": "display_data",
          "data": {
            "application/vnd.colab-display-data+json": {
              "pip_warning": {
                "packages": [
                  "numpy",
                  "scipy",
                  "sklearn"
                ]
              }
            }
          },
          "metadata": {
            "tags": []
          }
        }
      ]
    },
    {
      "cell_type": "code",
      "metadata": {
        "id": "ir2Cch6G3iL0"
      },
      "source": [
        "from gtda.homology import VietorisRipsPersistence\n",
        "from gtda.diagrams import PersistenceEntropy\n",
        "import gtda.diagrams as diagrams\n",
        "\n",
        "import warnings\n",
        "warnings.filterwarnings(\"ignore\")"
      ],
      "execution_count": null,
      "outputs": []
    },
    {
      "cell_type": "code",
      "metadata": {
        "id": "ktu4VJHm6B7D"
      },
      "source": [
        "VR = VietorisRipsPersistence(homology_dimensions=[0, 1])\n",
        "PE = PersistenceEntropy()\n",
        "# define wass amplitude to calculate\n",
        "amplitude_w = diagrams.Amplitude(metric=\"wasserstein\")\n",
        "# define wass amplitude to calculate\n",
        "amplitude_l = diagrams.Amplitude(metric=\"landscape\")\n",
        "# define wass amplitude to calculate\n",
        "amplitude_b = diagrams.Amplitude(metric=\"betti\")\n",
        "#number of points\n",
        "points_nbr = diagrams.NumberOfPoints()\n",
        "\n",
        "PEs = []\n",
        "landscape_amplitudes=[]\n",
        "betti_amplitudes=[]\n",
        "wass_amplitudes=[]\n",
        "no_of_points=[]\n",
        "for image in data_gray_fig:\n",
        "  X=image\n",
        "  diagrams_i = VR.fit_transform(X[None, :, :])\n",
        "  features_i = PE.fit_transform(diagrams_i)\n",
        "  ampl_l_i = amplitude_l.fit_transform(diagrams_i)\n",
        "  ampl_w_i = amplitude_w.fit_transform(diagrams_i)\n",
        "  ampl_b_i = amplitude_b.fit_transform(diagrams_i)\n",
        "  point_i = points_nbr.fit_transform(diagrams_i)\n",
        "  PEs.append(features_i)\n",
        "  landscape_amplitudes.append(ampl_l_i)\n",
        "  wass_amplitudes.append(ampl_w_i)\n",
        "  betti_amplitudes.append(ampl_b_i)\n",
        "  no_of_points.append(point_i)\n"
      ],
      "execution_count": null,
      "outputs": []
    },
    {
      "cell_type": "code",
      "metadata": {
        "id": "f2ZIsk-m6a-L"
      },
      "source": [
        "# reshape to include in feature space for classification\n",
        "PE_features= np.array(PEs).reshape(np.array(PEs).shape[0],np.array(PEs).shape[2])"
      ],
      "execution_count": null,
      "outputs": []
    },
    {
      "cell_type": "code",
      "metadata": {
        "id": "wRzC1jux-5ak"
      },
      "source": [
        "# stacking feature sets\n",
        "\n",
        "features_tda= np.hstack((shannon_entr,canny_edges,sato_res_avg,corners_count,means_image,stdevs_image,hog_pcs,PE_features))\n",
        "features_tda.shape"
      ],
      "execution_count": null,
      "outputs": []
    },
    {
      "cell_type": "code",
      "metadata": {
        "id": "R2sNxsC7Etpi"
      },
      "source": [
        "features_tda"
      ],
      "execution_count": null,
      "outputs": []
    },
    {
      "cell_type": "code",
      "metadata": {
        "id": "naHutcnu-5VV"
      },
      "source": [
        "# creating a data structure with both features and lables\n",
        "data_frame_tda = np.hstack((features_tda,labels,train_part_ids))\n",
        "data_frame_tda"
      ],
      "execution_count": null,
      "outputs": []
    },
    {
      "cell_type": "code",
      "metadata": {
        "id": "Q8nRh0if-5Rg"
      },
      "source": [
        "#shuffling data\n",
        "np.random.seed(1000)  \n",
        "np.random.shuffle(data_frame_tda)\n",
        "data_frame_tda"
      ],
      "execution_count": null,
      "outputs": []
    },
    {
      "cell_type": "code",
      "metadata": {
        "id": "clCmpj7G-5LL"
      },
      "source": [
        "# create a dataframe\n",
        "df_tda= pd.DataFrame(data_frame_tda)\n",
        "df_tda=df_tda.rename(columns={0: \"SE\", 1: \"CE\", 2: \"Sato\",3:\"Corners\",4:\"Means\",5:\"SD\",\n",
        "                    6:\"HOG_PC1\",7:\"HOG_PC2\",8:\"HOG_PC3\",9:\"HOG_PC4\",10:\"HOG_PC5\",11:\"HOG_PC6\",12:\"HOG_PC7\",13:\"HOG_PC8\",14:\"HOG_PC9\",15:\"HOG_PC10\",\n",
        "                    16:\"PE_1\",17:\"PE_2\",\n",
        "                    18:\"Cat\",19:\"Part_num\"}, errors=\"raise\")\n",
        "# #To modify the float to int do this:\n",
        "df_tda.Cat = df_tda.Cat.astype(int)\n",
        "df_tda"
      ],
      "execution_count": null,
      "outputs": []
    },
    {
      "cell_type": "code",
      "metadata": {
        "id": "ix8jWmcI-5HN"
      },
      "source": [
        "rearranged_IDs_train_tda=df_tda[\"Part_num\"]\n",
        "target_var=\"Cat\"\n",
        "y_tda = df_tda[target_var]\n",
        "df_tda.drop([target_var,\"Part_num\"],axis=1, inplace=True)\n",
        "df_tda = df_tda.apply(pd.to_numeric)\n",
        "print(df_tda.shape)\n",
        "features_space_tda = df_tda.columns\n",
        "lgtrain_tda = lgb.Dataset(df_tda.loc[:,features_space_tda],y_tda, categorical_feature= \"auto\")\n",
        "print(\"created LGB dataset...\")"
      ],
      "execution_count": null,
      "outputs": []
    },
    {
      "cell_type": "code",
      "metadata": {
        "id": "8GXH8_C3-5C4"
      },
      "source": [
        "modelstart_tda= time.time()\n",
        "\n",
        "results_tda = pd.DataFrame(columns = [\"Rounds\",\"Score\",\"STDV\", \"LB\", \"Parameters\"])\n",
        "# Find Optimal Parameters / Boosting Rounds\n",
        "lgb_cv = lgb.cv(\n",
        "    params = lgbm_params,\n",
        "    train_set = lgtrain_tda,\n",
        "    num_boost_round=2000,\n",
        "    stratified=True,\n",
        "    nfold = 10,\n",
        "    verbose_eval=50,\n",
        "    seed = 123,\n",
        "    early_stopping_rounds=75)\n",
        "\n",
        "loss = lgbm_params[\"metric\"][0]\n",
        "optimal_rounds_tda = np.argmin(lgb_cv[str(loss) + '-mean'])\n",
        "best_cv_score = min(lgb_cv[str(loss) + '-mean'])\n",
        "\n",
        "print(\"\\nOptimal Round: {}\\nOptimal Score: {} + {}\".format(\n",
        "    optimal_rounds_tda,best_cv_score,lgb_cv[str(loss) + '-stdv'][optimal_rounds_tda]))\n",
        "\n",
        "results_tda = results_tda.append({\"Rounds\": optimal_rounds_tda,\n",
        "                          \"Score\": best_cv_score,\n",
        "                          \"STDV\": lgb_cv[str(loss) + '-stdv'][optimal_rounds_tda],\n",
        "                          \"LB\": None,\n",
        "                          \"Parameters\": lgbm_params}, ignore_index=True)\n",
        "results_tda.to_csv(\"lgb_10fold_tda.csv\", header=False)"
      ],
      "execution_count": null,
      "outputs": []
    },
    {
      "cell_type": "code",
      "metadata": {
        "id": "1PbrGwFEB83b"
      },
      "source": [
        "tune_parameter = [0.05,0.08,0.2,0.5]\n",
        "tune = 'learning_rate'\n",
        "for param in tune_parameter:\n",
        "    print(\"{} Parameter: {}\".format(tune, param))\n",
        "    modelstart_tda= time.time()\n",
        "    lgbm_params[tune] = param\n",
        "    # Find Optimal Parameters / Boosting Rounds\n",
        "    lgb_cv = lgb.cv(\n",
        "        params = lgbm_params,\n",
        "        train_set = lgtrain_tda,\n",
        "        num_boost_round=10000,\n",
        "        stratified=True,\n",
        "        nfold = 10,\n",
        "        verbose_eval=50,\n",
        "        seed = 123,\n",
        "        early_stopping_rounds=75)\n",
        "\n",
        "    optimal_rounds = np.argmin(lgb_cv[str(loss) + '-mean'])\n",
        "    best_cv_score = min(lgb_cv[str(loss) + '-mean'])\n",
        "\n",
        "    print(\"Optimal Round: {}\\nOptimal Score: {} + {}\".format(\n",
        "        optimal_rounds,best_cv_score,lgb_cv[str(loss) + '-stdv'][optimal_rounds]))\n",
        "    print(\"###########################################################################################\")\n",
        "\n",
        "    results_tda = results_tda.append({\"Rounds\": optimal_rounds,\n",
        "                              \"Score\": best_cv_score,\n",
        "                              \"STDV\": lgb_cv[str(loss) + '-stdv'][optimal_rounds],\n",
        "                              \"LB\": None,\n",
        "                              \"Parameters\": lgbm_params}, ignore_index=True)"
      ],
      "execution_count": null,
      "outputs": []
    },
    {
      "cell_type": "code",
      "metadata": {
        "id": "GMBwrcXPCLp1"
      },
      "source": [
        "# Best Parameters with TDA\n",
        "final_model_params_tda = results_tda.iloc[results_tda[\"Score\"].idxmin(),:][\"Parameters\"]\n",
        "optimal_rounds_tda = results_tda.iloc[results_tda[\"Score\"].idxmin(),:][\"Rounds\"]\n",
        "print(\"Parameters for Final Models:\\n\",final_model_params_tda)\n",
        "print(\"Score: {} +/- {}\".format(results_tda.iloc[results_tda[\"Score\"].idxmin(),:][\"Score\"],results_tda.iloc[results_tda[\"Score\"].idxmin(),:][\"STDV\"]))\n",
        "print(\"Rounds: \", optimal_rounds_tda)"
      ],
      "execution_count": null,
      "outputs": []
    },
    {
      "cell_type": "code",
      "metadata": {
        "id": "v22kmw1gCdNY"
      },
      "source": [
        "allmodelstart= time.time()\n",
        "# Run Model with different Seeds\n",
        "all_feature_importance_df_tda  = pd.DataFrame()\n",
        "\n",
        "# To get predictions\n",
        "def seed_pred(model,seed):\n",
        "    # Output position with highest probability\n",
        "    class_prediction = (pd.DataFrame(model.predict(df_tda)).idxmax(axis=1)).rename(target_var)\n",
        "    class_prediction.index = pred_index\n",
        "    class_prediction.to_csv('mean_preds_tda.csv',index = True, header=True)\n",
        "    return class_prediction\n",
        "\n",
        "all_seeds = [500]\n",
        "for seeds_x in all_seeds:\n",
        "    modelstart= time.time()\n",
        "    print(\"Seed: \", seeds_x,)\n",
        "    # Go Go Go\n",
        "    final_model_params_tda[\"seed\"] = seeds_x\n",
        "    lgb_final_tda = lgb.train(\n",
        "        final_model_params_tda,\n",
        "        lgtrain_tda,\n",
        "        num_boost_round = optimal_rounds_tda + 1,\n",
        "        verbose_eval=200)\n",
        "\n",
        "    # Feature Importance\n",
        "    fold_importance_df = pd.DataFrame()\n",
        "    fold_importance_df[\"feature\"] = features_space_tda\n",
        "    fold_importance_df[\"importance\"] = lgb_final_tda.feature_importance()\n",
        "    all_feature_importance_df_tda = pd.concat([all_feature_importance_df_tda, fold_importance_df], axis=0)\n",
        "    \n",
        "\n",
        "    preds_all_tda=pd.DataFrame(lgb_final_tda.predict(df))\n",
        "    train_predict_class_tda=seed_pred(model= lgb_final_tda, seed= seeds_x)\n",
        "    print(\"Model Runtime: %0.2f Minutes\"%((time.time() - modelstart)/60))\n",
        "    print(\"###########################################################################################\")\n",
        "    #del lgb_final_tda\n",
        "\n",
        "cols = all_feature_importance_df_tda[[\"feature\", \"importance\"]].groupby(\"feature\").mean().sort_values(\n",
        "    by=\"importance\", ascending=False)[:50].index\n",
        "best_features = all_feature_importance_df_tda.loc[all_feature_importance_df_tda.feature.isin(cols)]\n",
        "plt.figure(figsize=(8,10))\n",
        "sns.barplot(x=\"importance\", y=\"feature\", \n",
        "            data=best_features.sort_values(by=\"importance\", ascending=False))\n",
        "plt.title('LightGBM Features (avg over folds)')\n",
        "plt.tight_layout()\n",
        "plt.savefig('lgb_finalm_importances_tda.png')\n",
        "print(\"All Model Runtime: %0.2f Minutes\"%((time.time() - allmodelstart)/60))"
      ],
      "execution_count": null,
      "outputs": []
    },
    {
      "cell_type": "code",
      "metadata": {
        "id": "q1QEBh8RG_Kq"
      },
      "source": [
        "all_feature_importance_df_tda"
      ],
      "execution_count": null,
      "outputs": []
    },
    {
      "cell_type": "code",
      "metadata": {
        "id": "IOlxBddmI-4Z"
      },
      "source": [
        "VR = VietorisRipsPersistence(homology_dimensions=[0, 1])\n",
        "PE = PersistenceEntropy()\n",
        "PEs_test = []\n",
        "for image in data_gray_fig_test:\n",
        "  X=image\n",
        "  diagrams = VR.fit_transform(X[None, :, :])\n",
        "  features_i = PE.fit_transform(diagrams)\n",
        "  PEs_test.append(features_i)\n",
        "\n",
        "\n",
        "len(PEs_test)"
      ],
      "execution_count": null,
      "outputs": []
    },
    {
      "cell_type": "code",
      "metadata": {
        "id": "ghIbJ9z4I_S9"
      },
      "source": [
        "# reshape to include in feature space for classification\n",
        "PE_features_test= np.array(PEs_test).reshape(np.array(PEs_test).shape[0],np.array(PEs_test).shape[2])"
      ],
      "execution_count": null,
      "outputs": []
    },
    {
      "cell_type": "code",
      "metadata": {
        "id": "4ATwA3shJcXJ"
      },
      "source": [
        "# stacking feature sets\n",
        "features_test_tda= np.hstack((shannon_entr_test,canny_edges_test,sato_res_avg_test,corners_count_test,means_image_test,stdevs_image_test,hog_pcs_test,PE_features_test))\n",
        "features_test_tda.shape\n",
        "# creating a data structure with both features and lables\n",
        "data_frame_test_tda = np.hstack((features_test_tda,labels_test,test_part_ids))\n",
        "data_frame_test_tda"
      ],
      "execution_count": null,
      "outputs": []
    },
    {
      "cell_type": "code",
      "metadata": {
        "id": "dkY4KAf6Juy4"
      },
      "source": [
        "# create a dataframe\n",
        "df_test_tda= pd.DataFrame(data_frame_test_tda)\n",
        "df_test_tda=df_test_tda.rename(columns={0: \"SE\", 1: \"CE\", 2: \"Sato\",3:\"Corners\",4:\"Means\",5:\"SD\",\n",
        "                    6:\"HOG_PC1\",7:\"HOG_PC2\",8:\"HOG_PC3\",9:\"HOG_PC4\",10:\"HOG_PC5\",11:\"HOG_PC6\",12:\"HOG_PC7\",13:\"HOG_PC8\",14:\"HOG_PC9\",15:\"HOG_PC10\",\n",
        "                    16:\"PE_1\",17:\"PE_2\",\n",
        "                    18:\"Cat\",19:\"Part_num\"}, errors=\"raise\")\n",
        "# #To modify the float to int do this:\n",
        "df_test_tda.Cat = df_test_tda.Cat.astype(int)\n",
        "df_test_tda"
      ],
      "execution_count": null,
      "outputs": []
    },
    {
      "cell_type": "code",
      "metadata": {
        "id": "CLotnqORKecK"
      },
      "source": [
        "rearranged_IDs_test_tda=df_test_tda[\"Part_num\"]\n",
        "target_var=\"Cat\"\n",
        "y_test_tda = df_test_tda[target_var]\n",
        "df_test_tda.drop([target_var,\"Part_num\"],axis=1, inplace=True)\n",
        "df_test_tda = df_test_tda.apply(pd.to_numeric)\n",
        "df_test_tda.shape"
      ],
      "execution_count": null,
      "outputs": []
    },
    {
      "cell_type": "code",
      "metadata": {
        "id": "xb0xVsKSK1iQ"
      },
      "source": [
        "preds_all_test_tda=pd.DataFrame(lgb_final_tda.predict(df_test_tda))\n",
        "test_predict_class_tda=(pd.DataFrame(lgb_final_tda.predict(df_test_tda)).idxmax(axis=1))\n",
        "metrics.accuracy_score(np.array(y_test_tda), np.array(test_predict_class_tda))"
      ],
      "execution_count": null,
      "outputs": []
    },
    {
      "cell_type": "code",
      "metadata": {
        "id": "uD70xSuzLPZt"
      },
      "source": [
        "# test results df\n",
        "test_results_tda=pd.DataFrame(test_part_ids)\n",
        "test_results_tda['predicted_class']=test_predict_class_tda\n",
        "test_results_tda['actuals']=y_test_tda\n",
        "\n",
        "test_results_tda=test_results_tda.rename(columns={0: \"Part_num\", \"predicted_class\": \"predicted_class\", \"actuals\": \"actuals\"}, errors=\"raise\")\n",
        "test_results_tda"
      ],
      "execution_count": null,
      "outputs": []
    },
    {
      "cell_type": "code",
      "metadata": {
        "id": "2T9zpcyBLpEH"
      },
      "source": [
        "cf_matrix_tda=metrics.confusion_matrix(test_results_tda['actuals'], test_results_tda['predicted_class'],labels=[0,1,2,3,4,5])\n",
        "np.set_printoptions(precision=2)\n",
        "\n",
        "# Plot non-normalized confusion matrix\n",
        "fig=plt.figure(figsize=(8,8))\n",
        "\n",
        "plot_confusion_matrix(cf_matrix_tda, classes=['Figures', 'Bricks', 'Panels','Others','Transportation','Mechanical'],\n",
        "                      title='Confusion matrix (annotated in %age)',normalize=True)"
      ],
      "execution_count": null,
      "outputs": []
    },
    {
      "cell_type": "code",
      "metadata": {
        "id": "-048iKAEPAEW"
      },
      "source": [
        "m1_right=test_results[test_results[\"predicted_class\"]==test_results[\"actuals\"]]\n",
        "m2_right=test_results_tda[test_results_tda[\"predicted_class\"]==test_results_tda[\"actuals\"]]\n",
        "\n",
        "pd.merge(m1_right, m2_right, how ='inner', on =['Part_num']) "
      ],
      "execution_count": null,
      "outputs": []
    },
    {
      "cell_type": "code",
      "metadata": {
        "id": "ynJ1Ht7w1gEX"
      },
      "source": [
        "print(m1_right.shape)\n",
        "print(m2_right.shape)"
      ],
      "execution_count": null,
      "outputs": []
    },
    {
      "cell_type": "code",
      "metadata": {
        "id": "5vfkWYdyTVLh"
      },
      "source": [
        "m1_wrong=test_results[(test_results[\"predicted_class\"]!=test_results[\"actuals\"]) & (test_results[\"actuals\"]==1)]\n",
        "m2_right2=test_results_tda[(test_results_tda[\"predicted_class\"]==test_results_tda[\"actuals\"])&(test_results_tda[\"actuals\"]==1)]\n",
        "\n",
        "pd.merge(m1_wrong, m2_right2, how ='inner', on =['Part_num']) "
      ],
      "execution_count": null,
      "outputs": []
    },
    {
      "cell_type": "code",
      "metadata": {
        "id": "7KxCUD2P1VX-"
      },
      "source": [
        "print(m1_wrong.shape)\n",
        "print(m2_right2.shape)"
      ],
      "execution_count": null,
      "outputs": []
    },
    {
      "cell_type": "code",
      "metadata": {
        "id": "PimEM6OZysoB"
      },
      "source": [
        "# reshape to include in feature space for classification\n",
        "PE_features= np.array(PEs).reshape(np.array(PEs).shape[0],np.array(PEs).shape[2])\n",
        "wass_amplitudes_ftrs= np.array(wass_amplitudes).reshape(np.array(wass_amplitudes).shape[0],np.array(wass_amplitudes).shape[2])\n",
        "betti_amplitudes_ftrs= np.array(betti_amplitudes).reshape(np.array(betti_amplitudes).shape[0],np.array(betti_amplitudes).shape[2])\n",
        "landscape_amplitudes_ftrs= np.array(landscape_amplitudes).reshape(np.array(landscape_amplitudes).shape[0],np.array(landscape_amplitudes).shape[2])\n",
        "no_of_points_ftrs= np.array(no_of_points).reshape(np.array(no_of_points).shape[0],np.array(no_of_points).shape[2])"
      ],
      "execution_count": null,
      "outputs": []
    },
    {
      "cell_type": "code",
      "metadata": {
        "colab": {
          "base_uri": "https://localhost:8080/"
        },
        "id": "CqnSL1tazp0o",
        "outputId": "db2e01ad-b995-426c-947e-11ac4cd3b453"
      },
      "source": [
        "# stacking feature sets\n",
        "\n",
        "features_tda_2= np.hstack((shannon_entr,canny_edges,sato_res_avg,corners_count,means_image,stdevs_image,hog_pcs,PE_features,wass_amplitudes_ftrs,betti_amplitudes_ftrs,landscape_amplitudes_ftrs,no_of_points_ftrs))\n",
        "features_tda_2.shape"
      ],
      "execution_count": null,
      "outputs": [
        {
          "output_type": "execute_result",
          "data": {
            "text/plain": [
              "(1910, 26)"
            ]
          },
          "metadata": {
            "tags": []
          },
          "execution_count": 93
        }
      ]
    },
    {
      "cell_type": "code",
      "metadata": {
        "colab": {
          "base_uri": "https://localhost:8080/"
        },
        "id": "3qPCG1qqz3A1",
        "outputId": "649eb876-469b-4d5e-9be0-3a8cc599da67"
      },
      "source": [
        "# creating a data structure with both features and lables\n",
        "data_frame_tda2 = np.hstack((features_tda_2,labels,train_part_ids))\n",
        "data_frame_tda2"
      ],
      "execution_count": null,
      "outputs": [
        {
          "output_type": "execute_result",
          "data": {
            "text/plain": [
              "array([[2.892348216782081, 0.006444, 0.02011559771846629, ..., 80.0, 0,\n",
              "        '2343'],\n",
              "       [4.2142486057007655, 0.007512, 0.023451516363921527, ..., 12.0, 0,\n",
              "        '30089a'],\n",
              "       [3.6315198083955993, 0.0073, 0.022321677826889243, ..., 24.0, 0,\n",
              "        '30162'],\n",
              "       ...,\n",
              "       [1.7732348491426664, 0.0073, 0.019773979188455224, ..., 9.0, 5,\n",
              "        '32206'],\n",
              "       [2.75286035053871, 0.009408, 0.026938831752844037, ..., 7.0, 5,\n",
              "        '32218'],\n",
              "       [1.527288199992429, 0.006768, 0.017612865299353513, ..., 70.0, 5,\n",
              "        '32230']], dtype=object)"
            ]
          },
          "metadata": {
            "tags": []
          },
          "execution_count": 94
        }
      ]
    },
    {
      "cell_type": "code",
      "metadata": {
        "colab": {
          "base_uri": "https://localhost:8080/"
        },
        "id": "YWvERy-bz_5w",
        "outputId": "be9ed1a1-21a1-4f0c-c811-9e8efef86dba"
      },
      "source": [
        "#shuffling data\n",
        "np.random.seed(1000)  \n",
        "np.random.shuffle(data_frame_tda2)\n",
        "data_frame_tda2"
      ],
      "execution_count": null,
      "outputs": [
        {
          "output_type": "execute_result",
          "data": {
            "text/plain": [
              "array([[3.7308338229756575, 0.007608, 0.021241155945973467, ..., 2.0, 5,\n",
              "        '87574'],\n",
              "       [3.6905601461084836, 0.006456, 0.02128780137842248, ..., 36.0, 1,\n",
              "        '2341'],\n",
              "       [4.3067412630171225, 0.006408, 0.022914201772816948, ..., 9.0, 5,\n",
              "        '57519'],\n",
              "       ...,\n",
              "       [1.8482884732022082, 0.005588, 0.017624169717095864, ..., 51.0, 0,\n",
              "        '19220'],\n",
              "       [3.904298246100278, 0.00798, 0.023526045438414307, ..., 1.0, 1,\n",
              "        '4085c'],\n",
              "       [4.049628177961457, 0.00808, 0.02374202429844276, ..., 15.0, 5,\n",
              "        '2582']], dtype=object)"
            ]
          },
          "metadata": {
            "tags": []
          },
          "execution_count": 95
        }
      ]
    },
    {
      "cell_type": "code",
      "metadata": {
        "colab": {
          "base_uri": "https://localhost:8080/",
          "height": 222
        },
        "id": "s2mQ1R3w0AWu",
        "outputId": "c2cc2e96-d07f-4a48-8818-4c0d7ad0936c"
      },
      "source": [
        "# create a dataframe\n",
        "#,wass_amplitudes_ftrs,betti_amplitudes_ftrs,landscape_amplitudes_ftrs,no_of_points_ftrs\n",
        "df_tda2= pd.DataFrame(data_frame_tda2)\n",
        "df_tda2=df_tda2.rename(columns={0: \"SE\", 1: \"CE\", 2: \"Sato\",3:\"Corners\",4:\"Means\",5:\"SD\",\n",
        "                    6:\"HOG_PC1\",7:\"HOG_PC2\",8:\"HOG_PC3\",9:\"HOG_PC4\",10:\"HOG_PC5\",11:\"HOG_PC6\",12:\"HOG_PC7\",13:\"HOG_PC8\",14:\"HOG_PC9\",15:\"HOG_PC10\",\n",
        "                    16:\"PE_1\",17:\"PE_2\",\n",
        "                    18:\"Wass_comp1\",19:\"Wass_comp2\",\n",
        "                    20:\"Betti_comp1\",21:\"Betti_comp2\",\n",
        "                    22:\"Landscape_comp1\",23:\"Landscape_comp2\",\n",
        "                    24:\"no_pnts_1\",25:\"no_pnts_2\",\n",
        "                    26:\"Cat\",27:\"Part_num\"}, errors=\"raise\")\n",
        "# #To modify the float to int do this:\n",
        "df_tda2.Cat = df_tda2.Cat.astype(int)\n",
        "df_tda2.head()"
      ],
      "execution_count": null,
      "outputs": [
        {
          "output_type": "execute_result",
          "data": {
            "text/html": [
              "<div>\n",
              "<style scoped>\n",
              "    .dataframe tbody tr th:only-of-type {\n",
              "        vertical-align: middle;\n",
              "    }\n",
              "\n",
              "    .dataframe tbody tr th {\n",
              "        vertical-align: top;\n",
              "    }\n",
              "\n",
              "    .dataframe thead th {\n",
              "        text-align: right;\n",
              "    }\n",
              "</style>\n",
              "<table border=\"1\" class=\"dataframe\">\n",
              "  <thead>\n",
              "    <tr style=\"text-align: right;\">\n",
              "      <th></th>\n",
              "      <th>SE</th>\n",
              "      <th>CE</th>\n",
              "      <th>Sato</th>\n",
              "      <th>Corners</th>\n",
              "      <th>Means</th>\n",
              "      <th>SD</th>\n",
              "      <th>HOG_PC1</th>\n",
              "      <th>HOG_PC2</th>\n",
              "      <th>HOG_PC3</th>\n",
              "      <th>HOG_PC4</th>\n",
              "      <th>HOG_PC5</th>\n",
              "      <th>HOG_PC6</th>\n",
              "      <th>HOG_PC7</th>\n",
              "      <th>HOG_PC8</th>\n",
              "      <th>HOG_PC9</th>\n",
              "      <th>HOG_PC10</th>\n",
              "      <th>PE_1</th>\n",
              "      <th>PE_2</th>\n",
              "      <th>Wass_comp1</th>\n",
              "      <th>Wass_comp2</th>\n",
              "      <th>Betti_comp1</th>\n",
              "      <th>Betti_comp2</th>\n",
              "      <th>Landscape_comp1</th>\n",
              "      <th>Landscape_comp2</th>\n",
              "      <th>no_pnts_1</th>\n",
              "      <th>no_pnts_2</th>\n",
              "      <th>Cat</th>\n",
              "      <th>Part_num</th>\n",
              "    </tr>\n",
              "  </thead>\n",
              "  <tbody>\n",
              "    <tr>\n",
              "      <th>0</th>\n",
              "      <td>3.73083</td>\n",
              "      <td>0.007608</td>\n",
              "      <td>0.0212412</td>\n",
              "      <td>42</td>\n",
              "      <td>0.616249</td>\n",
              "      <td>0.434553</td>\n",
              "      <td>-11.3124</td>\n",
              "      <td>-7.55193</td>\n",
              "      <td>0.400497</td>\n",
              "      <td>0.89131</td>\n",
              "      <td>3.26025</td>\n",
              "      <td>-1.75736</td>\n",
              "      <td>5.61226</td>\n",
              "      <td>-0.617447</td>\n",
              "      <td>0.617013</td>\n",
              "      <td>3.08984</td>\n",
              "      <td>8.66334</td>\n",
              "      <td>0.00500033</td>\n",
              "      <td>10.5162</td>\n",
              "      <td>5.10725</td>\n",
              "      <td>381.97</td>\n",
              "      <td>3.19601</td>\n",
              "      <td>1.29799</td>\n",
              "      <td>9.42351</td>\n",
              "      <td>430</td>\n",
              "      <td>2</td>\n",
              "      <td>5</td>\n",
              "      <td>87574</td>\n",
              "    </tr>\n",
              "    <tr>\n",
              "      <th>1</th>\n",
              "      <td>3.69056</td>\n",
              "      <td>0.006456</td>\n",
              "      <td>0.0212878</td>\n",
              "      <td>10</td>\n",
              "      <td>0.60655</td>\n",
              "      <td>0.441289</td>\n",
              "      <td>-12.4212</td>\n",
              "      <td>-8.00456</td>\n",
              "      <td>0.781029</td>\n",
              "      <td>-4.98909</td>\n",
              "      <td>4.12235</td>\n",
              "      <td>-1.70232</td>\n",
              "      <td>5.98245</td>\n",
              "      <td>1.07421</td>\n",
              "      <td>1.22733</td>\n",
              "      <td>2.00931</td>\n",
              "      <td>8.54987</td>\n",
              "      <td>0.694082</td>\n",
              "      <td>10.6687</td>\n",
              "      <td>3.09695</td>\n",
              "      <td>370.299</td>\n",
              "      <td>2.80655</td>\n",
              "      <td>4.34978</td>\n",
              "      <td>4.44849</td>\n",
              "      <td>397</td>\n",
              "      <td>36</td>\n",
              "      <td>1</td>\n",
              "      <td>2341</td>\n",
              "    </tr>\n",
              "    <tr>\n",
              "      <th>2</th>\n",
              "      <td>4.30674</td>\n",
              "      <td>0.006408</td>\n",
              "      <td>0.0229142</td>\n",
              "      <td>14</td>\n",
              "      <td>0.534291</td>\n",
              "      <td>0.452698</td>\n",
              "      <td>1.71341</td>\n",
              "      <td>-0.976002</td>\n",
              "      <td>-9.23265</td>\n",
              "      <td>-3.04385</td>\n",
              "      <td>-1.62646</td>\n",
              "      <td>-2.43195</td>\n",
              "      <td>6.56708</td>\n",
              "      <td>-2.7994</td>\n",
              "      <td>3.05266</td>\n",
              "      <td>-0.512204</td>\n",
              "      <td>8.56489</td>\n",
              "      <td>0.127091</td>\n",
              "      <td>10.1966</td>\n",
              "      <td>4.42755</td>\n",
              "      <td>346.368</td>\n",
              "      <td>2.99736</td>\n",
              "      <td>1.71831</td>\n",
              "      <td>7.60611</td>\n",
              "      <td>425</td>\n",
              "      <td>9</td>\n",
              "      <td>5</td>\n",
              "      <td>57519</td>\n",
              "    </tr>\n",
              "    <tr>\n",
              "      <th>3</th>\n",
              "      <td>2.42216</td>\n",
              "      <td>0.007208</td>\n",
              "      <td>0.020335</td>\n",
              "      <td>42</td>\n",
              "      <td>0.780075</td>\n",
              "      <td>0.384513</td>\n",
              "      <td>-11.0067</td>\n",
              "      <td>-11.6329</td>\n",
              "      <td>-1.59876</td>\n",
              "      <td>-1.01529</td>\n",
              "      <td>3.14774</td>\n",
              "      <td>-2.20887</td>\n",
              "      <td>4.17535</td>\n",
              "      <td>1.83186</td>\n",
              "      <td>0.223578</td>\n",
              "      <td>1.60435</td>\n",
              "      <td>8.40219</td>\n",
              "      <td>0</td>\n",
              "      <td>9.47703</td>\n",
              "      <td>4.15926</td>\n",
              "      <td>302.575</td>\n",
              "      <td>2.88419</td>\n",
              "      <td>1.19666</td>\n",
              "      <td>6.92559</td>\n",
              "      <td>395</td>\n",
              "      <td>1</td>\n",
              "      <td>0</td>\n",
              "      <td>50858</td>\n",
              "    </tr>\n",
              "    <tr>\n",
              "      <th>4</th>\n",
              "      <td>3.31559</td>\n",
              "      <td>0.017108</td>\n",
              "      <td>0.0325029</td>\n",
              "      <td>25</td>\n",
              "      <td>0.688927</td>\n",
              "      <td>0.383468</td>\n",
              "      <td>-1.54133</td>\n",
              "      <td>-9.25881</td>\n",
              "      <td>-2.57287</td>\n",
              "      <td>1.23733</td>\n",
              "      <td>4.74647</td>\n",
              "      <td>0.758134</td>\n",
              "      <td>5.68451</td>\n",
              "      <td>4.56966</td>\n",
              "      <td>7.31306</td>\n",
              "      <td>-0.0792502</td>\n",
              "      <td>8.55466</td>\n",
              "      <td>1.95472</td>\n",
              "      <td>15.0843</td>\n",
              "      <td>4.03238</td>\n",
              "      <td>434.669</td>\n",
              "      <td>5.7156</td>\n",
              "      <td>2.12943</td>\n",
              "      <td>6.23478</td>\n",
              "      <td>397</td>\n",
              "      <td>15</td>\n",
              "      <td>2</td>\n",
              "      <td>3070bp60</td>\n",
              "    </tr>\n",
              "  </tbody>\n",
              "</table>\n",
              "</div>"
            ],
            "text/plain": [
              "        SE        CE       Sato Corners  ... no_pnts_1 no_pnts_2 Cat  Part_num\n",
              "0  3.73083  0.007608  0.0212412      42  ...       430         2   5     87574\n",
              "1  3.69056  0.006456  0.0212878      10  ...       397        36   1      2341\n",
              "2  4.30674  0.006408  0.0229142      14  ...       425         9   5     57519\n",
              "3  2.42216  0.007208   0.020335      42  ...       395         1   0     50858\n",
              "4  3.31559  0.017108  0.0325029      25  ...       397        15   2  3070bp60\n",
              "\n",
              "[5 rows x 28 columns]"
            ]
          },
          "metadata": {
            "tags": []
          },
          "execution_count": 98
        }
      ]
    },
    {
      "cell_type": "code",
      "metadata": {
        "colab": {
          "base_uri": "https://localhost:8080/"
        },
        "id": "8uzQcS_h0AQm",
        "outputId": "9565dca5-c4fe-48a1-9659-3085be466a4d"
      },
      "source": [
        "rearranged_IDs_train_tda2=df_tda2[\"Part_num\"]\n",
        "target_var=\"Cat\"\n",
        "y_tda2 = df_tda2[target_var]\n",
        "df_tda2.drop([target_var,\"Part_num\"],axis=1, inplace=True)\n",
        "df_tda2 = df_tda2.apply(pd.to_numeric)\n",
        "print(df_tda2.shape)\n",
        "features_space_tda2 = df_tda2.columns\n",
        "lgtrain_tda2 = lgb.Dataset(df_tda2.loc[:,features_space_tda2],y_tda2, categorical_feature= \"auto\")\n",
        "print(\"created LGB dataset...\")"
      ],
      "execution_count": null,
      "outputs": [
        {
          "output_type": "stream",
          "text": [
            "(1910, 26)\n",
            "created LGB dataset...\n"
          ],
          "name": "stdout"
        }
      ]
    },
    {
      "cell_type": "code",
      "metadata": {
        "colab": {
          "base_uri": "https://localhost:8080/"
        },
        "id": "iMoiJXwz1YLy",
        "outputId": "228c713f-16fc-4161-d016-d8ef1d93c68e"
      },
      "source": [
        "modelstart_tda= time.time()\n",
        "\n",
        "results_tda2 = pd.DataFrame(columns = [\"Rounds\",\"Score\",\"STDV\", \"LB\", \"Parameters\"])\n",
        "# Find Optimal Parameters / Boosting Rounds\n",
        "lgb_cv = lgb.cv(\n",
        "    params = lgbm_params,\n",
        "    train_set = lgtrain_tda2,\n",
        "    num_boost_round=2000,\n",
        "    stratified=True,\n",
        "    nfold = 10,\n",
        "    verbose_eval=50,\n",
        "    seed = 123,\n",
        "    early_stopping_rounds=75)\n",
        "\n",
        "loss = lgbm_params[\"metric\"][0]\n",
        "optimal_rounds_tda2 = np.argmin(lgb_cv[str(loss) + '-mean'])\n",
        "best_cv_score = min(lgb_cv[str(loss) + '-mean'])\n",
        "\n",
        "print(\"\\nOptimal Round: {}\\nOptimal Score: {} + {}\".format(\n",
        "    optimal_rounds_tda2,best_cv_score,lgb_cv[str(loss) + '-stdv'][optimal_rounds_tda2]))\n",
        "\n",
        "results_tda2 = results_tda2.append({\"Rounds\": optimal_rounds_tda2,\n",
        "                          \"Score\": best_cv_score,\n",
        "                          \"STDV\": lgb_cv[str(loss) + '-stdv'][optimal_rounds_tda2],\n",
        "                          \"LB\": None,\n",
        "                          \"Parameters\": lgbm_params}, ignore_index=True)\n",
        "results_tda2.to_csv(\"lgb_10fold_tda.csv\", header=False)"
      ],
      "execution_count": null,
      "outputs": [
        {
          "output_type": "stream",
          "text": [
            "[50]\tcv_agg's multi_error: 0.350262 + 0.0309255\n",
            "[100]\tcv_agg's multi_error: 0.344503 + 0.0373016\n",
            "[150]\tcv_agg's multi_error: 0.345026 + 0.0370546\n",
            "\n",
            "Optimal Round: 80\n",
            "Optimal Score: 0.343979057591623 + 0.036802223603748636\n"
          ],
          "name": "stdout"
        }
      ]
    },
    {
      "cell_type": "code",
      "metadata": {
        "colab": {
          "base_uri": "https://localhost:8080/"
        },
        "id": "vL_ildfc10Mg",
        "outputId": "4774878e-e758-4165-e260-9329f81ba8e3"
      },
      "source": [
        "tune_parameter = [0.05,0.08,0.2,0.5]\n",
        "tune = 'learning_rate'\n",
        "for param in tune_parameter:\n",
        "    print(\"{} Parameter: {}\".format(tune, param))\n",
        "    modelstart_tda2= time.time()\n",
        "    lgbm_params[tune] = param\n",
        "    # Find Optimal Parameters / Boosting Rounds\n",
        "    lgb_cv = lgb.cv(\n",
        "        params = lgbm_params,\n",
        "        train_set = lgtrain_tda2,\n",
        "        num_boost_round=10000,\n",
        "        stratified=True,\n",
        "        nfold = 10,\n",
        "        verbose_eval=50,\n",
        "        seed = 123,\n",
        "        early_stopping_rounds=75)\n",
        "\n",
        "    optimal_rounds = np.argmin(lgb_cv[str(loss) + '-mean'])\n",
        "    best_cv_score = min(lgb_cv[str(loss) + '-mean'])\n",
        "\n",
        "    print(\"Optimal Round: {}\\nOptimal Score: {} + {}\".format(\n",
        "        optimal_rounds,best_cv_score,lgb_cv[str(loss) + '-stdv'][optimal_rounds]))\n",
        "    print(\"###########################################################################################\")\n",
        "\n",
        "    results_tda2 = results_tda2.append({\"Rounds\": optimal_rounds,\n",
        "                              \"Score\": best_cv_score,\n",
        "                              \"STDV\": lgb_cv[str(loss) + '-stdv'][optimal_rounds],\n",
        "                              \"LB\": None,\n",
        "                              \"Parameters\": lgbm_params}, ignore_index=True)"
      ],
      "execution_count": null,
      "outputs": [
        {
          "output_type": "stream",
          "text": [
            "learning_rate Parameter: 0.05\n",
            "[50]\tcv_agg's multi_error: 0.378534 + 0.0362015\n",
            "[100]\tcv_agg's multi_error: 0.354974 + 0.0245348\n",
            "[150]\tcv_agg's multi_error: 0.344503 + 0.0255205\n",
            "[200]\tcv_agg's multi_error: 0.336126 + 0.0264696\n",
            "[250]\tcv_agg's multi_error: 0.336649 + 0.030533\n",
            "[300]\tcv_agg's multi_error: 0.339791 + 0.0296587\n",
            "Optimal Round: 257\n",
            "Optimal Score: 0.33455497382198957 + 0.0317132308291263\n",
            "###########################################################################################\n",
            "learning_rate Parameter: 0.08\n",
            "[50]\tcv_agg's multi_error: 0.369634 + 0.028311\n",
            "[100]\tcv_agg's multi_error: 0.349738 + 0.0287529\n",
            "[150]\tcv_agg's multi_error: 0.336126 + 0.0301491\n",
            "[200]\tcv_agg's multi_error: 0.333508 + 0.0344159\n",
            "[250]\tcv_agg's multi_error: 0.33089 + 0.0339951\n",
            "[300]\tcv_agg's multi_error: 0.328272 + 0.0327005\n",
            "[350]\tcv_agg's multi_error: 0.326702 + 0.0325451\n",
            "[400]\tcv_agg's multi_error: 0.329843 + 0.0319329\n",
            "Optimal Round: 338\n",
            "Optimal Score: 0.3246073298429319 + 0.031238605005604807\n",
            "###########################################################################################\n",
            "learning_rate Parameter: 0.2\n",
            "[50]\tcv_agg's multi_error: 0.349738 + 0.0302399\n",
            "[100]\tcv_agg's multi_error: 0.331414 + 0.0308901\n",
            "[150]\tcv_agg's multi_error: 0.331937 + 0.0320357\n",
            "Optimal Round: 116\n",
            "Optimal Score: 0.3293193717277487 + 0.03214250361920592\n",
            "###########################################################################################\n",
            "learning_rate Parameter: 0.5\n",
            "[50]\tcv_agg's multi_error: 0.350262 + 0.0309255\n",
            "[100]\tcv_agg's multi_error: 0.344503 + 0.0373016\n",
            "[150]\tcv_agg's multi_error: 0.345026 + 0.0370546\n",
            "Optimal Round: 80\n",
            "Optimal Score: 0.343979057591623 + 0.036802223603748636\n",
            "###########################################################################################\n"
          ],
          "name": "stdout"
        }
      ]
    },
    {
      "cell_type": "code",
      "metadata": {
        "colab": {
          "base_uri": "https://localhost:8080/"
        },
        "id": "iJtxwGMs1-5g",
        "outputId": "89e1efe1-6e66-4c83-f977-92897affce4b"
      },
      "source": [
        "# Best Parameters with TDA\n",
        "final_model_params_tda2 = results_tda2.iloc[results_tda2[\"Score\"].idxmin(),:][\"Parameters\"]\n",
        "optimal_rounds_tda2 = results_tda2.iloc[results_tda2[\"Score\"].idxmin(),:][\"Rounds\"]\n",
        "print(\"Parameters for Final Models:\\n\",final_model_params_tda2)\n",
        "print(\"Score: {} +/- {}\".format(results_tda2.iloc[results_tda2[\"Score\"].idxmin(),:][\"Score\"],results_tda2.iloc[results_tda2[\"Score\"].idxmin(),:][\"STDV\"]))\n",
        "print(\"Rounds: \", optimal_rounds_tda2)"
      ],
      "execution_count": null,
      "outputs": [
        {
          "output_type": "stream",
          "text": [
            "Parameters for Final Models:\n",
            " {'task': 'train', 'boosting_type': 'gbdt', 'objective': 'multiclass', 'num_class': 7, 'metric': ['multi_error'], 'learning_rate': 0.5, 'num_leaves': 60, 'max_depth': 9, 'feature_fraction': 0.45, 'bagging_fraction': 0.3, 'reg_alpha': 0.15, 'reg_lambda': 0.15, 'min_child_weight': 0, 'seed': 500}\n",
            "Score: 0.3246073298429319 +/- 0.031238605005604807\n",
            "Rounds:  338\n"
          ],
          "name": "stdout"
        }
      ]
    },
    {
      "cell_type": "code",
      "metadata": {
        "colab": {
          "base_uri": "https://localhost:8080/",
          "height": 798
        },
        "id": "ABhJDyma2aqI",
        "outputId": "383f9975-6f15-4791-92eb-ad4115cbfa7d"
      },
      "source": [
        "allmodelstart= time.time()\n",
        "# Run Model with different Seeds\n",
        "all_feature_importance_df_tda2  = pd.DataFrame()\n",
        "\n",
        "# To get predictions\n",
        "def seed_pred(model,seed):\n",
        "    # Output position with highest probability\n",
        "    class_prediction = (pd.DataFrame(model.predict(df_tda2)).idxmax(axis=1)).rename(target_var)\n",
        "    class_prediction.index = pred_index\n",
        "    class_prediction.to_csv('mean_preds_tda2.csv',index = True, header=True)\n",
        "    return class_prediction\n",
        "\n",
        "all_seeds = [500]\n",
        "for seeds_x in all_seeds:\n",
        "    modelstart= time.time()\n",
        "    print(\"Seed: \", seeds_x,)\n",
        "    # Go Go Go\n",
        "    final_model_params_tda2[\"seed\"] = seeds_x\n",
        "    lgb_final_tda2 = lgb.train(\n",
        "        final_model_params_tda2,\n",
        "        lgtrain_tda2,\n",
        "        num_boost_round = optimal_rounds_tda2 + 1,\n",
        "        verbose_eval=200)\n",
        "\n",
        "    # Feature Importance\n",
        "    fold_importance_df = pd.DataFrame()\n",
        "    fold_importance_df[\"feature\"] = features_space_tda2\n",
        "    fold_importance_df[\"importance\"] = lgb_final_tda2.feature_importance()\n",
        "    all_feature_importance_df_tda2 = pd.concat([all_feature_importance_df_tda2, fold_importance_df], axis=0)\n",
        "    \n",
        "\n",
        "    preds_all_tda2=pd.DataFrame(lgb_final_tda2.predict(df))\n",
        "    train_predict_class_tda=seed_pred(model= lgb_final_tda2, seed= seeds_x)\n",
        "    print(\"Model Runtime: %0.2f Minutes\"%((time.time() - modelstart)/60))\n",
        "    print(\"###########################################################################################\")\n",
        "    #del lgb_final_tda2\n",
        "\n",
        "cols = all_feature_importance_df_tda2[[\"feature\", \"importance\"]].groupby(\"feature\").mean().sort_values(\n",
        "    by=\"importance\", ascending=False)[:50].index\n",
        "best_features = all_feature_importance_df_tda2.loc[all_feature_importance_df_tda2.feature.isin(cols)]\n",
        "plt.figure(figsize=(8,10))\n",
        "sns.barplot(x=\"importance\", y=\"feature\", \n",
        "            data=best_features.sort_values(by=\"importance\", ascending=False))\n",
        "plt.title('LightGBM Features (avg over folds)')\n",
        "plt.tight_layout()\n",
        "plt.savefig('lgb_finalm_importances_tda.png')\n",
        "print(\"All Model Runtime: %0.2f Minutes\"%((time.time() - allmodelstart)/60))"
      ],
      "execution_count": null,
      "outputs": [
        {
          "output_type": "stream",
          "text": [
            "Seed:  500\n",
            "Model Runtime: 0.03 Minutes\n",
            "###########################################################################################\n",
            "All Model Runtime: 0.04 Minutes\n"
          ],
          "name": "stdout"
        },
        {
          "output_type": "display_data",
          "data": {
            "image/png": "[encoded data removed]",
            "text/plain": [
              "<Figure size 576x720 with 1 Axes>"
            ]
          },
          "metadata": {
            "tags": [],
            "needs_background": "light"
          }
        }
      ]
    },
    {
      "cell_type": "code",
      "metadata": {
        "id": "QfJfAuYf3ymJ"
      },
      "source": [
        "VR = VietorisRipsPersistence(homology_dimensions=[0, 1])\n",
        "PE = PersistenceEntropy()\n",
        "# define wass amplitude to calculate\n",
        "amplitude_w = diagrams.Amplitude(metric=\"wasserstein\")\n",
        "# define wass amplitude to calculate\n",
        "amplitude_l = diagrams.Amplitude(metric=\"landscape\")\n",
        "# define wass amplitude to calculate\n",
        "amplitude_b = diagrams.Amplitude(metric=\"betti\")\n",
        "#number of points\n",
        "points_nbr = diagrams.NumberOfPoints()\n",
        "\n",
        "PEs_test = []\n",
        "landscape_amplitudes_test=[]\n",
        "betti_amplitudes_test=[]\n",
        "wass_amplitudes_test=[]\n",
        "no_of_points_test=[]\n",
        "for image in data_gray_fig_test:\n",
        "  X=image\n",
        "  diagrams_i = VR.fit_transform(X[None, :, :])\n",
        "  features_i = PE.fit_transform(diagrams_i)\n",
        "  ampl_l_i = amplitude_l.fit_transform(diagrams_i)\n",
        "  ampl_w_i = amplitude_w.fit_transform(diagrams_i)\n",
        "  ampl_b_i = amplitude_b.fit_transform(diagrams_i)\n",
        "  point_i = points_nbr.fit_transform(diagrams_i)\n",
        "  PEs_test.append(features_i)\n",
        "  landscape_amplitudes_test.append(ampl_l_i)\n",
        "  wass_amplitudes_test.append(ampl_w_i)\n",
        "  betti_amplitudes_test.append(ampl_b_i)\n",
        "  no_of_points_test.append(point_i)"
      ],
      "execution_count": null,
      "outputs": []
    },
    {
      "cell_type": "code",
      "metadata": {
        "id": "ScLAHnAi3yza"
      },
      "source": [
        "# reshape to include in feature space for classification\n",
        "PE_features_test= np.array(PEs_test).reshape(np.array(PEs_test).shape[0],np.array(PEs_test).shape[2])\n",
        "wass_amplitudes_ftrs_test= np.array(wass_amplitudes_test).reshape(np.array(wass_amplitudes_test).shape[0],np.array(wass_amplitudes_test).shape[2])\n",
        "betti_amplitudes_ftrs_test= np.array(betti_amplitudes_test).reshape(np.array(betti_amplitudes_test).shape[0],np.array(betti_amplitudes_test).shape[2])\n",
        "landscape_amplitudes_ftrs_test= np.array(landscape_amplitudes_test).reshape(np.array(landscape_amplitudes_test).shape[0],np.array(landscape_amplitudes_test).shape[2])\n",
        "no_of_points_ftrs_test= np.array(no_of_points_test).reshape(np.array(no_of_points_test).shape[0],np.array(no_of_points_test).shape[2])"
      ],
      "execution_count": null,
      "outputs": []
    },
    {
      "cell_type": "code",
      "metadata": {
        "colab": {
          "base_uri": "https://localhost:8080/"
        },
        "id": "k48DAJuK3zJI",
        "outputId": "9259b47c-1cf4-46ee-8c51-f4e4b9947469"
      },
      "source": [
        "# stacking feature sets\n",
        "features_test_tda2= np.hstack((shannon_entr_test,canny_edges_test,sato_res_avg_test,corners_count_test,\n",
        "                              means_image_test,stdevs_image_test,hog_pcs_test,PE_features_test,\n",
        "                              wass_amplitudes_ftrs_test,betti_amplitudes_ftrs_test,landscape_amplitudes_ftrs_test,\n",
        "                              no_of_points_ftrs_test))\n",
        "features_test_tda2.shape\n",
        "# creating a data structure with both features and lables\n",
        "data_frame_test_tda2 = np.hstack((features_test_tda2,labels_test,test_part_ids))\n",
        "data_frame_test_tda2"
      ],
      "execution_count": null,
      "outputs": [
        {
          "output_type": "execute_result",
          "data": {
            "text/plain": [
              "array([[0.8994984367318009, 0.009648, 0.020675437699866107, ..., 19.0, 0,\n",
              "        '30191'],\n",
              "       [1.8482259676714596, 0.007184, 0.016928135574959677, ..., 10.0, 0,\n",
              "        '3900'],\n",
              "       [1.348564516264548, 0.00516, 0.01728246190472609, ..., 29.0, 0,\n",
              "        '3837'],\n",
              "       ...,\n",
              "       [2.4403621262232646, 0.005992, 0.017664155612584522, ..., 1.0, 5,\n",
              "        '18945'],\n",
              "       [2.4135237865590007, 0.008448, 0.022569918019289287, ..., 2.0, 5,\n",
              "        '32205'],\n",
              "       [3.8594236976585425, 0.008828, 0.028249939534533954, ..., 1.0, 5,\n",
              "        '32246']], dtype=object)"
            ]
          },
          "metadata": {
            "tags": []
          },
          "execution_count": 126
        }
      ]
    },
    {
      "cell_type": "code",
      "metadata": {
        "colab": {
          "base_uri": "https://localhost:8080/",
          "height": 436
        },
        "id": "SUVaTQqm3zFP",
        "outputId": "8fb3c1b0-0e6f-41de-c644-07ad812d49c3"
      },
      "source": [
        "# create a dataframe\n",
        "df_test_tda2= pd.DataFrame(data_frame_test_tda2)\n",
        "df_test_tda2=df_test_tda2.rename(columns={0: \"SE\", 1: \"CE\", 2: \"Sato\",3:\"Corners\",4:\"Means\",5:\"SD\",\n",
        "                    6:\"HOG_PC1\",7:\"HOG_PC2\",8:\"HOG_PC3\",9:\"HOG_PC4\",10:\"HOG_PC5\",11:\"HOG_PC6\",12:\"HOG_PC7\",13:\"HOG_PC8\",14:\"HOG_PC9\",15:\"HOG_PC10\",\n",
        "                    16:\"PE_1\",17:\"PE_2\",\n",
        "                    18:\"Wass_comp1\",19:\"Wass_comp2\",\n",
        "                    20:\"Betti_comp1\",21:\"Betti_comp2\",\n",
        "                    22:\"Landscape_comp1\",23:\"Landscape_comp2\",\n",
        "                    24:\"no_pnts_1\",25:\"no_pnts_2\",\n",
        "                    26:\"Cat\",27:\"Part_num\"}, errors=\"raise\")\n",
        "# #To modify the float to int do this:\n",
        "df_test_tda2.Cat = df_test_tda2.Cat.astype(int)\n",
        "df_test_tda2"
      ],
      "execution_count": null,
      "outputs": [
        {
          "output_type": "execute_result",
          "data": {
            "text/html": [
              "<div>\n",
              "<style scoped>\n",
              "    .dataframe tbody tr th:only-of-type {\n",
              "        vertical-align: middle;\n",
              "    }\n",
              "\n",
              "    .dataframe tbody tr th {\n",
              "        vertical-align: top;\n",
              "    }\n",
              "\n",
              "    .dataframe thead th {\n",
              "        text-align: right;\n",
              "    }\n",
              "</style>\n",
              "<table border=\"1\" class=\"dataframe\">\n",
              "  <thead>\n",
              "    <tr style=\"text-align: right;\">\n",
              "      <th></th>\n",
              "      <th>SE</th>\n",
              "      <th>CE</th>\n",
              "      <th>Sato</th>\n",
              "      <th>Corners</th>\n",
              "      <th>Means</th>\n",
              "      <th>SD</th>\n",
              "      <th>HOG_PC1</th>\n",
              "      <th>HOG_PC2</th>\n",
              "      <th>HOG_PC3</th>\n",
              "      <th>HOG_PC4</th>\n",
              "      <th>HOG_PC5</th>\n",
              "      <th>HOG_PC6</th>\n",
              "      <th>HOG_PC7</th>\n",
              "      <th>HOG_PC8</th>\n",
              "      <th>HOG_PC9</th>\n",
              "      <th>HOG_PC10</th>\n",
              "      <th>PE_1</th>\n",
              "      <th>PE_2</th>\n",
              "      <th>Wass_comp1</th>\n",
              "      <th>Wass_comp2</th>\n",
              "      <th>Betti_comp1</th>\n",
              "      <th>Betti_comp2</th>\n",
              "      <th>Landscape_comp1</th>\n",
              "      <th>Landscape_comp2</th>\n",
              "      <th>no_pnts_1</th>\n",
              "      <th>no_pnts_2</th>\n",
              "      <th>Cat</th>\n",
              "      <th>Part_num</th>\n",
              "    </tr>\n",
              "  </thead>\n",
              "  <tbody>\n",
              "    <tr>\n",
              "      <th>0</th>\n",
              "      <td>0.899498</td>\n",
              "      <td>0.009648</td>\n",
              "      <td>0.0206754</td>\n",
              "      <td>69</td>\n",
              "      <td>0.944241</td>\n",
              "      <td>0.209018</td>\n",
              "      <td>-11.1894</td>\n",
              "      <td>-21.0698</td>\n",
              "      <td>-5.5438</td>\n",
              "      <td>-5.28462</td>\n",
              "      <td>2.48591</td>\n",
              "      <td>-5.28422</td>\n",
              "      <td>4.63661</td>\n",
              "      <td>-0.400004</td>\n",
              "      <td>1.509</td>\n",
              "      <td>-1.11427</td>\n",
              "      <td>7.89951</td>\n",
              "      <td>2.31611</td>\n",
              "      <td>15.5048</td>\n",
              "      <td>3.32007</td>\n",
              "      <td>315.188</td>\n",
              "      <td>6.57639</td>\n",
              "      <td>1.63922</td>\n",
              "      <td>3.69113</td>\n",
              "      <td>257</td>\n",
              "      <td>19</td>\n",
              "      <td>0</td>\n",
              "      <td>30191</td>\n",
              "    </tr>\n",
              "    <tr>\n",
              "      <th>1</th>\n",
              "      <td>1.84823</td>\n",
              "      <td>0.007184</td>\n",
              "      <td>0.0169281</td>\n",
              "      <td>6</td>\n",
              "      <td>0.85406</td>\n",
              "      <td>0.322451</td>\n",
              "      <td>-19.0419</td>\n",
              "      <td>-9.74445</td>\n",
              "      <td>-0.453676</td>\n",
              "      <td>-3.7903</td>\n",
              "      <td>7.71843</td>\n",
              "      <td>-2.22041</td>\n",
              "      <td>4.68862</td>\n",
              "      <td>1.48826</td>\n",
              "      <td>2.4114</td>\n",
              "      <td>0.551596</td>\n",
              "      <td>8.14282</td>\n",
              "      <td>1.06765</td>\n",
              "      <td>9.53161</td>\n",
              "      <td>2.61069</td>\n",
              "      <td>276.125</td>\n",
              "      <td>2.68456</td>\n",
              "      <td>2.30692</td>\n",
              "      <td>3.34368</td>\n",
              "      <td>319</td>\n",
              "      <td>10</td>\n",
              "      <td>0</td>\n",
              "      <td>3900</td>\n",
              "    </tr>\n",
              "    <tr>\n",
              "      <th>2</th>\n",
              "      <td>1.34856</td>\n",
              "      <td>0.00516</td>\n",
              "      <td>0.0172825</td>\n",
              "      <td>9</td>\n",
              "      <td>0.856342</td>\n",
              "      <td>0.326693</td>\n",
              "      <td>-16.6664</td>\n",
              "      <td>-13.0015</td>\n",
              "      <td>-10.2343</td>\n",
              "      <td>3.18851</td>\n",
              "      <td>4.03319</td>\n",
              "      <td>-0.382773</td>\n",
              "      <td>2.79883</td>\n",
              "      <td>0.253924</td>\n",
              "      <td>1.08757</td>\n",
              "      <td>1.67056</td>\n",
              "      <td>8.03707</td>\n",
              "      <td>0.959333</td>\n",
              "      <td>6.87912</td>\n",
              "      <td>2.94215</td>\n",
              "      <td>207.401</td>\n",
              "      <td>2.51016</td>\n",
              "      <td>1.21716</td>\n",
              "      <td>4.11797</td>\n",
              "      <td>478</td>\n",
              "      <td>29</td>\n",
              "      <td>0</td>\n",
              "      <td>3837</td>\n",
              "    </tr>\n",
              "    <tr>\n",
              "      <th>3</th>\n",
              "      <td>3.7967</td>\n",
              "      <td>0.01058</td>\n",
              "      <td>0.0226579</td>\n",
              "      <td>7</td>\n",
              "      <td>0.612513</td>\n",
              "      <td>0.436105</td>\n",
              "      <td>-16.0395</td>\n",
              "      <td>-2.07349</td>\n",
              "      <td>3.55864</td>\n",
              "      <td>-3.87211</td>\n",
              "      <td>1.5118</td>\n",
              "      <td>-0.731539</td>\n",
              "      <td>5.47106</td>\n",
              "      <td>-0.21609</td>\n",
              "      <td>2.0832</td>\n",
              "      <td>0.280434</td>\n",
              "      <td>8.68914</td>\n",
              "      <td>0.0141787</td>\n",
              "      <td>10.8617</td>\n",
              "      <td>4.69458</td>\n",
              "      <td>388.186</td>\n",
              "      <td>3.11025</td>\n",
              "      <td>1.54119</td>\n",
              "      <td>8.30477</td>\n",
              "      <td>452</td>\n",
              "      <td>3</td>\n",
              "      <td>0</td>\n",
              "      <td>4349</td>\n",
              "    </tr>\n",
              "    <tr>\n",
              "      <th>4</th>\n",
              "      <td>2.38261</td>\n",
              "      <td>0.005848</td>\n",
              "      <td>0.0181078</td>\n",
              "      <td>10</td>\n",
              "      <td>0.668696</td>\n",
              "      <td>0.425321</td>\n",
              "      <td>-15.8018</td>\n",
              "      <td>-9.60877</td>\n",
              "      <td>-8.80586</td>\n",
              "      <td>1.57679</td>\n",
              "      <td>1.16344</td>\n",
              "      <td>-1.11621</td>\n",
              "      <td>4.06966</td>\n",
              "      <td>1.96866</td>\n",
              "      <td>-1.06114</td>\n",
              "      <td>-1.12583</td>\n",
              "      <td>8.55362</td>\n",
              "      <td>0.0888122</td>\n",
              "      <td>7.76319</td>\n",
              "      <td>3.72249</td>\n",
              "      <td>289.349</td>\n",
              "      <td>2.75126</td>\n",
              "      <td>0.941068</td>\n",
              "      <td>5.86421</td>\n",
              "      <td>493</td>\n",
              "      <td>5</td>\n",
              "      <td>0</td>\n",
              "      <td>33009</td>\n",
              "    </tr>\n",
              "    <tr>\n",
              "      <th>...</th>\n",
              "      <td>...</td>\n",
              "      <td>...</td>\n",
              "      <td>...</td>\n",
              "      <td>...</td>\n",
              "      <td>...</td>\n",
              "      <td>...</td>\n",
              "      <td>...</td>\n",
              "      <td>...</td>\n",
              "      <td>...</td>\n",
              "      <td>...</td>\n",
              "      <td>...</td>\n",
              "      <td>...</td>\n",
              "      <td>...</td>\n",
              "      <td>...</td>\n",
              "      <td>...</td>\n",
              "      <td>...</td>\n",
              "      <td>...</td>\n",
              "      <td>...</td>\n",
              "      <td>...</td>\n",
              "      <td>...</td>\n",
              "      <td>...</td>\n",
              "      <td>...</td>\n",
              "      <td>...</td>\n",
              "      <td>...</td>\n",
              "      <td>...</td>\n",
              "      <td>...</td>\n",
              "      <td>...</td>\n",
              "      <td>...</td>\n",
              "    </tr>\n",
              "    <tr>\n",
              "      <th>473</th>\n",
              "      <td>2.37053</td>\n",
              "      <td>0.007208</td>\n",
              "      <td>0.0209901</td>\n",
              "      <td>14</td>\n",
              "      <td>0.76763</td>\n",
              "      <td>0.394896</td>\n",
              "      <td>-19.1367</td>\n",
              "      <td>-8.62874</td>\n",
              "      <td>-0.814691</td>\n",
              "      <td>-3.91127</td>\n",
              "      <td>0.445602</td>\n",
              "      <td>-0.412652</td>\n",
              "      <td>4.66453</td>\n",
              "      <td>-0.593663</td>\n",
              "      <td>0.745579</td>\n",
              "      <td>1.30622</td>\n",
              "      <td>8.78568</td>\n",
              "      <td>0.650574</td>\n",
              "      <td>9.94625</td>\n",
              "      <td>4.1232</td>\n",
              "      <td>397.092</td>\n",
              "      <td>3.13728</td>\n",
              "      <td>0.777391</td>\n",
              "      <td>6.82513</td>\n",
              "      <td>482</td>\n",
              "      <td>17</td>\n",
              "      <td>5</td>\n",
              "      <td>64681</td>\n",
              "    </tr>\n",
              "    <tr>\n",
              "      <th>474</th>\n",
              "      <td>3.01304</td>\n",
              "      <td>0.010488</td>\n",
              "      <td>0.0282549</td>\n",
              "      <td>33</td>\n",
              "      <td>0.708666</td>\n",
              "      <td>0.417882</td>\n",
              "      <td>-18.8445</td>\n",
              "      <td>-3.42796</td>\n",
              "      <td>3.91861</td>\n",
              "      <td>-6.24804</td>\n",
              "      <td>1.32756</td>\n",
              "      <td>0.521016</td>\n",
              "      <td>5.60324</td>\n",
              "      <td>1.01262</td>\n",
              "      <td>1.73381</td>\n",
              "      <td>-0.326838</td>\n",
              "      <td>8.86951</td>\n",
              "      <td>0.522342</td>\n",
              "      <td>12.5467</td>\n",
              "      <td>3.90523</td>\n",
              "      <td>464.772</td>\n",
              "      <td>3.23318</td>\n",
              "      <td>1.43599</td>\n",
              "      <td>6.24731</td>\n",
              "      <td>495</td>\n",
              "      <td>5</td>\n",
              "      <td>5</td>\n",
              "      <td>32189</td>\n",
              "    </tr>\n",
              "    <tr>\n",
              "      <th>475</th>\n",
              "      <td>2.44036</td>\n",
              "      <td>0.005992</td>\n",
              "      <td>0.0176642</td>\n",
              "      <td>14</td>\n",
              "      <td>0.798907</td>\n",
              "      <td>0.365832</td>\n",
              "      <td>-4.18798</td>\n",
              "      <td>-19.4569</td>\n",
              "      <td>-2.09988</td>\n",
              "      <td>-0.48792</td>\n",
              "      <td>0.746327</td>\n",
              "      <td>-0.864352</td>\n",
              "      <td>5.62729</td>\n",
              "      <td>1.62471</td>\n",
              "      <td>2.53624</td>\n",
              "      <td>-0.356895</td>\n",
              "      <td>7.85001</td>\n",
              "      <td>0</td>\n",
              "      <td>11.4391</td>\n",
              "      <td>5.65641</td>\n",
              "      <td>268.8</td>\n",
              "      <td>3.36345</td>\n",
              "      <td>1.42258</td>\n",
              "      <td>10.9836</td>\n",
              "      <td>238</td>\n",
              "      <td>1</td>\n",
              "      <td>5</td>\n",
              "      <td>18945</td>\n",
              "    </tr>\n",
              "    <tr>\n",
              "      <th>476</th>\n",
              "      <td>2.41352</td>\n",
              "      <td>0.008448</td>\n",
              "      <td>0.0225699</td>\n",
              "      <td>25</td>\n",
              "      <td>0.776861</td>\n",
              "      <td>0.384807</td>\n",
              "      <td>-5.53718</td>\n",
              "      <td>-12.1422</td>\n",
              "      <td>-4.02406</td>\n",
              "      <td>1.44608</td>\n",
              "      <td>2.75849</td>\n",
              "      <td>-2.49977</td>\n",
              "      <td>7.93635</td>\n",
              "      <td>2.15355</td>\n",
              "      <td>3.18432</td>\n",
              "      <td>-1.06338</td>\n",
              "      <td>8.15384</td>\n",
              "      <td>0.159187</td>\n",
              "      <td>11.3504</td>\n",
              "      <td>3.6705</td>\n",
              "      <td>296.335</td>\n",
              "      <td>2.82951</td>\n",
              "      <td>3.43662</td>\n",
              "      <td>5.73899</td>\n",
              "      <td>320</td>\n",
              "      <td>2</td>\n",
              "      <td>5</td>\n",
              "      <td>32205</td>\n",
              "    </tr>\n",
              "    <tr>\n",
              "      <th>477</th>\n",
              "      <td>3.85942</td>\n",
              "      <td>0.008828</td>\n",
              "      <td>0.0282499</td>\n",
              "      <td>34</td>\n",
              "      <td>0.612964</td>\n",
              "      <td>0.444952</td>\n",
              "      <td>0.638519</td>\n",
              "      <td>-13.5539</td>\n",
              "      <td>-7.03037</td>\n",
              "      <td>-2.56195</td>\n",
              "      <td>4.14623</td>\n",
              "      <td>-1.84271</td>\n",
              "      <td>5.49182</td>\n",
              "      <td>0.0206585</td>\n",
              "      <td>0.214231</td>\n",
              "      <td>1.80833</td>\n",
              "      <td>8.79443</td>\n",
              "      <td>0</td>\n",
              "      <td>11.6168</td>\n",
              "      <td>6.52154</td>\n",
              "      <td>431.255</td>\n",
              "      <td>3.61152</td>\n",
              "      <td>0.784846</td>\n",
              "      <td>13.5974</td>\n",
              "      <td>471</td>\n",
              "      <td>1</td>\n",
              "      <td>5</td>\n",
              "      <td>32246</td>\n",
              "    </tr>\n",
              "  </tbody>\n",
              "</table>\n",
              "<p>478 rows × 28 columns</p>\n",
              "</div>"
            ],
            "text/plain": [
              "           SE        CE       Sato Corners  ... no_pnts_1 no_pnts_2 Cat Part_num\n",
              "0    0.899498  0.009648  0.0206754      69  ...       257        19   0    30191\n",
              "1     1.84823  0.007184  0.0169281       6  ...       319        10   0     3900\n",
              "2     1.34856   0.00516  0.0172825       9  ...       478        29   0     3837\n",
              "3      3.7967   0.01058  0.0226579       7  ...       452         3   0     4349\n",
              "4     2.38261  0.005848  0.0181078      10  ...       493         5   0    33009\n",
              "..        ...       ...        ...     ...  ...       ...       ...  ..      ...\n",
              "473   2.37053  0.007208  0.0209901      14  ...       482        17   5    64681\n",
              "474   3.01304  0.010488  0.0282549      33  ...       495         5   5    32189\n",
              "475   2.44036  0.005992  0.0176642      14  ...       238         1   5    18945\n",
              "476   2.41352  0.008448  0.0225699      25  ...       320         2   5    32205\n",
              "477   3.85942  0.008828  0.0282499      34  ...       471         1   5    32246\n",
              "\n",
              "[478 rows x 28 columns]"
            ]
          },
          "metadata": {
            "tags": []
          },
          "execution_count": 127
        }
      ]
    },
    {
      "cell_type": "code",
      "metadata": {
        "colab": {
          "base_uri": "https://localhost:8080/"
        },
        "id": "seYQfMj73y_1",
        "outputId": "4d2e21d1-af56-4679-c8be-5c597172324e"
      },
      "source": [
        "rearranged_IDs_test_tda2=df_test_tda2[\"Part_num\"]\n",
        "target_var=\"Cat\"\n",
        "y_test_tda2 = df_test_tda2[target_var]\n",
        "df_test_tda2.drop([target_var,\"Part_num\"],axis=1, inplace=True)\n",
        "df_test_tda2 = df_test_tda2.apply(pd.to_numeric)\n",
        "df_test_tda2.shape"
      ],
      "execution_count": null,
      "outputs": [
        {
          "output_type": "execute_result",
          "data": {
            "text/plain": [
              "(478, 26)"
            ]
          },
          "metadata": {
            "tags": []
          },
          "execution_count": 128
        }
      ]
    },
    {
      "cell_type": "code",
      "metadata": {
        "colab": {
          "base_uri": "https://localhost:8080/"
        },
        "id": "WJxdyqU08HJa",
        "outputId": "2692ad54-863b-415e-b284-8133ac3fd02a"
      },
      "source": [
        "preds_all_test_tda2=pd.DataFrame(lgb_final_tda2.predict(df_test_tda2))\n",
        "test_predict_class_tda2=(pd.DataFrame(lgb_final_tda2.predict(df_test_tda2)).idxmax(axis=1))\n",
        "metrics.accuracy_score(np.array(y_test_tda2), np.array(test_predict_class_tda2))"
      ],
      "execution_count": null,
      "outputs": [
        {
          "output_type": "execute_result",
          "data": {
            "text/plain": [
              "0.606694560669456"
            ]
          },
          "metadata": {
            "tags": []
          },
          "execution_count": 129
        }
      ]
    },
    {
      "cell_type": "code",
      "metadata": {
        "colab": {
          "base_uri": "https://localhost:8080/",
          "height": 416
        },
        "id": "RFUTUYAB8Hdn",
        "outputId": "cf9362f1-c535-478c-e936-f72cbfdd39a3"
      },
      "source": [
        "# test results df\n",
        "test_results_tda2=pd.DataFrame(test_part_ids)\n",
        "test_results_tda2['predicted_class']=test_predict_class_tda2\n",
        "test_results_tda2['actuals']=y_test_tda2\n",
        "\n",
        "test_results_tda2=test_results_tda2.rename(columns={0: \"Part_num\", \"predicted_class\": \"predicted_class\", \"actuals\": \"actuals\"}, errors=\"raise\")\n",
        "test_results_tda2"
      ],
      "execution_count": null,
      "outputs": [
        {
          "output_type": "execute_result",
          "data": {
            "text/html": [
              "<div>\n",
              "<style scoped>\n",
              "    .dataframe tbody tr th:only-of-type {\n",
              "        vertical-align: middle;\n",
              "    }\n",
              "\n",
              "    .dataframe tbody tr th {\n",
              "        vertical-align: top;\n",
              "    }\n",
              "\n",
              "    .dataframe thead th {\n",
              "        text-align: right;\n",
              "    }\n",
              "</style>\n",
              "<table border=\"1\" class=\"dataframe\">\n",
              "  <thead>\n",
              "    <tr style=\"text-align: right;\">\n",
              "      <th></th>\n",
              "      <th>Part_num</th>\n",
              "      <th>predicted_class</th>\n",
              "      <th>actuals</th>\n",
              "    </tr>\n",
              "  </thead>\n",
              "  <tbody>\n",
              "    <tr>\n",
              "      <th>0</th>\n",
              "      <td>30191</td>\n",
              "      <td>3</td>\n",
              "      <td>0</td>\n",
              "    </tr>\n",
              "    <tr>\n",
              "      <th>1</th>\n",
              "      <td>3900</td>\n",
              "      <td>0</td>\n",
              "      <td>0</td>\n",
              "    </tr>\n",
              "    <tr>\n",
              "      <th>2</th>\n",
              "      <td>3837</td>\n",
              "      <td>0</td>\n",
              "      <td>0</td>\n",
              "    </tr>\n",
              "    <tr>\n",
              "      <th>3</th>\n",
              "      <td>4349</td>\n",
              "      <td>5</td>\n",
              "      <td>0</td>\n",
              "    </tr>\n",
              "    <tr>\n",
              "      <th>4</th>\n",
              "      <td>33009</td>\n",
              "      <td>1</td>\n",
              "      <td>0</td>\n",
              "    </tr>\n",
              "    <tr>\n",
              "      <th>...</th>\n",
              "      <td>...</td>\n",
              "      <td>...</td>\n",
              "      <td>...</td>\n",
              "    </tr>\n",
              "    <tr>\n",
              "      <th>473</th>\n",
              "      <td>64681</td>\n",
              "      <td>0</td>\n",
              "      <td>5</td>\n",
              "    </tr>\n",
              "    <tr>\n",
              "      <th>474</th>\n",
              "      <td>32189</td>\n",
              "      <td>5</td>\n",
              "      <td>5</td>\n",
              "    </tr>\n",
              "    <tr>\n",
              "      <th>475</th>\n",
              "      <td>18945</td>\n",
              "      <td>1</td>\n",
              "      <td>5</td>\n",
              "    </tr>\n",
              "    <tr>\n",
              "      <th>476</th>\n",
              "      <td>32205</td>\n",
              "      <td>0</td>\n",
              "      <td>5</td>\n",
              "    </tr>\n",
              "    <tr>\n",
              "      <th>477</th>\n",
              "      <td>32246</td>\n",
              "      <td>5</td>\n",
              "      <td>5</td>\n",
              "    </tr>\n",
              "  </tbody>\n",
              "</table>\n",
              "<p>478 rows × 3 columns</p>\n",
              "</div>"
            ],
            "text/plain": [
              "    Part_num  predicted_class  actuals\n",
              "0      30191                3        0\n",
              "1       3900                0        0\n",
              "2       3837                0        0\n",
              "3       4349                5        0\n",
              "4      33009                1        0\n",
              "..       ...              ...      ...\n",
              "473    64681                0        5\n",
              "474    32189                5        5\n",
              "475    18945                1        5\n",
              "476    32205                0        5\n",
              "477    32246                5        5\n",
              "\n",
              "[478 rows x 3 columns]"
            ]
          },
          "metadata": {
            "tags": []
          },
          "execution_count": 130
        }
      ]
    },
    {
      "cell_type": "code",
      "metadata": {
        "colab": {
          "base_uri": "https://localhost:8080/",
          "height": 673
        },
        "id": "BecWIHCg8HX5",
        "outputId": "7ed4de92-b782-41ba-9beb-d65486f33852"
      },
      "source": [
        "cf_matrix_tda2=metrics.confusion_matrix(test_results_tda2['actuals'], test_results_tda2['predicted_class'],labels=[0,1,2,3,4,5])\n",
        "np.set_printoptions(precision=2)\n",
        "\n",
        "# Plot non-normalized confusion matrix\n",
        "fig=plt.figure(figsize=(8,8))\n",
        "\n",
        "plot_confusion_matrix(cf_matrix_tda2, classes=['Figures', 'Bricks', 'Panels','Others','Transportation','Mechanical'],\n",
        "                      title='Confusion matrix (annotated in %age)',normalize=True)"
      ],
      "execution_count": null,
      "outputs": [
        {
          "output_type": "stream",
          "text": [
            "Normalized confusion matrix\n",
            "[[71.31  9.84  0.82  1.64  9.02  7.38]\n",
            " [ 8.4  81.51  2.52  0.84  1.68  5.04]\n",
            " [ 6.98 23.26 53.49  2.33  4.65  9.3 ]\n",
            " [50.   11.54  3.85  7.69 11.54 15.38]\n",
            " [19.18 15.07  0.    0.   50.68 15.07]\n",
            " [22.11 22.11  1.05  0.    8.42 46.32]]\n"
          ],
          "name": "stdout"
        },
        {
          "output_type": "display_data",
          "data": {
            "image/png": "[encoded data removed]",
            "text/plain": [
              "<Figure size 576x576 with 2 Axes>"
            ]
          },
          "metadata": {
            "tags": [],
            "needs_background": "light"
          }
        }
      ]
    },
    {
      "cell_type": "code",
      "metadata": {
        "id": "KZhFXmFq8HS8"
      },
      "source": [
        ""
      ],
      "execution_count": null,
      "outputs": []
    }
  ]
}