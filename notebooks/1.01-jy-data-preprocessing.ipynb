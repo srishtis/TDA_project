{
 "cells": [
  {
   "cell_type": "code",
   "execution_count": 10,
   "metadata": {},
   "outputs": [],
   "source": [
    "import pandas as pd\n",
    "import numpy as np\n",
    "import os"
   ]
  },
  {
   "cell_type": "code",
   "execution_count": 2,
   "metadata": {},
   "outputs": [],
   "source": [
    "inventory_parts = pd.read_csv(\"inventory_parts.csv\")\n",
    "part_categories = pd.read_csv(\"part_categories.csv\")\n",
    "parts = pd.read_csv(\"parts.csv\")\n",
    "colors = pd.read_csv(\"colors.csv\")\n",
    "part_relationships = pd.read_csv(\"part_relationships.csv\")\n",
    "elements = pd.read_csv(\"elements.csv\")"
   ]
  },
  {
   "cell_type": "code",
   "execution_count": 78,
   "metadata": {},
   "outputs": [],
   "source": [
    "combined = inventory_parts.merge(parts).merge(part_categories, left_on=\"part_cat_id\", right_on=\"id\")\\\n",
    ".drop(columns=\"id\").merge(colors, left_on=\"color_id\", right_on=\"id\").drop(columns=\"id\")\n",
    "combined = combined_csv.rename(columns={\"name_x\":\"part_name\", \"name_y\":\"part_cat_name\", \"name\":\"color_name\"})"
   ]
  },
  {
   "cell_type": "code",
   "execution_count": 79,
   "metadata": {},
   "outputs": [],
   "source": [
    "combined.to_csv(\"combined.csv\", index=False)"
   ]
  },
  {
   "cell_type": "code",
   "execution_count": 80,
   "metadata": {},
   "outputs": [
    {
     "data": {
      "text/html": [
       "<div>\n",
       "<style scoped>\n",
       "    .dataframe tbody tr th:only-of-type {\n",
       "        vertical-align: middle;\n",
       "    }\n",
       "\n",
       "    .dataframe tbody tr th {\n",
       "        vertical-align: top;\n",
       "    }\n",
       "\n",
       "    .dataframe thead th {\n",
       "        text-align: right;\n",
       "    }\n",
       "</style>\n",
       "<table border=\"1\" class=\"dataframe\">\n",
       "  <thead>\n",
       "    <tr style=\"text-align: right;\">\n",
       "      <th></th>\n",
       "      <th>inventory_id</th>\n",
       "      <th>part_num</th>\n",
       "      <th>color_id</th>\n",
       "      <th>quantity</th>\n",
       "      <th>is_spare</th>\n",
       "      <th>part_name</th>\n",
       "      <th>part_cat_id</th>\n",
       "      <th>part_material</th>\n",
       "      <th>part_cat_name</th>\n",
       "      <th>color_name</th>\n",
       "      <th>rgb</th>\n",
       "      <th>is_trans</th>\n",
       "    </tr>\n",
       "  </thead>\n",
       "  <tbody>\n",
       "    <tr>\n",
       "      <th>0</th>\n",
       "      <td>1</td>\n",
       "      <td>48379c01</td>\n",
       "      <td>72</td>\n",
       "      <td>1</td>\n",
       "      <td>f</td>\n",
       "      <td>Sports Promo Figure Base with Feet</td>\n",
       "      <td>27</td>\n",
       "      <td>Plastic</td>\n",
       "      <td>Minifig Accessories</td>\n",
       "      <td>Dark Bluish Gray</td>\n",
       "      <td>6C6E68</td>\n",
       "      <td>f</td>\n",
       "    </tr>\n",
       "    <tr>\n",
       "      <th>1</th>\n",
       "      <td>15767</td>\n",
       "      <td>48379c01</td>\n",
       "      <td>72</td>\n",
       "      <td>1</td>\n",
       "      <td>f</td>\n",
       "      <td>Sports Promo Figure Base with Feet</td>\n",
       "      <td>27</td>\n",
       "      <td>Plastic</td>\n",
       "      <td>Minifig Accessories</td>\n",
       "      <td>Dark Bluish Gray</td>\n",
       "      <td>6C6E68</td>\n",
       "      <td>f</td>\n",
       "    </tr>\n",
       "    <tr>\n",
       "      <th>2</th>\n",
       "      <td>28</td>\n",
       "      <td>30162</td>\n",
       "      <td>72</td>\n",
       "      <td>3</td>\n",
       "      <td>f</td>\n",
       "      <td>Equipment Binoculars</td>\n",
       "      <td>27</td>\n",
       "      <td>Plastic</td>\n",
       "      <td>Minifig Accessories</td>\n",
       "      <td>Dark Bluish Gray</td>\n",
       "      <td>6C6E68</td>\n",
       "      <td>f</td>\n",
       "    </tr>\n",
       "    <tr>\n",
       "      <th>3</th>\n",
       "      <td>94</td>\n",
       "      <td>30162</td>\n",
       "      <td>72</td>\n",
       "      <td>4</td>\n",
       "      <td>f</td>\n",
       "      <td>Equipment Binoculars</td>\n",
       "      <td>27</td>\n",
       "      <td>Plastic</td>\n",
       "      <td>Minifig Accessories</td>\n",
       "      <td>Dark Bluish Gray</td>\n",
       "      <td>6C6E68</td>\n",
       "      <td>f</td>\n",
       "    </tr>\n",
       "    <tr>\n",
       "      <th>4</th>\n",
       "      <td>155</td>\n",
       "      <td>30162</td>\n",
       "      <td>72</td>\n",
       "      <td>2</td>\n",
       "      <td>f</td>\n",
       "      <td>Equipment Binoculars</td>\n",
       "      <td>27</td>\n",
       "      <td>Plastic</td>\n",
       "      <td>Minifig Accessories</td>\n",
       "      <td>Dark Bluish Gray</td>\n",
       "      <td>6C6E68</td>\n",
       "      <td>f</td>\n",
       "    </tr>\n",
       "    <tr>\n",
       "      <th>...</th>\n",
       "      <td>...</td>\n",
       "      <td>...</td>\n",
       "      <td>...</td>\n",
       "      <td>...</td>\n",
       "      <td>...</td>\n",
       "      <td>...</td>\n",
       "      <td>...</td>\n",
       "      <td>...</td>\n",
       "      <td>...</td>\n",
       "      <td>...</td>\n",
       "      <td>...</td>\n",
       "      <td>...</td>\n",
       "    </tr>\n",
       "    <tr>\n",
       "      <th>851548</th>\n",
       "      <td>35348</td>\n",
       "      <td>1152M</td>\n",
       "      <td>1032</td>\n",
       "      <td>1</td>\n",
       "      <td>f</td>\n",
       "      <td>Modulex Brick 2 x 5 with M on Studs</td>\n",
       "      <td>66</td>\n",
       "      <td>Plastic</td>\n",
       "      <td>Modulex</td>\n",
       "      <td>Modulex Aqua Green</td>\n",
       "      <td>27867E</td>\n",
       "      <td>f</td>\n",
       "    </tr>\n",
       "    <tr>\n",
       "      <th>851549</th>\n",
       "      <td>40244</td>\n",
       "      <td>1021A</td>\n",
       "      <td>1032</td>\n",
       "      <td>1</td>\n",
       "      <td>f</td>\n",
       "      <td>Modulex Tile 1 x 2 without Internal Support</td>\n",
       "      <td>66</td>\n",
       "      <td>Plastic</td>\n",
       "      <td>Modulex</td>\n",
       "      <td>Modulex Aqua Green</td>\n",
       "      <td>27867E</td>\n",
       "      <td>f</td>\n",
       "    </tr>\n",
       "    <tr>\n",
       "      <th>851550</th>\n",
       "      <td>40244</td>\n",
       "      <td>1586pr0002</td>\n",
       "      <td>1032</td>\n",
       "      <td>1</td>\n",
       "      <td>f</td>\n",
       "      <td>Modulex Window 1 x 8 x 6 with Gray Border Print</td>\n",
       "      <td>66</td>\n",
       "      <td>Plastic</td>\n",
       "      <td>Modulex</td>\n",
       "      <td>Modulex Aqua Green</td>\n",
       "      <td>27867E</td>\n",
       "      <td>f</td>\n",
       "    </tr>\n",
       "    <tr>\n",
       "      <th>851551</th>\n",
       "      <td>35348</td>\n",
       "      <td>1142M</td>\n",
       "      <td>1027</td>\n",
       "      <td>1</td>\n",
       "      <td>f</td>\n",
       "      <td>Modulex Brick 2 x 4 with M on Studs</td>\n",
       "      <td>66</td>\n",
       "      <td>Plastic</td>\n",
       "      <td>Modulex</td>\n",
       "      <td>Modulex Light Yellow</td>\n",
       "      <td>FFE371</td>\n",
       "      <td>f</td>\n",
       "    </tr>\n",
       "    <tr>\n",
       "      <th>851552</th>\n",
       "      <td>40244</td>\n",
       "      <td>1042A</td>\n",
       "      <td>1016</td>\n",
       "      <td>1</td>\n",
       "      <td>f</td>\n",
       "      <td>Modulex Tile 2 x 4 without Internal Supports</td>\n",
       "      <td>66</td>\n",
       "      <td>Plastic</td>\n",
       "      <td>Modulex</td>\n",
       "      <td>Modulex Charcoal Gray</td>\n",
       "      <td>595D60</td>\n",
       "      <td>f</td>\n",
       "    </tr>\n",
       "  </tbody>\n",
       "</table>\n",
       "<p>851553 rows × 12 columns</p>\n",
       "</div>"
      ],
      "text/plain": [
       "        inventory_id    part_num  color_id  quantity is_spare  \\\n",
       "0                  1    48379c01        72         1        f   \n",
       "1              15767    48379c01        72         1        f   \n",
       "2                 28       30162        72         3        f   \n",
       "3                 94       30162        72         4        f   \n",
       "4                155       30162        72         2        f   \n",
       "...              ...         ...       ...       ...      ...   \n",
       "851548         35348       1152M      1032         1        f   \n",
       "851549         40244       1021A      1032         1        f   \n",
       "851550         40244  1586pr0002      1032         1        f   \n",
       "851551         35348       1142M      1027         1        f   \n",
       "851552         40244       1042A      1016         1        f   \n",
       "\n",
       "                                              part_name  part_cat_id  \\\n",
       "0                    Sports Promo Figure Base with Feet           27   \n",
       "1                    Sports Promo Figure Base with Feet           27   \n",
       "2                                  Equipment Binoculars           27   \n",
       "3                                  Equipment Binoculars           27   \n",
       "4                                  Equipment Binoculars           27   \n",
       "...                                                 ...          ...   \n",
       "851548              Modulex Brick 2 x 5 with M on Studs           66   \n",
       "851549      Modulex Tile 1 x 2 without Internal Support           66   \n",
       "851550  Modulex Window 1 x 8 x 6 with Gray Border Print           66   \n",
       "851551              Modulex Brick 2 x 4 with M on Studs           66   \n",
       "851552     Modulex Tile 2 x 4 without Internal Supports           66   \n",
       "\n",
       "       part_material        part_cat_name             color_name     rgb  \\\n",
       "0            Plastic  Minifig Accessories       Dark Bluish Gray  6C6E68   \n",
       "1            Plastic  Minifig Accessories       Dark Bluish Gray  6C6E68   \n",
       "2            Plastic  Minifig Accessories       Dark Bluish Gray  6C6E68   \n",
       "3            Plastic  Minifig Accessories       Dark Bluish Gray  6C6E68   \n",
       "4            Plastic  Minifig Accessories       Dark Bluish Gray  6C6E68   \n",
       "...              ...                  ...                    ...     ...   \n",
       "851548       Plastic              Modulex     Modulex Aqua Green  27867E   \n",
       "851549       Plastic              Modulex     Modulex Aqua Green  27867E   \n",
       "851550       Plastic              Modulex     Modulex Aqua Green  27867E   \n",
       "851551       Plastic              Modulex   Modulex Light Yellow  FFE371   \n",
       "851552       Plastic              Modulex  Modulex Charcoal Gray  595D60   \n",
       "\n",
       "       is_trans  \n",
       "0             f  \n",
       "1             f  \n",
       "2             f  \n",
       "3             f  \n",
       "4             f  \n",
       "...         ...  \n",
       "851548        f  \n",
       "851549        f  \n",
       "851550        f  \n",
       "851551        f  \n",
       "851552        f  \n",
       "\n",
       "[851553 rows x 12 columns]"
      ]
     },
     "execution_count": 80,
     "metadata": {},
     "output_type": "execute_result"
    }
   ],
   "source": [
    "combined"
   ]
  },
  {
   "cell_type": "code",
   "execution_count": 81,
   "metadata": {},
   "outputs": [
    {
     "data": {
      "text/plain": [
       "Black                156601\n",
       "White                 95889\n",
       "Light Bluish Gray     88297\n",
       "Red                   69154\n",
       "Dark Bluish Gray      67142\n",
       "Yellow                52857\n",
       "Blue                  39493\n",
       "Light Gray            26889\n",
       "Reddish Brown         24802\n",
       "Tan                   22654\n",
       "Name: color_name, dtype: int64"
      ]
     },
     "execution_count": 81,
     "metadata": {},
     "output_type": "execute_result"
    }
   ],
   "source": [
    "combined.color_name.value_counts().head(10)"
   ]
  },
  {
   "cell_type": "code",
   "execution_count": 82,
   "metadata": {},
   "outputs": [
    {
     "data": {
      "text/plain": [
       "color_name\n",
       "Black                540434\n",
       "Light Bluish Gray    315622\n",
       "White                310948\n",
       "Dark Bluish Gray     227940\n",
       "Red                  225874\n",
       "Yellow               155297\n",
       "Blue                 155087\n",
       "Light Gray            98669\n",
       "Tan                   93408\n",
       "Reddish Brown         82651\n",
       "Name: quantity, dtype: int64"
      ]
     },
     "execution_count": 82,
     "metadata": {},
     "output_type": "execute_result"
    }
   ],
   "source": [
    "combined.groupby([\"color_name\"]).sum()[\"quantity\"].sort_values(ascending=False).head(10)"
   ]
  },
  {
   "cell_type": "code",
   "execution_count": 84,
   "metadata": {},
   "outputs": [
    {
     "data": {
      "text/plain": [
       "Plates                         19303\n",
       "Plates Special                 14355\n",
       "Bricks                          9052\n",
       "Minifig Accessories             8252\n",
       "Bricks Sloped                   7987\n",
       "Wheels and Tyres                6765\n",
       "Technic Pins                    6596\n",
       "Technic Connectors              6027\n",
       "Technic Axles                   5892\n",
       "Hinges, Arms and Turntables     5668\n",
       "Name: part_cat_name, dtype: int64"
      ]
     },
     "execution_count": 84,
     "metadata": {},
     "output_type": "execute_result"
    }
   ],
   "source": [
    "combined[combined.color_name==\"Black\"].part_cat_name.value_counts().head(10)"
   ]
  },
  {
   "cell_type": "code",
   "execution_count": 124,
   "metadata": {},
   "outputs": [],
   "source": [
    "black = combined[combined.color_name==\"Black\"]"
   ]
  },
  {
   "cell_type": "code",
   "execution_count": 125,
   "metadata": {},
   "outputs": [],
   "source": [
    "black_unique = black.iloc[:, np.r_[1:3, 5:12]].drop_duplicates()"
   ]
  },
  {
   "cell_type": "code",
   "execution_count": 127,
   "metadata": {},
   "outputs": [],
   "source": [
    "black_unique = black_unique.merge(pd.DataFrame(black.groupby([\"part_num\"]).sum()[\"quantity\"]).reset_index())"
   ]
  },
  {
   "cell_type": "code",
   "execution_count": 136,
   "metadata": {},
   "outputs": [],
   "source": [
    "part_image_list = [file.split(\".\")[0] for file in os.listdir(\"parts_0\")]"
   ]
  },
  {
   "cell_type": "code",
   "execution_count": 137,
   "metadata": {},
   "outputs": [],
   "source": [
    "black_unique['have_image'] = np.where(black_unique.part_num.isin(part_image_list), \"t\", \"f\")"
   ]
  },
  {
   "cell_type": "code",
   "execution_count": 140,
   "metadata": {},
   "outputs": [],
   "source": [
    "black_unique.to_csv(\"black.csv\", index=False)"
   ]
  },
  {
   "cell_type": "code",
   "execution_count": 187,
   "metadata": {},
   "outputs": [],
   "source": [
    "black_final = black_unique[black_unique.have_image==\"t\"]"
   ]
  },
  {
   "cell_type": "code",
   "execution_count": 188,
   "metadata": {},
   "outputs": [
    {
     "data": {
      "text/html": [
       "<div>\n",
       "<style scoped>\n",
       "    .dataframe tbody tr th:only-of-type {\n",
       "        vertical-align: middle;\n",
       "    }\n",
       "\n",
       "    .dataframe tbody tr th {\n",
       "        vertical-align: top;\n",
       "    }\n",
       "\n",
       "    .dataframe thead th {\n",
       "        text-align: right;\n",
       "    }\n",
       "</style>\n",
       "<table border=\"1\" class=\"dataframe\">\n",
       "  <thead>\n",
       "    <tr style=\"text-align: right;\">\n",
       "      <th></th>\n",
       "      <th>part_num</th>\n",
       "      <th>color_id</th>\n",
       "      <th>part_name</th>\n",
       "      <th>part_cat_id</th>\n",
       "      <th>part_material</th>\n",
       "      <th>part_cat_name</th>\n",
       "      <th>color_name</th>\n",
       "      <th>rgb</th>\n",
       "      <th>is_trans</th>\n",
       "      <th>quantity</th>\n",
       "      <th>have_image</th>\n",
       "    </tr>\n",
       "  </thead>\n",
       "  <tbody>\n",
       "    <tr>\n",
       "      <th>2</th>\n",
       "      <td>2343</td>\n",
       "      <td>0</td>\n",
       "      <td>Equipment Goblet</td>\n",
       "      <td>27</td>\n",
       "      <td>Plastic</td>\n",
       "      <td>Minifig Accessories</td>\n",
       "      <td>Black</td>\n",
       "      <td>05131D</td>\n",
       "      <td>f</td>\n",
       "      <td>63</td>\n",
       "      <td>t</td>\n",
       "    </tr>\n",
       "    <tr>\n",
       "      <th>3</th>\n",
       "      <td>30089a</td>\n",
       "      <td>0</td>\n",
       "      <td>Equipment Camera Handheld with Right-Aligned V...</td>\n",
       "      <td>27</td>\n",
       "      <td>Plastic</td>\n",
       "      <td>Minifig Accessories</td>\n",
       "      <td>Black</td>\n",
       "      <td>05131D</td>\n",
       "      <td>f</td>\n",
       "      <td>42</td>\n",
       "      <td>t</td>\n",
       "    </tr>\n",
       "    <tr>\n",
       "      <th>4</th>\n",
       "      <td>30162</td>\n",
       "      <td>0</td>\n",
       "      <td>Equipment Binoculars</td>\n",
       "      <td>27</td>\n",
       "      <td>Plastic</td>\n",
       "      <td>Minifig Accessories</td>\n",
       "      <td>Black</td>\n",
       "      <td>05131D</td>\n",
       "      <td>f</td>\n",
       "      <td>42</td>\n",
       "      <td>t</td>\n",
       "    </tr>\n",
       "    <tr>\n",
       "      <th>5</th>\n",
       "      <td>30191</td>\n",
       "      <td>0</td>\n",
       "      <td>Equipment Stretcher Holder</td>\n",
       "      <td>27</td>\n",
       "      <td>Rubber</td>\n",
       "      <td>Minifig Accessories</td>\n",
       "      <td>Black</td>\n",
       "      <td>05131D</td>\n",
       "      <td>f</td>\n",
       "      <td>5</td>\n",
       "      <td>t</td>\n",
       "    </tr>\n",
       "    <tr>\n",
       "      <th>6</th>\n",
       "      <td>30340</td>\n",
       "      <td>0</td>\n",
       "      <td>Equipment Flotation Ring [Life Preserver]</td>\n",
       "      <td>27</td>\n",
       "      <td>Plastic</td>\n",
       "      <td>Minifig Accessories</td>\n",
       "      <td>Black</td>\n",
       "      <td>05131D</td>\n",
       "      <td>f</td>\n",
       "      <td>22</td>\n",
       "      <td>t</td>\n",
       "    </tr>\n",
       "    <tr>\n",
       "      <th>...</th>\n",
       "      <td>...</td>\n",
       "      <td>...</td>\n",
       "      <td>...</td>\n",
       "      <td>...</td>\n",
       "      <td>...</td>\n",
       "      <td>...</td>\n",
       "      <td>...</td>\n",
       "      <td>...</td>\n",
       "      <td>...</td>\n",
       "      <td>...</td>\n",
       "      <td>...</td>\n",
       "    </tr>\n",
       "    <tr>\n",
       "      <th>5823</th>\n",
       "      <td>32216</td>\n",
       "      <td>0</td>\n",
       "      <td>Znap Beam 16, 14 Holes, Curved</td>\n",
       "      <td>43</td>\n",
       "      <td>Plastic</td>\n",
       "      <td>Znap</td>\n",
       "      <td>Black</td>\n",
       "      <td>05131D</td>\n",
       "      <td>f</td>\n",
       "      <td>6</td>\n",
       "      <td>t</td>\n",
       "    </tr>\n",
       "    <tr>\n",
       "      <th>5824</th>\n",
       "      <td>32204</td>\n",
       "      <td>0</td>\n",
       "      <td>Znap Beam 11, 4 Holes, 2 Bends</td>\n",
       "      <td>43</td>\n",
       "      <td>Plastic</td>\n",
       "      <td>Znap</td>\n",
       "      <td>Black</td>\n",
       "      <td>05131D</td>\n",
       "      <td>f</td>\n",
       "      <td>1</td>\n",
       "      <td>t</td>\n",
       "    </tr>\n",
       "    <tr>\n",
       "      <th>5825</th>\n",
       "      <td>32206</td>\n",
       "      <td>0</td>\n",
       "      <td>Znap Beam 9, 5 Holes, 4 Bends (Half-Octagon)</td>\n",
       "      <td>43</td>\n",
       "      <td>Plastic</td>\n",
       "      <td>Znap</td>\n",
       "      <td>Black</td>\n",
       "      <td>05131D</td>\n",
       "      <td>f</td>\n",
       "      <td>16</td>\n",
       "      <td>t</td>\n",
       "    </tr>\n",
       "    <tr>\n",
       "      <th>5826</th>\n",
       "      <td>32218</td>\n",
       "      <td>0</td>\n",
       "      <td>Znap Beam Double Curve 4 Holes</td>\n",
       "      <td>43</td>\n",
       "      <td>Plastic</td>\n",
       "      <td>Znap</td>\n",
       "      <td>Black</td>\n",
       "      <td>05131D</td>\n",
       "      <td>f</td>\n",
       "      <td>1</td>\n",
       "      <td>t</td>\n",
       "    </tr>\n",
       "    <tr>\n",
       "      <th>5827</th>\n",
       "      <td>32230</td>\n",
       "      <td>0</td>\n",
       "      <td>Znap Beam 1/4 Circle Radius 8L</td>\n",
       "      <td>43</td>\n",
       "      <td>Plastic</td>\n",
       "      <td>Znap</td>\n",
       "      <td>Black</td>\n",
       "      <td>05131D</td>\n",
       "      <td>f</td>\n",
       "      <td>16</td>\n",
       "      <td>t</td>\n",
       "    </tr>\n",
       "  </tbody>\n",
       "</table>\n",
       "<p>2388 rows × 11 columns</p>\n",
       "</div>"
      ],
      "text/plain": [
       "     part_num  color_id                                          part_name  \\\n",
       "2        2343         0                                   Equipment Goblet   \n",
       "3      30089a         0  Equipment Camera Handheld with Right-Aligned V...   \n",
       "4       30162         0                               Equipment Binoculars   \n",
       "5       30191         0                         Equipment Stretcher Holder   \n",
       "6       30340         0          Equipment Flotation Ring [Life Preserver]   \n",
       "...       ...       ...                                                ...   \n",
       "5823    32216         0                     Znap Beam 16, 14 Holes, Curved   \n",
       "5824    32204         0                     Znap Beam 11, 4 Holes, 2 Bends   \n",
       "5825    32206         0       Znap Beam 9, 5 Holes, 4 Bends (Half-Octagon)   \n",
       "5826    32218         0                     Znap Beam Double Curve 4 Holes   \n",
       "5827    32230         0                     Znap Beam 1/4 Circle Radius 8L   \n",
       "\n",
       "      part_cat_id part_material        part_cat_name color_name     rgb  \\\n",
       "2              27       Plastic  Minifig Accessories      Black  05131D   \n",
       "3              27       Plastic  Minifig Accessories      Black  05131D   \n",
       "4              27       Plastic  Minifig Accessories      Black  05131D   \n",
       "5              27        Rubber  Minifig Accessories      Black  05131D   \n",
       "6              27       Plastic  Minifig Accessories      Black  05131D   \n",
       "...           ...           ...                  ...        ...     ...   \n",
       "5823           43       Plastic                 Znap      Black  05131D   \n",
       "5824           43       Plastic                 Znap      Black  05131D   \n",
       "5825           43       Plastic                 Znap      Black  05131D   \n",
       "5826           43       Plastic                 Znap      Black  05131D   \n",
       "5827           43       Plastic                 Znap      Black  05131D   \n",
       "\n",
       "     is_trans  quantity have_image  \n",
       "2           f        63          t  \n",
       "3           f        42          t  \n",
       "4           f        42          t  \n",
       "5           f         5          t  \n",
       "6           f        22          t  \n",
       "...       ...       ...        ...  \n",
       "5823        f         6          t  \n",
       "5824        f         1          t  \n",
       "5825        f        16          t  \n",
       "5826        f         1          t  \n",
       "5827        f        16          t  \n",
       "\n",
       "[2388 rows x 11 columns]"
      ]
     },
     "execution_count": 188,
     "metadata": {},
     "output_type": "execute_result"
    }
   ],
   "source": [
    "black_final"
   ]
  },
  {
   "cell_type": "code",
   "execution_count": 189,
   "metadata": {},
   "outputs": [],
   "source": [
    "black_final = black_final.merge(pd.read_csv(\"black_group.csv\", names=[\"part_cat_group\", \"part_cat_name\"]))"
   ]
  },
  {
   "cell_type": "code",
   "execution_count": 193,
   "metadata": {},
   "outputs": [],
   "source": [
    "part_cat_group_list = list(black_final.part_cat_group.unique())"
   ]
  },
  {
   "cell_type": "code",
   "execution_count": 198,
   "metadata": {},
   "outputs": [],
   "source": [
    "black_final['part_cat_group_id'] = black_final['part_cat_group'].replace(dict(zip(part_cat_group_list, range(6))))"
   ]
  },
  {
   "cell_type": "code",
   "execution_count": 250,
   "metadata": {},
   "outputs": [],
   "source": [
    "from sklearn.model_selection import train_test_split"
   ]
  },
  {
   "cell_type": "code",
   "execution_count": 258,
   "metadata": {},
   "outputs": [],
   "source": [
    "trainset, testset = train_test_split(black_final, test_size=0.2, random_state=0, \n",
    "                                     stratify=black_final.part_cat_group_id)"
   ]
  },
  {
   "cell_type": "code",
   "execution_count": 261,
   "metadata": {},
   "outputs": [],
   "source": [
    "black_final['split'] = np.where(black_final.part_num.isin(trainset.part_num), \"train\", \"val\")"
   ]
  },
  {
   "cell_type": "code",
   "execution_count": 263,
   "metadata": {},
   "outputs": [],
   "source": [
    "black_final.to_csv(\"black_final.csv\", index=False)"
   ]
  },
  {
   "cell_type": "code",
   "execution_count": 11,
   "metadata": {},
   "outputs": [],
   "source": [
    "black_final = pd.read_csv(\"black_final.csv\")"
   ]
  },
  {
   "cell_type": "code",
   "execution_count": 14,
   "metadata": {},
   "outputs": [
    {
     "data": {
      "text/plain": [
       "array(['Figures', 'Bricks & Plates', 'Panels & Tiles', 'Others',\n",
       "       'Transportation', 'Mechanical & Technic'], dtype=object)"
      ]
     },
     "execution_count": 14,
     "metadata": {},
     "output_type": "execute_result"
    }
   ],
   "source": [
    "black_final.part_cat_group.unique()"
   ]
  },
  {
   "cell_type": "markdown",
   "metadata": {},
   "source": [
    "## create dataset"
   ]
  },
  {
   "cell_type": "code",
   "execution_count": 201,
   "metadata": {},
   "outputs": [],
   "source": [
    "import shutil"
   ]
  },
  {
   "cell_type": "code",
   "execution_count": 265,
   "metadata": {},
   "outputs": [],
   "source": [
    "for row in black_final.itertuples():\n",
    "    label = row.part_cat_group_id\n",
    "    file = row.part_num\n",
    "    split = row.split\n",
    "    os.makedirs(f\"black/{split}/{label}\", exist_ok=True)\n",
    "    shutil.copyfile(f\"parts_0/{file}.png\", f\"black/{split}/{label}/{file}.png\")"
   ]
  }
 ],
 "metadata": {
  "kernelspec": {
   "display_name": "Python 3",
   "language": "python",
   "name": "python3"
  },
  "language_info": {
   "codemirror_mode": {
    "name": "ipython",
    "version": 3
   },
   "file_extension": ".py",
   "mimetype": "text/x-python",
   "name": "python",
   "nbconvert_exporter": "python",
   "pygments_lexer": "ipython3",
   "version": "3.7.9"
  }
 },
 "nbformat": 4,
 "nbformat_minor": 4
}
